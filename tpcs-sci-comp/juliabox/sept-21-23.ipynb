{
 "cells": [
  {
   "cell_type": "markdown",
   "metadata": {},
   "source": [
    "## Speeding Up Factoring & Finding Primes"
   ]
  },
  {
   "cell_type": "code",
   "execution_count": 3,
   "metadata": {
    "collapsed": false
   },
   "outputs": [
    {
     "data": {
      "text/plain": [
       "all_factors (generic function with 2 methods)"
      ]
     },
     "execution_count": 3,
     "metadata": {},
     "output_type": "execute_result"
    }
   ],
   "source": [
    "function all_factors(n::Integer)\n",
    "  factors = [1]\n",
    "  for i=2:n\n",
    "    if n%i == 0\n",
    "      push!(factors,i)\n",
    "    end\n",
    "  end\n",
    "  factors\n",
    "end"
   ]
  },
  {
   "cell_type": "code",
   "execution_count": 4,
   "metadata": {
    "collapsed": true
   },
   "outputs": [
    {
     "data": {
      "text/plain": [
       "10-element Array{Int64,1}:\n",
       "  1\n",
       "  2\n",
       "  3\n",
       "  4\n",
       "  6\n",
       "  8\n",
       " 12\n",
       " 16\n",
       " 24\n",
       " 48"
      ]
     },
     "execution_count": 4,
     "metadata": {},
     "output_type": "execute_result"
    }
   ],
   "source": [
    "all_factors(48)"
   ]
  },
  {
   "cell_type": "code",
   "execution_count": 7,
   "metadata": {
    "collapsed": true
   },
   "outputs": [
    {
     "name": "stdout",
     "output_type": "stream",
     "text": [
      " 10.435785 seconds (13 allocations: 2.469 KB)\n"
     ]
    },
    {
     "data": {
      "text/plain": [
       "100-element Array{Int64,1}:\n",
       "          1\n",
       "          2\n",
       "          4\n",
       "          5\n",
       "          8\n",
       "         10\n",
       "         16\n",
       "         20\n",
       "         25\n",
       "         32\n",
       "         40\n",
       "         50\n",
       "         64\n",
       "          ⋮\n",
       "   20000000\n",
       "   25000000\n",
       "   31250000\n",
       "   40000000\n",
       "   50000000\n",
       "   62500000\n",
       "  100000000\n",
       "  125000000\n",
       "  200000000\n",
       "  250000000\n",
       "  500000000\n",
       " 1000000000"
      ]
     },
     "execution_count": 7,
     "metadata": {},
     "output_type": "execute_result"
    }
   ],
   "source": [
    "@time all_factors(10^9)"
   ]
  },
  {
   "cell_type": "code",
   "execution_count": 12,
   "metadata": {
    "collapsed": false
   },
   "outputs": [
    {
     "data": {
      "text/plain": [
       "all_factors2 (generic function with 1 method)"
      ]
     },
     "execution_count": 12,
     "metadata": {},
     "output_type": "execute_result"
    }
   ],
   "source": [
    "function all_factors2(n::Integer)\n",
    "    factors = [1]\n",
    "    for i=2:n/2\n",
    "        if n%i == 0\n",
    "            push!(factors,i)\n",
    "        end\n",
    "    end\n",
    "    push!(factors,n)\n",
    "    factors\n",
    "end"
   ]
  },
  {
   "cell_type": "code",
   "execution_count": 15,
   "metadata": {
    "collapsed": true
   },
   "outputs": [
    {
     "name": "stdout",
     "output_type": "stream",
     "text": [
      "  5.343361 seconds (13 allocations: 2.469 KB)\n"
     ]
    },
    {
     "data": {
      "text/plain": [
       "100-element Array{Int64,1}:\n",
       "          1\n",
       "          2\n",
       "          4\n",
       "          5\n",
       "          8\n",
       "         10\n",
       "         16\n",
       "         20\n",
       "         25\n",
       "         32\n",
       "         40\n",
       "         50\n",
       "         64\n",
       "          ⋮\n",
       "   20000000\n",
       "   25000000\n",
       "   31250000\n",
       "   40000000\n",
       "   50000000\n",
       "   62500000\n",
       "  100000000\n",
       "  125000000\n",
       "  200000000\n",
       "  250000000\n",
       "  500000000\n",
       " 1000000000"
      ]
     },
     "execution_count": 15,
     "metadata": {},
     "output_type": "execute_result"
    }
   ],
   "source": [
    "@time all_factors2(10^9)"
   ]
  },
  {
   "cell_type": "markdown",
   "metadata": {},
   "source": [
    "## Chapter 5"
   ]
  },
  {
   "cell_type": "code",
   "execution_count": 43,
   "metadata": {
    "collapsed": false
   },
   "outputs": [
    {
     "data": {
      "text/plain": [
       "qsolve (generic function with 1 method)"
      ]
     },
     "execution_count": 43,
     "metadata": {},
     "output_type": "execute_result"
    }
   ],
   "source": [
    "function qsolve(a::Number,b::Number,c::Number)\n",
    "    if (b^2-4a*c) < 0\n",
    "        return \"ERROR: Unreal Answer\"\n",
    "    end\n",
    "    d = sqrt(b^2-4a*c)\n",
    "    return (-b+d)/(2a), (-b-d)/(2a)\n",
    "end"
   ]
  },
  {
   "cell_type": "code",
   "execution_count": 44,
   "metadata": {
    "collapsed": false
   },
   "outputs": [
    {
     "data": {
      "text/plain": [
       "(11.0,-10.0)"
      ]
     },
     "execution_count": 44,
     "metadata": {},
     "output_type": "execute_result"
    }
   ],
   "source": [
    "qsolve(1,-1,-110)"
   ]
  },
  {
   "cell_type": "code",
   "execution_count": 45,
   "metadata": {
    "collapsed": false
   },
   "outputs": [
    {
     "data": {
      "text/plain": [
       "(-2.831413841486606e-5,-3.461987696317393)"
      ]
     },
     "execution_count": 45,
     "metadata": {},
     "output_type": "execute_result"
    }
   ],
   "source": [
    "x1a,x2a=qsolve(12.242,42.382,0.0012)"
   ]
  },
  {
   "cell_type": "code",
   "execution_count": 46,
   "metadata": {
    "collapsed": false
   },
   "outputs": [
    {
     "data": {
      "text/plain": [
       "(0.0001448952f0,-3.4615362f0)"
      ]
     },
     "execution_count": 46,
     "metadata": {},
     "output_type": "execute_result"
    }
   ],
   "source": [
    "x1b,x2b=qsolve(Float16(12.242),Float16(42.382),Float16(0.0012))"
   ]
  },
  {
   "cell_type": "code",
   "execution_count": 47,
   "metadata": {
    "collapsed": false
   },
   "outputs": [
    {
     "data": {
      "text/plain": [
       "(0.00017320933367737267,0.0004515272652687585)"
      ]
     },
     "execution_count": 47,
     "metadata": {},
     "output_type": "execute_result"
    }
   ],
   "source": [
    "# Absolute Error\n",
    "(abs(x1a-x1b),abs(x2a-x2b))"
   ]
  },
  {
   "cell_type": "code",
   "execution_count": 48,
   "metadata": {
    "collapsed": false
   },
   "outputs": [
    {
     "data": {
      "text/plain": [
       "(6.117414951479887,0.00013042428364175296)"
      ]
     },
     "execution_count": 48,
     "metadata": {},
     "output_type": "execute_result"
    }
   ],
   "source": [
    "# Relative Error\n",
    "(abs(x1a-x1b)/abs(x1a),abs(x2a-x2b)/abs(x2a))"
   ]
  },
  {
   "cell_type": "markdown",
   "metadata": {},
   "source": [
    "^ The first number is waaaayyyyy off"
   ]
  },
  {
   "cell_type": "markdown",
   "metadata": {
    "collapsed": true
   },
   "source": [
    "Solving \\\\(12.242x^2+42.382x+0.0012=0\\\\)"
   ]
  },
  {
   "cell_type": "code",
   "execution_count": 51,
   "metadata": {
    "collapsed": false
   },
   "outputs": [
    {
     "data": {
      "text/plain": [
       "42.38130675663505"
      ]
     },
     "execution_count": 51,
     "metadata": {},
     "output_type": "execute_result"
    }
   ],
   "source": [
    "a1 = 12.242\n",
    "b1 = 42.382\n",
    "c1 = 0.0012\n",
    "d1=sqrt(b1^2-4*a1*c1)"
   ]
  },
  {
   "cell_type": "markdown",
   "metadata": {},
   "source": [
    "Here's another quadratic formula with the radical in the denominator  \n",
    "&nbsp;&nbsp;&nbsp;&nbsp;&nbsp;&nbsp;$x=\\frac{-2c}{-b\\pm\\sqrt{b^2-4ac}}$."
   ]
  },
  {
   "cell_type": "code",
   "execution_count": 52,
   "metadata": {
    "collapsed": false
   },
   "outputs": [
    {
     "data": {
      "text/plain": [
       "qsolve2 (generic function with 1 method)"
      ]
     },
     "execution_count": 52,
     "metadata": {},
     "output_type": "execute_result"
    }
   ],
   "source": [
    "function qsolve2(a::Number, b::Number, c::Number)\n",
    "    d=sqrt(b^2-4a*c)\n",
    "    (-2c/(b+d),-2c/(b-d))\n",
    "end"
   ]
  },
  {
   "cell_type": "code",
   "execution_count": 64,
   "metadata": {
    "collapsed": false
   },
   "outputs": [
    {
     "data": {
      "text/plain": [
       "(-2.831413841475851e-5,-3.4619876963042424)"
      ]
     },
     "execution_count": 64,
     "metadata": {},
     "output_type": "execute_result"
    }
   ],
   "source": [
    "x1c,x2c=qsolve2(a1,b1,c1)"
   ]
  },
  {
   "cell_type": "code",
   "execution_count": 65,
   "metadata": {
    "collapsed": false
   },
   "outputs": [
    {
     "data": {
      "text/plain": [
       "(-2.8310846f-5,0.6763441f0)"
      ]
     },
     "execution_count": 65,
     "metadata": {},
     "output_type": "execute_result"
    }
   ],
   "source": [
    "x1d,x2d=qsolve2(Float16(a1),Float16(b1),Float16(c1))"
   ]
  },
  {
   "cell_type": "code",
   "execution_count": 66,
   "metadata": {
    "collapsed": false
   },
   "outputs": [
    {
     "data": {
      "text/plain": [
       "(-2.831413841486606e-5,-3.461987696317393)"
      ]
     },
     "execution_count": 66,
     "metadata": {},
     "output_type": "execute_result"
    }
   ],
   "source": [
    "x1a,x2a=qsolve(a1,b1,c1)"
   ]
  },
  {
   "cell_type": "code",
   "execution_count": 67,
   "metadata": {
    "collapsed": false
   },
   "outputs": [
    {
     "data": {
      "text/plain": [
       "(0.0001448952f0,-3.4615362f0)"
      ]
     },
     "execution_count": 67,
     "metadata": {},
     "output_type": "execute_result"
    }
   ],
   "source": [
    "x1b,x2b=qsolve(Float16(a1),Float16(b1),Float16(c1))"
   ]
  },
  {
   "cell_type": "markdown",
   "metadata": {},
   "source": [
    "Absolute Errors"
   ]
  },
  {
   "cell_type": "code",
   "execution_count": 68,
   "metadata": {
    "collapsed": false
   },
   "outputs": [
    {
     "data": {
      "text/plain": [
       "(3.2927505218152773e-9,4.138331792964856)"
      ]
     },
     "execution_count": 68,
     "metadata": {},
     "output_type": "execute_result"
    }
   ],
   "source": [
    "abs(x1d-x1c),abs(x2d-x2c)"
   ]
  },
  {
   "cell_type": "markdown",
   "metadata": {},
   "source": [
    "Relative Errors"
   ]
  },
  {
   "cell_type": "code",
   "execution_count": 69,
   "metadata": {
    "collapsed": false
   },
   "outputs": [
    {
     "data": {
      "text/plain": [
       "(0.00011629350939737437,1.1953629405969952)"
      ]
     },
     "execution_count": 69,
     "metadata": {},
     "output_type": "execute_result"
    }
   ],
   "source": [
    "abs(x1d-x1c)/abs(x1c),abs(x2d-x2c)/abs(x2c)"
   ]
  },
  {
   "cell_type": "markdown",
   "metadata": {},
   "source": [
    "Solve the equation:  \n",
    "&nbsp;&nbsp;&nbsp;&nbsp;&nbsp;\\\\(11x^3-12x^2+242x-1121=0\\\\)\n",
    "\n",
    "### Newton's Method  "
   ]
  },
  {
   "cell_type": "code",
   "execution_count": 2,
   "metadata": {
    "collapsed": false
   },
   "outputs": [
    {
     "data": {
      "text/plain": [
       "df (generic function with 1 method)"
      ]
     },
     "execution_count": 2,
     "metadata": {},
     "output_type": "execute_result"
    }
   ],
   "source": [
    "function f(x)\n",
    "    x^2-x-110\n",
    "end\n",
    "\n",
    "function df(x)\n",
    "    2x-1\n",
    "end"
   ]
  },
  {
   "cell_type": "code",
   "execution_count": 3,
   "metadata": {
    "collapsed": false
   },
   "outputs": [
    {
     "data": {
      "text/plain": [
       "newton (generic function with 1 method)"
      ]
     },
     "execution_count": 3,
     "metadata": {},
     "output_type": "execute_result"
    }
   ],
   "source": [
    "function newton(f::Function, df::Function, x0::Number)\n",
    "    x1=x0\n",
    "    x2=0\n",
    "    steps = 0\n",
    "    while abs(x2-x1)>1e-6 && steps<100\n",
    "        x1=x2\n",
    "        x2=x1-(f(x1)/df(x1))\n",
    "        println(x2)\n",
    "        steps += 1\n",
    "    end\n",
    "    x2\n",
    "end"
   ]
  },
  {
   "cell_type": "code",
   "execution_count": 4,
   "metadata": {
    "collapsed": false
   },
   "outputs": [
    {
     "name": "stdout",
     "output_type": "stream",
     "text": [
      "-110.0\n",
      "-55.248868778280546\n",
      "-28.363243690710828\n",
      "-15.84149034768667\n",
      "-11.044060509662973\n",
      "-10.047213125179189\n",
      "-10.000105671477515\n",
      "-10.000000000531731\n",
      "-10.0\n"
     ]
    },
    {
     "data": {
      "text/plain": [
       "-10.0"
      ]
     },
     "execution_count": 4,
     "metadata": {},
     "output_type": "execute_result"
    }
   ],
   "source": [
    "newton(f,df,10)"
   ]
  },
  {
   "cell_type": "code",
   "execution_count": null,
   "metadata": {
    "collapsed": true
   },
   "outputs": [],
   "source": []
  }
 ],
 "metadata": {
  "anaconda-cloud": {},
  "kernelspec": {
   "display_name": "Julia 0.4.6",
   "language": "julia",
   "name": "julia-0.4"
  },
  "language_info": {
   "file_extension": ".jl",
   "mimetype": "application/julia",
   "name": "julia",
   "version": "0.4.6"
  }
 },
 "nbformat": 4,
 "nbformat_minor": 0
}
