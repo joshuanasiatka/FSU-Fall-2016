{
 "cells": [
  {
   "cell_type": "markdown",
   "metadata": {},
   "source": [
    "# Chapter 14: Shortest Paths through a Graph and the Traveling Salesperson Problem<br><small>October 26, 2016</small>"
   ]
  },
  {
   "cell_type": "code",
   "execution_count": 1,
   "metadata": {
    "collapsed": false
   },
   "outputs": [
    {
     "data": {
      "text/plain": [
       "5×5 Array{Int64,2}:\n",
       "  0  26  19  39  23\n",
       " 26   0  13  21  42\n",
       " 19  13   0  32  25\n",
       " 39  21  32   0  17\n",
       " 23  42  25  17   0"
      ]
     },
     "execution_count": 1,
     "metadata": {},
     "output_type": "execute_result"
    }
   ],
   "source": [
    "distances5=\n",
    "[0 26 19 39 23;\n",
    "26 0 13 21 42;\n",
    "19 13 0 32 25;\n",
    "39 21 32 0 17;\n",
    "23 42 25 17 0]"
   ]
  },
  {
   "cell_type": "code",
   "execution_count": 2,
   "metadata": {
    "collapsed": false
   },
   "outputs": [
    {
     "data": {
      "text/plain": [
       "total_distance (generic function with 1 method)"
      ]
     },
     "execution_count": 2,
     "metadata": {},
     "output_type": "execute_result"
    }
   ],
   "source": [
    "function total_distance(nodes::Array{Int64,1}, distances::Array{Int,2})\n",
    "    ## return the total distance through the graph given by passing through the given nodes\n",
    "end"
   ]
  },
  {
   "cell_type": "code",
   "execution_count": null,
   "metadata": {
    "collapsed": true
   },
   "outputs": [],
   "source": []
  }
 ],
 "metadata": {
  "kernelspec": {
   "display_name": "Julia 0.5.0",
   "language": "julia",
   "name": "julia-0.5"
  },
  "language_info": {
   "file_extension": ".jl",
   "mimetype": "application/julia",
   "name": "julia",
   "version": "0.5.0"
  }
 },
 "nbformat": 4,
 "nbformat_minor": 0
}
