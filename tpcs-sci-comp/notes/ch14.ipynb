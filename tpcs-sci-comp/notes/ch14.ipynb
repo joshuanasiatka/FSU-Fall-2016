{
 "cells": [
  {
   "cell_type": "markdown",
   "metadata": {},
   "source": [
    "# Chapter 14: Shortest Paths through a Graph and the Traveling Salesperson Problem<br><small>October 26, 2016</small>"
   ]
  },
  {
   "cell_type": "code",
   "execution_count": 1,
   "metadata": {
    "collapsed": false
   },
   "outputs": [
    {
     "data": {
      "text/plain": [
       "5×5 Array{Int64,2}:\n",
       "  0  26  19  39  23\n",
       " 26   0  13  21  42\n",
       " 19  13   0  32  25\n",
       " 39  21  32   0  17\n",
       " 23  42  25  17   0"
      ]
     },
     "execution_count": 1,
     "metadata": {},
     "output_type": "execute_result"
    }
   ],
   "source": [
    "distances5=\n",
    "[0 26 19 39 23;\n",
    "26 0 13 21 42;\n",
    "19 13 0 32 25;\n",
    "39 21 32 0 17;\n",
    "23 42 25 17 0]"
   ]
  },
  {
   "cell_type": "code",
   "execution_count": 2,
   "metadata": {
    "collapsed": false
   },
   "outputs": [
    {
     "data": {
      "text/plain": [
       "total_distance (generic function with 1 method)"
      ]
     },
     "execution_count": 2,
     "metadata": {},
     "output_type": "execute_result"
    }
   ],
   "source": [
    "function total_distance(nodes::Array{Int,1}, distances::Array{Float64,2})\n",
    "    local sum = 0.0;\n",
    "    for i=1:length(nodes)-1\n",
    "        sum += distances[nodes[i],nodes[i+1]]\n",
    "    end\n",
    "    sum + distances[nodes[1], nodes[end]]\n",
    "    ## return the total distance through the graph given by passing through the given nodes\n",
    "end"
   ]
  },
  {
   "cell_type": "code",
   "execution_count": 3,
   "metadata": {
    "collapsed": false
   },
   "outputs": [
    {
     "data": {
      "text/plain": [
       "111.0"
      ]
     },
     "execution_count": 3,
     "metadata": {},
     "output_type": "execute_result"
    }
   ],
   "source": [
    "total_distance(collect(1:5), 1.0*distances5)"
   ]
  },
  {
   "cell_type": "code",
   "execution_count": 4,
   "metadata": {
    "collapsed": false
   },
   "outputs": [],
   "source": [
    "using Combinatorics"
   ]
  },
  {
   "cell_type": "code",
   "execution_count": 10,
   "metadata": {
    "collapsed": false
   },
   "outputs": [
    {
     "name": "stdout",
     "output_type": "stream",
     "text": [
      "[1,2,3]\n",
      "[1,3,2]\n",
      "[2,1,3]\n",
      "[2,3,1]\n",
      "[3,1,2]\n",
      "[3,2,1]\n"
     ]
    }
   ],
   "source": [
    "for i=1:6\n",
    "    println(nthperm(collect(1:3),i))\n",
    "end"
   ]
  },
  {
   "cell_type": "code",
   "execution_count": 11,
   "metadata": {
    "collapsed": false
   },
   "outputs": [
    {
     "name": "stdout",
     "output_type": "stream",
     "text": [
      "String[\"horse\",\"zebra\",\"camel\"]\n",
      "String[\"horse\",\"camel\",\"zebra\"]\n",
      "String[\"zebra\",\"horse\",\"camel\"]\n",
      "String[\"zebra\",\"camel\",\"horse\"]\n",
      "String[\"camel\",\"horse\",\"zebra\"]\n",
      "String[\"camel\",\"zebra\",\"horse\"]\n"
     ]
    }
   ],
   "source": [
    "for i=1:6\n",
    "    println(nthperm([\"horse\", \"zebra\", \"camel\"],i))\n",
    "end"
   ]
  },
  {
   "cell_type": "code",
   "execution_count": 16,
   "metadata": {
    "collapsed": false
   },
   "outputs": [
    {
     "data": {
      "text/plain": [
       "120-element Array{Array{Int64,1},1}:\n",
       " [1,2,3,4,5]\n",
       " [1,2,3,5,4]\n",
       " [1,2,4,3,5]\n",
       " [1,2,4,5,3]\n",
       " [1,2,5,3,4]\n",
       " [1,2,5,4,3]\n",
       " [1,3,2,4,5]\n",
       " [1,3,2,5,4]\n",
       " [1,3,4,2,5]\n",
       " [1,3,4,5,2]\n",
       " [1,3,5,2,4]\n",
       " [1,3,5,4,2]\n",
       " [1,4,2,3,5]\n",
       " ⋮          \n",
       " [5,3,1,2,4]\n",
       " [5,3,1,4,2]\n",
       " [5,3,2,1,4]\n",
       " [5,3,2,4,1]\n",
       " [5,3,4,1,2]\n",
       " [5,3,4,2,1]\n",
       " [5,4,1,2,3]\n",
       " [5,4,1,3,2]\n",
       " [5,4,2,1,3]\n",
       " [5,4,2,3,1]\n",
       " [5,4,3,1,2]\n",
       " [5,4,3,2,1]"
      ]
     },
     "execution_count": 16,
     "metadata": {},
     "output_type": "execute_result"
    }
   ],
   "source": [
    "perms=map(k->nthperm(collect(1:5),k),collect(1:factorial(5)))"
   ]
  },
  {
   "cell_type": "code",
   "execution_count": 20,
   "metadata": {
    "collapsed": false
   },
   "outputs": [
    {
     "data": {
      "text/plain": [
       "120-element Array{Float64,1}:\n",
       " 111.0\n",
       " 120.0\n",
       " 127.0\n",
       " 108.0\n",
       " 164.0\n",
       " 136.0\n",
       "  93.0\n",
       " 130.0\n",
       " 137.0\n",
       " 136.0\n",
       " 146.0\n",
       " 108.0\n",
       " 121.0\n",
       "   ⋮  \n",
       " 108.0\n",
       " 146.0\n",
       " 120.0\n",
       " 121.0\n",
       " 164.0\n",
       " 127.0\n",
       " 120.0\n",
       " 130.0\n",
       " 108.0\n",
       "  93.0\n",
       " 136.0\n",
       " 111.0"
      ]
     },
     "execution_count": 20,
     "metadata": {},
     "output_type": "execute_result"
    }
   ],
   "source": [
    "all_distances = map(p->total_distance(p, 1.0*distances5), perms)"
   ]
  },
  {
   "cell_type": "code",
   "execution_count": 22,
   "metadata": {
    "collapsed": false
   },
   "outputs": [
    {
     "data": {
      "text/plain": [
       "(93.0,7)"
      ]
     },
     "execution_count": 22,
     "metadata": {},
     "output_type": "execute_result"
    }
   ],
   "source": [
    "findmin(all_distances)"
   ]
  },
  {
   "cell_type": "markdown",
   "metadata": {},
   "source": [
    "So the total distance for the minimum path is 93.0. The shortest path is given by the 7th permutation"
   ]
  },
  {
   "cell_type": "code",
   "execution_count": 23,
   "metadata": {
    "collapsed": false
   },
   "outputs": [
    {
     "data": {
      "text/plain": [
       "5-element Array{Int64,1}:\n",
       " 1\n",
       " 3\n",
       " 2\n",
       " 4\n",
       " 5"
      ]
     },
     "execution_count": 23,
     "metadata": {},
     "output_type": "execute_result"
    }
   ],
   "source": [
    "perms[7]"
   ]
  },
  {
   "cell_type": "markdown",
   "metadata": {},
   "source": [
    "This corresponds to `A->C->B->D->E->A`  \n",
    "There are other shortest paths too. Try `C->B->D->E->A->C`"
   ]
  },
  {
   "cell_type": "code",
   "execution_count": 24,
   "metadata": {
    "collapsed": false
   },
   "outputs": [
    {
     "data": {
      "text/plain": [
       "93.0"
      ]
     },
     "execution_count": 24,
     "metadata": {},
     "output_type": "execute_result"
    }
   ],
   "source": [
    "total_distance([3,2,4,5,1],1.0*distances5)"
   ]
  },
  {
   "cell_type": "code",
   "execution_count": 25,
   "metadata": {
    "collapsed": false
   },
   "outputs": [
    {
     "data": {
      "text/plain": [
       "24-element Array{Float64,1}:\n",
       " 111.0\n",
       " 120.0\n",
       " 127.0\n",
       " 108.0\n",
       " 164.0\n",
       " 136.0\n",
       "  93.0\n",
       " 130.0\n",
       " 137.0\n",
       " 136.0\n",
       " 146.0\n",
       " 108.0\n",
       " 121.0\n",
       " 146.0\n",
       " 149.0\n",
       " 164.0\n",
       " 130.0\n",
       " 120.0\n",
       " 149.0\n",
       " 137.0\n",
       " 121.0\n",
       " 127.0\n",
       "  93.0\n",
       " 111.0"
      ]
     },
     "execution_count": 25,
     "metadata": {},
     "output_type": "execute_result"
    }
   ],
   "source": [
    "dist=map(k->total_distance(nthperm(collect(1:5),k),1.0*distances5),1:factorial(4))"
   ]
  },
  {
   "cell_type": "code",
   "execution_count": 26,
   "metadata": {
    "collapsed": false
   },
   "outputs": [
    {
     "data": {
      "text/plain": [
       "10×10 Array{Int64,2}:\n",
       "  7  11   9  20  13  20   6  17  11  18\n",
       " 11   7  18   8  12  18  10   6   6  18\n",
       " 10  16   5  11  12   5   7   6  10   8\n",
       " 14   9  13   8  11  11  11  18  17   6\n",
       " 15   7   7  20  18  12  16   6  10   5\n",
       " 15   7  19  20  15  17  11  15   8  10\n",
       " 12   8  20   9  20  10  12  14  13  15\n",
       "  8  13  12   6  10   9  18  13  17   8\n",
       "  9   6   6   7  19   9  14   6  19   7\n",
       " 12  13  16  20  11  20   7  10  16   6"
      ]
     },
     "execution_count": 26,
     "metadata": {},
     "output_type": "execute_result"
    }
   ],
   "source": [
    "distances10=rand(5:20,10,10)"
   ]
  },
  {
   "cell_type": "code",
   "execution_count": 27,
   "metadata": {
    "collapsed": false
   },
   "outputs": [
    {
     "data": {
      "text/plain": [
       "10×10 Array{Int64,2}:\n",
       " 14  22  19  34  28  35  18  25  20  30\n",
       " 22  14  34  17  19  25  18  19  12  31\n",
       " 19  34  10  24  19  24  27  18  16  24\n",
       " 34  17  24  16  31  31  20  24  24  26\n",
       " 28  19  19  31  36  27  36  16  29  16\n",
       " 35  25  24  31  27  34  21  24  17  30\n",
       " 18  18  27  20  36  21  24  32  27  22\n",
       " 25  19  18  24  16  24  32  26  23  18\n",
       " 20  12  16  24  29  17  27  23  38  23\n",
       " 30  31  24  26  16  30  22  18  23  12"
      ]
     },
     "execution_count": 27,
     "metadata": {},
     "output_type": "execute_result"
    }
   ],
   "source": [
    "distances10 += transpose(distances10)"
   ]
  },
  {
   "cell_type": "code",
   "execution_count": 28,
   "metadata": {
    "collapsed": true
   },
   "outputs": [],
   "source": [
    "for i=1:10\n",
    "    distances10[i,i] = 0\n",
    "end"
   ]
  },
  {
   "cell_type": "code",
   "execution_count": 29,
   "metadata": {
    "collapsed": false
   },
   "outputs": [
    {
     "data": {
      "text/plain": [
       "10×10 Array{Int64,2}:\n",
       "  0  22  19  34  28  35  18  25  20  30\n",
       " 22   0  34  17  19  25  18  19  12  31\n",
       " 19  34   0  24  19  24  27  18  16  24\n",
       " 34  17  24   0  31  31  20  24  24  26\n",
       " 28  19  19  31   0  27  36  16  29  16\n",
       " 35  25  24  31  27   0  21  24  17  30\n",
       " 18  18  27  20  36  21   0  32  27  22\n",
       " 25  19  18  24  16  24  32   0  23  18\n",
       " 20  12  16  24  29  17  27  23   0  23\n",
       " 30  31  24  26  16  30  22  18  23   0"
      ]
     },
     "execution_count": 29,
     "metadata": {},
     "output_type": "execute_result"
    }
   ],
   "source": [
    "distances10"
   ]
  },
  {
   "cell_type": "code",
   "execution_count": 31,
   "metadata": {
    "collapsed": false
   },
   "outputs": [
    {
     "data": {
      "text/plain": [
       "362880-element Array{Float64,1}:\n",
       " 267.0\n",
       " 252.0\n",
       " 257.0\n",
       " 252.0\n",
       " 242.0\n",
       " 252.0\n",
       " 274.0\n",
       " 259.0\n",
       " 264.0\n",
       " 248.0\n",
       " 249.0\n",
       " 248.0\n",
       " 262.0\n",
       "   ⋮  \n",
       " 258.0\n",
       " 234.0\n",
       " 265.0\n",
       " 244.0\n",
       " 263.0\n",
       " 266.0\n",
       " 267.0\n",
       " 235.0\n",
       " 260.0\n",
       " 238.0\n",
       " 257.0\n",
       " 267.0"
      ]
     },
     "execution_count": 31,
     "metadata": {},
     "output_type": "execute_result"
    }
   ],
   "source": [
    "d=map(k->total_distance(nthperm(collect(1:10),k),1.0*distances10),1:factorial(9))"
   ]
  },
  {
   "cell_type": "code",
   "execution_count": 32,
   "metadata": {
    "collapsed": false
   },
   "outputs": [
    {
     "data": {
      "text/plain": [
       "(180.0,55267)"
      ]
     },
     "execution_count": 32,
     "metadata": {},
     "output_type": "execute_result"
    }
   ],
   "source": [
    "findmin(d)"
   ]
  },
  {
   "cell_type": "code",
   "execution_count": 35,
   "metadata": {
    "collapsed": false
   },
   "outputs": [
    {
     "data": {
      "text/plain": [
       "10-element Array{Int64,1}:\n",
       "  1\n",
       "  3\n",
       "  5\n",
       " 10\n",
       "  8\n",
       "  6\n",
       "  9\n",
       "  2\n",
       "  4\n",
       "  7"
      ]
     },
     "execution_count": 35,
     "metadata": {},
     "output_type": "execute_result"
    }
   ],
   "source": [
    "nthperm(collect(1:10),55267)"
   ]
  },
  {
   "cell_type": "markdown",
   "metadata": {},
   "source": [
    "The minimum distance through this graph is 180 using the path  \n",
    "`A->C->E->J->H->F->I->B->D->G->A`  \n",
    "\n",
    "*(this will be different when re-run)*"
   ]
  },
  {
   "cell_type": "markdown",
   "metadata": {},
   "source": [
    "### Simulated Annealing"
   ]
  },
  {
   "cell_type": "markdown",
   "metadata": {},
   "source": [
    "Start with a random path"
   ]
  },
  {
   "cell_type": "code",
   "execution_count": 40,
   "metadata": {
    "collapsed": false
   },
   "outputs": [
    {
     "data": {
      "text/plain": [
       "5-element Array{Int64,1}:\n",
       " 1\n",
       " 5\n",
       " 4\n",
       " 2\n",
       " 3"
      ]
     },
     "execution_count": 40,
     "metadata": {},
     "output_type": "execute_result"
    }
   ],
   "source": [
    "rpath=nthperm(collect(1:5),rand(1:factorial(4)))"
   ]
  },
  {
   "cell_type": "code",
   "execution_count": 41,
   "metadata": {
    "collapsed": false
   },
   "outputs": [
    {
     "data": {
      "text/plain": [
       "93.0"
      ]
     },
     "execution_count": 41,
     "metadata": {},
     "output_type": "execute_result"
    }
   ],
   "source": [
    "current_dist=total_distance(rpath, 1.0*distances5)"
   ]
  },
  {
   "cell_type": "code",
   "execution_count": 43,
   "metadata": {
    "collapsed": false
   },
   "outputs": [
    {
     "name": "stderr",
     "output_type": "stream",
     "text": [
      "WARNING: Method definition swapEls!(Array{Int64, 1}, Int64, Int64) in module Main at In[42]:3 overwritten at In[43]:3.\n"
     ]
    },
    {
     "data": {
      "text/plain": [
       "swapEls! (generic function with 1 method)"
      ]
     },
     "execution_count": 43,
     "metadata": {},
     "output_type": "execute_result"
    }
   ],
   "source": [
    "function swapEls!(A::Array{Int64,1},i::Int,j::Int)\n",
    "    # swap ith and jth element of some array A\n",
    "    local temp = A[i];\n",
    "    A[i] = A[j];\n",
    "    A[j] = temp;\n",
    "    A\n",
    "end"
   ]
  },
  {
   "cell_type": "code",
   "execution_count": 48,
   "metadata": {
    "collapsed": false
   },
   "outputs": [
    {
     "data": {
      "text/plain": [
       "5-element Array{Int64,1}:\n",
       " 1\n",
       " 2\n",
       " 4\n",
       " 5\n",
       " 3"
      ]
     },
     "execution_count": 48,
     "metadata": {},
     "output_type": "execute_result"
    }
   ],
   "source": [
    "swapEls!(rpath,1,4)"
   ]
  },
  {
   "cell_type": "code",
   "execution_count": 53,
   "metadata": {
    "collapsed": false,
    "scrolled": true
   },
   "outputs": [
    {
     "data": {
      "text/plain": [
       "5-element Array{Int64,1}:\n",
       " 5\n",
       " 4\n",
       " 2\n",
       " 1\n",
       " 3"
      ]
     },
     "execution_count": 53,
     "metadata": {},
     "output_type": "execute_result"
    }
   ],
   "source": [
    "new_path = swapEls!(rpath,rand(1:5),rand(1:5))"
   ]
  },
  {
   "cell_type": "code",
   "execution_count": 54,
   "metadata": {
    "collapsed": false
   },
   "outputs": [
    {
     "data": {
      "text/plain": [
       "108.0"
      ]
     },
     "execution_count": 54,
     "metadata": {},
     "output_type": "execute_result"
    }
   ],
   "source": [
    "total_distance(new_path,1.0*distances5)"
   ]
  },
  {
   "cell_type": "code",
   "execution_count": 74,
   "metadata": {
    "collapsed": false
   },
   "outputs": [
    {
     "name": "stderr",
     "output_type": "stream",
     "text": [
      "WARNING: Method definition findTSP(Array{Float64, 2}, Int64) in module Main at In[72]:4 overwritten at In[74]:4.\n"
     ]
    },
    {
     "data": {
      "text/plain": [
       "findTSP (generic function with 2 methods)"
      ]
     },
     "execution_count": 74,
     "metadata": {},
     "output_type": "execute_result"
    }
   ],
   "source": [
    "function findTSP(distances::Array{Float64,2},iter::Int)\n",
    "    ### This will run simulated annealing on the TSP and return the \n",
    "    ###   shortest distance after iter iterations\n",
    "    local n=size(distances,1)\n",
    "    local path=collect(1:n)\n",
    "    local min_path = path\n",
    "    local min_dist = total_distance(path, distances)\n",
    "    \n",
    "    for i=1:iter\n",
    "        swapEls!(path, rand(1:n), rand(1:n))\n",
    "        dist = total_distance(path, distances)\n",
    "        if (dist < min_dist)\n",
    "            min_dist = dist\n",
    "            min_path = path\n",
    "        end\n",
    "    end\n",
    "    return (min_path, min_dist)\n",
    "end"
   ]
  },
  {
   "cell_type": "code",
   "execution_count": 75,
   "metadata": {
    "collapsed": false
   },
   "outputs": [
    {
     "data": {
      "text/plain": [
       "([3,2,1,4,5],93.0)"
      ]
     },
     "execution_count": 75,
     "metadata": {},
     "output_type": "execute_result"
    }
   ],
   "source": [
    "findTSP(1.0*distances5,100)"
   ]
  },
  {
   "cell_type": "code",
   "execution_count": 77,
   "metadata": {
    "collapsed": false
   },
   "outputs": [
    {
     "data": {
      "text/plain": [
       "([2,7,1,5,8,4,6,9,10,3],183.0)"
      ]
     },
     "execution_count": 77,
     "metadata": {},
     "output_type": "execute_result"
    }
   ],
   "source": [
    "findTSP(1.0*distances10,10^5)"
   ]
  },
  {
   "cell_type": "code",
   "execution_count": null,
   "metadata": {
    "collapsed": true
   },
   "outputs": [],
   "source": []
  }
 ],
 "metadata": {
  "anaconda-cloud": {},
  "kernelspec": {
   "display_name": "Julia 0.5.0",
   "language": "julia",
   "name": "julia-0.5"
  },
  "language_info": {
   "file_extension": ".jl",
   "mimetype": "application/julia",
   "name": "julia",
   "version": "0.5.0"
  }
 },
 "nbformat": 4,
 "nbformat_minor": 0
}
