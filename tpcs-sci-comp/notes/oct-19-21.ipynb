{
 "cells": [
  {
   "cell_type": "markdown",
   "metadata": {},
   "source": [
    "## Chapter 12: Creating A Module and Performing Unit Tests<br><small>October 19, 2016</small>"
   ]
  },
  {
   "cell_type": "code",
   "execution_count": 1,
   "metadata": {
    "collapsed": false
   },
   "outputs": [
    {
     "data": {
      "text/plain": [
       "3-element Array{String,1}:\n",
       " \"/Applications/Julia-0.5.app/Contents/Resources/julia/local/share/julia/site/v0.5\"\n",
       " \"/Applications/Julia-0.5.app/Contents/Resources/julia/share/julia/site/v0.5\"      \n",
       " \".\"                                                                               "
      ]
     },
     "execution_count": 1,
     "metadata": {},
     "output_type": "execute_result"
    }
   ],
   "source": [
    "push!(LOAD_PATH, \".\")"
   ]
  },
  {
   "cell_type": "code",
   "execution_count": 2,
   "metadata": {
    "collapsed": false
   },
   "outputs": [],
   "source": [
    "workspace()\n",
    "#include(\"PlayingCards.jl\")\n",
    "using PlayingCards"
   ]
  },
  {
   "cell_type": "code",
   "execution_count": 3,
   "metadata": {
    "collapsed": false
   },
   "outputs": [
    {
     "data": {
      "text/plain": [
       "PlayingCards.Hand(PlayingCards.Card[PlayingCards.Card(1,1),PlayingCards.Card(1,2),PlayingCards.Card(13,4),PlayingCards.Card(2,1),PlayingCards.Card(5,1),PlayingCards.Card(3,1)])"
      ]
     },
     "execution_count": 3,
     "metadata": {},
     "output_type": "execute_result"
    }
   ],
   "source": [
    "h1=Hand([Card(1),Card(14),Card(52),Card(2),Card(5),Card(3)])"
   ]
  },
  {
   "cell_type": "code",
   "execution_count": 4,
   "metadata": {
    "collapsed": false
   },
   "outputs": [
    {
     "data": {
      "text/plain": [
       "0.001957"
      ]
     },
     "execution_count": 4,
     "metadata": {},
     "output_type": "execute_result"
    }
   ],
   "source": [
    "getProbability(isAFlush)"
   ]
  },
  {
   "cell_type": "markdown",
   "metadata": {},
   "source": [
    "### Unit Tests"
   ]
  },
  {
   "cell_type": "code",
   "execution_count": 5,
   "metadata": {
    "collapsed": true
   },
   "outputs": [],
   "source": [
    "using Base.Test"
   ]
  },
  {
   "cell_type": "code",
   "execution_count": 6,
   "metadata": {
    "collapsed": false
   },
   "outputs": [
    {
     "data": {
      "text/plain": [
       "2"
      ]
     },
     "execution_count": 6,
     "metadata": {},
     "output_type": "execute_result"
    }
   ],
   "source": [
    "a=2"
   ]
  },
  {
   "cell_type": "code",
   "execution_count": 7,
   "metadata": {
    "collapsed": false
   },
   "outputs": [
    {
     "data": {
      "text/plain": [
       "Test Passed\n",
       "  Expression: a == 2\n",
       "   Evaluated: 2 == 2"
      ]
     },
     "execution_count": 7,
     "metadata": {},
     "output_type": "execute_result"
    }
   ],
   "source": [
    "@test a==2"
   ]
  },
  {
   "cell_type": "code",
   "execution_count": 8,
   "metadata": {
    "collapsed": false
   },
   "outputs": [
    {
     "name": "stdout",
     "output_type": "stream",
     "text": [
      "Test Failed\n",
      "  Expression: Card(25) == Card(12,2)\n",
      "   Evaluated: PlayingCards.Card(12,2) == PlayingCards.Card(12,2)\n"
     ]
    },
    {
     "ename": "LoadError",
     "evalue": "LoadError: There was an error during testing\nwhile loading In[8], in expression starting on line 1",
     "output_type": "error",
     "traceback": [
      "LoadError: There was an error during testing\nwhile loading In[8], in expression starting on line 1",
      "",
      " in record(::Base.Test.FallbackTestSet, ::Base.Test.Fail) at ./test.jl:397",
      " in do_test(::Base.Test.Returned, ::Expr) at ./test.jl:281"
     ]
    }
   ],
   "source": [
    "@test Card(25)==Card(12,2)"
   ]
  },
  {
   "cell_type": "code",
   "execution_count": 9,
   "metadata": {
    "collapsed": false
   },
   "outputs": [
    {
     "data": {
      "text/plain": [
       "is_equal (generic function with 1 method)"
      ]
     },
     "execution_count": 9,
     "metadata": {},
     "output_type": "execute_result"
    }
   ],
   "source": [
    "function is_equal(x::Card,y::Card)\n",
    "  x.rank==y.rank&&x.suit==y.suit\n",
    "end"
   ]
  },
  {
   "cell_type": "code",
   "execution_count": 10,
   "metadata": {
    "collapsed": false
   },
   "outputs": [
    {
     "data": {
      "text/plain": [
       "Test Passed\n",
       "  Expression: is_equal(Card(25),Card(12,2))"
      ]
     },
     "execution_count": 10,
     "metadata": {},
     "output_type": "execute_result"
    }
   ],
   "source": [
    "@test is_equal(Card(25),Card(12,2))"
   ]
  },
  {
   "cell_type": "code",
   "execution_count": 11,
   "metadata": {
    "collapsed": false
   },
   "outputs": [
    {
     "data": {
      "text/plain": [
       "Test Passed\n",
       "  Expression: Card(16,3)\n",
       "      Thrown: ArgumentError"
      ]
     },
     "execution_count": 11,
     "metadata": {},
     "output_type": "execute_result"
    }
   ],
   "source": [
    "@test_throws ArgumentError Card(16,3)"
   ]
  },
  {
   "cell_type": "code",
   "execution_count": 12,
   "metadata": {
    "collapsed": false
   },
   "outputs": [
    {
     "ename": "LoadError",
     "evalue": "LoadError: ArgumentError: The rank must be an integer between 1 and 13.\nwhile loading In[12], in expression starting on line 1",
     "output_type": "error",
     "traceback": [
      "LoadError: ArgumentError: The rank must be an integer between 1 and 13.\nwhile loading In[12], in expression starting on line 1",
      "",
      " in PlayingCards.Card(::Int64, ::Int64) at /Users/joshuanasiatka/GitHub/FSU-Fall-2016/tpcs-sci-comp/notes/PlayingCards.jl:15"
     ]
    }
   ],
   "source": [
    "Card(16,3)"
   ]
  },
  {
   "cell_type": "code",
   "execution_count": 15,
   "metadata": {
    "collapsed": false
   },
   "outputs": [
    {
     "name": "stdout",
     "output_type": "stream",
     "text": [
      "Test Summary:      | Pass  Total\n",
      "  Playing Card Tests |   21     21\n"
     ]
    },
    {
     "data": {
      "text/plain": [
       "Base.Test.DefaultTestSet(\"Playing Card Tests\",Any[Base.Test.DefaultTestSet(\"Legal Card Constructor\",Any[Test Passed\n",
       "  Expression: isa(Card(1,3),Card),Test Passed\n",
       "  Expression: isa(Card(45),Card),Test Passed\n",
       "  Expression: isa(Card(\"3♠\"),Card)],false),Base.Test.DefaultTestSet(\"Illegal Cards throws exceptions\",Any[Test Passed\n",
       "  Expression: Card(0,3)\n",
       "      Thrown: ArgumentError,Test Passed\n",
       "  Expression: Card(14,2)\n",
       "      Thrown: ArgumentError,Test Passed\n",
       "  Expression: Card(1,0)\n",
       "      Thrown: ArgumentError,Test Passed\n",
       "  Expression: Card(0,5)\n",
       "      Thrown: ArgumentError,Test Passed\n",
       "  Expression: Card(\"AS\")\n",
       "      Thrown: ArgumentError],false),Base.Test.DefaultTestSet(\"Legal Hand Constructor\",Any[Test Passed\n",
       "  Expression: isa(Hand([Card(4,1),Card(4,2),Card(4,3),Card(7,3),Card(7,4)]),Hand),Test Passed\n",
       "  Expression: isa(Hand([\"2♢\",\"Q♠\",\"T♠\",\"T♣\",\"5♡\"]),Hand),Test Passed\n",
       "  Expression: isa(Hand(\"3♠,4♢,A♠,A♣,K♡\"),Hand)],false),Base.Test.DefaultTestSet(\"Illegal Hand throws exceptions\",Any[Test Passed\n",
       "  Expression: Hand([Card(0,3),Card(2,2),Card(4,3),Card(10,2),Card(13,1)])\n",
       "      Thrown: ArgumentError,Test Passed\n",
       "  Expression: Hand([Card(1,5),Card(2,2),Card(4,3),Card(10,2),Card(13,1)])\n",
       "      Thrown: ArgumentError,Test Passed\n",
       "  Expression: Hand([Card(1,0),Card(2,2),Card(4,3),Card(10,2),Card(13,1)])\n",
       "      Thrown: ArgumentError,Test Passed\n",
       "  Expression: Hand([\"2♢\",\"QD\",\"T♠\",\"T♣\",\"5♡\"])\n",
       "      Thrown: ArgumentError,Test Passed\n",
       "  Expression: Hand([\"2♢\",\"Q♢\",\"T♠\",\"T♣\",\"1♡\"])\n",
       "      Thrown: ArgumentError],false),Base.Test.DefaultTestSet(\"Card Tests\",Any[Test Passed\n",
       "  Expression: isa(c1,Card),Test Passed\n",
       "  Expression: is_equal(c1,c2),Test Passed\n",
       "  Expression: is_equal(c3,c4)],false),Base.Test.DefaultTestSet(\"Full House\",Any[Test Passed\n",
       "  Expression: isAFullHouse(fh1),Test Passed\n",
       "  Expression: !(isAFullHouse(fh2))],false)],false)"
      ]
     },
     "execution_count": 15,
     "metadata": {},
     "output_type": "execute_result"
    }
   ],
   "source": [
    "workspace()\n",
    "include(\"test-playing-cards.jl\")"
   ]
  },
  {
   "cell_type": "code",
   "execution_count": 14,
   "metadata": {
    "collapsed": false
   },
   "outputs": [
    {
     "data": {
      "text/plain": [
       "true"
      ]
     },
     "execution_count": 14,
     "metadata": {},
     "output_type": "execute_result"
    }
   ],
   "source": [
    "fh1 = Hand(\"4♠,4♢,4♣,A♣,A♡\")\n",
    "isAFullHouse(fh1)"
   ]
  },
  {
   "cell_type": "code",
   "execution_count": null,
   "metadata": {
    "collapsed": true
   },
   "outputs": [],
   "source": []
  }
 ],
 "metadata": {
  "anaconda-cloud": {},
  "kernelspec": {
   "display_name": "Julia 0.5.0",
   "language": "julia",
   "name": "julia-0.5"
  },
  "language_info": {
   "file_extension": ".jl",
   "mimetype": "application/julia",
   "name": "julia",
   "version": "0.5.0"
  }
 },
 "nbformat": 4,
 "nbformat_minor": 0
}
