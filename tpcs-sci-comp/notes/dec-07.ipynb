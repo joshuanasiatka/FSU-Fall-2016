{
 "cells": [
  {
   "cell_type": "markdown",
   "metadata": {},
   "source": [
    "# Notes:<br><small>2016.12.07</small> "
   ]
  },
  {
   "cell_type": "code",
   "execution_count": 1,
   "metadata": {
    "collapsed": false
   },
   "outputs": [
    {
     "data": {
      "text/plain": [
       "newton (generic function with 1 method)"
      ]
     },
     "execution_count": 1,
     "metadata": {},
     "output_type": "execute_result"
    }
   ],
   "source": [
    "function newton(f,df,x0)\n",
    "    local found = false, x=x0, n=0\n",
    "    while(!found && n<50)\n",
    "        n+=1\n",
    "        x=x-f(x)/df(x)\n",
    "        found = abs(f(x))<1.0e-12\n",
    "    end\n",
    "    return x\n",
    "end"
   ]
  },
  {
   "cell_type": "code",
   "execution_count": 2,
   "metadata": {
    "collapsed": false
   },
   "outputs": [
    {
     "data": {
      "text/plain": [
       "-0.4999999999999555 - 0.8660254037846933im"
      ]
     },
     "execution_count": 2,
     "metadata": {},
     "output_type": "execute_result"
    }
   ],
   "source": [
    "newton(x->x^3-1,x->3x^2,-1-1im)"
   ]
  },
  {
   "cell_type": "code",
   "execution_count": 3,
   "metadata": {
    "collapsed": false
   },
   "outputs": [
    {
     "data": {
      "text/plain": [
       "1.000000000000177 + 0.0im"
      ]
     },
     "execution_count": 3,
     "metadata": {},
     "output_type": "execute_result"
    }
   ],
   "source": [
    "newton(x->x^3-1,x->3x^2,-0.7+0im)"
   ]
  },
  {
   "cell_type": "code",
   "execution_count": 4,
   "metadata": {
    "collapsed": false
   },
   "outputs": [
    {
     "data": {
      "text/plain": [
       "21×21 Array{Complex{Float64},2}:\n",
       " -1.0+1.0im  -0.9+1.0im  -0.8+1.0im  …  0.8+1.0im  0.9+1.0im  1.0+1.0im\n",
       " -1.0+0.9im  -0.9+0.9im  -0.8+0.9im     0.8+0.9im  0.9+0.9im  1.0+0.9im\n",
       " -1.0+0.8im  -0.9+0.8im  -0.8+0.8im     0.8+0.8im  0.9+0.8im  1.0+0.8im\n",
       " -1.0+0.7im  -0.9+0.7im  -0.8+0.7im     0.8+0.7im  0.9+0.7im  1.0+0.7im\n",
       " -1.0+0.6im  -0.9+0.6im  -0.8+0.6im     0.8+0.6im  0.9+0.6im  1.0+0.6im\n",
       " -1.0+0.5im  -0.9+0.5im  -0.8+0.5im  …  0.8+0.5im  0.9+0.5im  1.0+0.5im\n",
       " -1.0+0.4im  -0.9+0.4im  -0.8+0.4im     0.8+0.4im  0.9+0.4im  1.0+0.4im\n",
       " -1.0+0.3im  -0.9+0.3im  -0.8+0.3im     0.8+0.3im  0.9+0.3im  1.0+0.3im\n",
       " -1.0+0.2im  -0.9+0.2im  -0.8+0.2im     0.8+0.2im  0.9+0.2im  1.0+0.2im\n",
       " -1.0+0.1im  -0.9+0.1im  -0.8+0.1im     0.8+0.1im  0.9+0.1im  1.0+0.1im\n",
       " -1.0+0.0im  -0.9+0.0im  -0.8+0.0im  …  0.8+0.0im  0.9+0.0im  1.0+0.0im\n",
       " -1.0-0.1im  -0.9-0.1im  -0.8-0.1im     0.8-0.1im  0.9-0.1im  1.0-0.1im\n",
       " -1.0-0.2im  -0.9-0.2im  -0.8-0.2im     0.8-0.2im  0.9-0.2im  1.0-0.2im\n",
       " -1.0-0.3im  -0.9-0.3im  -0.8-0.3im     0.8-0.3im  0.9-0.3im  1.0-0.3im\n",
       " -1.0-0.4im  -0.9-0.4im  -0.8-0.4im     0.8-0.4im  0.9-0.4im  1.0-0.4im\n",
       " -1.0-0.5im  -0.9-0.5im  -0.8-0.5im  …  0.8-0.5im  0.9-0.5im  1.0-0.5im\n",
       " -1.0-0.6im  -0.9-0.6im  -0.8-0.6im     0.8-0.6im  0.9-0.6im  1.0-0.6im\n",
       " -1.0-0.7im  -0.9-0.7im  -0.8-0.7im     0.8-0.7im  0.9-0.7im  1.0-0.7im\n",
       " -1.0-0.8im  -0.9-0.8im  -0.8-0.8im     0.8-0.8im  0.9-0.8im  1.0-0.8im\n",
       " -1.0-0.9im  -0.9-0.9im  -0.8-0.9im     0.8-0.9im  0.9-0.9im  1.0-0.9im\n",
       " -1.0-1.0im  -0.9-1.0im  -0.8-1.0im  …  0.8-1.0im  0.9-1.0im  1.0-1.0im"
      ]
     },
     "execution_count": 4,
     "metadata": {},
     "output_type": "execute_result"
    }
   ],
   "source": [
    "Z=[x+y*im for y=1:-0.1:-1, x=-1:0.1:1]"
   ]
  },
  {
   "cell_type": "code",
   "execution_count": 5,
   "metadata": {
    "collapsed": false
   },
   "outputs": [
    {
     "data": {
      "text/plain": [
       "21×21 Array{Complex{Float64},2}:\n",
       "         -0.5+0.866025im  -0.5+0.866025im  …  1.0-4.55624e-16im \n",
       "         -0.5+0.866025im  -0.5+0.866025im      1.0-8.6858e-24im \n",
       "         -0.5+0.866025im  -0.5+0.866025im     1.0-1.86096e-17im \n",
       "         -0.5+0.866025im  -0.5+0.866025im     1.0+8.33522e-24im \n",
       "         -0.5+0.866025im  -0.5+0.866025im     1.0-4.24974e-16im \n",
       "         -0.5+0.866025im  -0.5+0.866025im  …  1.0-3.87922e-22im \n",
       "         -0.5+0.866025im  -0.5+0.866025im     1.0-7.20365e-14im \n",
       "         -0.5+0.866025im  -0.5+0.866025im     1.0-3.29652e-18im \n",
       "         -0.5+0.866025im  -0.5+0.866025im     1.0+3.61754e-23im \n",
       " 1.0-1.86667e-14im        -0.5+0.866025im     1.0-8.68627e-17im \n",
       "          1.0+0.0im        1.0+0.0im       …           1.0+0.0im\n",
       " 1.0+1.86667e-14im        -0.5-0.866025im     1.0+8.68627e-17im \n",
       "         -0.5-0.866025im  -0.5-0.866025im     1.0-3.61754e-23im \n",
       "         -0.5-0.866025im  -0.5-0.866025im     1.0+3.29652e-18im \n",
       "         -0.5-0.866025im  -0.5-0.866025im     1.0+7.20365e-14im \n",
       "         -0.5-0.866025im  -0.5-0.866025im  …  1.0+3.87922e-22im \n",
       "         -0.5-0.866025im  -0.5-0.866025im     1.0+4.24974e-16im \n",
       "         -0.5-0.866025im  -0.5-0.866025im     1.0-8.33522e-24im \n",
       "         -0.5-0.866025im  -0.5-0.866025im     1.0+1.86096e-17im \n",
       "         -0.5-0.866025im  -0.5-0.866025im      1.0+8.6858e-24im \n",
       "         -0.5-0.866025im  -0.5-0.866025im  …  1.0+4.55624e-16im "
      ]
     },
     "execution_count": 5,
     "metadata": {},
     "output_type": "execute_result"
    }
   ],
   "source": [
    "roots = map(a->newton(z->z^3-1,z->3z^2,a),Z)"
   ]
  },
  {
   "cell_type": "code",
   "execution_count": 6,
   "metadata": {
    "collapsed": false
   },
   "outputs": [
    {
     "data": {
      "text/plain": [
       "21×21 Array{Float64,2}:\n",
       "  2.0944        2.0944   2.0944   2.0944  …  -1.38501e-21  -4.55624e-16\n",
       "  2.0944        2.0944   2.0944   2.0944      5.27694e-14  -8.6858e-24 \n",
       "  2.0944        2.0944   2.0944   2.0944     -1.15237e-25  -1.86096e-17\n",
       "  2.0944        2.0944   2.0944   2.0944     -2.10126e-19   8.33522e-24\n",
       "  2.0944        2.0944   2.0944   2.0944      8.38446e-14  -4.24974e-16\n",
       "  2.0944        2.0944   2.0944   2.0944  …   2.36272e-18  -3.87922e-22\n",
       "  2.0944        2.0944   2.0944   2.0944     -6.01927e-24  -7.20365e-14\n",
       "  2.0944        2.0944   2.0944   2.0944     -3.56249e-16  -3.29652e-18\n",
       "  2.0944        2.0944   2.0944   2.0944     -1.11212e-20   3.61754e-23\n",
       " -1.86667e-14   2.0944   2.0944  -2.0944     -6.6074e-14   -8.68627e-17\n",
       "  0.0           0.0      0.0      0.0     …   0.0           0.0        \n",
       "  1.86667e-14  -2.0944  -2.0944   2.0944      6.6074e-14    8.68627e-17\n",
       " -2.0944       -2.0944  -2.0944  -2.0944      1.11212e-20  -3.61754e-23\n",
       " -2.0944       -2.0944  -2.0944  -2.0944      3.56249e-16   3.29652e-18\n",
       " -2.0944       -2.0944  -2.0944  -2.0944      6.01927e-24   7.20365e-14\n",
       " -2.0944       -2.0944  -2.0944  -2.0944  …  -2.36272e-18   3.87922e-22\n",
       " -2.0944       -2.0944  -2.0944  -2.0944     -8.38446e-14   4.24974e-16\n",
       " -2.0944       -2.0944  -2.0944  -2.0944      2.10126e-19  -8.33522e-24\n",
       " -2.0944       -2.0944  -2.0944  -2.0944      1.15237e-25   1.86096e-17\n",
       " -2.0944       -2.0944  -2.0944  -2.0944     -5.27694e-14   8.6858e-24 \n",
       " -2.0944       -2.0944  -2.0944  -2.0944  …   1.38501e-21   4.55624e-16"
      ]
     },
     "execution_count": 6,
     "metadata": {},
     "output_type": "execute_result"
    }
   ],
   "source": [
    "w = map(a->angle(a),roots)"
   ]
  },
  {
   "cell_type": "code",
   "execution_count": 7,
   "metadata": {
    "collapsed": false
   },
   "outputs": [
    {
     "data": {
      "text/plain": [
       "21×21 Array{Float64,2}:\n",
       "  120.0   120.0   120.0   120.0  …  -120.0   120.0   120.0  -0.0  -0.0\n",
       "  120.0   120.0   120.0   120.0     -120.0   120.0    -0.0   0.0  -0.0\n",
       "  120.0   120.0   120.0   120.0     -120.0     0.0     0.0  -0.0  -0.0\n",
       "  120.0   120.0   120.0   120.0        0.0    -0.0     0.0  -0.0   0.0\n",
       "  120.0   120.0   120.0   120.0        0.0    -0.0     0.0   0.0  -0.0\n",
       "  120.0   120.0   120.0   120.0  …     0.0    -0.0     0.0   0.0  -0.0\n",
       "  120.0   120.0   120.0   120.0       -0.0     0.0    -0.0  -0.0  -0.0\n",
       "  120.0   120.0   120.0   120.0        0.0    -0.0    -0.0  -0.0  -0.0\n",
       "  120.0   120.0   120.0   120.0        0.0    -0.0     0.0  -0.0   0.0\n",
       "   -0.0   120.0   120.0  -120.0       -0.0     0.0     0.0  -0.0  -0.0\n",
       "    0.0     0.0     0.0     0.0  …     0.0     0.0     0.0   0.0   0.0\n",
       "    0.0  -120.0  -120.0   120.0        0.0    -0.0    -0.0   0.0   0.0\n",
       " -120.0  -120.0  -120.0  -120.0       -0.0     0.0    -0.0   0.0  -0.0\n",
       " -120.0  -120.0  -120.0  -120.0       -0.0     0.0     0.0   0.0   0.0\n",
       " -120.0  -120.0  -120.0  -120.0        0.0    -0.0     0.0   0.0   0.0\n",
       " -120.0  -120.0  -120.0  -120.0  …    -0.0     0.0    -0.0  -0.0   0.0\n",
       " -120.0  -120.0  -120.0  -120.0       -0.0     0.0    -0.0  -0.0   0.0\n",
       " -120.0  -120.0  -120.0  -120.0       -0.0     0.0    -0.0   0.0  -0.0\n",
       " -120.0  -120.0  -120.0  -120.0      120.0    -0.0    -0.0   0.0   0.0\n",
       " -120.0  -120.0  -120.0  -120.0      120.0  -120.0     0.0  -0.0   0.0\n",
       " -120.0  -120.0  -120.0  -120.0  …   120.0  -120.0  -120.0   0.0   0.0"
      ]
     },
     "execution_count": 7,
     "metadata": {},
     "output_type": "execute_result"
    }
   ],
   "source": [
    "angles = round(map(angle,roots)*180/pi)"
   ]
  },
  {
   "cell_type": "code",
   "execution_count": 8,
   "metadata": {
    "collapsed": false
   },
   "outputs": [
    {
     "data": {
      "text/plain": [
       "5×5 Array{Float64,2}:\n",
       "  120.0   120.0    0.0  -120.0  -120.0\n",
       "   -0.0   120.0   -0.0  -120.0  -120.0\n",
       "    0.0     0.0  NaN       0.0     0.0\n",
       "    0.0  -120.0    0.0   120.0   120.0\n",
       " -120.0  -120.0   -0.0   120.0   120.0"
      ]
     },
     "execution_count": 8,
     "metadata": {},
     "output_type": "execute_result"
    }
   ],
   "source": [
    "angles[9:13,9:13]"
   ]
  },
  {
   "cell_type": "code",
   "execution_count": 9,
   "metadata": {
    "collapsed": false
   },
   "outputs": [
    {
     "data": {
      "text/plain": [
       "0.0"
      ]
     },
     "execution_count": 9,
     "metadata": {},
     "output_type": "execute_result"
    }
   ],
   "source": [
    "angles[find(isnan,angles)]=0.0"
   ]
  },
  {
   "cell_type": "code",
   "execution_count": 10,
   "metadata": {
    "collapsed": false
   },
   "outputs": [
    {
     "data": {
      "text/plain": [
       "5×5 Array{Float64,2}:\n",
       "  120.0   120.0   0.0  -120.0  -120.0\n",
       "   -0.0   120.0  -0.0  -120.0  -120.0\n",
       "    0.0     0.0   0.0     0.0     0.0\n",
       "    0.0  -120.0   0.0   120.0   120.0\n",
       " -120.0  -120.0  -0.0   120.0   120.0"
      ]
     },
     "execution_count": 10,
     "metadata": {},
     "output_type": "execute_result"
    }
   ],
   "source": [
    "angles[9:13,9:13]"
   ]
  },
  {
   "cell_type": "code",
   "execution_count": 11,
   "metadata": {
    "collapsed": false
   },
   "outputs": [
    {
     "data": {
      "text/plain": [
       "21×21 Array{Float64,2}:\n",
       " 3.0  3.0  3.0  3.0  3.0  3.0  3.0  3.0  …  3.0  1.0  1.0  3.0  3.0  2.0  2.0\n",
       " 3.0  3.0  3.0  3.0  3.0  3.0  3.0  3.0     3.0  1.0  1.0  3.0  2.0  2.0  2.0\n",
       " 3.0  3.0  3.0  3.0  3.0  3.0  3.0  3.0     1.0  1.0  1.0  2.0  2.0  2.0  2.0\n",
       " 3.0  3.0  3.0  3.0  3.0  3.0  3.0  3.0     1.0  2.0  2.0  2.0  2.0  2.0  2.0\n",
       " 3.0  3.0  3.0  3.0  3.0  3.0  3.0  3.0     3.0  1.0  2.0  2.0  2.0  2.0  2.0\n",
       " 3.0  3.0  3.0  3.0  3.0  3.0  3.0  3.0  …  3.0  3.0  2.0  2.0  2.0  2.0  2.0\n",
       " 3.0  3.0  3.0  3.0  3.0  3.0  3.0  3.0     1.0  1.0  2.0  2.0  2.0  2.0  2.0\n",
       " 3.0  3.0  3.0  3.0  3.0  3.0  3.0  3.0     3.0  2.0  2.0  2.0  2.0  2.0  2.0\n",
       " 3.0  3.0  3.0  3.0  2.0  1.0  1.0  3.0     2.0  2.0  2.0  2.0  2.0  2.0  2.0\n",
       " 2.0  3.0  3.0  1.0  2.0  2.0  2.0  2.0     2.0  2.0  2.0  2.0  2.0  2.0  2.0\n",
       " 2.0  2.0  2.0  2.0  2.0  2.0  2.0  2.0  …  2.0  2.0  2.0  2.0  2.0  2.0  2.0\n",
       " 2.0  1.0  1.0  3.0  2.0  2.0  2.0  2.0     2.0  2.0  2.0  2.0  2.0  2.0  2.0\n",
       " 1.0  1.0  1.0  1.0  2.0  3.0  3.0  1.0     2.0  2.0  2.0  2.0  2.0  2.0  2.0\n",
       " 1.0  1.0  1.0  1.0  1.0  1.0  1.0  1.0     1.0  2.0  2.0  2.0  2.0  2.0  2.0\n",
       " 1.0  1.0  1.0  1.0  1.0  1.0  1.0  1.0     3.0  3.0  2.0  2.0  2.0  2.0  2.0\n",
       " 1.0  1.0  1.0  1.0  1.0  1.0  1.0  1.0  …  1.0  1.0  2.0  2.0  2.0  2.0  2.0\n",
       " 1.0  1.0  1.0  1.0  1.0  1.0  1.0  1.0     1.0  3.0  2.0  2.0  2.0  2.0  2.0\n",
       " 1.0  1.0  1.0  1.0  1.0  1.0  1.0  1.0     3.0  2.0  2.0  2.0  2.0  2.0  2.0\n",
       " 1.0  1.0  1.0  1.0  1.0  1.0  1.0  1.0     3.0  3.0  3.0  2.0  2.0  2.0  2.0\n",
       " 1.0  1.0  1.0  1.0  1.0  1.0  1.0  1.0     1.0  3.0  3.0  1.0  2.0  2.0  2.0\n",
       " 1.0  1.0  1.0  1.0  1.0  1.0  1.0  1.0  …  1.0  3.0  3.0  1.0  1.0  2.0  2.0"
      ]
     },
     "execution_count": 11,
     "metadata": {},
     "output_type": "execute_result"
    }
   ],
   "source": [
    "(angles+240)/120"
   ]
  },
  {
   "cell_type": "code",
   "execution_count": 25,
   "metadata": {
    "collapsed": false
   },
   "outputs": [
    {
     "data": {
      "text/plain": [
       "21×21 Array{Int64,2}:\n",
       " 3  3  3  3  3  3  3  3  3  3  3  3  3  3  3  1  1  3  3  2  2\n",
       " 3  3  3  3  3  3  3  3  3  3  3  3  3  3  3  1  1  3  2  2  2\n",
       " 3  3  3  3  3  3  3  3  3  3  3  3  3  3  1  1  1  2  2  2  2\n",
       " 3  3  3  3  3  3  3  3  3  3  3  3  2  2  1  2  2  2  2  2  2\n",
       " 3  3  3  3  3  3  3  3  3  3  3  1  2  1  3  1  2  2  2  2  2\n",
       " 3  3  3  3  3  3  3  3  3  3  3  3  1  1  3  3  2  2  2  2  2\n",
       " 3  3  3  3  3  3  3  3  3  3  1  1  1  1  1  1  2  2  2  2  2\n",
       " 3  3  3  3  3  3  3  3  3  3  3  1  1  1  3  2  2  2  2  2  2\n",
       " 3  3  3  3  2  1  1  3  3  3  2  1  1  3  2  2  2  2  2  2  2\n",
       " 2  3  3  1  2  2  2  2  2  3  2  1  1  2  2  2  2  2  2  2  2\n",
       " 2  2  2  2  2  2  2  2  2  2  2  2  2  2  2  2  2  2  2  2  2\n",
       " 2  1  1  3  2  2  2  2  2  1  2  3  3  2  2  2  2  2  2  2  2\n",
       " 1  1  1  1  2  3  3  1  1  1  2  3  3  1  2  2  2  2  2  2  2\n",
       " 1  1  1  1  1  1  1  1  1  1  1  3  3  3  1  2  2  2  2  2  2\n",
       " 1  1  1  1  1  1  1  1  1  1  3  3  3  3  3  3  2  2  2  2  2\n",
       " 1  1  1  1  1  1  1  1  1  1  1  1  3  3  1  1  2  2  2  2  2\n",
       " 1  1  1  1  1  1  1  1  1  1  1  3  2  3  1  3  2  2  2  2  2\n",
       " 1  1  1  1  1  1  1  1  1  1  1  1  2  2  3  2  2  2  2  2  2\n",
       " 1  1  1  1  1  1  1  1  1  1  1  1  1  1  3  3  3  2  2  2  2\n",
       " 1  1  1  1  1  1  1  1  1  1  1  1  1  1  1  3  3  1  2  2  2\n",
       " 1  1  1  1  1  1  1  1  1  1  1  1  1  1  1  3  3  1  1  2  2"
      ]
     },
     "execution_count": 25,
     "metadata": {},
     "output_type": "execute_result"
    }
   ],
   "source": [
    "datas=div(convert(Array{Int,2},angles)+240,120)"
   ]
  },
  {
   "cell_type": "code",
   "execution_count": 27,
   "metadata": {
    "collapsed": false
   },
   "outputs": [],
   "source": [
    "#ima = map(UInt8,data)"
   ]
  },
  {
   "cell_type": "code",
   "execution_count": 14,
   "metadata": {
    "collapsed": false
   },
   "outputs": [
    {
     "name": "stderr",
     "output_type": "stream",
     "text": [
      "WARNING: using Images.data in module Main conflicts with an existing identifier.\n"
     ]
    }
   ],
   "source": [
    "using ImageView, Colors, Images"
   ]
  },
  {
   "cell_type": "code",
   "execution_count": 17,
   "metadata": {
    "collapsed": false
   },
   "outputs": [
    {
     "data": {
      "image/svg+xml": [
       "<?xml version=\"1.0\" encoding=\"UTF-8\"?>\n",
       "<!DOCTYPE svg PUBLIC \"-//W3C//DTD SVG 1.1//EN\"\n",
       " \"http://www.w3.org/Graphics/SVG/1.1/DTD/svg11.dtd\">\n",
       "<svg xmlns=\"http://www.w3.org/2000/svg\" version=\"1.1\"\n",
       "     width=\"45.0mm\" height=\"25.0mm\"\n",
       "     shape-rendering=\"crispEdges\">\n",
       "<rect x=\"0.0mm\" y=\"0.0mm\"\n",
       "      width=\"14.0mm\" height=\"25.0mm\"\n",
       "      fill=\"#FFF1EE\" stroke=\"none\" />\n",
       "<rect x=\"15.0mm\" y=\"0.0mm\"\n",
       "      width=\"14.0mm\" height=\"25.0mm\"\n",
       "      fill=\"#FF8576\" stroke=\"none\" />\n",
       "<rect x=\"30.0mm\" y=\"0.0mm\"\n",
       "      width=\"14.0mm\" height=\"25.0mm\"\n",
       "      fill=\"#6D0B0C\" stroke=\"none\" />\n",
       "</svg>"
      ],
      "text/plain": [
       "3-element Array{ColorTypes.RGB{Float64},1}:\n",
       " RGB{Float64}(1.0,0.944245,0.931811)       \n",
       " RGB{Float64}(1.0,0.520571,0.463411)       \n",
       " RGB{Float64}(0.426131,0.0441442,0.0465628)"
      ]
     },
     "execution_count": 17,
     "metadata": {},
     "output_type": "execute_result"
    }
   ],
   "source": [
    "cmap = colormap(\"reds\", 3)"
   ]
  },
  {
   "cell_type": "code",
   "execution_count": 29,
   "metadata": {
    "collapsed": false
   },
   "outputs": [
    {
     "data": {
      "image/png": "[encoded data removed]",
      "text/plain": [
       "RGB Images.ImageCmap with:\n",
       "  data: 21×21 Array{Int64,2}\n",
       "  cmap: 3-element Array{ColorTypes.RGB{Float64},1}\n",
       "  properties:"
      ]
     },
     "execution_count": 29,
     "metadata": {},
     "output_type": "execute_result"
    }
   ],
   "source": [
    "ImageCmap(transpose(datas),cmap)"
   ]
  },
  {
   "cell_type": "code",
   "execution_count": 85,
   "metadata": {
    "collapsed": false
   },
   "outputs": [
    {
     "name": "stderr",
     "output_type": "stream",
     "text": [
      "WARNING: Method definition complex_newton(Base.Complex, Base.Complex) in module Main at In[83]:2 overwritten at In[85]:2.\n",
      "WARNING: Method definition complex_newton(Base.Complex, Base.Complex, Int64) in module Main at In[83]:2 overwritten at In[85]:2.\n",
      "WARNING: Method definition complex_newton(Base.Complex, Base.Complex, Int64, Int64) in module Main at In[83]:2 overwritten at In[85]:2.\n"
     ]
    },
    {
     "data": {
      "text/plain": [
       "complex_newton (generic function with 4 methods)"
      ]
     },
     "execution_count": 85,
     "metadata": {},
     "output_type": "execute_result"
    }
   ],
   "source": [
    "function complex_newton(zmin::Complex, zmax::Complex,nx::Int=50,ny::Int=50)\n",
    "    local dx = ((real(zmax)-real(zmin))/(nx-1))\n",
    "    local dy = ((imag(zmin)-imag(zmax))/(ny-1))\n",
    "    local Z=[x+y*im for y=imag(zmax):dy:imag(zmin), x=real(zmin):dx:real(zmax)]\n",
    "    local roots = map(a->newton(z->z^3-1,z->3z^2,a),Z)\n",
    "    local angles = round(map(angle,roots)*180/pi)\n",
    "    angles[find(isnan,angles)]=0.0\n",
    "    local datas=div(convert(Array{Int,2},angles)+240,120)\n",
    "    local cmap = colormap(\"Blues\", 3)\n",
    "    return ImageCmap(transpose(datas),cmap)\n",
    "end"
   ]
  },
  {
   "cell_type": "code",
   "execution_count": 86,
   "metadata": {
    "collapsed": false
   },
   "outputs": [
    {
     "data": {
      "image/png": "[encoded data removed]",
      "text/plain": [
       "RGB Images.ImageCmap with:\n",
       "  data: 500×500 Array{Int64,2}\n",
       "  cmap: 3-element Array{ColorTypes.RGB{Float64},1}\n",
       "  properties:"
      ]
     },
     "execution_count": 86,
     "metadata": {},
     "output_type": "execute_result"
    }
   ],
   "source": [
    "complex_newton(-2-im,1+2im,500,500)"
   ]
  },
  {
   "cell_type": "markdown",
   "metadata": {},
   "source": [
    "### Testing Equality"
   ]
  },
  {
   "cell_type": "code",
   "execution_count": 87,
   "metadata": {
    "collapsed": false
   },
   "outputs": [
    {
     "data": {
      "text/plain": [
       "true"
      ]
     },
     "execution_count": 87,
     "metadata": {},
     "output_type": "execute_result"
    }
   ],
   "source": [
    "6 == 6"
   ]
  },
  {
   "cell_type": "code",
   "execution_count": 88,
   "metadata": {
    "collapsed": false
   },
   "outputs": [
    {
     "data": {
      "text/plain": [
       "true"
      ]
     },
     "execution_count": 88,
     "metadata": {},
     "output_type": "execute_result"
    }
   ],
   "source": [
    "3.5 == 3.5"
   ]
  },
  {
   "cell_type": "code",
   "execution_count": 89,
   "metadata": {
    "collapsed": false
   },
   "outputs": [
    {
     "data": {
      "text/plain": [
       "false"
      ]
     },
     "execution_count": 89,
     "metadata": {},
     "output_type": "execute_result"
    }
   ],
   "source": [
    "3.5 == 3.4999999"
   ]
  },
  {
   "cell_type": "code",
   "execution_count": 90,
   "metadata": {
    "collapsed": false
   },
   "outputs": [
    {
     "data": {
      "text/plain": [
       "true"
      ]
     },
     "execution_count": 90,
     "metadata": {},
     "output_type": "execute_result"
    }
   ],
   "source": [
    "10/3 == 10/3"
   ]
  },
  {
   "cell_type": "code",
   "execution_count": 91,
   "metadata": {
    "collapsed": false
   },
   "outputs": [
    {
     "data": {
      "text/plain": [
       "\"0100000000001010101010101010101010101010101010101010101010101011\""
      ]
     },
     "execution_count": 91,
     "metadata": {},
     "output_type": "execute_result"
    }
   ],
   "source": [
    "bits(10/3)"
   ]
  },
  {
   "cell_type": "code",
   "execution_count": 99,
   "metadata": {
    "collapsed": false
   },
   "outputs": [
    {
     "data": {
      "text/plain": [
       "true"
      ]
     },
     "execution_count": 99,
     "metadata": {},
     "output_type": "execute_result"
    }
   ],
   "source": [
    "isapprox(3.49999999,3.5)"
   ]
  },
  {
   "cell_type": "code",
   "execution_count": 95,
   "metadata": {
    "collapsed": false
   },
   "outputs": [
    {
     "data": {
      "text/plain": [
       "17.700000000000003"
      ]
     },
     "execution_count": 95,
     "metadata": {},
     "output_type": "execute_result"
    }
   ],
   "source": [
    "sqrt(17.7)^2"
   ]
  },
  {
   "cell_type": "code",
   "execution_count": 96,
   "metadata": {
    "collapsed": false
   },
   "outputs": [
    {
     "data": {
      "text/plain": [
       "false"
      ]
     },
     "execution_count": 96,
     "metadata": {},
     "output_type": "execute_result"
    }
   ],
   "source": [
    "sqrt(17.7)^2 == 17.7"
   ]
  },
  {
   "cell_type": "code",
   "execution_count": 100,
   "metadata": {
    "collapsed": false
   },
   "outputs": [
    {
     "data": {
      "text/plain": [
       "\"0100000000110001101100110011001100110011001100110011001100110011\""
      ]
     },
     "execution_count": 100,
     "metadata": {},
     "output_type": "execute_result"
    }
   ],
   "source": [
    "bits(17.7)"
   ]
  },
  {
   "cell_type": "code",
   "execution_count": 101,
   "metadata": {
    "collapsed": false
   },
   "outputs": [
    {
     "data": {
      "text/plain": [
       "\"0100000000110001101100110011001100110011001100110011001100110100\""
      ]
     },
     "execution_count": 101,
     "metadata": {},
     "output_type": "execute_result"
    }
   ],
   "source": [
    "bits(sqrt(17.7)^2)"
   ]
  },
  {
   "cell_type": "code",
   "execution_count": 98,
   "metadata": {
    "collapsed": false
   },
   "outputs": [
    {
     "data": {
      "text/plain": [
       "true"
      ]
     },
     "execution_count": 98,
     "metadata": {},
     "output_type": "execute_result"
    }
   ],
   "source": [
    "isapprox(sqrt(17.7)^2,17.7)"
   ]
  },
  {
   "cell_type": "code",
   "execution_count": null,
   "metadata": {
    "collapsed": true
   },
   "outputs": [],
   "source": []
  }
 ],
 "metadata": {
  "anaconda-cloud": {},
  "kernelspec": {
   "display_name": "Julia 0.5.0",
   "language": "julia",
   "name": "julia-0.5"
  },
  "language_info": {
   "file_extension": ".jl",
   "mimetype": "application/julia",
   "name": "julia",
   "version": "0.5.0"
  }
 },
 "nbformat": 4,
 "nbformat_minor": 0
}
