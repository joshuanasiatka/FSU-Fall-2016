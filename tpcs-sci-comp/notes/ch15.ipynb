{
 "cells": [
  {
   "cell_type": "markdown",
   "metadata": {},
   "source": [
    "# Chapter 15: Dictionaries and JSON Files"
   ]
  },
  {
   "cell_type": "code",
   "execution_count": 5,
   "metadata": {
    "collapsed": false
   },
   "outputs": [
    {
     "data": {
      "text/plain": [
       "Dict{String,Int64} with 3 entries:\n",
       "  \"B\" => 5\n",
       "  \"A\" => 1\n",
       "  \"C\" => -7"
      ]
     },
     "execution_count": 5,
     "metadata": {},
     "output_type": "execute_result"
    }
   ],
   "source": [
    "dict=Dict(\"A\"=>1,\"B\"=>5,\"C\"=>-7)"
   ]
  },
  {
   "cell_type": "code",
   "execution_count": 6,
   "metadata": {
    "collapsed": false
   },
   "outputs": [
    {
     "data": {
      "text/plain": [
       "-7"
      ]
     },
     "execution_count": 6,
     "metadata": {},
     "output_type": "execute_result"
    }
   ],
   "source": [
    "dict[\"C\"]"
   ]
  },
  {
   "cell_type": "code",
   "execution_count": 7,
   "metadata": {
    "collapsed": false
   },
   "outputs": [
    {
     "data": {
      "text/plain": [
       "Base.KeyIterator for a Dict{String,Int64} with 3 entries. Keys:\n",
       "  \"B\"\n",
       "  \"A\"\n",
       "  \"C\""
      ]
     },
     "execution_count": 7,
     "metadata": {},
     "output_type": "execute_result"
    }
   ],
   "source": [
    "keys(dict)"
   ]
  },
  {
   "cell_type": "code",
   "execution_count": 8,
   "metadata": {
    "collapsed": false
   },
   "outputs": [
    {
     "data": {
      "text/plain": [
       "Base.ValueIterator for a Dict{String,Int64} with 3 entries. Values:\n",
       "  5\n",
       "  1\n",
       "  -7"
      ]
     },
     "execution_count": 8,
     "metadata": {},
     "output_type": "execute_result"
    }
   ],
   "source": [
    "values(dict)"
   ]
  },
  {
   "cell_type": "code",
   "execution_count": 9,
   "metadata": {
    "collapsed": false
   },
   "outputs": [
    {
     "name": "stdout",
     "output_type": "stream",
     "text": [
      "B: 5\n",
      "A: 1\n",
      "C: -7\n"
     ]
    }
   ],
   "source": [
    "for k in keys(dict)\n",
    "    println(k, \": \",dict[k])\n",
    "end"
   ]
  },
  {
   "cell_type": "code",
   "execution_count": 10,
   "metadata": {
    "collapsed": false
   },
   "outputs": [
    {
     "data": {
      "text/plain": [
       "3-element Array{Int64,1}:\n",
       "  5\n",
       "  1\n",
       " -7"
      ]
     },
     "execution_count": 10,
     "metadata": {},
     "output_type": "execute_result"
    }
   ],
   "source": [
    "collect(values(dict))"
   ]
  },
  {
   "cell_type": "markdown",
   "metadata": {},
   "source": [
    "### JSON Files"
   ]
  },
  {
   "cell_type": "code",
   "execution_count": 11,
   "metadata": {
    "collapsed": false
   },
   "outputs": [
    {
     "name": "stdout",
     "output_type": "stream",
     "text": [
      "JSON!!!!!!!!"
     ]
    }
   ],
   "source": [
    "print(\"JSON!!!!!!!!\")"
   ]
  },
  {
   "cell_type": "code",
   "execution_count": 12,
   "metadata": {
    "collapsed": true
   },
   "outputs": [],
   "source": [
    "using JSON"
   ]
  },
  {
   "cell_type": "code",
   "execution_count": 16,
   "metadata": {
    "collapsed": false
   },
   "outputs": [
    {
     "data": {
      "text/plain": [
       "\"{\\n  \\\"firstName\\\": \\\"John\\\",\\n  \\\"lastName\\\": \\\"Smith\\\",\\n  \\\"age\\\": 25,\\n  \\\"address\\\": {\\n    \\\"streetAddress\\\": \\\"21 2nd Street\\\",\\n    \\\"city\\\": \\\"New York\\\",\\n    \\\"state\\\": \\\"NY\\\",\\n    \\\"postalCode\\\": \\\"10021\\\"\\n  },\\n  \\\"phoneNumber\\\": [\\n    {\\n      \\\"type\\\": \\\"home\\\",\\n      \\\"number\\\": \\\"212 555-1234\\\"\\n    },\\n    {\\n      \\\"type\\\": \\\"fax\\\",\\n      \\\"number\\\": \\\"646 555-4567\\\"\\n    }\\n  ],\\n  \\\"gender\\\": {\\n    \\\"type\\\": \\\"male\\\"\\n  }\\n}\""
      ]
     },
     "execution_count": 16,
     "metadata": {},
     "output_type": "execute_result"
    }
   ],
   "source": [
    "str = \"{\n",
    "  \\\"firstName\\\": \\\"John\\\",\n",
    "  \\\"lastName\\\": \\\"Smith\\\",\n",
    "  \\\"age\\\": 25,\n",
    "  \\\"address\\\": {\n",
    "    \\\"streetAddress\\\": \\\"21 2nd Street\\\",\n",
    "    \\\"city\\\": \\\"New York\\\",\n",
    "    \\\"state\\\": \\\"NY\\\",\n",
    "    \\\"postalCode\\\": \\\"10021\\\"\n",
    "  },\n",
    "  \\\"phoneNumber\\\": [\n",
    "    {\n",
    "      \\\"type\\\": \\\"home\\\",\n",
    "      \\\"number\\\": \\\"212 555-1234\\\"\n",
    "    },\n",
    "    {\n",
    "      \\\"type\\\": \\\"fax\\\",\n",
    "      \\\"number\\\": \\\"646 555-4567\\\"\n",
    "    }\n",
    "  ],\n",
    "  \\\"gender\\\": {\n",
    "    \\\"type\\\": \\\"male\\\"\n",
    "  }\n",
    "}\""
   ]
  },
  {
   "cell_type": "code",
   "execution_count": 17,
   "metadata": {
    "collapsed": false
   },
   "outputs": [
    {
     "data": {
      "text/plain": [
       "Dict{String,Any} with 6 entries:\n",
       "  \"gender\"      => Dict{String,Any}(Pair{String,Any}(\"type\",\"male\"))\n",
       "  \"phoneNumber\" => Any[Dict{String,Any}(Pair{String,Any}(\"number\",\"212 555-1234…\n",
       "  \"lastName\"    => \"Smith\"\n",
       "  \"firstName\"   => \"John\"\n",
       "  \"age\"         => 25\n",
       "  \"address\"     => Dict{String,Any}(Pair{String,Any}(\"streetAddress\",\"21 2nd St…"
      ]
     },
     "execution_count": 17,
     "metadata": {},
     "output_type": "execute_result"
    }
   ],
   "source": [
    "jsmith_info = JSON.parse(str)"
   ]
  },
  {
   "cell_type": "code",
   "execution_count": 18,
   "metadata": {
    "collapsed": false
   },
   "outputs": [
    {
     "data": {
      "text/plain": [
       "\"John Smith\""
      ]
     },
     "execution_count": 18,
     "metadata": {},
     "output_type": "execute_result"
    }
   ],
   "source": [
    "string(jsmith_info[\"firstName\"],\" \",jsmith_info[\"lastName\"])"
   ]
  },
  {
   "cell_type": "code",
   "execution_count": 19,
   "metadata": {
    "collapsed": false
   },
   "outputs": [
    {
     "data": {
      "text/plain": [
       "\"646 555-4567\""
      ]
     },
     "execution_count": 19,
     "metadata": {},
     "output_type": "execute_result"
    }
   ],
   "source": [
    "jsmith_info[\"phoneNumber\"][2][\"number\"]"
   ]
  },
  {
   "cell_type": "code",
   "execution_count": 34,
   "metadata": {
    "collapsed": false
   },
   "outputs": [
    {
     "name": "stdout",
     "output_type": "stream",
     "text": [
      "Postal Code: 10021\n"
     ]
    }
   ],
   "source": [
    "println(\"Postal Code: \",jsmith_info[\"address\"][\"postalCode\"])"
   ]
  },
  {
   "cell_type": "code",
   "execution_count": 36,
   "metadata": {
    "collapsed": false
   },
   "outputs": [
    {
     "data": {
      "text/plain": [
       "Dict{String,Dict{String,Any}} with 3 entries:\n",
       "  \"hamburger\"  => Dict{String,Any}(Pair{String,Any}(\"options\",String[\"Cheddar\",…\n",
       "  \"onion soup\" => Dict{String,Any}(Pair{String,Any}(\"cost\",5.0),Pair{String,Any…\n",
       "  \"pancakes\"   => Dict{String,Any}(Pair{String,Any}(\"options\",String[\"Chocolate…"
      ]
     },
     "execution_count": 36,
     "metadata": {},
     "output_type": "execute_result"
    }
   ],
   "source": [
    "menu=Dict(\"pancakes\"=>Dict(\"type\"=>\"Breakfast\",\"cost\"=>7.00,\"options\"=>[\"Chocolate Chip\",\"Buckwheat\"]),\n",
    "\"hamburger\"=>Dict(\"type\"=>[\"Lunch\",\"Dinner\"],\"cost\"=>9.00,\"options\"=>[\"Cheddar\",\"Mushrooms\",\"Bacon\"]),\n",
    "\"onion soup\"=>Dict(\"type\"=>[\"Lunch\",\"Dinner\"],\"cost\"=>5.00))"
   ]
  },
  {
   "cell_type": "code",
   "execution_count": 37,
   "metadata": {
    "collapsed": false,
    "scrolled": true
   },
   "outputs": [
    {
     "data": {
      "text/plain": [
       "\"{\\\"hamburger\\\":{\\\"options\\\":[\\\"Cheddar\\\",\\\"Mushrooms\\\",\\\"Bacon\\\"],\\\"cost\\\":9.0,\\\"type\\\":[\\\"Lunch\\\",\\\"Dinner\\\"]},\\\"onion soup\\\":{\\\"cost\\\":5.0,\\\"type\\\":[\\\"Lunch\\\",\\\"Dinner\\\"]},\\\"pancakes\\\":{\\\"options\\\":[\\\"Chocolate Chip\\\",\\\"Buckwheat\\\"],\\\"cost\\\":7.0,\\\"type\\\":\\\"Breakfast\\\"}}\""
      ]
     },
     "execution_count": 37,
     "metadata": {},
     "output_type": "execute_result"
    }
   ],
   "source": [
    "menu=JSON.json(menu)"
   ]
  },
  {
   "cell_type": "code",
   "execution_count": 38,
   "metadata": {
    "collapsed": false,
    "scrolled": true
   },
   "outputs": [],
   "source": [
    "f = open(\"menu.json\",\"w\")\n",
    "JSON.write(f,menu)\n",
    "close(f)"
   ]
  },
  {
   "cell_type": "code",
   "execution_count": 40,
   "metadata": {
    "collapsed": false
   },
   "outputs": [],
   "source": [
    "f2=open(\"menu.json\",\"r\")\n",
    "menu2=JSON.parse(f2)\n",
    "close(f2)"
   ]
  },
  {
   "cell_type": "code",
   "execution_count": 41,
   "metadata": {
    "collapsed": false
   },
   "outputs": [
    {
     "data": {
      "text/plain": [
       "Dict{String,Any} with 3 entries:\n",
       "  \"hamburger\"  => Dict{String,Any}(Pair{String,Any}(\"options\",Any[\"Cheddar\",\"Mu…\n",
       "  \"onion soup\" => Dict{String,Any}(Pair{String,Any}(\"cost\",5.0),Pair{String,Any…\n",
       "  \"pancakes\"   => Dict{String,Any}(Pair{String,Any}(\"options\",Any[\"Chocolate Ch…"
      ]
     },
     "execution_count": 41,
     "metadata": {},
     "output_type": "execute_result"
    }
   ],
   "source": [
    "menu2"
   ]
  },
  {
   "cell_type": "code",
   "execution_count": 49,
   "metadata": {
    "collapsed": false
   },
   "outputs": [
    {
     "name": "stdout",
     "output_type": "stream",
     "text": [
      "Cost of everything: 21.0\n"
     ]
    }
   ],
   "source": [
    "sum=0\n",
    "for k in keys(menu2)\n",
    "    sum+=menu2[k][\"cost\"]\n",
    "end\n",
    "println(\"Cost of everything: \", sum)"
   ]
  },
  {
   "cell_type": "code",
   "execution_count": 50,
   "metadata": {
    "collapsed": true
   },
   "outputs": [],
   "source": [
    "f=open(\"avidia.json\",\"r\")\n",
    "info=JSON.parse(f)\n",
    "close(f)"
   ]
  },
  {
   "cell_type": "code",
   "execution_count": 51,
   "metadata": {
    "collapsed": false
   },
   "outputs": [
    {
     "data": {
      "text/plain": [
       "Dict{String,Any} with 4 entries:\n",
       "  \"status\"                => \"OK\"\n",
       "  \"destination_addresses\" => Any[\"42 Main St, Hudson, MA 01749, USA\",\"17 Pope S…\n",
       "  \"rows\"                  => Any[Dict{String,Any}(Pair{String,Any}(\"elements\",A…\n",
       "  \"origin_addresses\"      => Any[\"42 Main St, Hudson, MA 01749, USA\",\"17 Pope S…"
      ]
     },
     "execution_count": 51,
     "metadata": {},
     "output_type": "execute_result"
    }
   ],
   "source": [
    "info"
   ]
  },
  {
   "cell_type": "code",
   "execution_count": 52,
   "metadata": {
    "collapsed": false
   },
   "outputs": [
    {
     "data": {
      "text/plain": [
       "10-element Array{Any,1}:\n",
       " \"42 Main St, Hudson, MA 01749, USA\"          \n",
       " \"17 Pope St, Hudson, MA 01749, USA\"          \n",
       " \"1 Lyman St, Westborough, MA 01581, USA\"     \n",
       " \"100 E Main St, Westborough, MA 01581, USA\"  \n",
       " \"1073 Main St, Clinton, MA 01510, USA\"       \n",
       " \"221 Washington St, Hudson, MA 01749, USA\"   \n",
       " \"470 Lancaster St, Leominster, MA 01453, USA\"\n",
       " \"256 Maple St, Marlborough, MA 01752, USA\"   \n",
       " \"53 W Main St, Northborough, MA 01532, USA\"  \n",
       " \"23 Maple Ave, Shrewsbury, MA 01545, USA\"    "
      ]
     },
     "execution_count": 52,
     "metadata": {},
     "output_type": "execute_result"
    }
   ],
   "source": [
    "info[\"destination_addresses\"]"
   ]
  },
  {
   "cell_type": "markdown",
   "metadata": {
    "collapsed": true
   },
   "source": [
    "## Notes <br><small>November 4, 2016</small>"
   ]
  },
  {
   "cell_type": "code",
   "execution_count": 53,
   "metadata": {
    "collapsed": false
   },
   "outputs": [
    {
     "data": {
      "text/plain": [
       "3×3 Array{Int64,2}:\n",
       " 1  2  3\n",
       " 4  5  6\n",
       " 7  8  9"
      ]
     },
     "execution_count": 53,
     "metadata": {},
     "output_type": "execute_result"
    }
   ],
   "source": [
    "A=[1 2 3;\n",
    "   4 5 6;\n",
    "   7 8 9]"
   ]
  },
  {
   "cell_type": "code",
   "execution_count": 60,
   "metadata": {
    "collapsed": false
   },
   "outputs": [
    {
     "data": {
      "text/plain": [
       "3-element Array{Int64,1}:\n",
       "  6\n",
       " 15\n",
       " 24"
      ]
     },
     "execution_count": 60,
     "metadata": {},
     "output_type": "execute_result"
    }
   ],
   "source": [
    "B=[6; 15; 24]"
   ]
  },
  {
   "cell_type": "code",
   "execution_count": 61,
   "metadata": {
    "collapsed": false
   },
   "outputs": [
    {
     "data": {
      "text/plain": [
       "3×4 Array{Int64,2}:\n",
       " 1  2  3   6\n",
       " 4  5  6  15\n",
       " 7  8  9  24"
      ]
     },
     "execution_count": 61,
     "metadata": {},
     "output_type": "execute_result"
    }
   ],
   "source": [
    "[A B]"
   ]
  },
  {
   "cell_type": "markdown",
   "metadata": {},
   "source": [
    "### Tropical Math"
   ]
  },
  {
   "cell_type": "code",
   "execution_count": 62,
   "metadata": {
    "collapsed": false
   },
   "outputs": [
    {
     "data": {
      "text/plain": [
       "3-element Array{String,1}:\n",
       " \"/Applications/Julia-0.5.app/Contents/Resources/julia/local/share/julia/site/v0.5\"\n",
       " \"/Applications/Julia-0.5.app/Contents/Resources/julia/share/julia/site/v0.5\"      \n",
       " \".\"                                                                               "
      ]
     },
     "execution_count": 62,
     "metadata": {},
     "output_type": "execute_result"
    }
   ],
   "source": [
    "push!(LOAD_PATH, \".\")"
   ]
  },
  {
   "cell_type": "code",
   "execution_count": 63,
   "metadata": {
    "collapsed": true
   },
   "outputs": [],
   "source": [
    "using TropicalMath"
   ]
  },
  {
   "cell_type": "code",
   "execution_count": 65,
   "metadata": {
    "collapsed": false
   },
   "outputs": [
    {
     "data": {
      "text/plain": [
       "2"
      ]
     },
     "execution_count": 65,
     "metadata": {},
     "output_type": "execute_result"
    }
   ],
   "source": [
    "3⊕2"
   ]
  },
  {
   "cell_type": "code",
   "execution_count": 66,
   "metadata": {
    "collapsed": false
   },
   "outputs": [
    {
     "data": {
      "text/plain": [
       "3"
      ]
     },
     "execution_count": 66,
     "metadata": {},
     "output_type": "execute_result"
    }
   ],
   "source": [
    "⊕(5,3,9,6)"
   ]
  },
  {
   "cell_type": "code",
   "execution_count": 67,
   "metadata": {
    "collapsed": false
   },
   "outputs": [
    {
     "data": {
      "text/plain": [
       "9"
      ]
     },
     "execution_count": 67,
     "metadata": {},
     "output_type": "execute_result"
    }
   ],
   "source": [
    "7⊗2"
   ]
  },
  {
   "cell_type": "code",
   "execution_count": 68,
   "metadata": {
    "collapsed": false
   },
   "outputs": [
    {
     "data": {
      "text/plain": [
       "2×2 Array{Int64,2}:\n",
       " 2  4\n",
       " 5  4"
      ]
     },
     "execution_count": 68,
     "metadata": {},
     "output_type": "execute_result"
    }
   ],
   "source": [
    "A=[2 4; 5 4]"
   ]
  },
  {
   "cell_type": "code",
   "execution_count": 69,
   "metadata": {
    "collapsed": false
   },
   "outputs": [
    {
     "data": {
      "text/plain": [
       "2×2 Array{Int64,2}:\n",
       " 4  1\n",
       " 6  6"
      ]
     },
     "execution_count": 69,
     "metadata": {},
     "output_type": "execute_result"
    }
   ],
   "source": [
    "B=[4 1; 6 6]"
   ]
  },
  {
   "cell_type": "code",
   "execution_count": 70,
   "metadata": {
    "collapsed": false
   },
   "outputs": [
    {
     "data": {
      "text/plain": [
       "2×2 Array{Int64,2}:\n",
       " 2  1\n",
       " 5  4"
      ]
     },
     "execution_count": 70,
     "metadata": {},
     "output_type": "execute_result"
    }
   ],
   "source": [
    "A⊕B"
   ]
  },
  {
   "cell_type": "code",
   "execution_count": 71,
   "metadata": {
    "collapsed": false
   },
   "outputs": [
    {
     "data": {
      "text/plain": [
       "2×2 Array{Int64,2}:\n",
       " 6  3\n",
       " 9  6"
      ]
     },
     "execution_count": 71,
     "metadata": {},
     "output_type": "execute_result"
    }
   ],
   "source": [
    "A⊗B"
   ]
  },
  {
   "cell_type": "code",
   "execution_count": 75,
   "metadata": {
    "collapsed": false
   },
   "outputs": [
    {
     "data": {
      "text/plain": [
       "6×6 Array{Float64,2}:\n",
       "   0.0    9.0  Inf     11.0  16.0  Inf  \n",
       "   9.0    0.0   15.0  Inf     4.0  Inf  \n",
       " Inf     15.0    0.0  Inf    10.0    4.0\n",
       "  11.0  Inf    Inf      0.0  20.0  Inf  \n",
       "  16.0    4.0   10.0   20.0   0.0   17.0\n",
       " Inf    Inf      4.0  Inf    17.0    0.0"
      ]
     },
     "execution_count": 75,
     "metadata": {},
     "output_type": "execute_result"
    }
   ],
   "source": [
    "w=[0 9 Inf 11 16 Inf;\n",
    "   9 0 15 Inf 4 Inf;\n",
    "   Inf 15 0 Inf 10 4;\n",
    "   11 Inf Inf 0 20 Inf;\n",
    "   16 4 10 20 0 17;\n",
    "   Inf Inf 4 Inf 17 0]"
   ]
  },
  {
   "cell_type": "code",
   "execution_count": 76,
   "metadata": {
    "collapsed": false
   },
   "outputs": [
    {
     "data": {
      "text/plain": [
       "6×6 Array{Float64,2}:\n",
       "   0.0    9.0  Inf     11.0  16.0  Inf  \n",
       "   9.0    0.0   15.0  Inf     4.0  Inf  \n",
       " Inf     15.0    0.0  Inf    10.0    4.0\n",
       "  11.0  Inf    Inf      0.0  20.0  Inf  \n",
       "  16.0    4.0   10.0   20.0   0.0   17.0\n",
       " Inf    Inf      4.0  Inf    17.0    0.0"
      ]
     },
     "execution_count": 76,
     "metadata": {},
     "output_type": "execute_result"
    }
   ],
   "source": [
    "w⊕w"
   ]
  },
  {
   "cell_type": "code",
   "execution_count": 80,
   "metadata": {
    "collapsed": false
   },
   "outputs": [
    {
     "data": {
      "text/plain": [
       "6×6 Array{Int64,2}:\n",
       "  0   9  24  11  13  33\n",
       "  9   0  14  20   4  19\n",
       " 24  14   0  30  10   4\n",
       " 11  20  30   0  20  37\n",
       " 13   4  10  20   0  14\n",
       " 33  19   4  37  14   0"
      ]
     },
     "execution_count": 80,
     "metadata": {},
     "output_type": "execute_result"
    }
   ],
   "source": [
    "w⊗w"
   ]
  },
  {
   "cell_type": "markdown",
   "metadata": {},
   "source": [
    "These is the shortest paths of max step size 2"
   ]
  },
  {
   "cell_type": "code",
   "execution_count": 81,
   "metadata": {
    "collapsed": false
   },
   "outputs": [
    {
     "data": {
      "text/plain": [
       "6×6 Array{Int64,2}:\n",
       "  0   9  23  11  13  28\n",
       "  9   0  14  20   4  18\n",
       " 23  14   0  30  10   4\n",
       " 11  20  30   0  20  34\n",
       " 13   4  10  20   0  14\n",
       " 28  18   4  34  14   0"
      ]
     },
     "execution_count": 81,
     "metadata": {},
     "output_type": "execute_result"
    }
   ],
   "source": [
    "1.0*(w⊗w)⊗w"
   ]
  },
  {
   "cell_type": "code",
   "execution_count": 82,
   "metadata": {
    "collapsed": false
   },
   "outputs": [
    {
     "data": {
      "text/plain": [
       "6×6 Array{Int64,2}:\n",
       "  0   9  23  11  13  27\n",
       "  9   0  14  20   4  18\n",
       " 23  14   0  30  10   4\n",
       " 11  20  30   0  20  34\n",
       " 13   4  10  20   0  14\n",
       " 27  18   4  34  14   0"
      ]
     },
     "execution_count": 82,
     "metadata": {},
     "output_type": "execute_result"
    }
   ],
   "source": [
    "(1.0*w⊗w)⊗(1.0*w⊗w)"
   ]
  },
  {
   "cell_type": "markdown",
   "metadata": {},
   "source": [
    "### Dijkstra’s shortest path algorithm"
   ]
  },
  {
   "cell_type": "code",
   "execution_count": 86,
   "metadata": {
    "collapsed": false
   },
   "outputs": [],
   "source": [
    "using Graphs"
   ]
  },
  {
   "cell_type": "code",
   "execution_count": 87,
   "metadata": {
    "collapsed": false
   },
   "outputs": [
    {
     "data": {
      "text/plain": [
       "Undirected Graph (6 vertices, 0 edges)"
      ]
     },
     "execution_count": 87,
     "metadata": {},
     "output_type": "execute_result"
    }
   ],
   "source": [
    "g = simple_inclist(6,is_directed=false)"
   ]
  },
  {
   "cell_type": "code",
   "execution_count": 88,
   "metadata": {
    "collapsed": false
   },
   "outputs": [
    {
     "data": {
      "text/plain": [
       "9-element Array{Tuple{Int64,Int64,Float64},1}:\n",
       " (1,2,9.0) \n",
       " (1,4,11.0)\n",
       " (1,5,16.0)\n",
       " (2,3,15.0)\n",
       " (2,5,4.0) \n",
       " (3,5,10.0)\n",
       " (3,6,4.0) \n",
       " (4,5,20.0)\n",
       " (5,6,17.0)"
      ]
     },
     "execution_count": 88,
     "metadata": {},
     "output_type": "execute_result"
    }
   ],
   "source": [
    "inputs = [       # each element is (u, v, distance)\n",
    "    (1, 2, 9.0),\n",
    "    (1, 4, 11.0),\n",
    "    (1, 5, 16.0),\n",
    "    (2, 3, 15.),\n",
    "    (2, 5, 4.0),\n",
    "    (3, 5, 10.0),\n",
    "    (3, 6, 4.0),\n",
    "    (4, 5, 20.0),\n",
    "    (5, 6, 17.0)\n",
    "]"
   ]
  },
  {
   "cell_type": "code",
   "execution_count": 89,
   "metadata": {
    "collapsed": false
   },
   "outputs": [
    {
     "data": {
      "text/plain": [
       "9-element Array{Float64,1}:\n",
       "  9.0\n",
       " 11.0\n",
       " 16.0\n",
       " 15.0\n",
       "  4.0\n",
       " 10.0\n",
       "  4.0\n",
       " 20.0\n",
       " 17.0"
      ]
     },
     "execution_count": 89,
     "metadata": {},
     "output_type": "execute_result"
    }
   ],
   "source": [
    "dist= map(a->a[3],inputs)"
   ]
  },
  {
   "cell_type": "code",
   "execution_count": 90,
   "metadata": {
    "collapsed": true
   },
   "outputs": [],
   "source": [
    "for edge in inputs\n",
    "    add_edge!(g,edge[1],edge[2])\n",
    "end"
   ]
  },
  {
   "cell_type": "code",
   "execution_count": 91,
   "metadata": {
    "collapsed": false
   },
   "outputs": [
    {
     "data": {
      "text/plain": [
       "6×6 Array{Bool,2}:\n",
       " false   true  false   true   true  false\n",
       "  true  false   true  false   true  false\n",
       " false   true  false  false   true   true\n",
       "  true  false  false  false   true  false\n",
       "  true   true   true   true  false   true\n",
       " false  false   true  false   true  false"
      ]
     },
     "execution_count": 91,
     "metadata": {},
     "output_type": "execute_result"
    }
   ],
   "source": [
    "adjacency_matrix(g)"
   ]
  },
  {
   "cell_type": "code",
   "execution_count": 93,
   "metadata": {
    "collapsed": false
   },
   "outputs": [
    {
     "data": {
      "text/plain": [
       "Graphs.DijkstraStates{Int64,Float64,DataStructures.MutableBinaryHeap{Graphs.DijkstraHEntry{Int64,Float64},DataStructures.LessThan},Int64}([1,1,5,1,2,3],[1,1,5,1,2,3],[0.0,9.0,23.0,11.0,13.0,27.0],[2,2,2,2,2,2],MutableBinaryHeap(),[0,1,4,2,3,5])"
      ]
     },
     "execution_count": 93,
     "metadata": {},
     "output_type": "execute_result"
    }
   ],
   "source": [
    "r = dijkstra_shortest_paths(g, dist, 1)"
   ]
  },
  {
   "cell_type": "code",
   "execution_count": 95,
   "metadata": {
    "collapsed": false
   },
   "outputs": [
    {
     "data": {
      "text/plain": [
       "6-element Array{Float64,1}:\n",
       "  0.0\n",
       "  9.0\n",
       " 23.0\n",
       " 11.0\n",
       " 13.0\n",
       " 27.0"
      ]
     },
     "execution_count": 95,
     "metadata": {},
     "output_type": "execute_result"
    }
   ],
   "source": [
    "r.dists"
   ]
  }
 ],
 "metadata": {
  "anaconda-cloud": {},
  "kernelspec": {
   "display_name": "Julia 0.5.0",
   "language": "julia",
   "name": "julia-0.5"
  },
  "language_info": {
   "file_extension": ".jl",
   "mimetype": "application/julia",
   "name": "julia",
   "version": "0.5.0"
  }
 },
 "nbformat": 4,
 "nbformat_minor": 0
}
