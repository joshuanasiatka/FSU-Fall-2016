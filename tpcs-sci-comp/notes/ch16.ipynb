{
 "cells": [
  {
   "cell_type": "markdown",
   "metadata": {},
   "source": [
    "## Chapter 16: Data, Data everywhere<br><small>November 9, 2016</small>"
   ]
  },
  {
   "cell_type": "markdown",
   "metadata": {},
   "source": [
    "### Parametric Data Types <small>(From Chapter 8)</small>"
   ]
  },
  {
   "cell_type": "code",
   "execution_count": 1,
   "metadata": {
    "collapsed": true
   },
   "outputs": [],
   "source": [
    "type Polynomial{T}\n",
    "    coeffs::Vector{T}\n",
    "end"
   ]
  },
  {
   "cell_type": "code",
   "execution_count": 2,
   "metadata": {
    "collapsed": false
   },
   "outputs": [
    {
     "data": {
      "text/plain": [
       "Polynomial{Int64}([1,2,3])"
      ]
     },
     "execution_count": 2,
     "metadata": {},
     "output_type": "execute_result"
    }
   ],
   "source": [
    "poly1=Polynomial([1,2,3])"
   ]
  },
  {
   "cell_type": "code",
   "execution_count": 3,
   "metadata": {
    "collapsed": false
   },
   "outputs": [
    {
     "data": {
      "text/plain": [
       "Polynomial{Float64}([2.0,-3.0,0.0])"
      ]
     },
     "execution_count": 3,
     "metadata": {},
     "output_type": "execute_result"
    }
   ],
   "source": [
    "poly2=Polynomial([2.0,-3.0,0.0])"
   ]
  },
  {
   "cell_type": "code",
   "execution_count": 4,
   "metadata": {
    "collapsed": false
   },
   "outputs": [
    {
     "data": {
      "text/plain": [
       "Polynomial{String}(String[\"c\",\"b\",\"a\"])"
      ]
     },
     "execution_count": 4,
     "metadata": {},
     "output_type": "execute_result"
    }
   ],
   "source": [
    "poly3=Polynomial([\"c\",\"b\",\"a\"])"
   ]
  },
  {
   "cell_type": "code",
   "execution_count": 5,
   "metadata": {
    "collapsed": false
   },
   "outputs": [
    {
     "data": {
      "text/plain": [
       "printPolygon (generic function with 1 method)"
      ]
     },
     "execution_count": 5,
     "metadata": {},
     "output_type": "execute_result"
    }
   ],
   "source": [
    "function printPolygon(p::Polynomial)\n",
    "    str = \"\"\n",
    "    for i = 1:length(p.coeffs)\n",
    "        str = string(str, p.coeffs[i], \"x^\", i-1, i<length(p.coeffs)?\"+\":\"\")\n",
    "    end\n",
    "    str\n",
    "end"
   ]
  },
  {
   "cell_type": "code",
   "execution_count": 6,
   "metadata": {
    "collapsed": false
   },
   "outputs": [
    {
     "data": {
      "text/plain": [
       "\"1x^0+2x^1+3x^2\""
      ]
     },
     "execution_count": 6,
     "metadata": {},
     "output_type": "execute_result"
    }
   ],
   "source": [
    "printPolygon(poly1)"
   ]
  },
  {
   "cell_type": "code",
   "execution_count": 7,
   "metadata": {
    "collapsed": false
   },
   "outputs": [
    {
     "data": {
      "text/plain": [
       "\"2.0x^0+-3.0x^1+0.0x^2\""
      ]
     },
     "execution_count": 7,
     "metadata": {},
     "output_type": "execute_result"
    }
   ],
   "source": [
    "printPolygon(poly2)"
   ]
  },
  {
   "cell_type": "code",
   "execution_count": 8,
   "metadata": {
    "collapsed": false
   },
   "outputs": [
    {
     "data": {
      "text/plain": [
       "\"cx^0+bx^1+ax^2\""
      ]
     },
     "execution_count": 8,
     "metadata": {},
     "output_type": "execute_result"
    }
   ],
   "source": [
    "printPolygon(poly3)"
   ]
  },
  {
   "cell_type": "code",
   "execution_count": 9,
   "metadata": {
    "collapsed": false
   },
   "outputs": [],
   "source": [
    "import Base.+"
   ]
  },
  {
   "cell_type": "code",
   "execution_count": 10,
   "metadata": {
    "collapsed": false
   },
   "outputs": [
    {
     "data": {
      "text/plain": [
       "+ (generic function with 164 methods)"
      ]
     },
     "execution_count": 10,
     "metadata": {},
     "output_type": "execute_result"
    }
   ],
   "source": [
    "function +{T1<:Number,T2<:Number}(p1::Polynomial{T1}, p2::Polynomial{T2})\n",
    "    Polynomial(p1.coeffs + p2.coeffs)\n",
    "end"
   ]
  },
  {
   "cell_type": "code",
   "execution_count": 11,
   "metadata": {
    "collapsed": false
   },
   "outputs": [],
   "source": [
    "methods(+);"
   ]
  },
  {
   "cell_type": "code",
   "execution_count": 12,
   "metadata": {
    "collapsed": false
   },
   "outputs": [
    {
     "data": {
      "text/plain": [
       "Polynomial{Float64}([3.0,-1.0,3.0])"
      ]
     },
     "execution_count": 12,
     "metadata": {},
     "output_type": "execute_result"
    }
   ],
   "source": [
    "poly1+poly2"
   ]
  },
  {
   "cell_type": "code",
   "execution_count": 13,
   "metadata": {
    "collapsed": false
   },
   "outputs": [
    {
     "data": {
      "text/plain": [
       "\"3.0x^0+-1.0x^1+3.0x^2\""
      ]
     },
     "execution_count": 13,
     "metadata": {},
     "output_type": "execute_result"
    }
   ],
   "source": [
    "printPolygon(poly1+poly2)"
   ]
  },
  {
   "cell_type": "code",
   "execution_count": 14,
   "metadata": {
    "collapsed": false
   },
   "outputs": [
    {
     "ename": "LoadError",
     "evalue": "LoadError: MethodError: no method matching +(::Polynomial{Int64}, ::Polynomial{String})\nClosest candidates are:\n  +(::Any, ::Any, !Matched::Any, !Matched::Any...) at operators.jl:138\n  +{T1<:Number,T2<:Number}(::Polynomial{T1<:Number}, !Matched::Polynomial{T2<:Number}) at In[10]:2\nwhile loading In[14], in expression starting on line 1",
     "output_type": "error",
     "traceback": [
      "LoadError: MethodError: no method matching +(::Polynomial{Int64}, ::Polynomial{String})\nClosest candidates are:\n  +(::Any, ::Any, !Matched::Any, !Matched::Any...) at operators.jl:138\n  +{T1<:Number,T2<:Number}(::Polynomial{T1<:Number}, !Matched::Polynomial{T2<:Number}) at In[10]:2\nwhile loading In[14], in expression starting on line 1",
      ""
     ]
    }
   ],
   "source": [
    "poly1+poly3"
   ]
  },
  {
   "cell_type": "markdown",
   "metadata": {},
   "source": [
    "### Data and Data Frames <small>Back to this chapter</small>\n",
    "<hr>\n",
    "**DataArray**  \n",
    "- Single Type\n",
    "- Handle Missing Data"
   ]
  },
  {
   "cell_type": "code",
   "execution_count": 15,
   "metadata": {
    "collapsed": true
   },
   "outputs": [],
   "source": [
    "using DataFrames"
   ]
  },
  {
   "cell_type": "code",
   "execution_count": 16,
   "metadata": {
    "collapsed": false
   },
   "outputs": [
    {
     "data": {
      "text/plain": [
       "NA"
      ]
     },
     "execution_count": 16,
     "metadata": {},
     "output_type": "execute_result"
    }
   ],
   "source": [
    "NA"
   ]
  },
  {
   "cell_type": "code",
   "execution_count": 17,
   "metadata": {
    "collapsed": false
   },
   "outputs": [
    {
     "data": {
      "text/plain": [
       "NA"
      ]
     },
     "execution_count": 17,
     "metadata": {},
     "output_type": "execute_result"
    }
   ],
   "source": [
    "NA+1"
   ]
  },
  {
   "cell_type": "code",
   "execution_count": 18,
   "metadata": {
    "collapsed": false
   },
   "outputs": [
    {
     "data": {
      "text/plain": [
       "NA"
      ]
     },
     "execution_count": 18,
     "metadata": {},
     "output_type": "execute_result"
    }
   ],
   "source": [
    "2*NA"
   ]
  },
  {
   "cell_type": "code",
   "execution_count": 19,
   "metadata": {
    "collapsed": false
   },
   "outputs": [
    {
     "data": {
      "text/plain": [
       "NA"
      ]
     },
     "execution_count": 19,
     "metadata": {},
     "output_type": "execute_result"
    }
   ],
   "source": [
    "NA/NA"
   ]
  },
  {
   "cell_type": "code",
   "execution_count": 20,
   "metadata": {
    "collapsed": false
   },
   "outputs": [
    {
     "data": {
      "text/plain": [
       "NA"
      ]
     },
     "execution_count": 20,
     "metadata": {},
     "output_type": "execute_result"
    }
   ],
   "source": [
    "z=NA"
   ]
  },
  {
   "cell_type": "code",
   "execution_count": 21,
   "metadata": {
    "collapsed": false
   },
   "outputs": [
    {
     "data": {
      "text/plain": [
       "DataArrays.NAtype"
      ]
     },
     "execution_count": 21,
     "metadata": {},
     "output_type": "execute_result"
    }
   ],
   "source": [
    "typeof(z)"
   ]
  },
  {
   "cell_type": "markdown",
   "metadata": {},
   "source": [
    "Building a DataArray"
   ]
  },
  {
   "cell_type": "code",
   "execution_count": 22,
   "metadata": {
    "collapsed": false
   },
   "outputs": [
    {
     "data": {
      "text/plain": [
       "4-element DataArrays.DataArray{Int64,1}:\n",
       " 1\n",
       " 2\n",
       " 3\n",
       " 4"
      ]
     },
     "execution_count": 22,
     "metadata": {},
     "output_type": "execute_result"
    }
   ],
   "source": [
    "data = @data([1,2,3,4])"
   ]
  },
  {
   "cell_type": "code",
   "execution_count": 23,
   "metadata": {
    "collapsed": false
   },
   "outputs": [
    {
     "data": {
      "text/plain": [
       "2.5"
      ]
     },
     "execution_count": 23,
     "metadata": {},
     "output_type": "execute_result"
    }
   ],
   "source": [
    "mean(data)"
   ]
  },
  {
   "cell_type": "code",
   "execution_count": 24,
   "metadata": {
    "collapsed": false
   },
   "outputs": [
    {
     "data": {
      "text/plain": [
       "1.2909944487358056"
      ]
     },
     "execution_count": 24,
     "metadata": {},
     "output_type": "execute_result"
    }
   ],
   "source": [
    "std(data)"
   ]
  },
  {
   "cell_type": "code",
   "execution_count": 25,
   "metadata": {
    "collapsed": false
   },
   "outputs": [
    {
     "data": {
      "text/plain": [
       "5-element DataArrays.DataArray{Int64,1}:\n",
       " 1  \n",
       " 2  \n",
       " 3  \n",
       " 4  \n",
       "  NA"
      ]
     },
     "execution_count": 25,
     "metadata": {},
     "output_type": "execute_result"
    }
   ],
   "source": [
    "data1 = @data([1,2,3,4,NA])"
   ]
  },
  {
   "cell_type": "code",
   "execution_count": 26,
   "metadata": {
    "collapsed": false
   },
   "outputs": [
    {
     "data": {
      "text/plain": [
       "NA"
      ]
     },
     "execution_count": 26,
     "metadata": {},
     "output_type": "execute_result"
    }
   ],
   "source": [
    "mean(data1)"
   ]
  },
  {
   "cell_type": "code",
   "execution_count": 27,
   "metadata": {
    "collapsed": false
   },
   "outputs": [
    {
     "data": {
      "text/plain": [
       "4-element Array{Int64,1}:\n",
       " 1\n",
       " 2\n",
       " 3\n",
       " 4"
      ]
     },
     "execution_count": 27,
     "metadata": {},
     "output_type": "execute_result"
    }
   ],
   "source": [
    "dropna(data1)"
   ]
  },
  {
   "cell_type": "code",
   "execution_count": 28,
   "metadata": {
    "collapsed": false
   },
   "outputs": [
    {
     "data": {
      "text/plain": [
       "10"
      ]
     },
     "execution_count": 28,
     "metadata": {},
     "output_type": "execute_result"
    }
   ],
   "source": [
    "sum(dropna(data1))"
   ]
  },
  {
   "cell_type": "code",
   "execution_count": 29,
   "metadata": {
    "collapsed": false
   },
   "outputs": [
    {
     "data": {
      "text/html": [
       "<table class=\"data-frame\"><tr><th></th><th>name</th><th>age</th></tr><tr><th>1</th><td>A</td><td>21</td></tr><tr><th>2</th><td>B</td><td>27</td></tr><tr><th>3</th><td>C</td><td>13</td></tr><tr><th>4</th><td>D</td><td>41</td></tr><tr><th>5</th><td>E</td><td>33</td></tr><tr><th>6</th><td>F</td><td>48</td></tr></table>"
      ],
      "text/plain": [
       "6×2 DataFrames.DataFrame\n",
       "│ Row │ name │ age │\n",
       "├─────┼──────┼─────┤\n",
       "│ 1   │ \"A\"  │ 21  │\n",
       "│ 2   │ \"B\"  │ 27  │\n",
       "│ 3   │ \"C\"  │ 13  │\n",
       "│ 4   │ \"D\"  │ 41  │\n",
       "│ 5   │ \"E\"  │ 33  │\n",
       "│ 6   │ \"F\"  │ 48  │"
      ]
     },
     "execution_count": 29,
     "metadata": {},
     "output_type": "execute_result"
    }
   ],
   "source": [
    "df=DataFrame(name=[\"A\",\"B\",\"C\",\"D\",\"E\",\"F\"],age=[21,27,13,41,33,48])"
   ]
  },
  {
   "cell_type": "code",
   "execution_count": 30,
   "metadata": {
    "collapsed": false
   },
   "outputs": [
    {
     "data": {
      "text/plain": [
       "30.5"
      ]
     },
     "execution_count": 30,
     "metadata": {},
     "output_type": "execute_result"
    }
   ],
   "source": [
    "mean(df[:age]) # get mean of ages in dataframe above"
   ]
  },
  {
   "cell_type": "code",
   "execution_count": 31,
   "metadata": {
    "collapsed": false
   },
   "outputs": [
    {
     "data": {
      "text/plain": [
       "30.5"
      ]
     },
     "execution_count": 31,
     "metadata": {},
     "output_type": "execute_result"
    }
   ],
   "source": [
    "mean(df[:,2]) # same thing if you know what column number contains ages."
   ]
  },
  {
   "cell_type": "code",
   "execution_count": 32,
   "metadata": {
    "collapsed": false
   },
   "outputs": [
    {
     "data": {
      "text/plain": [
       "6-element DataArrays.DataArray{Int64,1}:\n",
       " 21\n",
       " 27\n",
       " 13\n",
       " 41\n",
       " 33\n",
       " 48"
      ]
     },
     "execution_count": 32,
     "metadata": {},
     "output_type": "execute_result"
    }
   ],
   "source": [
    "df[:age] # output ages"
   ]
  },
  {
   "cell_type": "code",
   "execution_count": 33,
   "metadata": {
    "collapsed": false
   },
   "outputs": [
    {
     "data": {
      "text/plain": [
       "DataArrays.DataArray{Int64,1}"
      ]
     },
     "execution_count": 33,
     "metadata": {},
     "output_type": "execute_result"
    }
   ],
   "source": [
    "typeof(df[:age])"
   ]
  },
  {
   "cell_type": "code",
   "execution_count": 34,
   "metadata": {
    "collapsed": false
   },
   "outputs": [
    {
     "data": {
      "text/plain": [
       "DataArrays.DataArray{String,1}"
      ]
     },
     "execution_count": 34,
     "metadata": {},
     "output_type": "execute_result"
    }
   ],
   "source": [
    "typeof(df[:name])"
   ]
  },
  {
   "cell_type": "markdown",
   "metadata": {},
   "source": [
    "Given the politics that are happening concurrently, let's look at some census data..."
   ]
  },
  {
   "cell_type": "code",
   "execution_count": 41,
   "metadata": {
    "collapsed": true
   },
   "outputs": [],
   "source": [
    "census_data=readtable(\"Gaz_ua_national.txt\",separator='\\t');"
   ]
  },
  {
   "cell_type": "code",
   "execution_count": 42,
   "metadata": {
    "collapsed": false
   },
   "outputs": [
    {
     "data": {
      "text/html": [
       "<table class=\"data-frame\"><tr><th></th><th>GEOID</th><th>NAME</th><th>UATYPE</th><th>POP10</th><th>HU10</th><th>ALAND</th><th>AWATER</th><th>ALAND_SQMI</th><th>AWATER_SQMI</th><th>INTPTLAT</th><th>INTPTLONG</th></tr><tr><th>1</th><td>37</td><td>Abbeville, LA Urban Cluster</td><td>C</td><td>19824</td><td>8460</td><td>29222871</td><td>300497</td><td>11.283</td><td>0.116</td><td>29.967602</td><td>-92.098219</td></tr><tr><th>2</th><td>64</td><td>Abbeville, SC Urban Cluster</td><td>C</td><td>5243</td><td>2578</td><td>11315197</td><td>19786</td><td>4.369</td><td>0.008</td><td>34.179237</td><td>-82.379726</td></tr><tr><th>3</th><td>91</td><td>Abbotsford, WI Urban Cluster</td><td>C</td><td>3966</td><td>1616</td><td>5363441</td><td>13221</td><td>2.071</td><td>0.005</td><td>44.948612</td><td>-90.315875</td></tr><tr><th>4</th><td>118</td><td>Aberdeen, MS Urban Cluster</td><td>C</td><td>4666</td><td>2050</td><td>7416616</td><td>52732</td><td>2.864</td><td>0.02</td><td>33.824742</td><td>-88.554591</td></tr><tr><th>5</th><td>145</td><td>Aberdeen, SD Urban Cluster</td><td>C</td><td>25977</td><td>12114</td><td>33002447</td><td>247597</td><td>12.742</td><td>0.096</td><td>45.463186</td><td>-98.471033</td></tr><tr><th>6</th><td>172</td><td>Aberdeen, WA Urban Cluster</td><td>C</td><td>29856</td><td>13139</td><td>39997951</td><td>1929689</td><td>15.443</td><td>0.745</td><td>46.976365</td><td>-123.796056</td></tr></table>"
      ],
      "text/plain": [
       "6×11 DataFrames.DataFrame\n",
       "│ Row │ GEOID │ NAME                           │ UATYPE │ POP10 │ HU10  │\n",
       "├─────┼───────┼────────────────────────────────┼────────┼───────┼───────┤\n",
       "│ 1   │ 37    │ \"Abbeville, LA Urban Cluster\"  │ \"C\"    │ 19824 │ 8460  │\n",
       "│ 2   │ 64    │ \"Abbeville, SC Urban Cluster\"  │ \"C\"    │ 5243  │ 2578  │\n",
       "│ 3   │ 91    │ \"Abbotsford, WI Urban Cluster\" │ \"C\"    │ 3966  │ 1616  │\n",
       "│ 4   │ 118   │ \"Aberdeen, MS Urban Cluster\"   │ \"C\"    │ 4666  │ 2050  │\n",
       "│ 5   │ 145   │ \"Aberdeen, SD Urban Cluster\"   │ \"C\"    │ 25977 │ 12114 │\n",
       "│ 6   │ 172   │ \"Aberdeen, WA Urban Cluster\"   │ \"C\"    │ 29856 │ 13139 │\n",
       "\n",
       "│ Row │ ALAND    │ AWATER  │ ALAND_SQMI │ AWATER_SQMI │ INTPTLAT │ INTPTLONG │\n",
       "├─────┼──────────┼─────────┼────────────┼─────────────┼──────────┼───────────┤\n",
       "│ 1   │ 29222871 │ 300497  │ 11.283     │ 0.116       │ 29.9676  │ -92.0982  │\n",
       "│ 2   │ 11315197 │ 19786   │ 4.369      │ 0.008       │ 34.1792  │ -82.3797  │\n",
       "│ 3   │ 5363441  │ 13221   │ 2.071      │ 0.005       │ 44.9486  │ -90.3159  │\n",
       "│ 4   │ 7416616  │ 52732   │ 2.864      │ 0.02        │ 33.8247  │ -88.5546  │\n",
       "│ 5   │ 33002447 │ 247597  │ 12.742     │ 0.096       │ 45.4632  │ -98.471   │\n",
       "│ 6   │ 39997951 │ 1929689 │ 15.443     │ 0.745       │ 46.9764  │ -123.796  │"
      ]
     },
     "execution_count": 42,
     "metadata": {},
     "output_type": "execute_result"
    }
   ],
   "source": [
    "head(census_data)"
   ]
  },
  {
   "cell_type": "code",
   "execution_count": 43,
   "metadata": {
    "collapsed": false
   },
   "outputs": [
    {
     "data": {
      "text/plain": [
       "DataArrays.DataArray{Int64,1}"
      ]
     },
     "execution_count": 43,
     "metadata": {},
     "output_type": "execute_result"
    }
   ],
   "source": [
    "typeof(census_data[:GEOID])"
   ]
  },
  {
   "cell_type": "markdown",
   "metadata": {},
   "source": [
    "**Here’s a few questions we may want to know:**\n",
    "\n",
    "1. What are the top 10 areas in population\n",
    "1. Give a histogram plot in terms of population? (What are good bin sizes?)\n",
    "1. What is the total population of all areas?\n",
    "1. What the top 10 area in housing units?\n",
    "1. What is the total number of housing units?\n",
    "1. What is the average number of people per housing units for all areas?\n",
    "1. For the top 10 area in population, find the average number of people per housing unit?\n",
    "1. What are the top 10 areas in land size?\n",
    "1. What are the top 10 areas in water size?\n",
    "1. What are the Massachusetts areas in the data?\n",
    "1. What is the average population, median and standard deviation of the areas?"
   ]
  },
  {
   "cell_type": "markdown",
   "metadata": {},
   "source": [
    "Let's put this in a  reasonable type format"
   ]
  },
  {
   "cell_type": "code",
   "execution_count": 37,
   "metadata": {
    "collapsed": true
   },
   "outputs": [],
   "source": [
    "census_data=readtable(\"Gaz_ua_national.txt\",separator='\\t',eltypes=[String,String,String,Int64,Int64,Int64,Int64,Float64,Float64,Float64,Float64]);"
   ]
  },
  {
   "cell_type": "code",
   "execution_count": 38,
   "metadata": {
    "collapsed": false
   },
   "outputs": [
    {
     "data": {
      "text/html": [
       "<table class=\"data-frame\"><tr><th></th><th>GEOID</th><th>NAME</th><th>UATYPE</th><th>POP10</th><th>HU10</th><th>ALAND</th><th>AWATER</th><th>ALAND_SQMI</th><th>AWATER_SQMI</th><th>INTPTLAT</th><th>INTPTLONG</th></tr><tr><th>1</th><td>00037</td><td>Abbeville, LA Urban Cluster</td><td>C</td><td>19824</td><td>8460</td><td>29222871</td><td>300497</td><td>11.283</td><td>0.116</td><td>29.967602</td><td>-92.098219</td></tr><tr><th>2</th><td>00064</td><td>Abbeville, SC Urban Cluster</td><td>C</td><td>5243</td><td>2578</td><td>11315197</td><td>19786</td><td>4.369</td><td>0.008</td><td>34.179237</td><td>-82.379726</td></tr><tr><th>3</th><td>00091</td><td>Abbotsford, WI Urban Cluster</td><td>C</td><td>3966</td><td>1616</td><td>5363441</td><td>13221</td><td>2.071</td><td>0.005</td><td>44.948612</td><td>-90.315875</td></tr><tr><th>4</th><td>00118</td><td>Aberdeen, MS Urban Cluster</td><td>C</td><td>4666</td><td>2050</td><td>7416616</td><td>52732</td><td>2.864</td><td>0.02</td><td>33.824742</td><td>-88.554591</td></tr><tr><th>5</th><td>00145</td><td>Aberdeen, SD Urban Cluster</td><td>C</td><td>25977</td><td>12114</td><td>33002447</td><td>247597</td><td>12.742</td><td>0.096</td><td>45.463186</td><td>-98.471033</td></tr><tr><th>6</th><td>00172</td><td>Aberdeen, WA Urban Cluster</td><td>C</td><td>29856</td><td>13139</td><td>39997951</td><td>1929689</td><td>15.443</td><td>0.745</td><td>46.976365</td><td>-123.796056</td></tr></table>"
      ],
      "text/plain": [
       "6×11 DataFrames.DataFrame\n",
       "│ Row │ GEOID   │ NAME                           │ UATYPE │ POP10 │ HU10  │\n",
       "├─────┼─────────┼────────────────────────────────┼────────┼───────┼───────┤\n",
       "│ 1   │ \"00037\" │ \"Abbeville, LA Urban Cluster\"  │ \"C\"    │ 19824 │ 8460  │\n",
       "│ 2   │ \"00064\" │ \"Abbeville, SC Urban Cluster\"  │ \"C\"    │ 5243  │ 2578  │\n",
       "│ 3   │ \"00091\" │ \"Abbotsford, WI Urban Cluster\" │ \"C\"    │ 3966  │ 1616  │\n",
       "│ 4   │ \"00118\" │ \"Aberdeen, MS Urban Cluster\"   │ \"C\"    │ 4666  │ 2050  │\n",
       "│ 5   │ \"00145\" │ \"Aberdeen, SD Urban Cluster\"   │ \"C\"    │ 25977 │ 12114 │\n",
       "│ 6   │ \"00172\" │ \"Aberdeen, WA Urban Cluster\"   │ \"C\"    │ 29856 │ 13139 │\n",
       "\n",
       "│ Row │ ALAND    │ AWATER  │ ALAND_SQMI │ AWATER_SQMI │ INTPTLAT │ INTPTLONG │\n",
       "├─────┼──────────┼─────────┼────────────┼─────────────┼──────────┼───────────┤\n",
       "│ 1   │ 29222871 │ 300497  │ 11.283     │ 0.116       │ 29.9676  │ -92.0982  │\n",
       "│ 2   │ 11315197 │ 19786   │ 4.369      │ 0.008       │ 34.1792  │ -82.3797  │\n",
       "│ 3   │ 5363441  │ 13221   │ 2.071      │ 0.005       │ 44.9486  │ -90.3159  │\n",
       "│ 4   │ 7416616  │ 52732   │ 2.864      │ 0.02        │ 33.8247  │ -88.5546  │\n",
       "│ 5   │ 33002447 │ 247597  │ 12.742     │ 0.096       │ 45.4632  │ -98.471   │\n",
       "│ 6   │ 39997951 │ 1929689 │ 15.443     │ 0.745       │ 46.9764  │ -123.796  │"
      ]
     },
     "execution_count": 38,
     "metadata": {},
     "output_type": "execute_result"
    }
   ],
   "source": [
    "head(census_data)"
   ]
  },
  {
   "cell_type": "code",
   "execution_count": 40,
   "metadata": {
    "collapsed": false
   },
   "outputs": [
    {
     "data": {
      "text/plain": [
       "DataArrays.DataArray{String,1}"
      ]
     },
     "execution_count": 40,
     "metadata": {},
     "output_type": "execute_result"
    }
   ],
   "source": [
    "typeof(census_data[:GEOID])"
   ]
  },
  {
   "cell_type": "markdown",
   "metadata": {},
   "source": [
    "Much better"
   ]
  },
  {
   "cell_type": "code",
   "execution_count": 44,
   "metadata": {
    "collapsed": false
   },
   "outputs": [
    {
     "data": {
      "text/plain": [
       "252746527"
      ]
     },
     "execution_count": 44,
     "metadata": {},
     "output_type": "execute_result"
    }
   ],
   "source": [
    "sum(census_data[:POP10])"
   ]
  },
  {
   "cell_type": "code",
   "execution_count": null,
   "metadata": {
    "collapsed": true
   },
   "outputs": [],
   "source": []
  }
 ],
 "metadata": {
  "kernelspec": {
   "display_name": "Julia 0.5.0",
   "language": "julia",
   "name": "julia-0.5"
  },
  "language_info": {
   "file_extension": ".jl",
   "mimetype": "application/julia",
   "name": "julia",
   "version": "0.5.0"
  }
 },
 "nbformat": 4,
 "nbformat_minor": 0
}
