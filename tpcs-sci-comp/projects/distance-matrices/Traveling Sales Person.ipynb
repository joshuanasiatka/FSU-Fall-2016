{
 "cells": [
  {
   "cell_type": "markdown",
   "metadata": {},
   "source": [
    "# Project 1: Traveling Salesperson Problem (TSP)<br><small>Joshua Nasiatka (2016.11.13)\n",
    "\n",
    "## Problem 1: \n",
    "This problem solves a real-world Traveling Salesperson Problem (TSP) using distance data. We will find the shortest total path between the Massachusetts cities/towns: Boston, Fall River, Fitchburg, Lowell, North Adams, Springfield and Worcester. Follow these steps to do this:  \n",
    "\n",
    "**( a ) Use the brute force algorithm that goes through each path to determine the shortest total distance. Find the distance and write down the path as it goes through each town. Start and end with Fitchburg and write down the town names of the shortest path.**"
   ]
  },
  {
   "cell_type": "code",
   "execution_count": 1,
   "metadata": {
    "collapsed": false
   },
   "outputs": [],
   "source": [
    "push!(LOAD_PATH,\".\");"
   ]
  },
  {
   "cell_type": "code",
   "execution_count": 2,
   "metadata": {
    "collapsed": false
   },
   "outputs": [],
   "source": [
    "using TSP"
   ]
  },
  {
   "cell_type": "markdown",
   "metadata": {},
   "source": [
    "I cannot fathom how to go about the round-trip Fitchburg => (cities) => Fitchburg with checking permutations, I'm probably missing something simple, I just can't figure out what it is. This goes for most of the questions; I'm not sure how to explicitly check for Fitchburg as Starting position/location. So instead, just manually wrote out the path from Fitchburg based on the outputted shortest path."
   ]
  },
  {
   "cell_type": "code",
   "execution_count": 3,
   "metadata": {
    "collapsed": false
   },
   "outputs": [
    {
     "name": "stdout",
     "output_type": "stream",
     "text": [
      "The Shortest Distance and Position is: (596457.0,2930)\n",
      "\n",
      "The path of which is: \n",
      "String[\"North Adams, MA 01247, USA\",\"Fitchburg, MA 01420, USA\",\"Lowell, MA, USA\",\"Boston, MA, USA\",\"Fall River, MA, USA\",\"Worcester, MA, USA\",\"Springfield, MA, USA\",\"North Adams, MA 01247, USA\"]"
     ]
    }
   ],
   "source": [
    "min_dist, tpath, dist_map = run_TSP(\"map_q1.json\");"
   ]
  },
  {
   "cell_type": "markdown",
   "metadata": {},
   "source": [
    "As for a round trip from Fitchburg:  \n",
    "Fitchburg => Lowell => Boston => Fall River => Worcester => Springfield => North Adams => Fitchburg"
   ]
  },
  {
   "cell_type": "code",
   "execution_count": 4,
   "metadata": {
    "collapsed": false
   },
   "outputs": [
    {
     "data": {
      "text/plain": [
       "7×7 Array{Float64,2}:\n",
       "  0.0      47.0539   83.0232   31.4153   87.2026   78.7066   27.2366\n",
       " 52.9017    0.0      51.8894   30.3484  136.016    91.1992   47.1925\n",
       " 84.1908   52.3747    0.0      77.0351  169.439   102.106    56.9598\n",
       " 33.1967   30.121    77.0469    0.0     116.311    93.7052   42.2358\n",
       " 86.895   130.658   157.372   115.02      0.0      61.1441  107.684 \n",
       " 79.6504   90.9302  102.107    92.8732   73.7605    0.0      52.4195\n",
       " 27.83     47.5529   56.5124   41.0527  119.529    52.1964    0.0   "
      ]
     },
     "execution_count": 4,
     "metadata": {},
     "output_type": "execute_result"
    }
   ],
   "source": [
    "0.000621371*dist_map"
   ]
  },
  {
   "cell_type": "code",
   "execution_count": 5,
   "metadata": {
    "collapsed": false
   },
   "outputs": [
    {
     "data": {
      "text/plain": [
       "8-element Array{String,1}:\n",
       " \"North Adams, MA 01247, USA\"\n",
       " \"Fitchburg, MA 01420, USA\"  \n",
       " \"Lowell, MA, USA\"           \n",
       " \"Boston, MA, USA\"           \n",
       " \"Fall River, MA, USA\"       \n",
       " \"Worcester, MA, USA\"        \n",
       " \"Springfield, MA, USA\"      \n",
       " \"North Adams, MA 01247, USA\""
      ]
     },
     "execution_count": 5,
     "metadata": {},
     "output_type": "execute_result"
    }
   ],
   "source": [
    "tpath"
   ]
  },
  {
   "cell_type": "markdown",
   "metadata": {
    "collapsed": true
   },
   "source": [
    "**( b ) Add the following towns: Amherst, Braintree, Lawrence, Newton, Natick, Pittsfield, Plymouth, Provincetown, Salem, Woburn to the list above. Produce an array of distances in alphabetical order.**"
   ]
  },
  {
   "cell_type": "code",
   "execution_count": 6,
   "metadata": {
    "collapsed": false
   },
   "outputs": [],
   "source": [
    "A = render_map(\"map_q1.json\");\n",
    "B = render_map(\"map_q2.json\");\n",
    "C = render_map(\"map_q3.json\");\n",
    "D = render_map(\"map_q4.json\");"
   ]
  },
  {
   "cell_type": "code",
   "execution_count": 7,
   "metadata": {
    "collapsed": false
   },
   "outputs": [
    {
     "data": {
      "text/plain": [
       "17×17 Array{Float64,2}:\n",
       "   0.0      47.0539   83.0232   31.4153  …  162.206    59.7454   44.3963\n",
       "  52.9017    0.0      51.8894   30.3484     115.131    22.1519   11.857 \n",
       "  84.1908   52.3747    0.0      77.0351     103.698    73.246    62.9517\n",
       "  33.1967   30.121    77.0469    0.0        147.455    32.996    17.6469\n",
       "  86.895   130.658   157.372   115.02       245.81    143.349   128.0   \n",
       "  79.6504   90.9302  102.107    92.8732  …  195.148   108.905    93.5561\n",
       "  27.83     47.5529   56.5124   41.0527     155.498    65.5279   50.1782\n",
       "  49.5929   93.6257  104.802    77.7174     197.843   106.047    90.6978\n",
       "  61.0733   13.3582   42.8976   44.9941     103.208    34.2301   23.9352\n",
       "  44.6225   29.6295   80.8273   16.7907     144.068    32.8457   22.3047\n",
       "  43.8632   10.9796   52.9557   27.7846  …  123.364    34.9931   19.644 \n",
       "  44.7151   24.1247   54.992    34.5731     125.4      41.7816   26.4319\n",
       "  99.6381  138.095   149.271   140.037      242.312   156.069   140.72  \n",
       "  88.2838   40.5339   37.5855   72.2046      77.0693   61.4057   51.1109\n",
       " 162.386   115.438   103.228   147.109        0.0     136.31    126.015 \n",
       "  60.6191   24.7921   75.9899   32.8419  …  139.231     0.0      17.2691\n",
       "  45.4694   11.6644   68.1016   17.6923     126.103    18.044     0.0   "
      ]
     },
     "execution_count": 7,
     "metadata": {},
     "output_type": "execute_result"
    }
   ],
   "source": [
    "the_map = 0.000621371*[A C; B D]"
   ]
  },
  {
   "cell_type": "code",
   "execution_count": 8,
   "metadata": {
    "collapsed": false
   },
   "outputs": [],
   "source": [
    "#run_TSP(the_map)"
   ]
  },
  {
   "cell_type": "markdown",
   "metadata": {},
   "source": [
    "This doesn't work due to lack of resources, requires way (way) more than the average computer.  \n",
    "17! permutations...uhh...no."
   ]
  },
  {
   "cell_type": "markdown",
   "metadata": {},
   "source": [
    "**( c ) Use a Simulated Annealing algorithm to find a minimum path through all of the towns in `(a)` and `(b)`. Use as large a number of randomizations in your algorithm as possible. Find the total distance as well as the path of the towns. Start and end with Fitchburg and write down the town names of the shortest path.**"
   ]
  },
  {
   "cell_type": "code",
   "execution_count": 9,
   "metadata": {
    "collapsed": false
   },
   "outputs": [
    {
     "data": {
      "text/plain": [
       "17-element Array{Int64,1}:\n",
       "  1\n",
       "  2\n",
       "  3\n",
       "  4\n",
       "  5\n",
       "  6\n",
       "  7\n",
       "  8\n",
       "  9\n",
       " 12\n",
       " 14\n",
       " 13\n",
       " 17\n",
       " 16\n",
       " 10\n",
       " 11\n",
       " 15"
      ]
     },
     "execution_count": 9,
     "metadata": {},
     "output_type": "execute_result"
    }
   ],
   "source": [
    "rpath=nthperm(collect(1:17),rand(1:factorial(8)))"
   ]
  },
  {
   "cell_type": "code",
   "execution_count": 10,
   "metadata": {
    "collapsed": false
   },
   "outputs": [
    {
     "data": {
      "text/plain": [
       "1320.7880617130004"
      ]
     },
     "execution_count": 10,
     "metadata": {},
     "output_type": "execute_result"
    }
   ],
   "source": [
    "current_dist=total_distance(rpath, the_map)"
   ]
  },
  {
   "cell_type": "code",
   "execution_count": 11,
   "metadata": {
    "collapsed": false
   },
   "outputs": [
    {
     "data": {
      "text/plain": [
       "17-element Array{Int64,1}:\n",
       "  4\n",
       "  2\n",
       "  3\n",
       "  1\n",
       "  5\n",
       "  6\n",
       "  7\n",
       "  8\n",
       "  9\n",
       " 12\n",
       " 14\n",
       " 13\n",
       " 17\n",
       " 16\n",
       " 10\n",
       " 11\n",
       " 15"
      ]
     },
     "execution_count": 11,
     "metadata": {},
     "output_type": "execute_result"
    }
   ],
   "source": [
    "swapEls!(rpath,1,4)"
   ]
  },
  {
   "cell_type": "code",
   "execution_count": 12,
   "metadata": {
    "collapsed": false
   },
   "outputs": [
    {
     "data": {
      "text/plain": [
       "17-element Array{Int64,1}:\n",
       "  4\n",
       "  2\n",
       "  3\n",
       "  1\n",
       "  5\n",
       "  7\n",
       "  6\n",
       "  8\n",
       "  9\n",
       " 12\n",
       " 14\n",
       " 13\n",
       " 17\n",
       " 16\n",
       " 10\n",
       " 11\n",
       " 15"
      ]
     },
     "execution_count": 12,
     "metadata": {},
     "output_type": "execute_result"
    }
   ],
   "source": [
    "new_path = swapEls!(rpath,rand(1:17),rand(1:17))"
   ]
  },
  {
   "cell_type": "code",
   "execution_count": 13,
   "metadata": {
    "collapsed": false
   },
   "outputs": [
    {
     "data": {
      "text/plain": [
       "1285.2530969650002"
      ]
     },
     "execution_count": 13,
     "metadata": {},
     "output_type": "execute_result"
    }
   ],
   "source": [
    "total_distance(new_path,the_map)"
   ]
  },
  {
   "cell_type": "code",
   "execution_count": 14,
   "metadata": {
    "collapsed": false
   },
   "outputs": [
    {
     "data": {
      "text/plain": [
       "([13,1,8,3,16,2,17,11,12,4,10,5,7,15,6,9,14],707.9286016710001)"
      ]
     },
     "execution_count": 14,
     "metadata": {},
     "output_type": "execute_result"
    }
   ],
   "source": [
    "sim_annealing(the_map,10^9)"
   ]
  },
  {
   "cell_type": "code",
   "execution_count": 15,
   "metadata": {
    "collapsed": false
   },
   "outputs": [
    {
     "name": "stdout",
     "output_type": "stream",
     "text": [
      "  7.732621 seconds (135 allocations: 8.063 KB)\n"
     ]
    },
    {
     "data": {
      "text/plain": [
       "([14,8,11,6,13,12,17,9,10,5,1,2,16,3,15,4,7],732.8126461079999)"
      ]
     },
     "execution_count": 15,
     "metadata": {},
     "output_type": "execute_result"
    }
   ],
   "source": [
    "@time out = sim_annealing(the_map,10^8)"
   ]
  },
  {
   "cell_type": "markdown",
   "metadata": {},
   "source": [
    "```\n",
    "1  => Fitchburg, MA\n",
    "2  => Boston, MA\n",
    "3  => Fall River, MA\n",
    "4  => Lowell, MA\n",
    "5  => North Adams, MA\n",
    "6  => Springfield, MA\n",
    "7  => Worcester, MA\n",
    "8  => Amherst, MA\n",
    "9  => Braintree, MA\n",
    "10 => Lawrence, MA\n",
    "11 => Newton, MA\n",
    "12 => Natick, MA\n",
    "13 => Pittsfield, MA\n",
    "14 => Plymouth, MA\n",
    "15 => Provincetown, MA\n",
    "16 => Salem, MA\n",
    "17 => Woburn, MA\n",
    "```\n",
    "\n",
    "**Having got the following as an output:  **\n",
    "`([14,6,4,1,5,2,8,10,7,11,13,17,12,15,16,3,9],726.598936108)`  \n",
    "\n",
    "**The shortest path by simulated annealing is:**  \n",
    "`Plymouth => Springfield => Lowell => Fitchburg => North Adams => Boston => Amherst => Lawrence => Worcester => Newton => Pittsfield => Woburn => Natick => Provincetown => Salem => Fall River => Braintree`\n",
    "\n",
    "<img src=\"map_output.png\" width=\"800px\">\n",
    "\n",
    "That path is ridiculous and doesn't make sense as instead of a circle it is weaving across the state. Something either went direly wrong or is missing."
   ]
  },
  {
   "cell_type": "markdown",
   "metadata": {},
   "source": [
    "Hmm......"
   ]
  },
  {
   "cell_type": "markdown",
   "metadata": {},
   "source": [
    "## Problem 2:\n",
    "Consider the following weighted graph:\n",
    "<img src=\"graph01.png\" width=250 />\n",
    "Use the method from class using tropical arithmetic on matrices to find the shortest path from A to H."
   ]
  },
  {
   "cell_type": "code",
   "execution_count": 16,
   "metadata": {
    "collapsed": false
   },
   "outputs": [
    {
     "data": {
      "text/plain": [
       "8×8 Array{Float64,2}:\n",
       "   0.0    9.0  Inf     13.0   16.0  Inf    Inf    Inf  \n",
       "   9.0    0.0   15.0  Inf      3.0  Inf    Inf    Inf  \n",
       " Inf     15.0    0.0  Inf     10.0    4.0  Inf    Inf  \n",
       "  13.0  Inf    Inf      0.0   18.0  Inf    Inf    Inf  \n",
       "  16.0    3.0   10.0   18.0    0.0   17.0   21.0  Inf  \n",
       " Inf    Inf      4.0  Inf     17.0    0.0   12.0   24.0\n",
       " Inf    Inf    Inf    Inf     21.0   12.0    0.0    5.0\n",
       " Inf    Inf    Inf    Inf    Inf     24.0    5.0    0.0"
      ]
     },
     "execution_count": 16,
     "metadata": {},
     "output_type": "execute_result"
    }
   ],
   "source": [
    "w = [0   9   Inf 13  16  Inf Inf Inf;\n",
    "     9   0   15  Inf 3   Inf Inf Inf;\n",
    "     Inf 15  0   Inf 10  4   Inf Inf;\n",
    "     13  Inf Inf 0   18  Inf Inf Inf;\n",
    "     16  3   10  18  0   17  21  Inf;\n",
    "     Inf Inf 4   Inf 17  0   12  24;\n",
    "     Inf Inf Inf Inf 21  12  0   5;\n",
    "     Inf Inf Inf Inf Inf 24  5   0]"
   ]
  },
  {
   "cell_type": "code",
   "execution_count": 17,
   "metadata": {
    "collapsed": false
   },
   "outputs": [],
   "source": [
    "using TropicalMath"
   ]
  },
  {
   "cell_type": "code",
   "execution_count": 18,
   "metadata": {
    "collapsed": false
   },
   "outputs": [
    {
     "data": {
      "text/plain": [
       "8×8 Array{Float64,2}:\n",
       "   0.0    9.0  24.0   13.0  12.0  33.0  37.0  Inf  \n",
       "   9.0    0.0  13.0   21.0   3.0  19.0  24.0  Inf  \n",
       "  24.0   13.0   0.0   28.0  10.0   4.0  16.0   28.0\n",
       "  13.0   21.0  28.0    0.0  18.0  35.0  39.0  Inf  \n",
       "  12.0    3.0  10.0   18.0   0.0  14.0  21.0   26.0\n",
       "  33.0   19.0   4.0   35.0  14.0   0.0  12.0   17.0\n",
       "  37.0   24.0  16.0   39.0  21.0  12.0   0.0    5.0\n",
       " Inf    Inf    28.0  Inf    26.0  17.0   5.0    0.0"
      ]
     },
     "execution_count": 18,
     "metadata": {},
     "output_type": "execute_result"
    }
   ],
   "source": [
    "w⊗w"
   ]
  },
  {
   "cell_type": "code",
   "execution_count": 19,
   "metadata": {
    "collapsed": false
   },
   "outputs": [
    {
     "data": {
      "text/plain": [
       "8×8 Array{Float64,2}:\n",
       "  0.0   9.0  22.0  13.0  12.0  26.0  33.0  38.0\n",
       "  9.0   0.0  13.0  21.0   3.0  17.0  24.0  29.0\n",
       " 22.0  13.0   0.0  28.0  10.0   4.0  16.0  21.0\n",
       " 13.0  21.0  28.0   0.0  18.0  32.0  39.0  44.0\n",
       " 12.0   3.0  10.0  18.0   0.0  14.0  21.0  26.0\n",
       " 26.0  17.0   4.0  32.0  14.0   0.0  12.0  17.0\n",
       " 33.0  24.0  16.0  39.0  21.0  12.0   0.0   5.0\n",
       " 38.0  29.0  21.0  44.0  26.0  17.0   5.0   0.0"
      ]
     },
     "execution_count": 19,
     "metadata": {},
     "output_type": "execute_result"
    }
   ],
   "source": [
    "1.0*((w⊗w)⊗w)⊗w"
   ]
  },
  {
   "cell_type": "markdown",
   "metadata": {},
   "source": [
    "^ These are the shortest distances with a max step size of 3  \n",
    "The shortest distance from A => H is 38\n",
    "\n",
    "A => B => E => G => H  \n",
    "9 + 3 + 21 + 5 = 38"
   ]
  },
  {
   "cell_type": "markdown",
   "metadata": {},
   "source": [
    "## Problem 3:\n",
    "Use the Dijkstra’s Algorithm to find the shortest path from A to H for the graph in the previous problem."
   ]
  },
  {
   "cell_type": "code",
   "execution_count": 20,
   "metadata": {
    "collapsed": false
   },
   "outputs": [
    {
     "name": "stderr",
     "output_type": "stream",
     "text": [
      "WARNING: Method definition (::Type{Graphs.KeyVertex})(Int64, #K<:Any) in module Graphs at /Users/joshuanasiatka/.julia/v0.5/Graphs/src/common.jl:12 overwritten at /Users/joshuanasiatka/.julia/v0.5/Graphs/src/common.jl:16.\n",
      "WARNING: Method definition (::Type{Graphs.Edge})(Int64, #V<:Any, #V<:Any) in module Graphs at /Users/joshuanasiatka/.julia/v0.5/Graphs/src/common.jl:54 overwritten at /Users/joshuanasiatka/.julia/v0.5/Graphs/src/common.jl:60.\n",
      "WARNING: Method definition (::Type{Graphs.ExEdge})(Int64, #V<:Any, #V<:Any, Base.Dict{String, Any}) in module Graphs at /Users/joshuanasiatka/.julia/v0.5/Graphs/src/common.jl:72 overwritten at /Users/joshuanasiatka/.julia/v0.5/Graphs/src/common.jl:83.\n",
      "WARNING: Method definition (::Type{Graphs.TargetIterator})(#G<:Graphs.AbstractGraph, #EList<:Any) in module Graphs at /Users/joshuanasiatka/.julia/v0.5/Graphs/src/common.jl:123 overwritten at /Users/joshuanasiatka/.julia/v0.5/Graphs/src/common.jl:127.\n",
      "WARNING: Method definition (::Type{Graphs.SourceIterator})(#G<:Graphs.AbstractGraph, #EList<:Any) in module Graphs at /Users/joshuanasiatka/.julia/v0.5/Graphs/src/common.jl:141 overwritten at /Users/joshuanasiatka/.julia/v0.5/Graphs/src/common.jl:145.\n",
      "WARNING: Method definition edge_property_requirement(Graphs.AbstractEdgePropertyInspector{#T<:Any}, Graphs.AbstractGraph{#V<:Any, E<:Any}) in module Graphs at /Users/joshuanasiatka/.julia/v0.5/Graphs/src/common.jl:164 overwritten at /Users/joshuanasiatka/.julia/v0.5/Graphs/src/common.jl:179.\n",
      "WARNING: Method definition vertex_index(#V<:Union{Graphs.ExVertex, Graphs.KeyVertex}, Graphs.GenericGraph{#V<:Union{Graphs.ExVertex, Graphs.KeyVertex}, E<:Any, VList<:Any, EList<:Any, IncList<:Any}) in module Graphs at /Users/joshuanasiatka/.julia/v0.5/Graphs/src/graph.jl:65 overwritten at /Users/joshuanasiatka/.julia/v0.5/Graphs/src/graph.jl:67.\n",
      "WARNING: Method definition (::Type{Graphs.GDistanceVisitor})(#G<:Graphs.AbstractGraph, #DMap<:Any) in module Graphs at /Users/joshuanasiatka/.julia/v0.5/Graphs/src/breadth_first_visit.jl:107 overwritten at /Users/joshuanasiatka/.julia/v0.5/Graphs/src/breadth_first_visit.jl:111.\n"
     ]
    }
   ],
   "source": [
    "using Graphs;"
   ]
  },
  {
   "cell_type": "code",
   "execution_count": 21,
   "metadata": {
    "collapsed": false
   },
   "outputs": [
    {
     "data": {
      "text/plain": [
       "Undirected Graph (8 vertices, 0 edges)"
      ]
     },
     "execution_count": 21,
     "metadata": {},
     "output_type": "execute_result"
    }
   ],
   "source": [
    "g = simple_inclist(8,is_directed=false)"
   ]
  },
  {
   "cell_type": "code",
   "execution_count": 22,
   "metadata": {
    "collapsed": false
   },
   "outputs": [
    {
     "data": {
      "text/plain": [
       "26-element Array{Tuple{Int64,Int64,Float64},1}:\n",
       " (1,2,9.0) \n",
       " (1,5,16.0)\n",
       " (1,4,13.0)\n",
       " (2,1,9.0) \n",
       " (2,5,3.0) \n",
       " (2,3,15.0)\n",
       " (3,2,15.0)\n",
       " (3,5,10.0)\n",
       " (3,6,4.0) \n",
       " (4,1,13.0)\n",
       " (4,5,18.0)\n",
       " (5,4,18.0)\n",
       " (5,1,16.0)\n",
       " (5,2,3.0) \n",
       " (5,3,10.0)\n",
       " (5,6,17.0)\n",
       " (5,7,21.0)\n",
       " (6,3,4.0) \n",
       " (6,5,17.0)\n",
       " (6,7,12.0)\n",
       " (6,8,24.0)\n",
       " (7,5,21.0)\n",
       " (7,6,12.0)\n",
       " (7,8,5.0) \n",
       " (8,6,24.0)\n",
       " (8,7,5.0) "
      ]
     },
     "execution_count": 22,
     "metadata": {},
     "output_type": "execute_result"
    }
   ],
   "source": [
    "A = 1\n",
    "B = 2\n",
    "C = 3\n",
    "D = 4\n",
    "E = 5\n",
    "F = 6\n",
    "G = 7\n",
    "H = 8\n",
    "inputs = [\n",
    "    (A, B, 9.0),\n",
    "    (A, E, 16.0),\n",
    "    (A, D, 13.0),\n",
    "    (B, A, 9.0),\n",
    "    (B, E, 3.0),\n",
    "    (B, C, 15.0),\n",
    "    (C, B, 15.0),\n",
    "    (C, E, 10.0),\n",
    "    (C, F, 4.0),\n",
    "    (D, A, 13.0),\n",
    "    (D, E, 18.0),\n",
    "    (E, D, 18.0),\n",
    "    (E, A, 16.0),\n",
    "    (E, B, 3.0),\n",
    "    (E, C, 10.0),\n",
    "    (E, F, 17.0),\n",
    "    (E, G, 21.0),\n",
    "    (F, C, 4.0),\n",
    "    (F, E, 17.0),\n",
    "    (F, G, 12.0),\n",
    "    (F, H, 24.0),\n",
    "    (G, E, 21.0),\n",
    "    (G, F, 12.0),\n",
    "    (G, H, 5.0),\n",
    "    (H, F, 24.0),\n",
    "    (H, G, 5.0)\n",
    "]"
   ]
  },
  {
   "cell_type": "code",
   "execution_count": 23,
   "metadata": {
    "collapsed": false
   },
   "outputs": [
    {
     "data": {
      "text/plain": [
       "26-element Array{Float64,1}:\n",
       "  9.0\n",
       " 16.0\n",
       " 13.0\n",
       "  9.0\n",
       "  3.0\n",
       " 15.0\n",
       " 15.0\n",
       " 10.0\n",
       "  4.0\n",
       " 13.0\n",
       " 18.0\n",
       " 18.0\n",
       " 16.0\n",
       "  3.0\n",
       " 10.0\n",
       " 17.0\n",
       " 21.0\n",
       "  4.0\n",
       " 17.0\n",
       " 12.0\n",
       " 24.0\n",
       " 21.0\n",
       " 12.0\n",
       "  5.0\n",
       " 24.0\n",
       "  5.0"
      ]
     },
     "execution_count": 23,
     "metadata": {},
     "output_type": "execute_result"
    }
   ],
   "source": [
    "dist = map(a->a[3],inputs)"
   ]
  },
  {
   "cell_type": "code",
   "execution_count": 24,
   "metadata": {
    "collapsed": false
   },
   "outputs": [],
   "source": [
    "for edge in inputs\n",
    "    add_edge!(g,edge[1],edge[2])\n",
    "end"
   ]
  },
  {
   "cell_type": "code",
   "execution_count": 25,
   "metadata": {
    "collapsed": false
   },
   "outputs": [
    {
     "data": {
      "text/plain": [
       "8×8 Array{Bool,2}:\n",
       " false   true  false   true   true  false  false  false\n",
       "  true  false   true  false   true  false  false  false\n",
       " false   true  false  false   true   true  false  false\n",
       "  true  false  false  false   true  false  false  false\n",
       "  true   true   true   true  false   true   true  false\n",
       " false  false   true  false   true  false   true   true\n",
       " false  false  false  false   true   true  false   true\n",
       " false  false  false  false  false   true   true  false"
      ]
     },
     "execution_count": 25,
     "metadata": {},
     "output_type": "execute_result"
    }
   ],
   "source": [
    "adjacency_matrix(g)"
   ]
  },
  {
   "cell_type": "code",
   "execution_count": 26,
   "metadata": {
    "collapsed": false
   },
   "outputs": [
    {
     "data": {
      "text/plain": [
       "Graphs.DijkstraStates{Int64,Float64,DataStructures.MutableBinaryHeap{Graphs.DijkstraHEntry{Int64,Float64},DataStructures.LessThan},Int64}([1,1,5,1,2,3,5,7],[1,1,5,1,2,3,5,7],[0.0,9.0,22.0,13.0,12.0,26.0,33.0,38.0],[2,2,2,2,2,2,2,2],MutableBinaryHeap(),[0,1,4,3,2,5,6,7])"
      ]
     },
     "execution_count": 26,
     "metadata": {},
     "output_type": "execute_result"
    }
   ],
   "source": [
    "r = dijkstra_shortest_paths(g, dist, 1)"
   ]
  },
  {
   "cell_type": "code",
   "execution_count": 27,
   "metadata": {
    "collapsed": false
   },
   "outputs": [
    {
     "data": {
      "text/plain": [
       "8-element Array{Float64,1}:\n",
       "  0.0\n",
       "  9.0\n",
       " 22.0\n",
       " 13.0\n",
       " 12.0\n",
       " 26.0\n",
       " 33.0\n",
       " 38.0"
      ]
     },
     "execution_count": 27,
     "metadata": {},
     "output_type": "execute_result"
    }
   ],
   "source": [
    "r.dists"
   ]
  },
  {
   "cell_type": "markdown",
   "metadata": {},
   "source": [
    "^ These are the shortest distances from A to each letter.\n",
    "- A => A is 0\n",
    "- A => B is 9\n",
    "- A => C is 22\n",
    "- A => D is 13  \n",
    ".  \n",
    ".  \n",
    ".  \n",
    "- A => H is 38\n",
    "\n",
    "Which are all the same shortest paths as the tropical math solution"
   ]
  },
  {
   "cell_type": "markdown",
   "metadata": {
    "collapsed": true
   },
   "source": [
    "### Problem 4:\n",
    "This problem finds the shortest distance from Fitchburg State to the Entertainment Cinemas in Leominster\n",
    "which mimics Google Maps or another mapping/GPS program.\n",
    "\n",
    "**( a ) Create a graph that has Fitchburg State as the starting point (use 160 Pearl St.) and the Entertainment\n",
    "Cinemas (45 Sack Blvd, Leominster, MA 01453) as the end. Include the following intersections in your\n",
    "graph:**\n",
    "- North Street and Main Street (Fitchburg)\n",
    "- John Fitch Hwy and Lunenburg Street (Fitchburg)\n",
    "- South Street and Laurel Street (Fitchburg)\n",
    "- South Street and Wanoosnoc Rd (Fitchburg)\n",
    "- Water Street and Bemis Rd (Fitchburg)\n",
    "- Summer Street and John Fitch Hwy (Fitchburg)\n",
    "- North Street and Main Street (Leominster)\n",
    "- Main Street and Prospect Street (Leominster)\n",
    "- N. Main Street and Rte 2 (Leominster)\n",
    "- Merriam Ave and Rte 2 (Leominster)\n",
    "- Haws Street and Commercial Road (Leominster)\n",
    "\n",
    "(I also added two more intersections)\n",
    "- Main St & Mill St, Leominster MA\n",
    "- Mill St & Cinema Blvd, Leominster MA"
   ]
  },
  {
   "cell_type": "code",
   "execution_count": 74,
   "metadata": {
    "collapsed": false,
    "scrolled": false
   },
   "outputs": [
    {
     "data": {
      "text/plain": [
       "15×15 Array{Float64,2}:\n",
       " 0.0       0.472863  0.695314  0.818346  …  4.81128   5.82722   5.85145 \n",
       " 0.472863  0.0       0.840094  0.300122     4.29367   5.30899   5.33323 \n",
       " 0.695314  0.840094  0.0       1.14084      4.33655   5.35249   5.37672 \n",
       " 0.797219  0.300744  1.14084   0.0          4.2247    5.58861   5.61284 \n",
       " 2.55881   2.06171   2.28665   1.76097      2.99252   3.82765   3.85188 \n",
       " 2.35313   1.64601   1.6572    1.61743   …  2.69675   3.71207   3.73693 \n",
       " 1.77526   1.11909   1.07932   1.42667      3.26282   4.27814   4.30237 \n",
       " 3.39393   2.73714   2.69799   3.04472      2.89062   2.67997   2.70421 \n",
       " 5.19901   4.54284   4.5037    5.54139      1.07373   0.863084  0.887318\n",
       " 3.77918   3.2827    3.33614   3.19447      2.37985   2.16921   2.19344 \n",
       " 3.34919   2.85209   3.07703   2.55197   …  2.37488   2.77069   3.04099 \n",
       " 5.8558    5.3587    4.82867   5.05796      0.828288  0.358531  0.382765\n",
       " 4.80071   4.30362   4.35705   4.21538      0.0       0.395813  0.665488\n",
       " 6.21433   5.71723   5.18721   5.41649      0.395813  0.0       0.269675\n",
       " 6.23856   5.74147   5.21144   5.44135      0.665488  0.269675  0.0     "
      ]
     },
     "execution_count": 74,
     "metadata": {},
     "output_type": "execute_result"
    }
   ],
   "source": [
    "A = render_map(\"cinemas_q1.json\");\n",
    "B = render_map(\"cinemas_q2.json\");\n",
    "C = render_map(\"cinemas_q3.json\");\n",
    "D = render_map(\"cinemas_q4.json\");\n",
    "the_map = 0.000621371*[A B; C D]"
   ]
  },
  {
   "cell_type": "markdown",
   "metadata": {},
   "source": [
    "**( b ) Use the Tropical Matrix Arithmetic method to solve this problem. List the path travelled that minimizes the travel distance and the nodes (intersections) travelled through.**"
   ]
  },
  {
   "cell_type": "code",
   "execution_count": 76,
   "metadata": {
    "collapsed": false
   },
   "outputs": [
    {
     "data": {
      "text/plain": [
       "15×15 Array{Float64,2}:\n",
       " 0.0       0.472863  0.695314  0.772986  …  4.76654   5.16235   5.43203 \n",
       " 0.472863  0.0       0.840094  0.300122     4.29367   4.68949   4.95916 \n",
       " 0.695314  0.840094  0.0       1.14022      4.33655   4.73236   5.00204 \n",
       " 0.773607  0.300744  1.14084   0.0          4.2247    4.62051   4.89019 \n",
       " 2.53457   2.06171   2.28602   1.76097      2.99252   3.38834   3.65801 \n",
       " 2.11888   1.64601   1.6572    1.61743   …  2.69675   3.09256   3.36224 \n",
       " 1.59195   1.11909   1.07932   1.41921      3.26282   3.65863   3.92831 \n",
       " 3.21      2.73714   2.69799   3.03726      2.89062   2.67997   2.70421 \n",
       " 5.01571   4.54284   4.50308   4.53352      1.07373   0.863084  0.887318\n",
       " 3.75557   3.2827    3.33614   3.19447      2.37985   2.16921   2.19344 \n",
       " 3.32496   2.85209   3.07641   2.55135   …  2.37488   2.77069   3.04037 \n",
       " 5.18037   4.70751   4.76094   4.61927      0.754344  0.358531  0.382765\n",
       " 4.77648   4.30362   4.35705   4.21538      0.0       0.395813  0.665488\n",
       " 5.17229   4.69943   4.75287   4.61119      0.395813  0.0       0.269675\n",
       " 5.44197   4.9691    5.02254   4.88087      0.665488  0.269675  0.0     "
      ]
     },
     "execution_count": 76,
     "metadata": {},
     "output_type": "execute_result"
    }
   ],
   "source": [
    "the_map = trop_pow(the_map,3)"
   ]
  },
  {
   "cell_type": "code",
   "execution_count": 77,
   "metadata": {
    "collapsed": false
   },
   "outputs": [
    {
     "data": {
      "text/plain": [
       "15×7 Array{Float64,2}:\n",
       " 0.0       0.472863  0.695314  0.772986  2.53395   2.06979   1.59817 \n",
       " 0.472863  0.0       0.840094  0.300122  2.06109   1.59692   1.1253  \n",
       " 0.695314  0.840094  0.0       1.14022   2.27235   1.88773   1.07435 \n",
       " 0.773607  0.300744  1.14084   0.0       1.76097   1.52795   1.42605 \n",
       " 2.53457   2.06171   2.28602   1.76097   0.0       0.628827  1.31234 \n",
       " 2.11888   1.64601   1.6572    1.61743   0.631934  0.0       0.683508\n",
       " 1.59195   1.11909   1.07932   1.41921   1.198     0.813996  0.0     \n",
       " 3.21      2.73714   2.69799   3.03726   2.68867   2.30467   1.61867 \n",
       " 5.01571   4.54284   4.50308   4.53352   3.54803   2.91609   3.42375 \n",
       " 3.75557   3.2827    3.33614   3.19447   2.27732   1.67894   2.36183 \n",
       " 3.32496   2.85209   3.07641   2.55135   0.790384  1.41921   2.10272 \n",
       " 5.18037   4.70751   4.76094   4.61927   3.29699   3.10375   3.78663 \n",
       " 4.77648   4.30362   4.35705   4.21538   3.0298    2.69986   3.38337 \n",
       " 5.17229   4.69943   4.75287   4.61119   3.42562   3.09567   3.77918 \n",
       " 5.44197   4.9691    5.02254   4.88087   3.67976   3.36535   4.04885 "
      ]
     },
     "execution_count": 77,
     "metadata": {},
     "output_type": "execute_result"
    }
   ],
   "source": [
    "the_map[:,1:7]"
   ]
  },
  {
   "cell_type": "code",
   "execution_count": 78,
   "metadata": {
    "collapsed": false
   },
   "outputs": [
    {
     "data": {
      "text/plain": [
       "15×8 Array{Float64,2}:\n",
       " 3.20814  5.02503   6.82638  4.39496  5.42333   4.76654   5.16235   5.43203 \n",
       " 2.73528  4.55216   6.35352  3.92209  4.95046   4.29367   4.68949   4.95916 \n",
       " 2.6837   4.50059   6.39701  4.13336  4.99396   4.33655   4.73236   5.00204 \n",
       " 3.03602  4.85291   6.28517  3.62197  4.88149   4.2247    4.62051   4.89019 \n",
       " 2.68929  3.4803    4.87217  1.86101  3.46911   2.99252   3.38834   3.65801 \n",
       " 2.06047  3.36535   4.75722  2.49294  3.35354   2.69675   3.09256   3.36224 \n",
       " 1.8231   3.46663   5.32266  3.05901  3.91961   3.26282   3.65863   3.92831 \n",
       " 0.0      1.81689   3.7245   4.54968  2.32144   2.89062   2.67997   2.70421 \n",
       " 1.81689  0.0       1.90761  2.98942  0.504553  1.07373   0.863084  0.887318\n",
       " 3.63875  1.82186   0.0      2.82165  1.81068   2.37985   2.16921   2.19344 \n",
       " 3.47968  2.58552   4.49313  0.0      3.09008   2.37488   2.77069   3.04037 \n",
       " 2.33014  0.513252  1.4248   2.50661  0.0       0.754344  0.358531  0.382765\n",
       " 2.89062  1.07373   2.17915  2.23942  0.754344  0.0       0.395813  0.665488\n",
       " 2.68867  0.871784  1.78333  2.63523  0.358531  0.395813  0.0       0.269675\n",
       " 2.71291  0.896017  1.80757  2.88938  0.382765  0.665488  0.269675  0.0     "
      ]
     },
     "execution_count": 78,
     "metadata": {},
     "output_type": "execute_result"
    }
   ],
   "source": [
    "the_map[:,8:15]"
   ]
  },
  {
   "cell_type": "markdown",
   "metadata": {},
   "source": [
    "The shortest distance from *Fitchburg State* to *Entertainment Cinemas* is 5.43 miles\n",
    "\n",
    "`A => B => D => F => M => N => O` based on the list in **`(C)`**\n",
    "\n",
    "`FSU => Main St & North Street, Fitchburg => Laurel St & South St, Fitchburg => Water St & Bemis Rd, Fitchburg => Main St & Mill St, Leominster => Mill St & Cinema Blvd, Leominster => Entertainment Cinemas`"
   ]
  },
  {
   "cell_type": "markdown",
   "metadata": {},
   "source": [
    "**( c ) Use Dijkstra’s method to solve the problem. List the path travelled that minimizes the travel distance and the nodes (intersections) travelled through.**"
   ]
  },
  {
   "cell_type": "code",
   "execution_count": 50,
   "metadata": {
    "collapsed": false
   },
   "outputs": [
    {
     "data": {
      "text/plain": [
       "22-element Array{Tuple{Int64,Int64,Float64},1}:\n",
       " (1,2,0.472863)  \n",
       " (2,3,0.840094)  \n",
       " (2,4,0.300122)  \n",
       " (2,5,2.06109)   \n",
       " (3,7,1.07435)   \n",
       " (4,5,1.76097)   \n",
       " (5,4,1.76097)   \n",
       " (5,6,0.628827)  \n",
       " (5,11,1.86101)  \n",
       " (6,5,0.631934)  \n",
       " (6,7,0.683508)  \n",
       " (6,10,4.75722)  \n",
       " (6,13,2.69675)  \n",
       " (7,6,0.813996)  \n",
       " (7,8,1.8231)    \n",
       " (8,9,1.81689)   \n",
       " (9,12,0.504553) \n",
       " (10,12,1.81068) \n",
       " (11,12,3.09008) \n",
       " (12,15,0.382765)\n",
       " (13,14,0.395813)\n",
       " (14,15,0.269675)"
      ]
     },
     "execution_count": 50,
     "metadata": {},
     "output_type": "execute_result"
    }
   ],
   "source": [
    "A = 1   # 160 Pearl Street, Fitchburg MA (Fitchburg State)\n",
    "B = 2   # Main St & North Street, Fitchburg MA\n",
    "C = 3   # Lunenburg St & John Fitch Hwy, Fitchburg MA\n",
    "D = 4   # Laurel St & South St, Fitchburg MA\n",
    "E = 5   # South St & Wanoosnoc Rd, Fitchburg MA\n",
    "F = 6   # Water St & Bemis Rd, Fitchburg MA\n",
    "G = 7   # John Fitch Hwy & Summer St, Fitchburg MA\n",
    "H = 8   # Main St & North St, Leominster MA\n",
    "I = 9   # Main Street & Prospect St, Leominster MA\n",
    "J = 10  # N Main St & Rte 2, Leominster MA\n",
    "\n",
    "K = 11  # Merriam Ave & Rte 2, Leominster MA\n",
    "L = 12  # Commercial Rd & Haws St, Leominster MA\n",
    "M = 13  # Main St & Mill St, Leominster MA\n",
    "N = 14  # Mill St & Cinema Blvd, Leominster MA\n",
    "O = 15  # 45 Sack Blvd, Leominster MA (Entertainment Cinemas)\n",
    "\n",
    "cinema_map = Array{Tuple{Int, Int, Float64}}(0)\n",
    "\n",
    "cinema_map = [\n",
    "    (A, B, the_map[A,B]),  # Fitchburg State                      => Main @ North St, Fitchburg\n",
    "    (B, C, the_map[B,C]),  # Main @ North St, Fitchburg           => Lunenburg Rd @ John Fitch Hwy, Fitchburg\n",
    "    (B, D, the_map[B,D]),  # Main @ North St, Fitchburg           => Laurel St @ South St, Fitchburg\n",
    "    (B, E, the_map[B,E]),  # Main @ North St, Fitchburg           => South St & Wanoosnoc Rd, Fitchburg\n",
    "    (C, G, the_map[C,G]),  # Lunenburg Rd @ John Fitch, Fitchburg => John Fitch @ Summer St, Fitchburg\n",
    "    (D, E, the_map[D,E]),  # Laurel St @ South St, Fitchburg      => South St & Wanoosnoc Rd, Fitchburg\n",
    "    (E, D, the_map[E,D]),  # South St & Wanoosnoc Rd, Fitchburg   => Laurel St @ South St, Fitchburg\n",
    "    (E, F, the_map[E,F]),  # South St & Wanoosnoc Rd, Fitchburg   => Water St @ Bemis Rd, Fitchburg\n",
    "    (E, K, the_map[E,K]),  # South St & Wanoosnoc Rd, Fitchburg   => Merriam Ave @ Rte 2, Leominster\n",
    "    (F, E, the_map[F,E]),  # Water St @ Bemis Rd, Fitchburg       => South St & Wanoosnoc Rd, Fitchburg\n",
    "    (F, G, the_map[F,G]),  # Water St @ Bemis Rd, Fitchburg       => John Fitch @ Summer St, Fitchburg\n",
    "    (F, J, the_map[F,J]),  # Water St @ Bemis Rd, Fitchburg       => N Main St @ Rte 2, Leominster\n",
    "    (F, M, the_map[F,M]),  # Water St @ Bemis Rd, Fitchburg       => Main St @ Mill St, Leominster\n",
    "    (G, F, the_map[G,F]),  # John Fitch @ Summer St, Fitchburg    => Water St @ Bemis Rd, Fitchburg\n",
    "    (G, H, the_map[G,H]),  # John Fitch @ Summer St, Fitchburg    => Main St @ North St, Leominster\n",
    "    (H, I, the_map[H,I]),  # Main St @ North St, Leominster       => Main St @ Prospect St, Leominster\n",
    "    (I, L, the_map[I,L]),  # Main St @ Prospect St, Leominster    => Commercial Rd & Haws St, Leominster\n",
    "    (J, L, the_map[J,L]),  # N Main St @ Rte 2, Leominster        => Commercial Rd & Haws St, Leominster\n",
    "    (K, L, the_map[K,L]),  # Merriam Ave @ Rte 2, Leominster      => Commercial Rd & Haws St, Leominster\n",
    "    (L, O, the_map[L,O]),  # Commercial Rd & Haws St, Leominster  => Entertainment Cinemas\n",
    "    (M, N, the_map[M,N]),  # Main St @ Mill St, Leominster        => Mill St & Cinema Blvd, Leominster\n",
    "    (N, O, the_map[N,O]),  # Mill St & Cinema Blvd, Leominster    => Entertainment Cinemas\n",
    "]\n",
    "\n",
    "\n",
    "\n",
    "# Ignoring this block, it didn't make sense for all nodes to be connected\n",
    "#=\n",
    "for i=1:13\n",
    "    for j=1:13\n",
    "        if the_map[i,j] != 0\n",
    "            push!(cinema_map,(i,j,the_map[i,j]))\n",
    "        end\n",
    "    end\n",
    "end\n",
    "=#\n",
    "\n",
    "cinema_map"
   ]
  },
  {
   "cell_type": "code",
   "execution_count": 51,
   "metadata": {
    "collapsed": false
   },
   "outputs": [
    {
     "data": {
      "text/plain": [
       "22-element Array{Float64,1}:\n",
       " 0.472863\n",
       " 0.840094\n",
       " 0.300122\n",
       " 2.06109 \n",
       " 1.07435 \n",
       " 1.76097 \n",
       " 1.76097 \n",
       " 0.628827\n",
       " 1.86101 \n",
       " 0.631934\n",
       " 0.683508\n",
       " 4.75722 \n",
       " 2.69675 \n",
       " 0.813996\n",
       " 1.8231  \n",
       " 1.81689 \n",
       " 0.504553\n",
       " 1.81068 \n",
       " 3.09008 \n",
       " 0.382765\n",
       " 0.395813\n",
       " 0.269675"
      ]
     },
     "execution_count": 51,
     "metadata": {},
     "output_type": "execute_result"
    }
   ],
   "source": [
    "dist_cinema_map = map(a->a[3],cinema_map)"
   ]
  },
  {
   "cell_type": "code",
   "execution_count": 52,
   "metadata": {
    "collapsed": false
   },
   "outputs": [
    {
     "data": {
      "text/plain": [
       "Directed Graph (15 vertices, 22 edges)"
      ]
     },
     "execution_count": 52,
     "metadata": {},
     "output_type": "execute_result"
    }
   ],
   "source": [
    "g2 = simple_inclist(15,is_directed=true)\n",
    "for edge in cinema_map\n",
    "    add_edge!(g2,edge[1],edge[2])\n",
    "end\n",
    "g2"
   ]
  },
  {
   "cell_type": "code",
   "execution_count": 53,
   "metadata": {
    "collapsed": false
   },
   "outputs": [
    {
     "data": {
      "text/plain": [
       "15×15 Array{Bool,2}:\n",
       " false   true  false  false  false  …  false  false  false  false  false\n",
       " false  false   true   true   true     false  false  false  false  false\n",
       " false  false  false  false  false     false  false  false  false  false\n",
       " false  false  false  false   true     false  false  false  false  false\n",
       " false  false  false   true  false      true  false  false  false  false\n",
       " false  false  false  false   true  …  false  false   true  false  false\n",
       " false  false  false  false  false     false  false  false  false  false\n",
       " false  false  false  false  false     false  false  false  false  false\n",
       " false  false  false  false  false     false   true  false  false  false\n",
       " false  false  false  false  false     false   true  false  false  false\n",
       " false  false  false  false  false  …  false   true  false  false  false\n",
       " false  false  false  false  false     false  false  false  false   true\n",
       " false  false  false  false  false     false  false  false   true  false\n",
       " false  false  false  false  false     false  false  false  false   true\n",
       " false  false  false  false  false     false  false  false  false  false"
      ]
     },
     "execution_count": 53,
     "metadata": {},
     "output_type": "execute_result"
    }
   ],
   "source": [
    "adjacency_matrix(g2)"
   ]
  },
  {
   "cell_type": "code",
   "execution_count": 54,
   "metadata": {
    "collapsed": false
   },
   "outputs": [
    {
     "data": {
      "text/plain": [
       "Graphs.DijkstraStates{Int64,Float64,DataStructures.MutableBinaryHeap{Graphs.DijkstraHEntry{Int64,Float64},DataStructures.LessThan},Int64}([1,1,2,2,4,5,3,7,8,6,5,9,6,13,14],[1,1,2,2,4,5,3,7,8,6,5,9,6,13,14],[0.0,0.472863,1.31296,0.772986,2.53395,3.16278,2.38731,4.21041,6.0273,7.91999,4.39496,6.53185,5.85953,6.25534,6.52502],[2,2,2,2,2,2,2,2,2,2,2,2,2,2,2],MutableBinaryHeap(),[0,1,2,3,4,6,5,7,11,9,8,12,10,13,14])"
      ]
     },
     "execution_count": 54,
     "metadata": {},
     "output_type": "execute_result"
    }
   ],
   "source": [
    "r2 = dijkstra_shortest_paths(g2, dist_cinema_map, 1)"
   ]
  },
  {
   "cell_type": "code",
   "execution_count": 55,
   "metadata": {
    "collapsed": false
   },
   "outputs": [
    {
     "data": {
      "text/plain": [
       "15-element Array{Float64,1}:\n",
       " 0.0     \n",
       " 0.472863\n",
       " 1.31296 \n",
       " 0.772986\n",
       " 2.53395 \n",
       " 3.16278 \n",
       " 2.38731 \n",
       " 4.21041 \n",
       " 6.0273  \n",
       " 7.91999 \n",
       " 4.39496 \n",
       " 6.53185 \n",
       " 5.85953 \n",
       " 6.25534 \n",
       " 6.52502 "
      ]
     },
     "execution_count": 55,
     "metadata": {},
     "output_type": "execute_result"
    }
   ],
   "source": [
    "r2.dists"
   ]
  },
  {
   "cell_type": "code",
   "execution_count": null,
   "metadata": {
    "collapsed": true
   },
   "outputs": [],
   "source": []
  }
 ],
 "metadata": {
  "anaconda-cloud": {},
  "kernelspec": {
   "display_name": "Julia 0.5.0",
   "language": "julia",
   "name": "julia-0.5"
  },
  "language_info": {
   "file_extension": ".jl",
   "mimetype": "application/julia",
   "name": "julia",
   "version": "0.5.0"
  }
 },
 "nbformat": 4,
 "nbformat_minor": 0
}
