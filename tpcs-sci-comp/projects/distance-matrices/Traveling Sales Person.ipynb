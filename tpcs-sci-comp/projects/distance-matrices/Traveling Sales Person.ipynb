{
 "cells": [
  {
   "cell_type": "markdown",
   "metadata": {},
   "source": [
    "# Project 1: Traveling Salesperson Problem (TSP)<br><small>Joshua Nasiatka (2016.11.13)\n",
    "\n",
    "## Problem 1: \n",
    "This problem solves a real-world Traveling Salesperson Problem (TSP) using distance data. We will find the shortest total path between the Massachusetts cities/towns: Boston, Fall River, Fitchburg, Lowell, North Adams, Springfield and Worcester. Follow these steps to do this:  \n",
    "\n",
    "**( a ) Use the brute force algorithm that goes through each path to determine the shortest total distance. Find the distance and write down the path as it goes through each town. Start and end with Fitchburg and write down the town names of the shortest path.**"
   ]
  },
  {
   "cell_type": "code",
   "execution_count": 1,
   "metadata": {
    "collapsed": false
   },
   "outputs": [],
   "source": [
    "push!(LOAD_PATH,\".\");"
   ]
  },
  {
   "cell_type": "code",
   "execution_count": 2,
   "metadata": {
    "collapsed": false
   },
   "outputs": [],
   "source": [
    "using TSP"
   ]
  },
  {
   "cell_type": "markdown",
   "metadata": {},
   "source": [
    "I cannot fathom how to go about the round-trip Fitchburg => (cities) => Fitchburg"
   ]
  },
  {
   "cell_type": "code",
   "execution_count": 3,
   "metadata": {
    "collapsed": false
   },
   "outputs": [
    {
     "name": "stdout",
     "output_type": "stream",
     "text": [
      "The Shortest Distance and Position is: (596457.0,2930)\n",
      "\n",
      "The path of which is: \n",
      "String[\"North Adams, MA 01247, USA\",\"Fitchburg, MA 01420, USA\",\"Lowell, MA, USA\",\"Boston, MA, USA\",\"Fall River, MA, USA\",\"Worcester, MA, USA\",\"Springfield, MA, USA\"]"
     ]
    }
   ],
   "source": [
    "dist = run_TSP(\"cities.json\");"
   ]
  },
  {
   "cell_type": "markdown",
   "metadata": {
    "collapsed": true
   },
   "source": [
    "**( b ) Add the following towns: Amherst, Braintree, Lawrence, Newton, Natick, Pittsfield, Plymouth, Provincetown, Salem, Woburn to the list above. Produce an array of distances in alphabetical order.**"
   ]
  },
  {
   "cell_type": "code",
   "execution_count": 4,
   "metadata": {
    "collapsed": false
   },
   "outputs": [
    {
     "data": {
      "text/plain": [
       "8×8 Array{Float64,2}:\n",
       "      0.0  165255.0  142427.0  126586.0  …  318397.0  170666.0  145964.0\n",
       " 163862.0       0.0   66700.0   37023.0     166098.0   55088.0   38520.0\n",
       " 144587.0   68275.0       0.0   73533.0     231855.0   52860.0   35896.0\n",
       " 125531.0   38232.0   72588.0       0.0     201812.0   67241.0   42538.0\n",
       "  76483.0  236821.0  242722.0  198151.0     389963.0  251169.0  226467.0\n",
       " 315636.0  164988.0  230982.0  201361.0  …       0.0  219369.0  202802.0\n",
       " 170332.0   60490.0   51799.0   65429.0     224071.0       0.0   27792.0\n",
       " 145951.0   39363.0   34386.0   41048.0     202943.0   29039.0       0.0"
      ]
     },
     "execution_count": 4,
     "metadata": {},
     "output_type": "execute_result"
    }
   ],
   "source": [
    "A = render_map(\"cities_q1.json\")\n",
    "B = render_map(\"cities_q2.json\")\n",
    "C = render_map(\"cities_q3.json\")\n",
    "D = render_map(\"cities_q4.json\")"
   ]
  },
  {
   "cell_type": "code",
   "execution_count": 5,
   "metadata": {
    "collapsed": false
   },
   "outputs": [
    {
     "data": {
      "text/plain": [
       "15×15 Array{Float64,2}:\n",
       "      0.0   75726.0  133613.0   50558.0  …  261045.0   96151.0   71449.0\n",
       "  85137.0       0.0   83508.0   48841.0     185285.0   35650.0   19082.0\n",
       " 135492.0   84289.0       0.0  123976.0     166886.0  117878.0  101311.0\n",
       "  53425.0   48475.0  123995.0       0.0     237306.0   53102.0   28400.0\n",
       " 139844.0  210273.0  253265.0  185106.0     395593.0  230698.0  205996.0\n",
       " 128185.0  146338.0  164325.0  149465.0  …  314060.0  175266.0  150564.0\n",
       "  44788.0   76529.0   90948.0   66068.0     250250.0  105457.0   80754.0\n",
       "  79812.0  150676.0  168662.0  125074.0     318397.0  170666.0  145964.0\n",
       "  98288.0   21498.0   69037.0   72411.0     166098.0   55088.0   38520.0\n",
       "  71813.0   47684.0  130079.0   27022.0     231855.0   52860.0   35896.0\n",
       "  71962.0   38825.0   88501.0   55640.0  …  201812.0   67241.0   42538.0\n",
       " 160352.0  222242.0  240228.0  225368.0     389963.0  251169.0  226467.0\n",
       " 261335.0  185780.0  166130.0  236749.0          0.0  219369.0  202802.0\n",
       "  97557.0   39899.0  122294.0   52854.0     224071.0       0.0   27792.0\n",
       "  73176.0   18772.0  109599.0   28473.0     202943.0   29039.0       0.0"
      ]
     },
     "execution_count": 5,
     "metadata": {},
     "output_type": "execute_result"
    }
   ],
   "source": [
    "the_map = [A C; B D]"
   ]
  },
  {
   "cell_type": "code",
   "execution_count": 6,
   "metadata": {
    "collapsed": false
   },
   "outputs": [],
   "source": [
    "#run_TSP(the_map)"
   ]
  },
  {
   "cell_type": "markdown",
   "metadata": {},
   "source": [
    "**( c ) Use a Simulated Annealing algorithm to find a minimum path through all of the town in `(a)` and `(c)`. Use as large a number of randomizations in your algorithm as possible. Find the total distance as well as the path of the towns. Start and end with Fitchburg and write down the town names of the shortest path.**"
   ]
  },
  {
   "cell_type": "markdown",
   "metadata": {},
   "source": [
    "## Problem 2:\n",
    "Consider the following weighted graph:\n",
    "<img src=\"graph01.png\" width=250 />\n",
    "Use the method from class using tropical arithmetic on matrices to find the shortest path from A to H."
   ]
  },
  {
   "cell_type": "code",
   "execution_count": 7,
   "metadata": {
    "collapsed": false
   },
   "outputs": [
    {
     "data": {
      "text/plain": [
       "8×8 Array{Float64,2}:\n",
       "   0.0    9.0  Inf     13.0   16.0  Inf    Inf    Inf  \n",
       "   9.0    0.0   15.0  Inf      3.0  Inf    Inf    Inf  \n",
       " Inf     15.0    0.0  Inf     10.0    4.0  Inf    Inf  \n",
       "  13.0  Inf    Inf      0.0   18.0  Inf    Inf    Inf  \n",
       "  16.0    3.0   10.0   18.0    0.0   17.0   21.0  Inf  \n",
       " Inf    Inf      4.0  Inf     17.0    0.0   12.0   24.0\n",
       " Inf    Inf    Inf    Inf     21.0   12.0    0.0    5.0\n",
       " Inf    Inf    Inf    Inf    Inf     24.0    5.0    0.0"
      ]
     },
     "execution_count": 7,
     "metadata": {},
     "output_type": "execute_result"
    }
   ],
   "source": [
    "w = [0   9   Inf 13  16  Inf Inf Inf;\n",
    "     9   0   15  Inf 3   Inf Inf Inf;\n",
    "     Inf 15  0   Inf 10  4   Inf Inf;\n",
    "     13  Inf Inf 0   18  Inf Inf Inf;\n",
    "     16  3   10  18  0   17  21  Inf;\n",
    "     Inf Inf 4   Inf 17  0   12  24;\n",
    "     Inf Inf Inf Inf 21  12  0   5;\n",
    "     Inf Inf Inf Inf Inf 24  5   0]"
   ]
  },
  {
   "cell_type": "code",
   "execution_count": 8,
   "metadata": {
    "collapsed": false
   },
   "outputs": [],
   "source": [
    "using TropicalMath"
   ]
  },
  {
   "cell_type": "code",
   "execution_count": 9,
   "metadata": {
    "collapsed": false
   },
   "outputs": [
    {
     "data": {
      "text/plain": [
       "8×8 Array{Float64,2}:\n",
       "   0.0    9.0  24.0   13.0  12.0  33.0  37.0  Inf  \n",
       "   9.0    0.0  13.0   21.0   3.0  19.0  24.0  Inf  \n",
       "  24.0   13.0   0.0   28.0  10.0   4.0  16.0   28.0\n",
       "  13.0   21.0  28.0    0.0  18.0  35.0  39.0  Inf  \n",
       "  12.0    3.0  10.0   18.0   0.0  14.0  21.0   26.0\n",
       "  33.0   19.0   4.0   35.0  14.0   0.0  12.0   17.0\n",
       "  37.0   24.0  16.0   39.0  21.0  12.0   0.0    5.0\n",
       " Inf    Inf    28.0  Inf    26.0  17.0   5.0    0.0"
      ]
     },
     "execution_count": 9,
     "metadata": {},
     "output_type": "execute_result"
    }
   ],
   "source": [
    "w⊗w"
   ]
  },
  {
   "cell_type": "code",
   "execution_count": 10,
   "metadata": {
    "collapsed": false
   },
   "outputs": [
    {
     "data": {
      "text/plain": [
       "8×8 Array{Float64,2}:\n",
       "  0.0   9.0  22.0  13.0  12.0  26.0  33.0  38.0\n",
       "  9.0   0.0  13.0  21.0   3.0  17.0  24.0  29.0\n",
       " 22.0  13.0   0.0  28.0  10.0   4.0  16.0  21.0\n",
       " 13.0  21.0  28.0   0.0  18.0  32.0  39.0  44.0\n",
       " 12.0   3.0  10.0  18.0   0.0  14.0  21.0  26.0\n",
       " 26.0  17.0   4.0  32.0  14.0   0.0  12.0  17.0\n",
       " 33.0  24.0  16.0  39.0  21.0  12.0   0.0   5.0\n",
       " 38.0  29.0  21.0  44.0  26.0  17.0   5.0   0.0"
      ]
     },
     "execution_count": 10,
     "metadata": {},
     "output_type": "execute_result"
    }
   ],
   "source": [
    "1.0*((w⊗w)⊗w)⊗w"
   ]
  },
  {
   "cell_type": "markdown",
   "metadata": {},
   "source": [
    "^ These are the shortest distances with a max step size of 3  \n",
    "The shortest distance from A => H is 42"
   ]
  },
  {
   "cell_type": "markdown",
   "metadata": {},
   "source": [
    "## Problem 3:\n",
    "Use the Dijkstra’s Algorithm to find the shortest path from A to H for the graph in the previous problem."
   ]
  },
  {
   "cell_type": "code",
   "execution_count": 19,
   "metadata": {
    "collapsed": false
   },
   "outputs": [],
   "source": [
    "using Graphs;"
   ]
  },
  {
   "cell_type": "code",
   "execution_count": 12,
   "metadata": {
    "collapsed": false
   },
   "outputs": [
    {
     "data": {
      "text/plain": [
       "Undirected Graph (8 vertices, 0 edges)"
      ]
     },
     "execution_count": 12,
     "metadata": {},
     "output_type": "execute_result"
    }
   ],
   "source": [
    "g = simple_inclist(8,is_directed=false)"
   ]
  },
  {
   "cell_type": "code",
   "execution_count": 13,
   "metadata": {
    "collapsed": false
   },
   "outputs": [
    {
     "data": {
      "text/plain": [
       "26-element Array{Tuple{Int64,Int64,Float64},1}:\n",
       " (1,2,9.0) \n",
       " (1,5,16.0)\n",
       " (1,4,13.0)\n",
       " (2,1,9.0) \n",
       " (2,5,3.0) \n",
       " (2,3,15.0)\n",
       " (3,2,15.0)\n",
       " (3,5,10.0)\n",
       " (3,6,4.0) \n",
       " (4,1,13.0)\n",
       " (4,5,18.0)\n",
       " (5,4,18.0)\n",
       " (5,1,16.0)\n",
       " (5,2,3.0) \n",
       " (5,3,10.0)\n",
       " (5,6,17.0)\n",
       " (5,7,21.0)\n",
       " (6,3,4.0) \n",
       " (6,5,17.0)\n",
       " (6,7,12.0)\n",
       " (6,8,24.0)\n",
       " (7,5,21.0)\n",
       " (7,6,12.0)\n",
       " (7,8,5.0) \n",
       " (8,6,24.0)\n",
       " (8,7,5.0) "
      ]
     },
     "execution_count": 13,
     "metadata": {},
     "output_type": "execute_result"
    }
   ],
   "source": [
    "A = 1\n",
    "B = 2\n",
    "C = 3\n",
    "D = 4\n",
    "E = 5\n",
    "F = 6\n",
    "G = 7\n",
    "H = 8\n",
    "inputs = [\n",
    "    (A, B, 9.0),\n",
    "    (A, E, 16.0),\n",
    "    (A, D, 13.0),\n",
    "    (B, A, 9.0),\n",
    "    (B, E, 3.0),\n",
    "    (B, C, 15.0),\n",
    "    (C, B, 15.0),\n",
    "    (C, E, 10.0),\n",
    "    (C, F, 4.0),\n",
    "    (D, A, 13.0),\n",
    "    (D, E, 18.0),\n",
    "    (E, D, 18.0),\n",
    "    (E, A, 16.0),\n",
    "    (E, B, 3.0),\n",
    "    (E, C, 10.0),\n",
    "    (E, F, 17.0),\n",
    "    (E, G, 21.0),\n",
    "    (F, C, 4.0),\n",
    "    (F, E, 17.0),\n",
    "    (F, G, 12.0),\n",
    "    (F, H, 24.0),\n",
    "    (G, E, 21.0),\n",
    "    (G, F, 12.0),\n",
    "    (G, H, 5.0),\n",
    "    (H, F, 24.0),\n",
    "    (H, G, 5.0)\n",
    "]"
   ]
  },
  {
   "cell_type": "code",
   "execution_count": 14,
   "metadata": {
    "collapsed": false
   },
   "outputs": [
    {
     "data": {
      "text/plain": [
       "26-element Array{Float64,1}:\n",
       "  9.0\n",
       " 16.0\n",
       " 13.0\n",
       "  9.0\n",
       "  3.0\n",
       " 15.0\n",
       " 15.0\n",
       " 10.0\n",
       "  4.0\n",
       " 13.0\n",
       " 18.0\n",
       " 18.0\n",
       " 16.0\n",
       "  3.0\n",
       " 10.0\n",
       " 17.0\n",
       " 21.0\n",
       "  4.0\n",
       " 17.0\n",
       " 12.0\n",
       " 24.0\n",
       " 21.0\n",
       " 12.0\n",
       "  5.0\n",
       " 24.0\n",
       "  5.0"
      ]
     },
     "execution_count": 14,
     "metadata": {},
     "output_type": "execute_result"
    }
   ],
   "source": [
    "dist = map(a->a[3],inputs)"
   ]
  },
  {
   "cell_type": "code",
   "execution_count": 15,
   "metadata": {
    "collapsed": false
   },
   "outputs": [],
   "source": [
    "for edge in inputs\n",
    "    add_edge!(g,edge[1],edge[2])\n",
    "end"
   ]
  },
  {
   "cell_type": "code",
   "execution_count": 16,
   "metadata": {
    "collapsed": false
   },
   "outputs": [
    {
     "data": {
      "text/plain": [
       "8×8 Array{Bool,2}:\n",
       " false   true  false   true   true  false  false  false\n",
       "  true  false   true  false   true  false  false  false\n",
       " false   true  false  false   true   true  false  false\n",
       "  true  false  false  false   true  false  false  false\n",
       "  true   true   true   true  false   true   true  false\n",
       " false  false   true  false   true  false   true   true\n",
       " false  false  false  false   true   true  false   true\n",
       " false  false  false  false  false   true   true  false"
      ]
     },
     "execution_count": 16,
     "metadata": {},
     "output_type": "execute_result"
    }
   ],
   "source": [
    "adjacency_matrix(g)"
   ]
  },
  {
   "cell_type": "code",
   "execution_count": 17,
   "metadata": {
    "collapsed": false
   },
   "outputs": [
    {
     "data": {
      "text/plain": [
       "Graphs.DijkstraStates{Int64,Float64,DataStructures.MutableBinaryHeap{Graphs.DijkstraHEntry{Int64,Float64},DataStructures.LessThan},Int64}([1,1,5,1,2,3,5,7],[1,1,5,1,2,3,5,7],[0.0,9.0,22.0,13.0,12.0,26.0,33.0,38.0],[2,2,2,2,2,2,2,2],MutableBinaryHeap(),[0,1,4,3,2,5,6,7])"
      ]
     },
     "execution_count": 17,
     "metadata": {},
     "output_type": "execute_result"
    }
   ],
   "source": [
    "r = dijkstra_shortest_paths(g, dist, 1)"
   ]
  },
  {
   "cell_type": "code",
   "execution_count": 18,
   "metadata": {
    "collapsed": false
   },
   "outputs": [
    {
     "data": {
      "text/plain": [
       "8-element Array{Float64,1}:\n",
       "  0.0\n",
       "  9.0\n",
       " 22.0\n",
       " 13.0\n",
       " 12.0\n",
       " 26.0\n",
       " 33.0\n",
       " 38.0"
      ]
     },
     "execution_count": 18,
     "metadata": {},
     "output_type": "execute_result"
    }
   ],
   "source": [
    "r.dists"
   ]
  },
  {
   "cell_type": "markdown",
   "metadata": {},
   "source": [
    "^ These are the shortest distances from A to each letter.\n",
    "- A => A is 0\n",
    "- A => B is 9\n",
    "- A => C is 22\n",
    "- A => D is 13  \n",
    ".  \n",
    ".  \n",
    ".  \n",
    "- A => H is 38\n",
    "\n",
    "Which are all the same shortest paths as the tropical math solution"
   ]
  },
  {
   "cell_type": "code",
   "execution_count": null,
   "metadata": {
    "collapsed": true
   },
   "outputs": [],
   "source": []
  }
 ],
 "metadata": {
  "anaconda-cloud": {},
  "kernelspec": {
   "display_name": "Julia 0.5.0",
   "language": "julia",
   "name": "julia-0.5"
  },
  "language_info": {
   "file_extension": ".jl",
   "mimetype": "application/julia",
   "name": "julia",
   "version": "0.5.0"
  }
 },
 "nbformat": 4,
 "nbformat_minor": 0
}
