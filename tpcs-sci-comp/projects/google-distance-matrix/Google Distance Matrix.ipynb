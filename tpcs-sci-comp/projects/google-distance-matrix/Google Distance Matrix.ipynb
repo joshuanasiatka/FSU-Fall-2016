{
 "cells": [
  {
   "cell_type": "markdown",
   "metadata": {},
   "source": [
    "## Project 1: Google Distance Matrix"
   ]
  },
  {
   "cell_type": "code",
   "execution_count": 1,
   "metadata": {
    "collapsed": true
   },
   "outputs": [],
   "source": [
    "f=open(\"distances.json\",\"r\")\n",
    "dist=JSON.parse(f)\n",
    "close(f)"
   ]
  },
  {
   "cell_type": "code",
   "execution_count": 2,
   "metadata": {
    "collapsed": false
   },
   "outputs": [
    {
     "data": {
      "text/plain": [
       "Dict{String,Any} with 4 entries:\n",
       "  \"status\"                => \"OK\"\n",
       "  \"destination_addresses\" => Any[\"Fitchburg, MA 01420, USA\",\"Boston, MA, USA\",\"…\n",
       "  \"rows\"                  => Any[Dict{String,Any}(Pair{String,Any}(\"elements\",A…\n",
       "  \"origin_addresses\"      => Any[\"Fitchburg, MA 01420, USA\",\"Boston, MA, USA\",\"…"
      ]
     },
     "execution_count": 2,
     "metadata": {},
     "output_type": "execute_result"
    }
   ],
   "source": [
    "dist"
   ]
  },
  {
   "cell_type": "code",
   "execution_count": 3,
   "metadata": {
    "collapsed": false
   },
   "outputs": [
    {
     "data": {
      "text/plain": [
       "3-element Array{Any,1}:\n",
       " \"Fitchburg, MA 01420, USA\"\n",
       " \"Boston, MA, USA\"         \n",
       " \"New York, NY, USA\"       "
      ]
     },
     "execution_count": 3,
     "metadata": {},
     "output_type": "execute_result"
    }
   ],
   "source": [
    "dist[\"destination_addresses\"]"
   ]
  },
  {
   "cell_type": "markdown",
   "metadata": {},
   "source": [
    "The following is the distance in meters from Fitchburg MA to Boston MA"
   ]
  },
  {
   "cell_type": "code",
   "execution_count": 4,
   "metadata": {
    "collapsed": false
   },
   "outputs": [
    {
     "data": {
      "text/plain": [
       "85137"
      ]
     },
     "execution_count": 4,
     "metadata": {},
     "output_type": "execute_result"
    }
   ],
   "source": [
    "f2b=dist[\"rows\"][1][\"elements\"][2][\"distance\"][\"value\"]"
   ]
  },
  {
   "cell_type": "code",
   "execution_count": 5,
   "metadata": {
    "collapsed": false
   },
   "outputs": [
    {
     "data": {
      "text/plain": [
       "52.901577689999996"
      ]
     },
     "execution_count": 5,
     "metadata": {},
     "output_type": "execute_result"
    }
   ],
   "source": [
    "f2b*0.00062137 # convert to miles"
   ]
  },
  {
   "cell_type": "code",
   "execution_count": 6,
   "metadata": {
    "collapsed": false
   },
   "outputs": [
    {
     "data": {
      "text/plain": [
       "3×3 Array{Float64,2}:\n",
       " 0.0  0.0  0.0\n",
       " 0.0  0.0  0.0\n",
       " 0.0  0.0  0.0"
      ]
     },
     "execution_count": 6,
     "metadata": {},
     "output_type": "execute_result"
    }
   ],
   "source": [
    "dist_arr = zeros(Float64,3,3)"
   ]
  },
  {
   "cell_type": "code",
   "execution_count": 7,
   "metadata": {
    "collapsed": false
   },
   "outputs": [
    {
     "data": {
      "text/plain": [
       "3×3 Array{Float64,2}:\n",
       "      0.0   85137.0  328495.0\n",
       "  75726.0       0.0  346648.0\n",
       " 326394.0  346499.0       0.0"
      ]
     },
     "execution_count": 7,
     "metadata": {},
     "output_type": "execute_result"
    }
   ],
   "source": [
    "for i=1:3\n",
    "    for j=1:3\n",
    "        dist_arr[i,j] = dist[\"rows\"][i][\"elements\"][j][\"distance\"][\"value\"]\n",
    "    end\n",
    "end\n",
    "dist_arr"
   ]
  },
  {
   "cell_type": "code",
   "execution_count": 8,
   "metadata": {
    "collapsed": false
   },
   "outputs": [
    {
     "data": {
      "text/plain": [
       "10×10 Array{Float64,2}:\n",
       " 0.0  0.0  0.0  0.0  0.0  0.0  0.0  0.0  0.0  0.0\n",
       " 0.0  0.0  0.0  0.0  0.0  0.0  0.0  0.0  0.0  0.0\n",
       " 0.0  0.0  0.0  0.0  0.0  0.0  0.0  0.0  0.0  0.0\n",
       " 0.0  0.0  0.0  0.0  0.0  0.0  0.0  0.0  0.0  0.0\n",
       " 0.0  0.0  0.0  0.0  0.0  0.0  0.0  0.0  0.0  0.0\n",
       " 0.0  0.0  0.0  0.0  0.0  0.0  0.0  0.0  0.0  0.0\n",
       " 0.0  0.0  0.0  0.0  0.0  0.0  0.0  0.0  0.0  0.0\n",
       " 0.0  0.0  0.0  0.0  0.0  0.0  0.0  0.0  0.0  0.0\n",
       " 0.0  0.0  0.0  0.0  0.0  0.0  0.0  0.0  0.0  0.0\n",
       " 0.0  0.0  0.0  0.0  0.0  0.0  0.0  0.0  0.0  0.0"
      ]
     },
     "execution_count": 8,
     "metadata": {},
     "output_type": "execute_result"
    }
   ],
   "source": [
    "avidia_arr = zeros(Float64,10,10)"
   ]
  },
  {
   "cell_type": "code",
   "execution_count": 15,
   "metadata": {
    "collapsed": false
   },
   "outputs": [],
   "source": [
    "f=open(\"avidia.json\",\"r\")\n",
    "avidia_dist=JSON.parse(f)\n",
    "close(f)"
   ]
  },
  {
   "cell_type": "code",
   "execution_count": 16,
   "metadata": {
    "collapsed": false
   },
   "outputs": [
    {
     "data": {
      "text/plain": [
       "Dict{String,Any} with 4 entries:\n",
       "  \"status\"                => \"OK\"\n",
       "  \"destination_addresses\" => Any[\"42 Main St, Hudson, MA 01749, USA\",\"17 Pope S…\n",
       "  \"rows\"                  => Any[Dict{String,Any}(Pair{String,Any}(\"elements\",A…\n",
       "  \"origin_addresses\"      => Any[\"42 Main St, Hudson, MA 01749, USA\",\"17 Pope S…"
      ]
     },
     "execution_count": 16,
     "metadata": {},
     "output_type": "execute_result"
    }
   ],
   "source": [
    "info"
   ]
  },
  {
   "cell_type": "code",
   "execution_count": 17,
   "metadata": {
    "collapsed": false
   },
   "outputs": [
    {
     "name": "stdout",
     "output_type": "stream",
     "text": [
      "Address of Primary Operations: 100 E Main St, Westborough, MA 01581, USA\n"
     ]
    }
   ],
   "source": [
    "println(\"Address of Primary Operations: \",info[\"destination_addresses\"][4])"
   ]
  },
  {
   "cell_type": "code",
   "execution_count": 18,
   "metadata": {
    "collapsed": false
   },
   "outputs": [],
   "source": [
    "info[\"rows\"];"
   ]
  },
  {
   "cell_type": "code",
   "execution_count": 20,
   "metadata": {
    "collapsed": false
   },
   "outputs": [
    {
     "data": {
      "text/plain": [
       "10×10 Array{Float64,2}:\n",
       "  0.0         0.348589  11.1486    11.2232    …   4.24209   7.1936   12.6443 \n",
       "  0.0652439   0.0       11.2139    11.2884        4.30734   7.25884  12.7095 \n",
       " 10.8684     11.12       0.0        0.200703      5.84398   4.42602   7.1122 \n",
       " 10.9423     11.1946     0.200703   0.0           5.91855   4.62672   7.3129 \n",
       "  9.22797     9.3336    18.6535    18.7275       15.2851   10.4589   11.5569 \n",
       "  0.891666    1.14332   10.2358    10.3098    …   3.32868   6.95189  11.7308 \n",
       " 13.3253     13.4315    22.7515    22.8254       19.3824   27.7032   22.8844 \n",
       "  4.23091     4.48318    5.84398    5.91855       0.0       6.55856  14.4102 \n",
       "  7.16999     7.42226    4.60187    4.80319       6.3591    0.0       4.49251\n",
       " 12.1739     12.4255     7.10972    7.31042      13.595     4.49251   0.0    "
      ]
     },
     "execution_count": 20,
     "metadata": {},
     "output_type": "execute_result"
    }
   ],
   "source": [
    "for i=1:10\n",
    "    for j=1:10\n",
    "        avidia_arr[i,j] = avidia_dist[\"rows\"][i][\"elements\"][j][\"distance\"][\"value\"]*0.00062137\n",
    "    end\n",
    "end\n",
    "avidia_arr"
   ]
  },
  {
   "cell_type": "code",
   "execution_count": null,
   "metadata": {
    "collapsed": true
   },
   "outputs": [],
   "source": []
  }
 ],
 "metadata": {
  "kernelspec": {
   "display_name": "Julia 0.5.0",
   "language": "julia",
   "name": "julia-0.5"
  },
  "language_info": {
   "file_extension": ".jl",
   "mimetype": "application/julia",
   "name": "julia",
   "version": "0.5.0"
  }
 },
 "nbformat": 4,
 "nbformat_minor": 0
}
