{
 "cells": [
  {
   "cell_type": "markdown",
   "metadata": {},
   "source": [
    "# Project 1: Traveling Salesperson Problem (TSP)<br><small>Joshua Nasiatka (2016.11.13)\n",
    "\n",
    "This problem solves a real-world Traveling Salesperson Problem (TSP) using distance data. We will find the shortest total path between the Massachusetts cities/towns: Boston, Fall River, Fitchburg, Lowell, North Adams, Springfield and Worcester. Follow these steps to do this:  \n",
    "\n",
    "**( a ) Use the brute force algorithm that goes through each path to determine the shortest total distance. Find the distance and write down the path as it goes through each town. Start and end with Fitchburg and write down the town names of the shortest path.**"
   ]
  },
  {
   "cell_type": "code",
   "execution_count": 1,
   "metadata": {
    "collapsed": true
   },
   "outputs": [],
   "source": [
    "f=open(\"cities.json\",\"r\")\n",
    "dist=JSON.parse(f)\n",
    "close(f)"
   ]
  },
  {
   "cell_type": "code",
   "execution_count": 2,
   "metadata": {
    "collapsed": false
   },
   "outputs": [
    {
     "data": {
      "text/plain": [
       "Dict{String,Any} with 4 entries:\n",
       "  \"status\"                => \"OK\"\n",
       "  \"destination_addresses\" => Any[\"Fitchburg, MA 01420, USA\",\"Boston, MA, USA\",\"…\n",
       "  \"rows\"                  => Any[Dict{String,Any}(Pair{String,Any}(\"elements\",A…\n",
       "  \"origin_addresses\"      => Any[\"Fitchburg, MA 01420, USA\",\"Boston, MA, USA\",\"…"
      ]
     },
     "execution_count": 2,
     "metadata": {},
     "output_type": "execute_result"
    }
   ],
   "source": [
    "dist"
   ]
  },
  {
   "cell_type": "code",
   "execution_count": 3,
   "metadata": {
    "collapsed": false
   },
   "outputs": [
    {
     "data": {
      "text/plain": [
       "7-element Array{Any,1}:\n",
       " \"Fitchburg, MA 01420, USA\"  \n",
       " \"Boston, MA, USA\"           \n",
       " \"Fall River, MA, USA\"       \n",
       " \"Lowell, MA, USA\"           \n",
       " \"North Adams, MA 01247, USA\"\n",
       " \"Springfield, MA, USA\"      \n",
       " \"Worcester, MA, USA\"        "
      ]
     },
     "execution_count": 3,
     "metadata": {},
     "output_type": "execute_result"
    }
   ],
   "source": [
    "dist[\"origin_addresses\"]"
   ]
  },
  {
   "cell_type": "code",
   "execution_count": 4,
   "metadata": {
    "collapsed": false
   },
   "outputs": [
    {
     "data": {
      "text/plain": [
       "7-element Array{Any,1}:\n",
       " \"Fitchburg, MA 01420, USA\"  \n",
       " \"Boston, MA, USA\"           \n",
       " \"Fall River, MA, USA\"       \n",
       " \"Lowell, MA, USA\"           \n",
       " \"North Adams, MA 01247, USA\"\n",
       " \"Springfield, MA, USA\"      \n",
       " \"Worcester, MA, USA\"        "
      ]
     },
     "execution_count": 4,
     "metadata": {},
     "output_type": "execute_result"
    }
   ],
   "source": [
    "dist[\"destination_addresses\"]"
   ]
  },
  {
   "cell_type": "code",
   "execution_count": 5,
   "metadata": {
    "collapsed": false
   },
   "outputs": [
    {
     "data": {
      "text/plain": [
       "7×7 Array{Float64,2}:\n",
       " 0.0  0.0  0.0  0.0  0.0  0.0  0.0\n",
       " 0.0  0.0  0.0  0.0  0.0  0.0  0.0\n",
       " 0.0  0.0  0.0  0.0  0.0  0.0  0.0\n",
       " 0.0  0.0  0.0  0.0  0.0  0.0  0.0\n",
       " 0.0  0.0  0.0  0.0  0.0  0.0  0.0\n",
       " 0.0  0.0  0.0  0.0  0.0  0.0  0.0\n",
       " 0.0  0.0  0.0  0.0  0.0  0.0  0.0"
      ]
     },
     "execution_count": 5,
     "metadata": {},
     "output_type": "execute_result"
    }
   ],
   "source": [
    "dist_arr = zeros(Float64,7,7)"
   ]
  },
  {
   "cell_type": "code",
   "execution_count": 6,
   "metadata": {
    "collapsed": false
   },
   "outputs": [
    {
     "data": {
      "text/plain": [
       "7×7 Array{Float64,2}:\n",
       "      0.0   85137.0  135492.0   53425.0  139844.0  128185.0   44788.0\n",
       "  75726.0       0.0   84289.0   48475.0  210273.0  146338.0   76529.0\n",
       " 133613.0   83508.0       0.0  123995.0  253265.0  164325.0   90948.0\n",
       "  50558.0   48841.0  123976.0       0.0  185106.0  149465.0   66068.0\n",
       " 140339.0  218897.0  272686.0  187185.0       0.0  118706.0  192364.0\n",
       " 126666.0  146771.0  164324.0  150804.0   98402.0       0.0   84002.0\n",
       "  43833.0   75949.0   91668.0   67972.0  173301.0   84361.0       0.0"
      ]
     },
     "execution_count": 6,
     "metadata": {},
     "output_type": "execute_result"
    }
   ],
   "source": [
    "for i=1:7\n",
    "    for j=1:7\n",
    "        dist_arr[i,j] = dist[\"rows\"][i][\"elements\"][j][\"distance\"][\"value\"]\n",
    "    end\n",
    "end\n",
    "dist_arr"
   ]
  },
  {
   "cell_type": "code",
   "execution_count": 7,
   "metadata": {
    "collapsed": false
   },
   "outputs": [],
   "source": [
    "using Combinatorics"
   ]
  },
  {
   "cell_type": "code",
   "execution_count": 21,
   "metadata": {
    "collapsed": false
   },
   "outputs": [
    {
     "name": "stderr",
     "output_type": "stream",
     "text": [
      "WARNING: Method definition TSP(Array{Float64, 2}, Any) in module Main at In[19]:7 overwritten at In[21]:7.\n",
      "WARNING: Method definition TSP_BF(Array{Float64, 2}) in module Main at In[19]:32 overwritten at In[21]:32.\n"
     ]
    },
    {
     "data": {
      "text/plain": [
       "TSP_BF (generic function with 1 method)"
      ]
     },
     "execution_count": 21,
     "metadata": {},
     "output_type": "execute_result"
    }
   ],
   "source": [
    "# function check_distance(a,b,dists)\n",
    "#     local d = abs(dists[1,b]-dists[1,a])\n",
    "#     d\n",
    "# end\n",
    "\n",
    "function TSP(dists::Array{Float64,2}, dist)\n",
    "    local d = dists\n",
    "    local size = length(dist_arr[1,:])\n",
    "    local a = 0\n",
    "    local short = 9999999\n",
    "    local sp = []\n",
    "    local sp2 = []\n",
    "    for i=1:size\n",
    "        local s = 0\n",
    "        for j=1:size\n",
    "            s += d[i,j]\n",
    "            push!(sp,d[i,j])\n",
    "            push!(sp2,dist[\"destination_addresses\"][j])\n",
    "        end\n",
    "        if s < short\n",
    "            short = s\n",
    "        else\n",
    "            sp = []\n",
    "            sp2 = []\n",
    "        end\n",
    "        s = 0\n",
    "    end\n",
    "    sp2\n",
    "end\n",
    "\n",
    "function TSP_BF(dists::Array{Float64,2})\n",
    "    local d = dists\n",
    "    local size = length(dist_arr[1,:])\n",
    "    local perms = zeros(Float64, 7)\n",
    "    perms\n",
    "end"
   ]
  },
  {
   "cell_type": "code",
   "execution_count": 22,
   "metadata": {
    "collapsed": false
   },
   "outputs": [
    {
     "data": {
      "text/plain": [
       "7-element Array{Float64,1}:\n",
       " 0.0\n",
       " 0.0\n",
       " 0.0\n",
       " 0.0\n",
       " 0.0\n",
       " 0.0\n",
       " 0.0"
      ]
     },
     "execution_count": 22,
     "metadata": {},
     "output_type": "execute_result"
    }
   ],
   "source": [
    "# TSP(dist_arr, dist)\n",
    "TSP_BF(dist_arr)"
   ]
  },
  {
   "cell_type": "code",
   "execution_count": 53,
   "metadata": {
    "collapsed": false
   },
   "outputs": [
    {
     "ename": "LoadError",
     "evalue": "LoadError: UndefVarError: z not defined\nwhile loading In[53], in expression starting on line 1",
     "output_type": "error",
     "traceback": [
      "LoadError: UndefVarError: z not defined\nwhile loading In[53], in expression starting on line 1",
      ""
     ]
    }
   ],
   "source": [
    "darr = map(z->z=1:7,dist[\"destination_addresses\"][z]);\n",
    "collect(permutations(dist[\"destination_addresses\"]));\n",
    "darr"
   ]
  },
  {
   "cell_type": "code",
   "execution_count": null,
   "metadata": {
    "collapsed": true
   },
   "outputs": [],
   "source": []
  }
 ],
 "metadata": {
  "anaconda-cloud": {},
  "kernelspec": {
   "display_name": "Julia 0.5.0",
   "language": "julia",
   "name": "julia-0.5"
  },
  "language_info": {
   "file_extension": ".jl",
   "mimetype": "application/julia",
   "name": "julia",
   "version": "0.5.0"
  }
 },
 "nbformat": 4,
 "nbformat_minor": 0
}
