{
 "cells": [
  {
   "cell_type": "markdown",
   "metadata": {},
   "source": [
    "# Project 1: Mandelbrot<br><small>Joshua Nasiatka (2016.12.03)\n",
    "\n",
    "## Project Background\n",
    "We investigate the Mandelbrot set, a set of number in the complex plane formed by iterating a complex map and\n",
    "determining the set of points that is bounded. Here we give some background on this. Before starting this make sure\n",
    "that you understand basic operations with complex numbers that were given in the course notes (weeks 2 and 3).\n",
    "\n",
    "## A Mandelbrot Module\n",
    "To answer the questions below, you should write a Module to do at least the following:  \n",
    "- A `MandelbrotView` type. This should contain the min and max of the view for a plot of the Mandelbrot set. You may use 2 complex numbers to store these, 4 reals, or other possibilities. You should also have optional parameters for the resulting size of the image.\n",
    "\n",
    "- An `iterate` function that iterates a general complex function a certain number of times.\n",
    "\n",
    "- An `is_in_mbset` function that takes a complex number as input and returns true or false depending on if the input is in the mandelbrot set as explained above. Assume that the initial point is `0+0im`.\n",
    "\n",
    "- A `leaving_number` function that takes a complex number, c as input and returns the number of iterations to leave defined as $|z_n| > 2$. You should use a optional parameter to determine the maximum number of iterations (use 10 as the default) to take and take another optional parameter for the initial point (use `0+0im` as the\n",
    "default)\n",
    "\n",
    "- A `plot` function that takes as input a `MandelbrotView` type and produces a plot. It is recommended to create an image similar to that of the complex Newton’s method from class. You should also consider setting the aspect ratio to 1 in this case to avoid stretching out the plot.\n",
    "\n",
    "- For each of the types and functions, you should check that the parameters are valid.\n",
    "\n",
    "- Write a Unit test (as a separate file) to test that your types/functions are working as expected. (Note: think of the basics like needed parameters are positive, for example).\n",
    "\n",
    "## Problem 1:\n",
    "Find the first ten iterations of the complex map with $x_0 = 0$ and $c = −i$, $0.4 + 0i$, $−0.5 + 0.5i$ and $0.4i$. Which of these values, does the sequence appear to converge? If the sequence doesn’t converge, does it appear that the sequence is bounded?"
   ]
  },
  {
   "cell_type": "code",
   "execution_count": 1,
   "metadata": {
    "collapsed": false
   },
   "outputs": [],
   "source": [
    "### check to see if the current directory is in the load path and if not, load it.\n",
    "if !(\".\" in LOAD_PATH)\n",
    "    push!(LOAD_PATH,\".\")\n",
    "end\n",
    "\n",
    "using Mandelbrot, Gadfly, Images, Colors, ImageView"
   ]
  },
  {
   "cell_type": "code",
   "execution_count": 2,
   "metadata": {
    "collapsed": false
   },
   "outputs": [
    {
     "data": {
      "text/plain": [
       "10-element Array{Complex,1}:\n",
       " -1-1im\n",
       " -1+1im\n",
       " -1-1im\n",
       " -1+1im\n",
       " -1-1im\n",
       " -1+1im\n",
       " -1-1im\n",
       " -1+1im\n",
       " -1-1im\n",
       " -1+1im"
      ]
     },
     "execution_count": 2,
     "metadata": {},
     "output_type": "execute_result"
    }
   ],
   "source": [
    "arr1 = iterate(-im,10);\n",
    "arr1[1]"
   ]
  },
  {
   "cell_type": "markdown",
   "metadata": {},
   "source": [
    "^ does not converge but is bounded"
   ]
  },
  {
   "cell_type": "code",
   "execution_count": 3,
   "metadata": {
    "collapsed": false
   },
   "outputs": [
    {
     "data": {
      "text/plain": [
       "4-element Array{Complex,1}:\n",
       "    0.56+0.0im\n",
       "  0.8736+0.0im\n",
       " 1.63678+0.0im\n",
       " 4.31582+0.0im"
      ]
     },
     "execution_count": 3,
     "metadata": {},
     "output_type": "execute_result"
    }
   ],
   "source": [
    "arr2 = iterate(0.4+0im,10);\n",
    "arr2[1]"
   ]
  },
  {
   "cell_type": "markdown",
   "metadata": {},
   "source": [
    "^ diverges, unbounded"
   ]
  },
  {
   "cell_type": "code",
   "execution_count": 4,
   "metadata": {
    "collapsed": false
   },
   "outputs": [
    {
     "data": {
      "text/plain": [
       "10-element Array{Complex,1}:\n",
       "       -0.5+0.0im\n",
       "      -0.25+0.0im\n",
       "    -0.1875+0.0im\n",
       "  -0.152344+0.0im\n",
       "  -0.129135+0.0im\n",
       "  -0.112459+0.0im\n",
       " -0.0998122+0.0im\n",
       " -0.0898497+0.0im\n",
       " -0.0817767+0.0im\n",
       " -0.0750893+0.0im"
      ]
     },
     "execution_count": 4,
     "metadata": {},
     "output_type": "execute_result"
    }
   ],
   "source": [
    "arr3 = iterate(-0.5+0.5im,10);\n",
    "arr3[1]"
   ]
  },
  {
   "cell_type": "markdown",
   "metadata": {},
   "source": [
    "^ converges, bounded"
   ]
  },
  {
   "cell_type": "code",
   "execution_count": 5,
   "metadata": {
    "collapsed": false
   },
   "outputs": [
    {
     "data": {
      "text/plain": [
       "10-element Array{Complex,1}:\n",
       "      -0.16+0.4im       \n",
       "    -0.2944+0.272im     \n",
       "  -0.281713+0.111846im  \n",
       "   -0.21486+0.0488293im \n",
       "   -0.17108+0.0278464im \n",
       "  -0.142587+0.0183185im \n",
       "  -0.122591+0.0130945im \n",
       "  -0.107734+0.00988397im\n",
       " -0.0962252+0.00775429im\n",
       " -0.0870261+0.00626197im"
      ]
     },
     "execution_count": 5,
     "metadata": {},
     "output_type": "execute_result"
    }
   ],
   "source": [
    "arr4 = iterate(0.4im,10);\n",
    "arr4[1]"
   ]
  },
  {
   "cell_type": "markdown",
   "metadata": {},
   "source": [
    "^ converges, bounded"
   ]
  },
  {
   "cell_type": "markdown",
   "metadata": {},
   "source": [
    "## Problem 2:\n",
    "For each of the sequences in #1, plot the absolute value of the iterations (recall this means the distance from the origin). (Hint: you may want to use a log scale for any that grow very fast and if you use a log scale, throw out the first point which has a distance of 0 and the log of 0 is not defined.)"
   ]
  },
  {
   "cell_type": "code",
   "execution_count": 6,
   "metadata": {
    "collapsed": false
   },
   "outputs": [],
   "source": [
    "#Gadfly.plot(x=map(x->abs(x),arr1[1]),Geom.point)"
   ]
  },
  {
   "cell_type": "code",
   "execution_count": 7,
   "metadata": {
    "collapsed": false
   },
   "outputs": [],
   "source": [
    "#Gadfly.plot(x=map(x->abs(x),arr2[1]),Geom.point)"
   ]
  },
  {
   "cell_type": "code",
   "execution_count": 8,
   "metadata": {
    "collapsed": false
   },
   "outputs": [],
   "source": [
    "#Gadfly.plot(x=map(x->abs(x),arr3[1]),Geom.point)"
   ]
  },
  {
   "cell_type": "code",
   "execution_count": 9,
   "metadata": {
    "collapsed": false
   },
   "outputs": [],
   "source": [
    "#Gadfly.plot(x=map(x->abs(x),arr4[1]),Geom.point)"
   ]
  },
  {
   "cell_type": "markdown",
   "metadata": {
    "collapsed": true
   },
   "source": [
    "## Problem 3:\n",
    "Find the leaving numbers for $c = −i$, $−1.01i$, $0.4 + 0i$, $−0.5 + 0.5i$ and $2i$. If it appears that the sequence is in the Mandelbrot set, return 255."
   ]
  },
  {
   "cell_type": "code",
   "execution_count": 10,
   "metadata": {
    "collapsed": false
   },
   "outputs": [
    {
     "data": {
      "text/plain": [
       "255"
      ]
     },
     "execution_count": 10,
     "metadata": {},
     "output_type": "execute_result"
    }
   ],
   "source": [
    "leaving_number(-im)"
   ]
  },
  {
   "cell_type": "code",
   "execution_count": 11,
   "metadata": {
    "collapsed": false
   },
   "outputs": [
    {
     "data": {
      "text/plain": [
       "6"
      ]
     },
     "execution_count": 11,
     "metadata": {},
     "output_type": "execute_result"
    }
   ],
   "source": [
    "leaving_number(-1.01im)"
   ]
  },
  {
   "cell_type": "code",
   "execution_count": 12,
   "metadata": {
    "collapsed": false
   },
   "outputs": [
    {
     "data": {
      "text/plain": [
       "5"
      ]
     },
     "execution_count": 12,
     "metadata": {},
     "output_type": "execute_result"
    }
   ],
   "source": [
    "leaving_number(0.4+0.0im)"
   ]
  },
  {
   "cell_type": "code",
   "execution_count": 13,
   "metadata": {
    "collapsed": false
   },
   "outputs": [
    {
     "data": {
      "text/plain": [
       "255"
      ]
     },
     "execution_count": 13,
     "metadata": {},
     "output_type": "execute_result"
    }
   ],
   "source": [
    "leaving_number(-0.5+0.5im)"
   ]
  },
  {
   "cell_type": "code",
   "execution_count": 14,
   "metadata": {
    "collapsed": false
   },
   "outputs": [
    {
     "data": {
      "text/plain": [
       "2"
      ]
     },
     "execution_count": 14,
     "metadata": {},
     "output_type": "execute_result"
    }
   ],
   "source": [
    "leaving_number(2im)"
   ]
  },
  {
   "cell_type": "markdown",
   "metadata": {},
   "source": [
    "## Problem 4:\n",
    "Create a 400 by 600 array of complex numbers with real values -2 to 1 and imaginary numbers -1 to 1. For each number in the array, return the result from leaving number. Convert the array to unsigned 8-bit integers (`UInt8`), apply a color map and view the image. This should be the standard view of the Mandelbrot set. (Google it if you don’t know what it looks like). Play with the various built-in colormaps or trying creating some of your own. For this problem, you can built up the plot (image)."
   ]
  },
  {
   "cell_type": "code",
   "execution_count": 15,
   "metadata": {
    "collapsed": false
   },
   "outputs": [
    {
     "data": {
      "text/plain": [
       "400×600 Array{Complex{Float64},2}:\n",
       "     -2.0+1.0im      -2.0+0.996661im  …      -2.0-0.996661im      -2.0-1.0im\n",
       " -1.99248+1.0im  -1.99248+0.996661im     -1.99248-0.996661im  -1.99248-1.0im\n",
       " -1.98496+1.0im  -1.98496+0.996661im     -1.98496-0.996661im  -1.98496-1.0im\n",
       " -1.97744+1.0im  -1.97744+0.996661im     -1.97744-0.996661im  -1.97744-1.0im\n",
       " -1.96992+1.0im  -1.96992+0.996661im     -1.96992-0.996661im  -1.96992-1.0im\n",
       " -1.96241+1.0im  -1.96241+0.996661im  …  -1.96241-0.996661im  -1.96241-1.0im\n",
       " -1.95489+1.0im  -1.95489+0.996661im     -1.95489-0.996661im  -1.95489-1.0im\n",
       " -1.94737+1.0im  -1.94737+0.996661im     -1.94737-0.996661im  -1.94737-1.0im\n",
       " -1.93985+1.0im  -1.93985+0.996661im     -1.93985-0.996661im  -1.93985-1.0im\n",
       " -1.93233+1.0im  -1.93233+0.996661im     -1.93233-0.996661im  -1.93233-1.0im\n",
       " -1.92481+1.0im  -1.92481+0.996661im  …  -1.92481-0.996661im  -1.92481-1.0im\n",
       " -1.91729+1.0im  -1.91729+0.996661im     -1.91729-0.996661im  -1.91729-1.0im\n",
       " -1.90977+1.0im  -1.90977+0.996661im     -1.90977-0.996661im  -1.90977-1.0im\n",
       "         ⋮                            ⋱                                     \n",
       " 0.917293+1.0im  0.917293+0.996661im     0.917293-0.996661im  0.917293-1.0im\n",
       " 0.924812+1.0im  0.924812+0.996661im     0.924812-0.996661im  0.924812-1.0im\n",
       " 0.932331+1.0im  0.932331+0.996661im  …  0.932331-0.996661im  0.932331-1.0im\n",
       "  0.93985+1.0im   0.93985+0.996661im      0.93985-0.996661im   0.93985-1.0im\n",
       " 0.947368+1.0im  0.947368+0.996661im     0.947368-0.996661im  0.947368-1.0im\n",
       " 0.954887+1.0im  0.954887+0.996661im     0.954887-0.996661im  0.954887-1.0im\n",
       " 0.962406+1.0im  0.962406+0.996661im     0.962406-0.996661im  0.962406-1.0im\n",
       " 0.969925+1.0im  0.969925+0.996661im  …  0.969925-0.996661im  0.969925-1.0im\n",
       " 0.977444+1.0im  0.977444+0.996661im     0.977444-0.996661im  0.977444-1.0im\n",
       " 0.984962+1.0im  0.984962+0.996661im     0.984962-0.996661im  0.984962-1.0im\n",
       " 0.992481+1.0im  0.992481+0.996661im     0.992481-0.996661im  0.992481-1.0im\n",
       "      1.0+1.0im       1.0+0.996661im          1.0-0.996661im       1.0-1.0im"
      ]
     },
     "execution_count": 15,
     "metadata": {},
     "output_type": "execute_result"
    }
   ],
   "source": [
    "Z=[(x+y*im) for x=-2:3/399:1, y=1:-2/599:-1]"
   ]
  },
  {
   "cell_type": "code",
   "execution_count": 79,
   "metadata": {
    "collapsed": false
   },
   "outputs": [
    {
     "data": {
      "text/plain": [
       "400×600 Array{Complex{Float64},2}:\n",
       "     -2.0+1.0im      -2.0+0.996661im  …      -2.0-0.996661im      -2.0-1.0im\n",
       " -1.99248+1.0im  -1.99248+0.996661im     -1.99248-0.996661im  -1.99248-1.0im\n",
       " -1.98496+1.0im  -1.98496+0.996661im     -1.98496-0.996661im  -1.98496-1.0im\n",
       " -1.97744+1.0im  -1.97744+0.996661im     -1.97744-0.996661im  -1.97744-1.0im\n",
       " -1.96992+1.0im  -1.96992+0.996661im     -1.96992-0.996661im  -1.96992-1.0im\n",
       " -1.96241+1.0im  -1.96241+0.996661im  …  -1.96241-0.996661im  -1.96241-1.0im\n",
       " -1.95489+1.0im  -1.95489+0.996661im     -1.95489-0.996661im  -1.95489-1.0im\n",
       " -1.94737+1.0im  -1.94737+0.996661im     -1.94737-0.996661im  -1.94737-1.0im\n",
       " -1.93985+1.0im  -1.93985+0.996661im     -1.93985-0.996661im  -1.93985-1.0im\n",
       " -1.93233+1.0im  -1.93233+0.996661im     -1.93233-0.996661im  -1.93233-1.0im\n",
       " -1.92481+1.0im  -1.92481+0.996661im  …  -1.92481-0.996661im  -1.92481-1.0im\n",
       " -1.91729+1.0im  -1.91729+0.996661im     -1.91729-0.996661im  -1.91729-1.0im\n",
       " -1.90977+1.0im  -1.90977+0.996661im     -1.90977-0.996661im  -1.90977-1.0im\n",
       "         ⋮                            ⋱                                     \n",
       " 0.917293+1.0im  0.917293+0.996661im     0.917293-0.996661im  0.917293-1.0im\n",
       " 0.924812+1.0im  0.924812+0.996661im     0.924812-0.996661im  0.924812-1.0im\n",
       " 0.932331+1.0im  0.932331+0.996661im  …  0.932331-0.996661im  0.932331-1.0im\n",
       "  0.93985+1.0im   0.93985+0.996661im      0.93985-0.996661im   0.93985-1.0im\n",
       " 0.947368+1.0im  0.947368+0.996661im     0.947368-0.996661im  0.947368-1.0im\n",
       " 0.954887+1.0im  0.954887+0.996661im     0.954887-0.996661im  0.954887-1.0im\n",
       " 0.962406+1.0im  0.962406+0.996661im     0.962406-0.996661im  0.962406-1.0im\n",
       " 0.969925+1.0im  0.969925+0.996661im  …  0.969925-0.996661im  0.969925-1.0im\n",
       " 0.977444+1.0im  0.977444+0.996661im     0.977444-0.996661im  0.977444-1.0im\n",
       " 0.984962+1.0im  0.984962+0.996661im     0.984962-0.996661im  0.984962-1.0im\n",
       " 0.992481+1.0im  0.992481+0.996661im     0.992481-0.996661im  0.992481-1.0im\n",
       "      1.0+1.0im       1.0+0.996661im          1.0-0.996661im       1.0-1.0im"
      ]
     },
     "execution_count": 79,
     "metadata": {},
     "output_type": "execute_result"
    }
   ],
   "source": [
    "Z=[(x+y*im) for x=-2:3/399:1, y=1:-2/599:-1]"
   ]
  },
  {
   "cell_type": "code",
   "execution_count": 80,
   "metadata": {
    "collapsed": false
   },
   "outputs": [
    {
     "data": {
      "text/plain": [
       "400×600 Array{Int64,2}:\n",
       " 1  1  1  1  1  1  1  1  1  1  1  1  1  …  1  1  1  1  1  1  1  1  1  1  1  1\n",
       " 1  1  1  1  1  1  1  1  1  1  1  1  1     1  1  1  1  1  1  1  1  1  1  1  1\n",
       " 1  1  1  1  1  1  1  1  1  1  1  1  1     1  1  1  1  1  1  1  1  1  1  1  1\n",
       " 1  1  1  1  1  1  1  1  1  1  1  1  1     1  1  1  1  1  1  1  1  1  1  1  1\n",
       " 1  1  1  1  1  1  1  1  1  1  1  1  1     1  1  1  1  1  1  1  1  1  1  1  1\n",
       " 1  1  1  1  1  1  1  1  1  1  1  1  1  …  1  1  1  1  1  1  1  1  1  1  1  1\n",
       " 1  1  1  1  1  1  1  1  1  1  1  1  1     1  1  1  1  1  1  1  1  1  1  1  1\n",
       " 1  1  1  1  1  1  1  1  1  1  1  1  1     1  1  1  1  1  1  1  1  1  1  1  1\n",
       " 1  1  1  1  1  1  1  1  1  1  1  1  1     1  1  1  1  1  1  1  1  1  1  1  1\n",
       " 1  1  1  1  1  1  1  1  1  1  1  1  1     1  1  1  1  1  1  1  1  1  1  1  1\n",
       " 1  1  1  1  1  1  1  1  1  1  1  1  1  …  1  1  1  1  1  1  1  1  1  1  1  1\n",
       " 1  1  1  1  1  1  1  1  1  1  1  1  1     1  1  1  1  1  1  1  1  1  1  1  1\n",
       " 1  1  1  1  1  1  1  1  1  1  1  1  1     1  1  1  1  1  1  1  1  1  1  1  1\n",
       " ⋮              ⋮              ⋮        ⋱        ⋮              ⋮            \n",
       " 2  2  2  2  2  2  2  2  2  2  2  2  2     2  2  2  2  2  2  2  2  2  2  2  2\n",
       " 2  2  2  2  2  2  2  2  2  2  2  2  2     2  2  2  2  2  2  2  2  2  2  2  2\n",
       " 2  2  2  2  2  2  2  2  2  2  2  2  2  …  2  2  2  2  2  2  2  2  2  2  2  2\n",
       " 2  2  2  2  2  2  2  2  2  2  2  2  2     2  2  2  2  2  2  2  2  2  2  2  2\n",
       " 2  2  2  2  2  2  2  2  2  2  2  2  2     2  2  2  2  2  2  2  2  2  2  2  2\n",
       " 2  2  2  2  2  2  2  2  2  2  2  2  2     2  2  2  2  2  2  2  2  2  2  2  2\n",
       " 2  2  2  2  2  2  2  2  2  2  2  2  2     2  2  2  2  2  2  2  2  2  2  2  2\n",
       " 2  2  2  2  2  2  2  2  2  2  2  2  2  …  2  2  2  2  2  2  2  2  2  2  2  2\n",
       " 2  2  2  2  2  2  2  2  2  2  2  2  2     2  2  2  2  2  2  2  2  2  2  2  2\n",
       " 2  2  2  2  2  2  2  2  2  2  2  2  2     2  2  2  2  2  2  2  2  2  2  2  2\n",
       " 2  2  2  2  2  2  2  2  2  2  2  2  2     2  2  2  2  2  2  2  2  2  2  2  2\n",
       " 2  2  2  2  2  2  2  2  2  2  2  2  2     2  2  2  2  2  2  2  2  2  2  2  2"
      ]
     },
     "execution_count": 80,
     "metadata": {},
     "output_type": "execute_result"
    }
   ],
   "source": [
    "Y=map(x->leaving_number(x),Z)"
   ]
  },
  {
   "cell_type": "code",
   "execution_count": 81,
   "metadata": {
    "collapsed": false
   },
   "outputs": [
    {
     "data": {
      "text/plain": [
       "400×600 Array{UInt8,2}:\n",
       " 0x01  0x01  0x01  0x01  0x01  0x01  …  0x01  0x01  0x01  0x01  0x01  0x01\n",
       " 0x01  0x01  0x01  0x01  0x01  0x01     0x01  0x01  0x01  0x01  0x01  0x01\n",
       " 0x01  0x01  0x01  0x01  0x01  0x01     0x01  0x01  0x01  0x01  0x01  0x01\n",
       " 0x01  0x01  0x01  0x01  0x01  0x01     0x01  0x01  0x01  0x01  0x01  0x01\n",
       " 0x01  0x01  0x01  0x01  0x01  0x01     0x01  0x01  0x01  0x01  0x01  0x01\n",
       " 0x01  0x01  0x01  0x01  0x01  0x01  …  0x01  0x01  0x01  0x01  0x01  0x01\n",
       " 0x01  0x01  0x01  0x01  0x01  0x01     0x01  0x01  0x01  0x01  0x01  0x01\n",
       " 0x01  0x01  0x01  0x01  0x01  0x01     0x01  0x01  0x01  0x01  0x01  0x01\n",
       " 0x01  0x01  0x01  0x01  0x01  0x01     0x01  0x01  0x01  0x01  0x01  0x01\n",
       " 0x01  0x01  0x01  0x01  0x01  0x01     0x01  0x01  0x01  0x01  0x01  0x01\n",
       " 0x01  0x01  0x01  0x01  0x01  0x01  …  0x01  0x01  0x01  0x01  0x01  0x01\n",
       " 0x01  0x01  0x01  0x01  0x01  0x01     0x01  0x01  0x01  0x01  0x01  0x01\n",
       " 0x01  0x01  0x01  0x01  0x01  0x01     0x01  0x01  0x01  0x01  0x01  0x01\n",
       "    ⋮                             ⋮  ⋱           ⋮                        \n",
       " 0x02  0x02  0x02  0x02  0x02  0x02     0x02  0x02  0x02  0x02  0x02  0x02\n",
       " 0x02  0x02  0x02  0x02  0x02  0x02     0x02  0x02  0x02  0x02  0x02  0x02\n",
       " 0x02  0x02  0x02  0x02  0x02  0x02  …  0x02  0x02  0x02  0x02  0x02  0x02\n",
       " 0x02  0x02  0x02  0x02  0x02  0x02     0x02  0x02  0x02  0x02  0x02  0x02\n",
       " 0x02  0x02  0x02  0x02  0x02  0x02     0x02  0x02  0x02  0x02  0x02  0x02\n",
       " 0x02  0x02  0x02  0x02  0x02  0x02     0x02  0x02  0x02  0x02  0x02  0x02\n",
       " 0x02  0x02  0x02  0x02  0x02  0x02     0x02  0x02  0x02  0x02  0x02  0x02\n",
       " 0x02  0x02  0x02  0x02  0x02  0x02  …  0x02  0x02  0x02  0x02  0x02  0x02\n",
       " 0x02  0x02  0x02  0x02  0x02  0x02     0x02  0x02  0x02  0x02  0x02  0x02\n",
       " 0x02  0x02  0x02  0x02  0x02  0x02     0x02  0x02  0x02  0x02  0x02  0x02\n",
       " 0x02  0x02  0x02  0x02  0x02  0x02     0x02  0x02  0x02  0x02  0x02  0x02\n",
       " 0x02  0x02  0x02  0x02  0x02  0x02     0x02  0x02  0x02  0x02  0x02  0x02"
      ]
     },
     "execution_count": 81,
     "metadata": {},
     "output_type": "execute_result"
    }
   ],
   "source": [
    "Y=map(x->UInt8(x),Y)"
   ]
  },
  {
   "cell_type": "code",
   "execution_count": 82,
   "metadata": {
    "collapsed": false
   },
   "outputs": [
    {
     "data": {
      "image/svg+xml": [
       "<?xml version=\"1.0\" encoding=\"UTF-8\"?>\n",
       "<!DOCTYPE svg PUBLIC \"-//W3C//DTD SVG 1.1//EN\"\n",
       " \"http://www.w3.org/Graphics/SVG/1.1/DTD/svg11.dtd\">\n",
       "<svg xmlns=\"http://www.w3.org/2000/svg\" version=\"1.1\"\n",
       "     width=\"250.0mm\" height=\"25.0mm\"\n",
       "     shape-rendering=\"crispEdges\">\n",
       "<rect x=\"0.0mm\" y=\"0.0mm\"\n",
       "      width=\"0.9765625mm\" height=\"25.0mm\"\n",
       "      fill=\"#610102\" stroke=\"none\" />\n",
       "<rect x=\"0.9765625mm\" y=\"0.0mm\"\n",
       "      width=\"0.9765625mm\" height=\"25.0mm\"\n",
       "      fill=\"#650202\" stroke=\"none\" />\n",
       "<rect x=\"1.953125mm\" y=\"0.0mm\"\n",
       "      width=\"0.9765625mm\" height=\"25.0mm\"\n",
       "      fill=\"#690303\" stroke=\"none\" />\n",
       "<rect x=\"2.9296875mm\" y=\"0.0mm\"\n",
       "      width=\"0.9765625mm\" height=\"25.0mm\"\n",
       "      fill=\"#6E0404\" stroke=\"none\" />\n",
       "<rect x=\"3.90625mm\" y=\"0.0mm\"\n",
       "      width=\"0.9765625mm\" height=\"25.0mm\"\n",
       "      fill=\"#720505\" stroke=\"none\" />\n",
       "<rect x=\"4.8828125mm\" y=\"0.0mm\"\n",
       "      width=\"0.9765625mm\" height=\"25.0mm\"\n",
       "      fill=\"#760606\" stroke=\"none\" />\n",
       "<rect x=\"5.859375mm\" y=\"0.0mm\"\n",
       "      width=\"0.9765625mm\" height=\"25.0mm\"\n",
       "      fill=\"#7A0807\" stroke=\"none\" />\n",
       "<rect x=\"6.8359375mm\" y=\"0.0mm\"\n",
       "      width=\"0.9765625mm\" height=\"25.0mm\"\n",
       "      fill=\"#7E0A08\" stroke=\"none\" />\n",
       "<rect x=\"7.8125mm\" y=\"0.0mm\"\n",
       "      width=\"0.9765625mm\" height=\"25.0mm\"\n",
       "      fill=\"#820C0A\" stroke=\"none\" />\n",
       "<rect x=\"8.7890625mm\" y=\"0.0mm\"\n",
       "      width=\"0.9765625mm\" height=\"25.0mm\"\n",
       "      fill=\"#860E0C\" stroke=\"none\" />\n",
       "<rect x=\"9.765625mm\" y=\"0.0mm\"\n",
       "      width=\"0.9765625mm\" height=\"25.0mm\"\n",
       "      fill=\"#8A100D\" stroke=\"none\" />\n",
       "<rect x=\"10.7421875mm\" y=\"0.0mm\"\n",
       "      width=\"0.9765625mm\" height=\"25.0mm\"\n",
       "      fill=\"#8E120F\" stroke=\"none\" />\n",
       "<rect x=\"11.71875mm\" y=\"0.0mm\"\n",
       "      width=\"0.9765625mm\" height=\"25.0mm\"\n",
       "      fill=\"#921411\" stroke=\"none\" />\n",
       "<rect x=\"12.6953125mm\" y=\"0.0mm\"\n",
       "      width=\"0.9765625mm\" height=\"25.0mm\"\n",
       "      fill=\"#961613\" stroke=\"none\" />\n",
       "<rect x=\"13.671875mm\" y=\"0.0mm\"\n",
       "      width=\"0.9765625mm\" height=\"25.0mm\"\n",
       "      fill=\"#9A1814\" stroke=\"none\" />\n",
       "<rect x=\"14.6484375mm\" y=\"0.0mm\"\n",
       "      width=\"0.9765625mm\" height=\"25.0mm\"\n",
       "      fill=\"#9D1A16\" stroke=\"none\" />\n",
       "<rect x=\"15.625mm\" y=\"0.0mm\"\n",
       "      width=\"0.9765625mm\" height=\"25.0mm\"\n",
       "      fill=\"#A11C18\" stroke=\"none\" />\n",
       "<rect x=\"16.6015625mm\" y=\"0.0mm\"\n",
       "      width=\"0.9765625mm\" height=\"25.0mm\"\n",
       "      fill=\"#A41F1A\" stroke=\"none\" />\n",
       "<rect x=\"17.578125mm\" y=\"0.0mm\"\n",
       "      width=\"0.9765625mm\" height=\"25.0mm\"\n",
       "      fill=\"#A8211B\" stroke=\"none\" />\n",
       "<rect x=\"18.5546875mm\" y=\"0.0mm\"\n",
       "      width=\"0.9765625mm\" height=\"25.0mm\"\n",
       "      fill=\"#AB231D\" stroke=\"none\" />\n",
       "<rect x=\"19.53125mm\" y=\"0.0mm\"\n",
       "      width=\"0.9765625mm\" height=\"25.0mm\"\n",
       "      fill=\"#AF251F\" stroke=\"none\" />\n",
       "<rect x=\"20.5078125mm\" y=\"0.0mm\"\n",
       "      width=\"0.9765625mm\" height=\"25.0mm\"\n",
       "      fill=\"#B22721\" stroke=\"none\" />\n",
       "<rect x=\"21.484375mm\" y=\"0.0mm\"\n",
       "      width=\"0.9765625mm\" height=\"25.0mm\"\n",
       "      fill=\"#B52A23\" stroke=\"none\" />\n",
       "<rect x=\"22.4609375mm\" y=\"0.0mm\"\n",
       "      width=\"0.9765625mm\" height=\"25.0mm\"\n",
       "      fill=\"#B82C24\" stroke=\"none\" />\n",
       "<rect x=\"23.4375mm\" y=\"0.0mm\"\n",
       "      width=\"0.9765625mm\" height=\"25.0mm\"\n",
       "      fill=\"#BB2E26\" stroke=\"none\" />\n",
       "<rect x=\"24.4140625mm\" y=\"0.0mm\"\n",
       "      width=\"0.9765625mm\" height=\"25.0mm\"\n",
       "      fill=\"#BE3128\" stroke=\"none\" />\n",
       "<rect x=\"25.390625mm\" y=\"0.0mm\"\n",
       "      width=\"0.9765625mm\" height=\"25.0mm\"\n",
       "      fill=\"#C1332A\" stroke=\"none\" />\n",
       "<rect x=\"26.3671875mm\" y=\"0.0mm\"\n",
       "      width=\"0.9765625mm\" height=\"25.0mm\"\n",
       "      fill=\"#C4352C\" stroke=\"none\" />\n",
       "<rect x=\"27.34375mm\" y=\"0.0mm\"\n",
       "      width=\"0.9765625mm\" height=\"25.0mm\"\n",
       "      fill=\"#C7372E\" stroke=\"none\" />\n",
       "<rect x=\"28.3203125mm\" y=\"0.0mm\"\n",
       "      width=\"0.9765625mm\" height=\"25.0mm\"\n",
       "      fill=\"#CA3A30\" stroke=\"none\" />\n",
       "<rect x=\"29.296875mm\" y=\"0.0mm\"\n",
       "      width=\"0.9765625mm\" height=\"25.0mm\"\n",
       "      fill=\"#CC3C32\" stroke=\"none\" />\n",
       "<rect x=\"30.2734375mm\" y=\"0.0mm\"\n",
       "      width=\"0.9765625mm\" height=\"25.0mm\"\n",
       "      fill=\"#CF3F34\" stroke=\"none\" />\n",
       "<rect x=\"31.25mm\" y=\"0.0mm\"\n",
       "      width=\"0.9765625mm\" height=\"25.0mm\"\n",
       "      fill=\"#D24136\" stroke=\"none\" />\n",
       "<rect x=\"32.2265625mm\" y=\"0.0mm\"\n",
       "      width=\"0.9765625mm\" height=\"25.0mm\"\n",
       "      fill=\"#D44338\" stroke=\"none\" />\n",
       "<rect x=\"33.203125mm\" y=\"0.0mm\"\n",
       "      width=\"0.9765625mm\" height=\"25.0mm\"\n",
       "      fill=\"#D6463A\" stroke=\"none\" />\n",
       "<rect x=\"34.1796875mm\" y=\"0.0mm\"\n",
       "      width=\"0.9765625mm\" height=\"25.0mm\"\n",
       "      fill=\"#D9483C\" stroke=\"none\" />\n",
       "<rect x=\"35.15625mm\" y=\"0.0mm\"\n",
       "      width=\"0.9765625mm\" height=\"25.0mm\"\n",
       "      fill=\"#DB4B3E\" stroke=\"none\" />\n",
       "<rect x=\"36.1328125mm\" y=\"0.0mm\"\n",
       "      width=\"0.9765625mm\" height=\"25.0mm\"\n",
       "      fill=\"#DD4D40\" stroke=\"none\" />\n",
       "<rect x=\"37.109375mm\" y=\"0.0mm\"\n",
       "      width=\"0.9765625mm\" height=\"25.0mm\"\n",
       "      fill=\"#DF5042\" stroke=\"none\" />\n",
       "<rect x=\"38.0859375mm\" y=\"0.0mm\"\n",
       "      width=\"0.9765625mm\" height=\"25.0mm\"\n",
       "      fill=\"#E15244\" stroke=\"none\" />\n",
       "<rect x=\"39.0625mm\" y=\"0.0mm\"\n",
       "      width=\"0.9765625mm\" height=\"25.0mm\"\n",
       "      fill=\"#E35446\" stroke=\"none\" />\n",
       "<rect x=\"40.0390625mm\" y=\"0.0mm\"\n",
       "      width=\"0.9765625mm\" height=\"25.0mm\"\n",
       "      fill=\"#E55748\" stroke=\"none\" />\n",
       "<rect x=\"41.015625mm\" y=\"0.0mm\"\n",
       "      width=\"0.9765625mm\" height=\"25.0mm\"\n",
       "      fill=\"#E7594B\" stroke=\"none\" />\n",
       "<rect x=\"41.9921875mm\" y=\"0.0mm\"\n",
       "      width=\"0.9765625mm\" height=\"25.0mm\"\n",
       "      fill=\"#E95C4D\" stroke=\"none\" />\n",
       "<rect x=\"42.96875mm\" y=\"0.0mm\"\n",
       "      width=\"0.9765625mm\" height=\"25.0mm\"\n",
       "      fill=\"#EB5E4F\" stroke=\"none\" />\n",
       "<rect x=\"43.9453125mm\" y=\"0.0mm\"\n",
       "      width=\"0.9765625mm\" height=\"25.0mm\"\n",
       "      fill=\"#EC6151\" stroke=\"none\" />\n",
       "<rect x=\"44.921875mm\" y=\"0.0mm\"\n",
       "      width=\"0.9765625mm\" height=\"25.0mm\"\n",
       "      fill=\"#EE6353\" stroke=\"none\" />\n",
       "<rect x=\"45.8984375mm\" y=\"0.0mm\"\n",
       "      width=\"0.9765625mm\" height=\"25.0mm\"\n",
       "      fill=\"#EF6656\" stroke=\"none\" />\n",
       "<rect x=\"46.875mm\" y=\"0.0mm\"\n",
       "      width=\"0.9765625mm\" height=\"25.0mm\"\n",
       "      fill=\"#F16858\" stroke=\"none\" />\n",
       "<rect x=\"47.8515625mm\" y=\"0.0mm\"\n",
       "      width=\"0.9765625mm\" height=\"25.0mm\"\n",
       "      fill=\"#F26A5A\" stroke=\"none\" />\n",
       "<rect x=\"48.828125mm\" y=\"0.0mm\"\n",
       "      width=\"0.9765625mm\" height=\"25.0mm\"\n",
       "      fill=\"#F46D5C\" stroke=\"none\" />\n",
       "<rect x=\"49.8046875mm\" y=\"0.0mm\"\n",
       "      width=\"0.9765625mm\" height=\"25.0mm\"\n",
       "      fill=\"#F56F5E\" stroke=\"none\" />\n",
       "<rect x=\"50.78125mm\" y=\"0.0mm\"\n",
       "      width=\"0.9765625mm\" height=\"25.0mm\"\n",
       "      fill=\"#F67261\" stroke=\"none\" />\n",
       "<rect x=\"51.7578125mm\" y=\"0.0mm\"\n",
       "      width=\"0.9765625mm\" height=\"25.0mm\"\n",
       "      fill=\"#F77463\" stroke=\"none\" />\n",
       "<rect x=\"52.734375mm\" y=\"0.0mm\"\n",
       "      width=\"0.9765625mm\" height=\"25.0mm\"\n",
       "      fill=\"#F97665\" stroke=\"none\" />\n",
       "<rect x=\"53.7109375mm\" y=\"0.0mm\"\n",
       "      width=\"0.9765625mm\" height=\"25.0mm\"\n",
       "      fill=\"#FA7967\" stroke=\"none\" />\n",
       "<rect x=\"54.6875mm\" y=\"0.0mm\"\n",
       "      width=\"0.9765625mm\" height=\"25.0mm\"\n",
       "      fill=\"#FB7B69\" stroke=\"none\" />\n",
       "<rect x=\"55.6640625mm\" y=\"0.0mm\"\n",
       "      width=\"0.9765625mm\" height=\"25.0mm\"\n",
       "      fill=\"#FC7D6C\" stroke=\"none\" />\n",
       "<rect x=\"56.640625mm\" y=\"0.0mm\"\n",
       "      width=\"0.9765625mm\" height=\"25.0mm\"\n",
       "      fill=\"#FD806E\" stroke=\"none\" />\n",
       "<rect x=\"57.6171875mm\" y=\"0.0mm\"\n",
       "      width=\"0.9765625mm\" height=\"25.0mm\"\n",
       "      fill=\"#FE8270\" stroke=\"none\" />\n",
       "<rect x=\"58.59375mm\" y=\"0.0mm\"\n",
       "      width=\"0.9765625mm\" height=\"25.0mm\"\n",
       "      fill=\"#FF8472\" stroke=\"none\" />\n",
       "<rect x=\"59.5703125mm\" y=\"0.0mm\"\n",
       "      width=\"0.9765625mm\" height=\"25.0mm\"\n",
       "      fill=\"#FF8674\" stroke=\"none\" />\n",
       "<rect x=\"60.546875mm\" y=\"0.0mm\"\n",
       "      width=\"0.9765625mm\" height=\"25.0mm\"\n",
       "      fill=\"#FF8977\" stroke=\"none\" />\n",
       "<rect x=\"61.5234375mm\" y=\"0.0mm\"\n",
       "      width=\"0.9765625mm\" height=\"25.0mm\"\n",
       "      fill=\"#FF8B79\" stroke=\"none\" />\n",
       "<rect x=\"62.5mm\" y=\"0.0mm\"\n",
       "      width=\"0.9765625mm\" height=\"25.0mm\"\n",
       "      fill=\"#FF8D7B\" stroke=\"none\" />\n",
       "<rect x=\"63.4765625mm\" y=\"0.0mm\"\n",
       "      width=\"0.9765625mm\" height=\"25.0mm\"\n",
       "      fill=\"#FF8F7D\" stroke=\"none\" />\n",
       "<rect x=\"64.453125mm\" y=\"0.0mm\"\n",
       "      width=\"0.9765625mm\" height=\"25.0mm\"\n",
       "      fill=\"#FF917F\" stroke=\"none\" />\n",
       "<rect x=\"65.4296875mm\" y=\"0.0mm\"\n",
       "      width=\"0.9765625mm\" height=\"25.0mm\"\n",
       "      fill=\"#FF9381\" stroke=\"none\" />\n",
       "<rect x=\"66.40625mm\" y=\"0.0mm\"\n",
       "      width=\"0.9765625mm\" height=\"25.0mm\"\n",
       "      fill=\"#FF9584\" stroke=\"none\" />\n",
       "<rect x=\"67.3828125mm\" y=\"0.0mm\"\n",
       "      width=\"0.9765625mm\" height=\"25.0mm\"\n",
       "      fill=\"#FF9886\" stroke=\"none\" />\n",
       "<rect x=\"68.359375mm\" y=\"0.0mm\"\n",
       "      width=\"0.9765625mm\" height=\"25.0mm\"\n",
       "      fill=\"#FF9A88\" stroke=\"none\" />\n",
       "<rect x=\"69.3359375mm\" y=\"0.0mm\"\n",
       "      width=\"0.9765625mm\" height=\"25.0mm\"\n",
       "      fill=\"#FF9C8A\" stroke=\"none\" />\n",
       "<rect x=\"70.3125mm\" y=\"0.0mm\"\n",
       "      width=\"0.9765625mm\" height=\"25.0mm\"\n",
       "      fill=\"#FF9E8C\" stroke=\"none\" />\n",
       "<rect x=\"71.2890625mm\" y=\"0.0mm\"\n",
       "      width=\"0.9765625mm\" height=\"25.0mm\"\n",
       "      fill=\"#FFA08E\" stroke=\"none\" />\n",
       "<rect x=\"72.265625mm\" y=\"0.0mm\"\n",
       "      width=\"0.9765625mm\" height=\"25.0mm\"\n",
       "      fill=\"#FFA290\" stroke=\"none\" />\n",
       "<rect x=\"73.2421875mm\" y=\"0.0mm\"\n",
       "      width=\"0.9765625mm\" height=\"25.0mm\"\n",
       "      fill=\"#FFA492\" stroke=\"none\" />\n",
       "<rect x=\"74.21875mm\" y=\"0.0mm\"\n",
       "      width=\"0.9765625mm\" height=\"25.0mm\"\n",
       "      fill=\"#FFA695\" stroke=\"none\" />\n",
       "<rect x=\"75.1953125mm\" y=\"0.0mm\"\n",
       "      width=\"0.9765625mm\" height=\"25.0mm\"\n",
       "      fill=\"#FFA897\" stroke=\"none\" />\n",
       "<rect x=\"76.171875mm\" y=\"0.0mm\"\n",
       "      width=\"0.9765625mm\" height=\"25.0mm\"\n",
       "      fill=\"#FFAA99\" stroke=\"none\" />\n",
       "<rect x=\"77.1484375mm\" y=\"0.0mm\"\n",
       "      width=\"0.9765625mm\" height=\"25.0mm\"\n",
       "      fill=\"#FFAB9B\" stroke=\"none\" />\n",
       "<rect x=\"78.125mm\" y=\"0.0mm\"\n",
       "      width=\"0.9765625mm\" height=\"25.0mm\"\n",
       "      fill=\"#FFAD9D\" stroke=\"none\" />\n",
       "<rect x=\"79.1015625mm\" y=\"0.0mm\"\n",
       "      width=\"0.9765625mm\" height=\"25.0mm\"\n",
       "      fill=\"#FFAF9F\" stroke=\"none\" />\n",
       "<rect x=\"80.078125mm\" y=\"0.0mm\"\n",
       "      width=\"0.9765625mm\" height=\"25.0mm\"\n",
       "      fill=\"#FFB1A1\" stroke=\"none\" />\n",
       "<rect x=\"81.0546875mm\" y=\"0.0mm\"\n",
       "      width=\"0.9765625mm\" height=\"25.0mm\"\n",
       "      fill=\"#FFB3A3\" stroke=\"none\" />\n",
       "<rect x=\"82.03125mm\" y=\"0.0mm\"\n",
       "      width=\"0.9765625mm\" height=\"25.0mm\"\n",
       "      fill=\"#FFB5A5\" stroke=\"none\" />\n",
       "<rect x=\"83.0078125mm\" y=\"0.0mm\"\n",
       "      width=\"0.9765625mm\" height=\"25.0mm\"\n",
       "      fill=\"#FFB7A7\" stroke=\"none\" />\n",
       "<rect x=\"83.984375mm\" y=\"0.0mm\"\n",
       "      width=\"0.9765625mm\" height=\"25.0mm\"\n",
       "      fill=\"#FFB8A9\" stroke=\"none\" />\n",
       "<rect x=\"84.9609375mm\" y=\"0.0mm\"\n",
       "      width=\"0.9765625mm\" height=\"25.0mm\"\n",
       "      fill=\"#FFBAAB\" stroke=\"none\" />\n",
       "<rect x=\"85.9375mm\" y=\"0.0mm\"\n",
       "      width=\"0.9765625mm\" height=\"25.0mm\"\n",
       "      fill=\"#FFBCAD\" stroke=\"none\" />\n",
       "<rect x=\"86.9140625mm\" y=\"0.0mm\"\n",
       "      width=\"0.9765625mm\" height=\"25.0mm\"\n",
       "      fill=\"#FFBEAF\" stroke=\"none\" />\n",
       "<rect x=\"87.890625mm\" y=\"0.0mm\"\n",
       "      width=\"0.9765625mm\" height=\"25.0mm\"\n",
       "      fill=\"#FFBFB1\" stroke=\"none\" />\n",
       "<rect x=\"88.8671875mm\" y=\"0.0mm\"\n",
       "      width=\"0.9765625mm\" height=\"25.0mm\"\n",
       "      fill=\"#FFC1B3\" stroke=\"none\" />\n",
       "<rect x=\"89.84375mm\" y=\"0.0mm\"\n",
       "      width=\"0.9765625mm\" height=\"25.0mm\"\n",
       "      fill=\"#FFC3B5\" stroke=\"none\" />\n",
       "<rect x=\"90.8203125mm\" y=\"0.0mm\"\n",
       "      width=\"0.9765625mm\" height=\"25.0mm\"\n",
       "      fill=\"#FFC5B7\" stroke=\"none\" />\n",
       "<rect x=\"91.796875mm\" y=\"0.0mm\"\n",
       "      width=\"0.9765625mm\" height=\"25.0mm\"\n",
       "      fill=\"#FFC6B9\" stroke=\"none\" />\n",
       "<rect x=\"92.7734375mm\" y=\"0.0mm\"\n",
       "      width=\"0.9765625mm\" height=\"25.0mm\"\n",
       "      fill=\"#FFC8BB\" stroke=\"none\" />\n",
       "<rect x=\"93.75mm\" y=\"0.0mm\"\n",
       "      width=\"0.9765625mm\" height=\"25.0mm\"\n",
       "      fill=\"#FFC9BC\" stroke=\"none\" />\n",
       "<rect x=\"94.7265625mm\" y=\"0.0mm\"\n",
       "      width=\"0.9765625mm\" height=\"25.0mm\"\n",
       "      fill=\"#FFCBBE\" stroke=\"none\" />\n",
       "<rect x=\"95.703125mm\" y=\"0.0mm\"\n",
       "      width=\"0.9765625mm\" height=\"25.0mm\"\n",
       "      fill=\"#FFCDC0\" stroke=\"none\" />\n",
       "<rect x=\"96.6796875mm\" y=\"0.0mm\"\n",
       "      width=\"0.9765625mm\" height=\"25.0mm\"\n",
       "      fill=\"#FFCEC2\" stroke=\"none\" />\n",
       "<rect x=\"97.65625mm\" y=\"0.0mm\"\n",
       "      width=\"0.9765625mm\" height=\"25.0mm\"\n",
       "      fill=\"#FFD0C4\" stroke=\"none\" />\n",
       "<rect x=\"98.6328125mm\" y=\"0.0mm\"\n",
       "      width=\"0.9765625mm\" height=\"25.0mm\"\n",
       "      fill=\"#FFD1C6\" stroke=\"none\" />\n",
       "<rect x=\"99.609375mm\" y=\"0.0mm\"\n",
       "      width=\"0.9765625mm\" height=\"25.0mm\"\n",
       "      fill=\"#FFD3C8\" stroke=\"none\" />\n",
       "<rect x=\"100.5859375mm\" y=\"0.0mm\"\n",
       "      width=\"0.9765625mm\" height=\"25.0mm\"\n",
       "      fill=\"#FFD4C9\" stroke=\"none\" />\n",
       "<rect x=\"101.5625mm\" y=\"0.0mm\"\n",
       "      width=\"0.9765625mm\" height=\"25.0mm\"\n",
       "      fill=\"#FFD6CB\" stroke=\"none\" />\n",
       "<rect x=\"102.5390625mm\" y=\"0.0mm\"\n",
       "      width=\"0.9765625mm\" height=\"25.0mm\"\n",
       "      fill=\"#FFD7CD\" stroke=\"none\" />\n",
       "<rect x=\"103.515625mm\" y=\"0.0mm\"\n",
       "      width=\"0.9765625mm\" height=\"25.0mm\"\n",
       "      fill=\"#FFD9CF\" stroke=\"none\" />\n",
       "<rect x=\"104.4921875mm\" y=\"0.0mm\"\n",
       "      width=\"0.9765625mm\" height=\"25.0mm\"\n",
       "      fill=\"#FFDAD1\" stroke=\"none\" />\n",
       "<rect x=\"105.46875mm\" y=\"0.0mm\"\n",
       "      width=\"0.9765625mm\" height=\"25.0mm\"\n",
       "      fill=\"#FFDCD2\" stroke=\"none\" />\n",
       "<rect x=\"106.4453125mm\" y=\"0.0mm\"\n",
       "      width=\"0.9765625mm\" height=\"25.0mm\"\n",
       "      fill=\"#FFDDD4\" stroke=\"none\" />\n",
       "<rect x=\"107.421875mm\" y=\"0.0mm\"\n",
       "      width=\"0.9765625mm\" height=\"25.0mm\"\n",
       "      fill=\"#FFDFD6\" stroke=\"none\" />\n",
       "<rect x=\"108.3984375mm\" y=\"0.0mm\"\n",
       "      width=\"0.9765625mm\" height=\"25.0mm\"\n",
       "      fill=\"#FFE0D8\" stroke=\"none\" />\n",
       "<rect x=\"109.375mm\" y=\"0.0mm\"\n",
       "      width=\"0.9765625mm\" height=\"25.0mm\"\n",
       "      fill=\"#FFE2D9\" stroke=\"none\" />\n",
       "<rect x=\"110.3515625mm\" y=\"0.0mm\"\n",
       "      width=\"0.9765625mm\" height=\"25.0mm\"\n",
       "      fill=\"#FFE3DB\" stroke=\"none\" />\n",
       "<rect x=\"111.328125mm\" y=\"0.0mm\"\n",
       "      width=\"0.9765625mm\" height=\"25.0mm\"\n",
       "      fill=\"#FFE4DD\" stroke=\"none\" />\n",
       "<rect x=\"112.3046875mm\" y=\"0.0mm\"\n",
       "      width=\"0.9765625mm\" height=\"25.0mm\"\n",
       "      fill=\"#FFE6DE\" stroke=\"none\" />\n",
       "<rect x=\"113.28125mm\" y=\"0.0mm\"\n",
       "      width=\"0.9765625mm\" height=\"25.0mm\"\n",
       "      fill=\"#FFE7E0\" stroke=\"none\" />\n",
       "<rect x=\"114.2578125mm\" y=\"0.0mm\"\n",
       "      width=\"0.9765625mm\" height=\"25.0mm\"\n",
       "      fill=\"#FFE8E2\" stroke=\"none\" />\n",
       "<rect x=\"115.234375mm\" y=\"0.0mm\"\n",
       "      width=\"0.9765625mm\" height=\"25.0mm\"\n",
       "      fill=\"#FFEAE3\" stroke=\"none\" />\n",
       "<rect x=\"116.2109375mm\" y=\"0.0mm\"\n",
       "      width=\"0.9765625mm\" height=\"25.0mm\"\n",
       "      fill=\"#FFEBE5\" stroke=\"none\" />\n",
       "<rect x=\"117.1875mm\" y=\"0.0mm\"\n",
       "      width=\"0.9765625mm\" height=\"25.0mm\"\n",
       "      fill=\"#FFECE7\" stroke=\"none\" />\n",
       "<rect x=\"118.1640625mm\" y=\"0.0mm\"\n",
       "      width=\"0.9765625mm\" height=\"25.0mm\"\n",
       "      fill=\"#FFEDE8\" stroke=\"none\" />\n",
       "<rect x=\"119.140625mm\" y=\"0.0mm\"\n",
       "      width=\"0.9765625mm\" height=\"25.0mm\"\n",
       "      fill=\"#FFEFEA\" stroke=\"none\" />\n",
       "<rect x=\"120.1171875mm\" y=\"0.0mm\"\n",
       "      width=\"0.9765625mm\" height=\"25.0mm\"\n",
       "      fill=\"#FFF0EB\" stroke=\"none\" />\n",
       "<rect x=\"121.09375mm\" y=\"0.0mm\"\n",
       "      width=\"0.9765625mm\" height=\"25.0mm\"\n",
       "      fill=\"#FFF1ED\" stroke=\"none\" />\n",
       "<rect x=\"122.0703125mm\" y=\"0.0mm\"\n",
       "      width=\"0.9765625mm\" height=\"25.0mm\"\n",
       "      fill=\"#FFF2EF\" stroke=\"none\" />\n",
       "<rect x=\"123.046875mm\" y=\"0.0mm\"\n",
       "      width=\"0.9765625mm\" height=\"25.0mm\"\n",
       "      fill=\"#FFF4F0\" stroke=\"none\" />\n",
       "<rect x=\"124.0234375mm\" y=\"0.0mm\"\n",
       "      width=\"0.9765625mm\" height=\"25.0mm\"\n",
       "      fill=\"#FFF5F2\" stroke=\"none\" />\n",
       "<rect x=\"125.0mm\" y=\"0.0mm\"\n",
       "      width=\"0.9765625mm\" height=\"25.0mm\"\n",
       "      fill=\"#F0F9FE\" stroke=\"none\" />\n",
       "<rect x=\"125.9765625mm\" y=\"0.0mm\"\n",
       "      width=\"0.9765625mm\" height=\"25.0mm\"\n",
       "      fill=\"#EFF9FE\" stroke=\"none\" />\n",
       "<rect x=\"126.953125mm\" y=\"0.0mm\"\n",
       "      width=\"0.9765625mm\" height=\"25.0mm\"\n",
       "      fill=\"#EDF8FE\" stroke=\"none\" />\n",
       "<rect x=\"127.9296875mm\" y=\"0.0mm\"\n",
       "      width=\"0.9765625mm\" height=\"25.0mm\"\n",
       "      fill=\"#ECF7FD\" stroke=\"none\" />\n",
       "<rect x=\"128.90625mm\" y=\"0.0mm\"\n",
       "      width=\"0.9765625mm\" height=\"25.0mm\"\n",
       "      fill=\"#EAF6FD\" stroke=\"none\" />\n",
       "<rect x=\"129.8828125mm\" y=\"0.0mm\"\n",
       "      width=\"0.9765625mm\" height=\"25.0mm\"\n",
       "      fill=\"#E8F6FD\" stroke=\"none\" />\n",
       "<rect x=\"130.859375mm\" y=\"0.0mm\"\n",
       "      width=\"0.9765625mm\" height=\"25.0mm\"\n",
       "      fill=\"#E6F5FD\" stroke=\"none\" />\n",
       "<rect x=\"131.8359375mm\" y=\"0.0mm\"\n",
       "      width=\"0.9765625mm\" height=\"25.0mm\"\n",
       "      fill=\"#E5F4FD\" stroke=\"none\" />\n",
       "<rect x=\"132.8125mm\" y=\"0.0mm\"\n",
       "      width=\"0.9765625mm\" height=\"25.0mm\"\n",
       "      fill=\"#E3F3FC\" stroke=\"none\" />\n",
       "<rect x=\"133.7890625mm\" y=\"0.0mm\"\n",
       "      width=\"0.9765625mm\" height=\"25.0mm\"\n",
       "      fill=\"#E1F3FC\" stroke=\"none\" />\n",
       "<rect x=\"134.765625mm\" y=\"0.0mm\"\n",
       "      width=\"0.9765625mm\" height=\"25.0mm\"\n",
       "      fill=\"#E0F2FC\" stroke=\"none\" />\n",
       "<rect x=\"135.7421875mm\" y=\"0.0mm\"\n",
       "      width=\"0.9765625mm\" height=\"25.0mm\"\n",
       "      fill=\"#DEF1FC\" stroke=\"none\" />\n",
       "<rect x=\"136.71875mm\" y=\"0.0mm\"\n",
       "      width=\"0.9765625mm\" height=\"25.0mm\"\n",
       "      fill=\"#DCF0FC\" stroke=\"none\" />\n",
       "<rect x=\"137.6953125mm\" y=\"0.0mm\"\n",
       "      width=\"0.9765625mm\" height=\"25.0mm\"\n",
       "      fill=\"#DAEFFB\" stroke=\"none\" />\n",
       "<rect x=\"138.671875mm\" y=\"0.0mm\"\n",
       "      width=\"0.9765625mm\" height=\"25.0mm\"\n",
       "      fill=\"#D9EFFB\" stroke=\"none\" />\n",
       "<rect x=\"139.6484375mm\" y=\"0.0mm\"\n",
       "      width=\"0.9765625mm\" height=\"25.0mm\"\n",
       "      fill=\"#D7EEFB\" stroke=\"none\" />\n",
       "<rect x=\"140.625mm\" y=\"0.0mm\"\n",
       "      width=\"0.9765625mm\" height=\"25.0mm\"\n",
       "      fill=\"#D5EDFB\" stroke=\"none\" />\n",
       "<rect x=\"141.6015625mm\" y=\"0.0mm\"\n",
       "      width=\"0.9765625mm\" height=\"25.0mm\"\n",
       "      fill=\"#D3ECFB\" stroke=\"none\" />\n",
       "<rect x=\"142.578125mm\" y=\"0.0mm\"\n",
       "      width=\"0.9765625mm\" height=\"25.0mm\"\n",
       "      fill=\"#D1EBFA\" stroke=\"none\" />\n",
       "<rect x=\"143.5546875mm\" y=\"0.0mm\"\n",
       "      width=\"0.9765625mm\" height=\"25.0mm\"\n",
       "      fill=\"#CFEAFA\" stroke=\"none\" />\n",
       "<rect x=\"144.53125mm\" y=\"0.0mm\"\n",
       "      width=\"0.9765625mm\" height=\"25.0mm\"\n",
       "      fill=\"#CEE9FA\" stroke=\"none\" />\n",
       "<rect x=\"145.5078125mm\" y=\"0.0mm\"\n",
       "      width=\"0.9765625mm\" height=\"25.0mm\"\n",
       "      fill=\"#CCE8FA\" stroke=\"none\" />\n",
       "<rect x=\"146.484375mm\" y=\"0.0mm\"\n",
       "      width=\"0.9765625mm\" height=\"25.0mm\"\n",
       "      fill=\"#CAE7F9\" stroke=\"none\" />\n",
       "<rect x=\"147.4609375mm\" y=\"0.0mm\"\n",
       "      width=\"0.9765625mm\" height=\"25.0mm\"\n",
       "      fill=\"#C8E6F9\" stroke=\"none\" />\n",
       "<rect x=\"148.4375mm\" y=\"0.0mm\"\n",
       "      width=\"0.9765625mm\" height=\"25.0mm\"\n",
       "      fill=\"#C6E5F9\" stroke=\"none\" />\n",
       "<rect x=\"149.4140625mm\" y=\"0.0mm\"\n",
       "      width=\"0.9765625mm\" height=\"25.0mm\"\n",
       "      fill=\"#C4E4F9\" stroke=\"none\" />\n",
       "<rect x=\"150.390625mm\" y=\"0.0mm\"\n",
       "      width=\"0.9765625mm\" height=\"25.0mm\"\n",
       "      fill=\"#C2E3F8\" stroke=\"none\" />\n",
       "<rect x=\"151.3671875mm\" y=\"0.0mm\"\n",
       "      width=\"0.9765625mm\" height=\"25.0mm\"\n",
       "      fill=\"#C0E2F8\" stroke=\"none\" />\n",
       "<rect x=\"152.34375mm\" y=\"0.0mm\"\n",
       "      width=\"0.9765625mm\" height=\"25.0mm\"\n",
       "      fill=\"#BEE1F8\" stroke=\"none\" />\n",
       "<rect x=\"153.3203125mm\" y=\"0.0mm\"\n",
       "      width=\"0.9765625mm\" height=\"25.0mm\"\n",
       "      fill=\"#BCE0F8\" stroke=\"none\" />\n",
       "<rect x=\"154.296875mm\" y=\"0.0mm\"\n",
       "      width=\"0.9765625mm\" height=\"25.0mm\"\n",
       "      fill=\"#BBDFF7\" stroke=\"none\" />\n",
       "<rect x=\"155.2734375mm\" y=\"0.0mm\"\n",
       "      width=\"0.9765625mm\" height=\"25.0mm\"\n",
       "      fill=\"#B9DEF7\" stroke=\"none\" />\n",
       "<rect x=\"156.25mm\" y=\"0.0mm\"\n",
       "      width=\"0.9765625mm\" height=\"25.0mm\"\n",
       "      fill=\"#B7DDF7\" stroke=\"none\" />\n",
       "<rect x=\"157.2265625mm\" y=\"0.0mm\"\n",
       "      width=\"0.9765625mm\" height=\"25.0mm\"\n",
       "      fill=\"#B5DCF6\" stroke=\"none\" />\n",
       "<rect x=\"158.203125mm\" y=\"0.0mm\"\n",
       "      width=\"0.9765625mm\" height=\"25.0mm\"\n",
       "      fill=\"#B3DBF6\" stroke=\"none\" />\n",
       "<rect x=\"159.1796875mm\" y=\"0.0mm\"\n",
       "      width=\"0.9765625mm\" height=\"25.0mm\"\n",
       "      fill=\"#B1DAF6\" stroke=\"none\" />\n",
       "<rect x=\"160.15625mm\" y=\"0.0mm\"\n",
       "      width=\"0.9765625mm\" height=\"25.0mm\"\n",
       "      fill=\"#AFD9F5\" stroke=\"none\" />\n",
       "<rect x=\"161.1328125mm\" y=\"0.0mm\"\n",
       "      width=\"0.9765625mm\" height=\"25.0mm\"\n",
       "      fill=\"#ADD8F5\" stroke=\"none\" />\n",
       "<rect x=\"162.109375mm\" y=\"0.0mm\"\n",
       "      width=\"0.9765625mm\" height=\"25.0mm\"\n",
       "      fill=\"#ABD7F5\" stroke=\"none\" />\n",
       "<rect x=\"163.0859375mm\" y=\"0.0mm\"\n",
       "      width=\"0.9765625mm\" height=\"25.0mm\"\n",
       "      fill=\"#A8D5F4\" stroke=\"none\" />\n",
       "<rect x=\"164.0625mm\" y=\"0.0mm\"\n",
       "      width=\"0.9765625mm\" height=\"25.0mm\"\n",
       "      fill=\"#A6D4F4\" stroke=\"none\" />\n",
       "<rect x=\"165.0390625mm\" y=\"0.0mm\"\n",
       "      width=\"0.9765625mm\" height=\"25.0mm\"\n",
       "      fill=\"#A4D3F4\" stroke=\"none\" />\n",
       "<rect x=\"166.015625mm\" y=\"0.0mm\"\n",
       "      width=\"0.9765625mm\" height=\"25.0mm\"\n",
       "      fill=\"#A2D2F3\" stroke=\"none\" />\n",
       "<rect x=\"166.9921875mm\" y=\"0.0mm\"\n",
       "      width=\"0.9765625mm\" height=\"25.0mm\"\n",
       "      fill=\"#A0D0F3\" stroke=\"none\" />\n",
       "<rect x=\"167.96875mm\" y=\"0.0mm\"\n",
       "      width=\"0.9765625mm\" height=\"25.0mm\"\n",
       "      fill=\"#9ECFF2\" stroke=\"none\" />\n",
       "<rect x=\"168.9453125mm\" y=\"0.0mm\"\n",
       "      width=\"0.9765625mm\" height=\"25.0mm\"\n",
       "      fill=\"#9CCEF2\" stroke=\"none\" />\n",
       "<rect x=\"169.921875mm\" y=\"0.0mm\"\n",
       "      width=\"0.9765625mm\" height=\"25.0mm\"\n",
       "      fill=\"#9ACDF2\" stroke=\"none\" />\n",
       "<rect x=\"170.8984375mm\" y=\"0.0mm\"\n",
       "      width=\"0.9765625mm\" height=\"25.0mm\"\n",
       "      fill=\"#98CBF1\" stroke=\"none\" />\n",
       "<rect x=\"171.875mm\" y=\"0.0mm\"\n",
       "      width=\"0.9765625mm\" height=\"25.0mm\"\n",
       "      fill=\"#96CAF1\" stroke=\"none\" />\n",
       "<rect x=\"172.8515625mm\" y=\"0.0mm\"\n",
       "      width=\"0.9765625mm\" height=\"25.0mm\"\n",
       "      fill=\"#94C9F0\" stroke=\"none\" />\n",
       "<rect x=\"173.828125mm\" y=\"0.0mm\"\n",
       "      width=\"0.9765625mm\" height=\"25.0mm\"\n",
       "      fill=\"#92C7F0\" stroke=\"none\" />\n",
       "<rect x=\"174.8046875mm\" y=\"0.0mm\"\n",
       "      width=\"0.9765625mm\" height=\"25.0mm\"\n",
       "      fill=\"#8FC6EF\" stroke=\"none\" />\n",
       "<rect x=\"175.78125mm\" y=\"0.0mm\"\n",
       "      width=\"0.9765625mm\" height=\"25.0mm\"\n",
       "      fill=\"#8DC5EF\" stroke=\"none\" />\n",
       "<rect x=\"176.7578125mm\" y=\"0.0mm\"\n",
       "      width=\"0.9765625mm\" height=\"25.0mm\"\n",
       "      fill=\"#8BC3EE\" stroke=\"none\" />\n",
       "<rect x=\"177.734375mm\" y=\"0.0mm\"\n",
       "      width=\"0.9765625mm\" height=\"25.0mm\"\n",
       "      fill=\"#89C2ED\" stroke=\"none\" />\n",
       "<rect x=\"178.7109375mm\" y=\"0.0mm\"\n",
       "      width=\"0.9765625mm\" height=\"25.0mm\"\n",
       "      fill=\"#87C0ED\" stroke=\"none\" />\n",
       "<rect x=\"179.6875mm\" y=\"0.0mm\"\n",
       "      width=\"0.9765625mm\" height=\"25.0mm\"\n",
       "      fill=\"#85BFEC\" stroke=\"none\" />\n",
       "<rect x=\"180.6640625mm\" y=\"0.0mm\"\n",
       "      width=\"0.9765625mm\" height=\"25.0mm\"\n",
       "      fill=\"#83BDEC\" stroke=\"none\" />\n",
       "<rect x=\"181.640625mm\" y=\"0.0mm\"\n",
       "      width=\"0.9765625mm\" height=\"25.0mm\"\n",
       "      fill=\"#81BCEB\" stroke=\"none\" />\n",
       "<rect x=\"182.6171875mm\" y=\"0.0mm\"\n",
       "      width=\"0.9765625mm\" height=\"25.0mm\"\n",
       "      fill=\"#7FBAEA\" stroke=\"none\" />\n",
       "<rect x=\"183.59375mm\" y=\"0.0mm\"\n",
       "      width=\"0.9765625mm\" height=\"25.0mm\"\n",
       "      fill=\"#7CB9EA\" stroke=\"none\" />\n",
       "<rect x=\"184.5703125mm\" y=\"0.0mm\"\n",
       "      width=\"0.9765625mm\" height=\"25.0mm\"\n",
       "      fill=\"#7AB7E9\" stroke=\"none\" />\n",
       "<rect x=\"185.546875mm\" y=\"0.0mm\"\n",
       "      width=\"0.9765625mm\" height=\"25.0mm\"\n",
       "      fill=\"#78B6E8\" stroke=\"none\" />\n",
       "<rect x=\"186.5234375mm\" y=\"0.0mm\"\n",
       "      width=\"0.9765625mm\" height=\"25.0mm\"\n",
       "      fill=\"#76B4E8\" stroke=\"none\" />\n",
       "<rect x=\"187.5mm\" y=\"0.0mm\"\n",
       "      width=\"0.9765625mm\" height=\"25.0mm\"\n",
       "      fill=\"#74B2E7\" stroke=\"none\" />\n",
       "<rect x=\"188.4765625mm\" y=\"0.0mm\"\n",
       "      width=\"0.9765625mm\" height=\"25.0mm\"\n",
       "      fill=\"#72B1E6\" stroke=\"none\" />\n",
       "<rect x=\"189.453125mm\" y=\"0.0mm\"\n",
       "      width=\"0.9765625mm\" height=\"25.0mm\"\n",
       "      fill=\"#70AFE5\" stroke=\"none\" />\n",
       "<rect x=\"190.4296875mm\" y=\"0.0mm\"\n",
       "      width=\"0.9765625mm\" height=\"25.0mm\"\n",
       "      fill=\"#6EADE4\" stroke=\"none\" />\n",
       "<rect x=\"191.40625mm\" y=\"0.0mm\"\n",
       "      width=\"0.9765625mm\" height=\"25.0mm\"\n",
       "      fill=\"#6BACE3\" stroke=\"none\" />\n",
       "<rect x=\"192.3828125mm\" y=\"0.0mm\"\n",
       "      width=\"0.9765625mm\" height=\"25.0mm\"\n",
       "      fill=\"#69AAE2\" stroke=\"none\" />\n",
       "<rect x=\"193.359375mm\" y=\"0.0mm\"\n",
       "      width=\"0.9765625mm\" height=\"25.0mm\"\n",
       "      fill=\"#67A8E2\" stroke=\"none\" />\n",
       "<rect x=\"194.3359375mm\" y=\"0.0mm\"\n",
       "      width=\"0.9765625mm\" height=\"25.0mm\"\n",
       "      fill=\"#65A7E1\" stroke=\"none\" />\n",
       "<rect x=\"195.3125mm\" y=\"0.0mm\"\n",
       "      width=\"0.9765625mm\" height=\"25.0mm\"\n",
       "      fill=\"#63A5E0\" stroke=\"none\" />\n",
       "<rect x=\"196.2890625mm\" y=\"0.0mm\"\n",
       "      width=\"0.9765625mm\" height=\"25.0mm\"\n",
       "      fill=\"#61A3DE\" stroke=\"none\" />\n",
       "<rect x=\"197.265625mm\" y=\"0.0mm\"\n",
       "      width=\"0.9765625mm\" height=\"25.0mm\"\n",
       "      fill=\"#5FA1DD\" stroke=\"none\" />\n",
       "<rect x=\"198.2421875mm\" y=\"0.0mm\"\n",
       "      width=\"0.9765625mm\" height=\"25.0mm\"\n",
       "      fill=\"#5D9FDC\" stroke=\"none\" />\n",
       "<rect x=\"199.21875mm\" y=\"0.0mm\"\n",
       "      width=\"0.9765625mm\" height=\"25.0mm\"\n",
       "      fill=\"#5B9EDB\" stroke=\"none\" />\n",
       "<rect x=\"200.1953125mm\" y=\"0.0mm\"\n",
       "      width=\"0.9765625mm\" height=\"25.0mm\"\n",
       "      fill=\"#599CDA\" stroke=\"none\" />\n",
       "<rect x=\"201.171875mm\" y=\"0.0mm\"\n",
       "      width=\"0.9765625mm\" height=\"25.0mm\"\n",
       "      fill=\"#579AD9\" stroke=\"none\" />\n",
       "<rect x=\"202.1484375mm\" y=\"0.0mm\"\n",
       "      width=\"0.9765625mm\" height=\"25.0mm\"\n",
       "      fill=\"#5598D7\" stroke=\"none\" />\n",
       "<rect x=\"203.125mm\" y=\"0.0mm\"\n",
       "      width=\"0.9765625mm\" height=\"25.0mm\"\n",
       "      fill=\"#5396D6\" stroke=\"none\" />\n",
       "<rect x=\"204.1015625mm\" y=\"0.0mm\"\n",
       "      width=\"0.9765625mm\" height=\"25.0mm\"\n",
       "      fill=\"#5194D5\" stroke=\"none\" />\n",
       "<rect x=\"205.078125mm\" y=\"0.0mm\"\n",
       "      width=\"0.9765625mm\" height=\"25.0mm\"\n",
       "      fill=\"#4F92D3\" stroke=\"none\" />\n",
       "<rect x=\"206.0546875mm\" y=\"0.0mm\"\n",
       "      width=\"0.9765625mm\" height=\"25.0mm\"\n",
       "      fill=\"#4D90D2\" stroke=\"none\" />\n",
       "<rect x=\"207.03125mm\" y=\"0.0mm\"\n",
       "      width=\"0.9765625mm\" height=\"25.0mm\"\n",
       "      fill=\"#4B8ED0\" stroke=\"none\" />\n",
       "<rect x=\"208.0078125mm\" y=\"0.0mm\"\n",
       "      width=\"0.9765625mm\" height=\"25.0mm\"\n",
       "      fill=\"#498CCF\" stroke=\"none\" />\n",
       "<rect x=\"208.984375mm\" y=\"0.0mm\"\n",
       "      width=\"0.9765625mm\" height=\"25.0mm\"\n",
       "      fill=\"#478ACD\" stroke=\"none\" />\n",
       "<rect x=\"209.9609375mm\" y=\"0.0mm\"\n",
       "      width=\"0.9765625mm\" height=\"25.0mm\"\n",
       "      fill=\"#4688CC\" stroke=\"none\" />\n",
       "<rect x=\"210.9375mm\" y=\"0.0mm\"\n",
       "      width=\"0.9765625mm\" height=\"25.0mm\"\n",
       "      fill=\"#4486CA\" stroke=\"none\" />\n",
       "<rect x=\"211.9140625mm\" y=\"0.0mm\"\n",
       "      width=\"0.9765625mm\" height=\"25.0mm\"\n",
       "      fill=\"#4284C8\" stroke=\"none\" />\n",
       "<rect x=\"212.890625mm\" y=\"0.0mm\"\n",
       "      width=\"0.9765625mm\" height=\"25.0mm\"\n",
       "      fill=\"#4082C6\" stroke=\"none\" />\n",
       "<rect x=\"213.8671875mm\" y=\"0.0mm\"\n",
       "      width=\"0.9765625mm\" height=\"25.0mm\"\n",
       "      fill=\"#3E80C4\" stroke=\"none\" />\n",
       "<rect x=\"214.84375mm\" y=\"0.0mm\"\n",
       "      width=\"0.9765625mm\" height=\"25.0mm\"\n",
       "      fill=\"#3D7EC2\" stroke=\"none\" />\n",
       "<rect x=\"215.8203125mm\" y=\"0.0mm\"\n",
       "      width=\"0.9765625mm\" height=\"25.0mm\"\n",
       "      fill=\"#3B7BC0\" stroke=\"none\" />\n",
       "<rect x=\"216.796875mm\" y=\"0.0mm\"\n",
       "      width=\"0.9765625mm\" height=\"25.0mm\"\n",
       "      fill=\"#3979BE\" stroke=\"none\" />\n",
       "<rect x=\"217.7734375mm\" y=\"0.0mm\"\n",
       "      width=\"0.9765625mm\" height=\"25.0mm\"\n",
       "      fill=\"#3877BC\" stroke=\"none\" />\n",
       "<rect x=\"218.75mm\" y=\"0.0mm\"\n",
       "      width=\"0.9765625mm\" height=\"25.0mm\"\n",
       "      fill=\"#3675BA\" stroke=\"none\" />\n",
       "<rect x=\"219.7265625mm\" y=\"0.0mm\"\n",
       "      width=\"0.9765625mm\" height=\"25.0mm\"\n",
       "      fill=\"#3573B8\" stroke=\"none\" />\n",
       "<rect x=\"220.703125mm\" y=\"0.0mm\"\n",
       "      width=\"0.9765625mm\" height=\"25.0mm\"\n",
       "      fill=\"#3370B5\" stroke=\"none\" />\n",
       "<rect x=\"221.6796875mm\" y=\"0.0mm\"\n",
       "      width=\"0.9765625mm\" height=\"25.0mm\"\n",
       "      fill=\"#316EB3\" stroke=\"none\" />\n",
       "<rect x=\"222.65625mm\" y=\"0.0mm\"\n",
       "      width=\"0.9765625mm\" height=\"25.0mm\"\n",
       "      fill=\"#306CB0\" stroke=\"none\" />\n",
       "<rect x=\"223.6328125mm\" y=\"0.0mm\"\n",
       "      width=\"0.9765625mm\" height=\"25.0mm\"\n",
       "      fill=\"#2E6AAE\" stroke=\"none\" />\n",
       "<rect x=\"224.609375mm\" y=\"0.0mm\"\n",
       "      width=\"0.9765625mm\" height=\"25.0mm\"\n",
       "      fill=\"#2D67AB\" stroke=\"none\" />\n",
       "<rect x=\"225.5859375mm\" y=\"0.0mm\"\n",
       "      width=\"0.9765625mm\" height=\"25.0mm\"\n",
       "      fill=\"#2B65A8\" stroke=\"none\" />\n",
       "<rect x=\"226.5625mm\" y=\"0.0mm\"\n",
       "      width=\"0.9765625mm\" height=\"25.0mm\"\n",
       "      fill=\"#2A63A6\" stroke=\"none\" />\n",
       "<rect x=\"227.5390625mm\" y=\"0.0mm\"\n",
       "      width=\"0.9765625mm\" height=\"25.0mm\"\n",
       "      fill=\"#2861A3\" stroke=\"none\" />\n",
       "<rect x=\"228.515625mm\" y=\"0.0mm\"\n",
       "      width=\"0.9765625mm\" height=\"25.0mm\"\n",
       "      fill=\"#275EA0\" stroke=\"none\" />\n",
       "<rect x=\"229.4921875mm\" y=\"0.0mm\"\n",
       "      width=\"0.9765625mm\" height=\"25.0mm\"\n",
       "      fill=\"#255C9D\" stroke=\"none\" />\n",
       "<rect x=\"230.46875mm\" y=\"0.0mm\"\n",
       "      width=\"0.9765625mm\" height=\"25.0mm\"\n",
       "      fill=\"#245A9A\" stroke=\"none\" />\n",
       "<rect x=\"231.4453125mm\" y=\"0.0mm\"\n",
       "      width=\"0.9765625mm\" height=\"25.0mm\"\n",
       "      fill=\"#225797\" stroke=\"none\" />\n",
       "<rect x=\"232.421875mm\" y=\"0.0mm\"\n",
       "      width=\"0.9765625mm\" height=\"25.0mm\"\n",
       "      fill=\"#215594\" stroke=\"none\" />\n",
       "<rect x=\"233.3984375mm\" y=\"0.0mm\"\n",
       "      width=\"0.9765625mm\" height=\"25.0mm\"\n",
       "      fill=\"#205391\" stroke=\"none\" />\n",
       "<rect x=\"234.375mm\" y=\"0.0mm\"\n",
       "      width=\"0.9765625mm\" height=\"25.0mm\"\n",
       "      fill=\"#1E508E\" stroke=\"none\" />\n",
       "<rect x=\"235.3515625mm\" y=\"0.0mm\"\n",
       "      width=\"0.9765625mm\" height=\"25.0mm\"\n",
       "      fill=\"#1D4E8B\" stroke=\"none\" />\n",
       "<rect x=\"236.328125mm\" y=\"0.0mm\"\n",
       "      width=\"0.9765625mm\" height=\"25.0mm\"\n",
       "      fill=\"#1B4B87\" stroke=\"none\" />\n",
       "<rect x=\"237.3046875mm\" y=\"0.0mm\"\n",
       "      width=\"0.9765625mm\" height=\"25.0mm\"\n",
       "      fill=\"#1A4984\" stroke=\"none\" />\n",
       "<rect x=\"238.28125mm\" y=\"0.0mm\"\n",
       "      width=\"0.9765625mm\" height=\"25.0mm\"\n",
       "      fill=\"#194781\" stroke=\"none\" />\n",
       "<rect x=\"239.2578125mm\" y=\"0.0mm\"\n",
       "      width=\"0.9765625mm\" height=\"25.0mm\"\n",
       "      fill=\"#17447D\" stroke=\"none\" />\n",
       "<rect x=\"240.234375mm\" y=\"0.0mm\"\n",
       "      width=\"0.9765625mm\" height=\"25.0mm\"\n",
       "      fill=\"#16427A\" stroke=\"none\" />\n",
       "<rect x=\"241.2109375mm\" y=\"0.0mm\"\n",
       "      width=\"0.9765625mm\" height=\"25.0mm\"\n",
       "      fill=\"#143F76\" stroke=\"none\" />\n",
       "<rect x=\"242.1875mm\" y=\"0.0mm\"\n",
       "      width=\"0.9765625mm\" height=\"25.0mm\"\n",
       "      fill=\"#133D73\" stroke=\"none\" />\n",
       "<rect x=\"243.1640625mm\" y=\"0.0mm\"\n",
       "      width=\"0.9765625mm\" height=\"25.0mm\"\n",
       "      fill=\"#113B6F\" stroke=\"none\" />\n",
       "<rect x=\"244.140625mm\" y=\"0.0mm\"\n",
       "      width=\"0.9765625mm\" height=\"25.0mm\"\n",
       "      fill=\"#10386B\" stroke=\"none\" />\n",
       "<rect x=\"245.1171875mm\" y=\"0.0mm\"\n",
       "      width=\"0.9765625mm\" height=\"25.0mm\"\n",
       "      fill=\"#0F3667\" stroke=\"none\" />\n",
       "<rect x=\"246.09375mm\" y=\"0.0mm\"\n",
       "      width=\"0.9765625mm\" height=\"25.0mm\"\n",
       "      fill=\"#0D3364\" stroke=\"none\" />\n",
       "<rect x=\"247.0703125mm\" y=\"0.0mm\"\n",
       "      width=\"0.9765625mm\" height=\"25.0mm\"\n",
       "      fill=\"#0C3160\" stroke=\"none\" />\n",
       "<rect x=\"248.046875mm\" y=\"0.0mm\"\n",
       "      width=\"0.9765625mm\" height=\"25.0mm\"\n",
       "      fill=\"#0A2E5C\" stroke=\"none\" />\n",
       "<rect x=\"249.0234375mm\" y=\"0.0mm\"\n",
       "      width=\"0.9765625mm\" height=\"25.0mm\"\n",
       "      fill=\"#092C58\" stroke=\"none\" />\n",
       "</svg>"
      ],
      "text/plain": [
       "256-element Array{ColorTypes.RGB{Float64},1}:\n",
       " RGB{Float64}(0.37863,0.00561671,0.00638272) \n",
       " RGB{Float64}(0.395909,0.00821908,0.00868028)\n",
       " RGB{Float64}(0.413003,0.0114353,0.0114426)  \n",
       " RGB{Float64}(0.429907,0.0153208,0.0147002)  \n",
       " RGB{Float64}(0.446617,0.0199322,0.0184842)  \n",
       " RGB{Float64}(0.463129,0.0253274,0.0228258)  \n",
       " RGB{Float64}(0.479438,0.031565,0.0277563)   \n",
       " RGB{Float64}(0.495541,0.0387043,0.0333073)  \n",
       " RGB{Float64}(0.511433,0.0464337,0.0395105)  \n",
       " RGB{Float64}(0.52711,0.0542457,0.0460647)   \n",
       " RGB{Float64}(0.542569,0.0621472,0.0526613)  \n",
       " RGB{Float64}(0.557806,0.0701373,0.0593091)  \n",
       " RGB{Float64}(0.572817,0.0782148,0.0660078)  \n",
       " ⋮                                           \n",
       " RGB{Float64}(0.0960865,0.277054,0.504586)   \n",
       " RGB{Float64}(0.0905416,0.267592,0.491072)   \n",
       " RGB{Float64}(0.0850073,0.258103,0.477355)   \n",
       " RGB{Float64}(0.0794834,0.24859,0.463438)    \n",
       " RGB{Float64}(0.0739702,0.239053,0.449326)   \n",
       " RGB{Float64}(0.068468,0.229495,0.435021)    \n",
       " RGB{Float64}(0.0629779,0.219918,0.420528)   \n",
       " RGB{Float64}(0.0575011,0.210325,0.405851)   \n",
       " RGB{Float64}(0.0520393,0.200717,0.390996)   \n",
       " RGB{Float64}(0.0465948,0.191097,0.375966)   \n",
       " RGB{Float64}(0.0411699,0.181467,0.360768)   \n",
       " RGB{Float64}(0.0358504,0.171831,0.345409)   "
      ]
     },
     "execution_count": 82,
     "metadata": {},
     "output_type": "execute_result"
    }
   ],
   "source": [
    "colormap(\"RdBu\",256)"
   ]
  },
  {
   "cell_type": "code",
   "execution_count": null,
   "metadata": {
    "collapsed": false
   },
   "outputs": [
    {
     "data": {
      "image/png": "[encoded data removed]",
      "text/plain": [
       "RGB Images.ImageCmap with:\n",
       "  data: 400×600 Array{UInt8,2}\n",
       "  cmap: 256-element Array{ColorTypes.RGB{Float64},1}\n",
       "  properties:"
      ]
     },
     "execution_count": 83,
     "metadata": {},
     "output_type": "execute_result"
    }
   ],
   "source": [
    "ImageCmap(Y,colormap(\"RdBu\",256))"
   ]
  },
  {
   "cell_type": "markdown",
   "metadata": {},
   "source": [
    "## Problem 5:\n",
    "Create the above image using the plot function from your module. It should be called like __`plot(MandelbrotView(-2-im,1+im))`__."
   ]
  },
  {
   "cell_type": "code",
   "execution_count": 23,
   "metadata": {
    "collapsed": false
   },
   "outputs": [
    {
     "data": {
      "image/png": "[encoded data removed]",
      "text/plain": [
       "RGB Images.ImageCmap with:\n",
       "  data: 600×900 Array{UInt8,2}\n",
       "  cmap: 256-element Array{ColorTypes.RGB{Float64},1}\n",
       "  properties:"
      ]
     },
     "execution_count": 23,
     "metadata": {},
     "output_type": "execute_result"
    }
   ],
   "source": [
    "Mandelbrot.plot(MandelbrotView(-2-im,1+im),1.5)"
   ]
  },
  {
   "cell_type": "code",
   "execution_count": 24,
   "metadata": {
    "collapsed": false
   },
   "outputs": [
    {
     "data": {
      "text/plain": [
       "Mandelbrot.MandelbrotView(-2 - 1im,1 + 1im,255)"
      ]
     },
     "execution_count": 24,
     "metadata": {},
     "output_type": "execute_result"
    }
   ],
   "source": [
    "test=MandelbrotView(-2-im,1+im)"
   ]
  },
  {
   "cell_type": "code",
   "execution_count": 38,
   "metadata": {
    "collapsed": false
   },
   "outputs": [
    {
     "data": {
      "text/plain": [
       "-2 - 1im"
      ]
     },
     "execution_count": 38,
     "metadata": {},
     "output_type": "execute_result"
    }
   ],
   "source": [
    "test.min"
   ]
  },
  {
   "cell_type": "markdown",
   "metadata": {},
   "source": [
    "## Problem 6:\n",
    "Plot the Mandelbrot set for $z = x + iy$ for $0 ≤ x ≤ 1$ and $0 ≤ y ≤ 1$.  \n",
    "Note: make sure that you have the plot oriented correctly."
   ]
  },
  {
   "cell_type": "code",
   "execution_count": null,
   "metadata": {
    "collapsed": true
   },
   "outputs": [],
   "source": []
  },
  {
   "cell_type": "code",
   "execution_count": null,
   "metadata": {
    "collapsed": true
   },
   "outputs": [],
   "source": []
  },
  {
   "cell_type": "markdown",
   "metadata": {},
   "source": [
    "## Problem 7:\n",
    "Once you have #5 and #6 finished, try finding at least 4 interesting regions of the Mandelbrot set to plot. Zooming in around the edges of the set usually produce interesting results."
   ]
  },
  {
   "cell_type": "code",
   "execution_count": null,
   "metadata": {
    "collapsed": true
   },
   "outputs": [],
   "source": []
  }
 ],
 "metadata": {
  "kernelspec": {
   "display_name": "Julia 0.5.0",
   "language": "julia",
   "name": "julia-0.5"
  },
  "language_info": {
   "file_extension": ".jl",
   "mimetype": "application/julia",
   "name": "julia",
   "version": "0.5.0"
  }
 },
 "nbformat": 4,
 "nbformat_minor": 0
}
