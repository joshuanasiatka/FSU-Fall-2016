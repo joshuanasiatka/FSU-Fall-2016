{
 "cells": [
  {
   "cell_type": "markdown",
   "metadata": {},
   "source": [
    "#Homework 1\n",
    "###Problem 1: This problem does some basic operations and times them:\n",
    "*(a) Write a function that takes in an integer* ***n*** *and returns the sum of the positive integers up to* ***n*** *using a* ***for*** *loop. For example, this function on 10 should return 55. To make sure that the answer is correct for the values below, we will use larger integers than are standard. The first line of your function should be:*  \n",
    "`sum=Int128(0)`"
   ]
  },
  {
   "cell_type": "code",
   "execution_count": 1,
   "metadata": {
    "collapsed": false
   },
   "outputs": [
    {
     "name": "stdout",
     "output_type": "stream",
     "text": [
      "This function will take the sum of all integers from 0 to the value you enter.\n"
     ]
    },
    {
     "data": {
      "text/plain": [
       "sumValues (generic function with 1 method)"
      ]
     },
     "execution_count": 1,
     "metadata": {},
     "output_type": "execute_result"
    }
   ],
   "source": [
    "println(\"This function will take the sum of all integers from 0 to the value you enter.\");\n",
    "function sumValues(n)\n",
    "    sum=Int128(0);\n",
    "    i = 0;\n",
    "    while i <= n\n",
    "        sum+=i\n",
    "        i+=1\n",
    "    end\n",
    "    println(\"The sum from 1 to \", n, \" is \", sum);\n",
    "end"
   ]
  },
  {
   "cell_type": "code",
   "execution_count": 2,
   "metadata": {
    "collapsed": false
   },
   "outputs": [
    {
     "name": "stdout",
     "output_type": "stream",
     "text": [
      "The sum from 1 to 2 is 3\n"
     ]
    }
   ],
   "source": [
    "sumValues(2)"
   ]
  },
  {
   "cell_type": "code",
   "execution_count": 3,
   "metadata": {
    "collapsed": false
   },
   "outputs": [
    {
     "name": "stdout",
     "output_type": "stream",
     "text": [
      "The sum from 1 to 10 is 55\n"
     ]
    }
   ],
   "source": [
    "sumValues(10)"
   ]
  },
  {
   "cell_type": "code",
   "execution_count": 4,
   "metadata": {
    "collapsed": false
   },
   "outputs": [
    {
     "name": "stdout",
     "output_type": "stream",
     "text": [
      "The sum from 1 to 1000 is 500500\n"
     ]
    }
   ],
   "source": [
    "sumValues(1000)"
   ]
  },
  {
   "cell_type": "markdown",
   "metadata": {},
   "source": [
    "*(b) Time your function for n = 10^7, 10^8, 10^9, 10^10. What is the relationship between the time taken and n?*"
   ]
  },
  {
   "cell_type": "code",
   "execution_count": 5,
   "metadata": {
    "collapsed": false
   },
   "outputs": [
    {
     "name": "stdout",
     "output_type": "stream",
     "text": [
      "The sum from 1 to 10000000 is 50000005000000\n",
      "  0.009003 seconds (284 allocations: 14.813 KB)\n"
     ]
    }
   ],
   "source": [
    "@time sumValues(10^7)"
   ]
  },
  {
   "cell_type": "code",
   "execution_count": 6,
   "metadata": {
    "collapsed": false
   },
   "outputs": [
    {
     "name": "stdout",
     "output_type": "stream",
     "text": [
      "The sum from 1 to 100000000 is 5000000050000000\n",
      "  0.086998 seconds (158 allocations: 7.266 KB)\n"
     ]
    }
   ],
   "source": [
    "@time sumValues(10^8)"
   ]
  },
  {
   "cell_type": "code",
   "execution_count": 7,
   "metadata": {
    "collapsed": false
   },
   "outputs": [
    {
     "name": "stdout",
     "output_type": "stream",
     "text": [
      "The sum from 1 to 1000000000 is 500000000500000000\n",
      "  0.860366 seconds (158 allocations: 7.281 KB)\n"
     ]
    }
   ],
   "source": [
    "@time sumValues(10^9)"
   ]
  },
  {
   "cell_type": "code",
   "execution_count": 8,
   "metadata": {
    "collapsed": false
   },
   "outputs": [
    {
     "name": "stdout",
     "output_type": "stream",
     "text": [
      "The sum from 1 to 10000000000 is 50000000005000000000\n",
      "  8.578691 seconds (262 allocations: 13.453 KB)\n"
     ]
    }
   ],
   "source": [
    "@time sumValues(10^10)"
   ]
  },
  {
   "cell_type": "markdown",
   "metadata": {},
   "source": [
    "The larger the value for n, the longer it takes to execute. ~8.619 is a really long time.\n",
    "\n",
    "*(c) Find another way to find the sum that is much faster.*"
   ]
  },
  {
   "cell_type": "code",
   "execution_count": 9,
   "metadata": {
    "collapsed": false
   },
   "outputs": [
    {
     "data": {
      "text/plain": [
       "sumValuesFaster (generic function with 1 method)"
      ]
     },
     "execution_count": 9,
     "metadata": {},
     "output_type": "execute_result"
    }
   ],
   "source": [
    "function sumValuesFaster(n)\n",
    "    sum=Int128(0);\n",
    "    for i=1:n\n",
    "        sum+=i\n",
    "    end\n",
    "    sum\n",
    "end"
   ]
  },
  {
   "cell_type": "code",
   "execution_count": 10,
   "metadata": {
    "collapsed": false
   },
   "outputs": [
    {
     "name": "stdout",
     "output_type": "stream",
     "text": [
      "  7.840631 seconds (2.90 k allocations: 114.147 KB)\n"
     ]
    },
    {
     "data": {
      "text/plain": [
       "50000000005000000000"
      ]
     },
     "execution_count": 10,
     "metadata": {},
     "output_type": "execute_result"
    }
   ],
   "source": [
    "@time sumValuesFaster(10^10)"
   ]
  },
  {
   "cell_type": "markdown",
   "metadata": {},
   "source": [
    "That's a better time, ~7.847 seconds. That's roughly 1 sec less.\n",
    "\n",
    "###Problem 2: This problem examines the factorial function\n",
    "*(a) Rewrite the recursive and non-recursive factorial functions from class notes.*"
   ]
  },
  {
   "cell_type": "code",
   "execution_count": 11,
   "metadata": {
    "collapsed": false
   },
   "outputs": [
    {
     "data": {
      "text/plain": [
       "factNR (generic function with 1 method)"
      ]
     },
     "execution_count": 11,
     "metadata": {},
     "output_type": "execute_result"
    }
   ],
   "source": [
    "# non-recursive version\n",
    "function factNR(n::Integer) # Reminder to specifiy data type for argument\n",
    "    prod=1\n",
    "    for i=1:n\n",
    "        prod*=i\n",
    "    end\n",
    "    prod\n",
    "end"
   ]
  },
  {
   "cell_type": "code",
   "execution_count": 12,
   "metadata": {
    "collapsed": false
   },
   "outputs": [
    {
     "data": {
      "text/plain": [
       "factR (generic function with 1 method)"
      ]
     },
     "execution_count": 12,
     "metadata": {},
     "output_type": "execute_result"
    }
   ],
   "source": [
    "# recursive version\n",
    "function factR(n::Integer)\n",
    "    n<0?\"ERROR: Must by integer >= 0\":n==0?1:n*factR(n-1) # because I fancy my ternary operators\n",
    "end"
   ]
  },
  {
   "cell_type": "markdown",
   "metadata": {},
   "source": [
    "That ternary operator makes the program so short (even though it is very messy looking). That's a double ternary.\n",
    "\n",
    "*(b) Time the runs for each function with some value of `n`. Notice a difference?*"
   ]
  },
  {
   "cell_type": "code",
   "execution_count": 13,
   "metadata": {
    "collapsed": false
   },
   "outputs": [
    {
     "name": "stdout",
     "output_type": "stream",
     "text": [
      "  0.005119 seconds (1.38 k allocations: 64.314 KB)\n"
     ]
    },
    {
     "data": {
      "text/plain": [
       "3628800"
      ]
     },
     "execution_count": 13,
     "metadata": {},
     "output_type": "execute_result"
    }
   ],
   "source": [
    "@time factNR(10)"
   ]
  },
  {
   "cell_type": "code",
   "execution_count": 14,
   "metadata": {
    "collapsed": false
   },
   "outputs": [
    {
     "name": "stdout",
     "output_type": "stream",
     "text": [
      "  0.007297 seconds (1.20 k allocations: 57.155 KB)\n"
     ]
    },
    {
     "data": {
      "text/plain": [
       "3628800"
      ]
     },
     "execution_count": 14,
     "metadata": {},
     "output_type": "execute_result"
    }
   ],
   "source": [
    "@time factR(10)"
   ]
  },
  {
   "cell_type": "markdown",
   "metadata": {},
   "source": [
    "Even with just `10!` we can see that the recursive function is so much slower. Recursion is always slower.\n",
    "\n",
    "*(c) What is the largest value of `n` that you can compute? Is it the same for both? What happens when you input larger values of `n`?*"
   ]
  },
  {
   "cell_type": "code",
   "execution_count": 15,
   "metadata": {
    "collapsed": false
   },
   "outputs": [
    {
     "data": {
      "text/plain": [
       "2432902008176640000"
      ]
     },
     "execution_count": 15,
     "metadata": {},
     "output_type": "execute_result"
    }
   ],
   "source": [
    "factNR(20) # max for non-recursion"
   ]
  },
  {
   "cell_type": "code",
   "execution_count": 16,
   "metadata": {
    "collapsed": false
   },
   "outputs": [
    {
     "data": {
      "text/plain": [
       "-4249290049419214848"
      ]
     },
     "execution_count": 16,
     "metadata": {},
     "output_type": "execute_result"
    }
   ],
   "source": [
    "factNR(21) # factorials don't output negative therefore some sort of fault"
   ]
  },
  {
   "cell_type": "code",
   "execution_count": 17,
   "metadata": {
    "collapsed": false
   },
   "outputs": [
    {
     "data": {
      "text/plain": [
       "0"
      ]
     },
     "execution_count": 17,
     "metadata": {},
     "output_type": "execute_result"
    }
   ],
   "source": [
    "factNR(70) # definitely computation error"
   ]
  },
  {
   "cell_type": "code",
   "execution_count": 18,
   "metadata": {
    "collapsed": false
   },
   "outputs": [
    {
     "data": {
      "text/plain": [
       "2432902008176640000"
      ]
     },
     "execution_count": 18,
     "metadata": {},
     "output_type": "execute_result"
    }
   ],
   "source": [
    "factR(20) # same max for recursive call"
   ]
  },
  {
   "cell_type": "markdown",
   "metadata": {},
   "source": [
    "###Problem 3: A fibonacci number is defined as `F(1)=1`, `F(2)=1`, then `F(n)=F(n-1) + F(n-2)` for `n >= 3`. This is naturally a recursive function.\n",
    "*(a) Write a procedure `F` that takes a positive integer `n` and returns the `nth` Fibonacci number using recursion.*"
   ]
  },
  {
   "cell_type": "code",
   "execution_count": 19,
   "metadata": {
    "collapsed": false
   },
   "outputs": [
    {
     "data": {
      "text/plain": [
       "fib (generic function with 1 method)"
      ]
     },
     "execution_count": 19,
     "metadata": {},
     "output_type": "execute_result"
    }
   ],
   "source": [
    "function fib(n::Integer)\n",
    "    if n <= 0\n",
    "        \"error, must be 1 or greater\"\n",
    "    elseif (n == 1) || (n == 2)\n",
    "        n = 1\n",
    "    else\n",
    "        n = fib(n-1) + fib(n-2)\n",
    "    end\n",
    "end"
   ]
  },
  {
   "cell_type": "markdown",
   "metadata": {},
   "source": [
    "*(b) Time this function for `n=30,35,40,45`. What kind of relationship do you notice?*"
   ]
  },
  {
   "cell_type": "code",
   "execution_count": 20,
   "metadata": {
    "collapsed": false
   },
   "outputs": [
    {
     "name": "stdout",
     "output_type": "stream",
     "text": [
      "  0.029318 seconds (7.47 k allocations: 189.426 KB)\n"
     ]
    },
    {
     "data": {
      "text/plain": [
       "832040"
      ]
     },
     "execution_count": 20,
     "metadata": {},
     "output_type": "execute_result"
    }
   ],
   "source": [
    "@time fib(30)"
   ]
  },
  {
   "cell_type": "code",
   "execution_count": 21,
   "metadata": {
    "collapsed": false
   },
   "outputs": [
    {
     "name": "stdout",
     "output_type": "stream",
     "text": [
      "  0.230073 seconds (57.32 k allocations: 895.656 KB)\n"
     ]
    },
    {
     "data": {
      "text/plain": [
       "9227465"
      ]
     },
     "execution_count": 21,
     "metadata": {},
     "output_type": "execute_result"
    }
   ],
   "source": [
    "@time fib(35)"
   ]
  },
  {
   "cell_type": "code",
   "execution_count": 22,
   "metadata": {
    "collapsed": false
   },
   "outputs": [
    {
     "name": "stdout",
     "output_type": "stream",
     "text": [
      "  2.563715 seconds (635.62 k allocations: 9.699 MB, 0.24% gc time)\n"
     ]
    },
    {
     "data": {
      "text/plain": [
       "102334155"
      ]
     },
     "execution_count": 22,
     "metadata": {},
     "output_type": "execute_result"
    }
   ],
   "source": [
    "@time fib(40)"
   ]
  },
  {
   "cell_type": "code",
   "execution_count": 23,
   "metadata": {
    "collapsed": false
   },
   "outputs": [
    {
     "name": "stdout",
     "output_type": "stream",
     "text": [
      " 28.199772 seconds (7.05 M allocations: 107.562 MB, 0.04% gc time)\n"
     ]
    },
    {
     "data": {
      "text/plain": [
       "1134903170"
      ]
     },
     "execution_count": 23,
     "metadata": {},
     "output_type": "execute_result"
    }
   ],
   "source": [
    "@time fib(45)"
   ]
  },
  {
   "cell_type": "markdown",
   "metadata": {},
   "source": [
    "The larger the values of n, the more resources that need to be allocated for the computation of the fibonacci number. The list keeps getting longer and the level of recursion keeps increasing. For each value of n, it adds another level of recursion and therefore it will keep getting drastically longer.\n",
    "\n",
    "*(c) Extra Credit: Can you develop a function that finds these faster?*\n",
    "\n",
    "Of course I can with `ternary ops`."
   ]
  },
  {
   "cell_type": "code",
   "execution_count": 24,
   "metadata": {
    "collapsed": false
   },
   "outputs": [
    {
     "data": {
      "text/plain": [
       "fibT (generic function with 1 method)"
      ]
     },
     "execution_count": 24,
     "metadata": {},
     "output_type": "execute_result"
    }
   ],
   "source": [
    "function fibT(n::Integer)\n",
    "    n==1?1:n==2?1:n=fibT(n-1)+fibT(n-2)\n",
    "end"
   ]
  },
  {
   "cell_type": "code",
   "execution_count": 25,
   "metadata": {
    "collapsed": false
   },
   "outputs": [
    {
     "name": "stdout",
     "output_type": "stream",
     "text": [
      "  5.214138 seconds (1.11 k allocations: 53.783 KB)\n"
     ]
    },
    {
     "data": {
      "text/plain": [
       "1134903170"
      ]
     },
     "execution_count": 25,
     "metadata": {},
     "output_type": "execute_result"
    }
   ],
   "source": [
    "@time fibT(45)"
   ]
  },
  {
   "cell_type": "markdown",
   "metadata": {},
   "source": [
    "See how significantly faster that is? It's amazing how powerful ternaries are. That's why a fancy them."
   ]
  },
  {
   "cell_type": "code",
   "execution_count": null,
   "metadata": {
    "collapsed": true
   },
   "outputs": [],
   "source": []
  }
 ],
 "metadata": {
  "kernelspec": {
   "display_name": "Julia 0.5.0-rc4",
   "language": "julia",
   "name": "julia-0.5"
  },
  "language_info": {
   "file_extension": ".jl",
   "mimetype": "application/julia",
   "name": "julia",
   "version": "0.5.0"
  }
 },
 "nbformat": 4,
 "nbformat_minor": 0
}
