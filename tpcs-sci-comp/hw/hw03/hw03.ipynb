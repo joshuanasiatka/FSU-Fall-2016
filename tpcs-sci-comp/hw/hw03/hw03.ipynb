{
 "cells": [
  {
   "cell_type": "markdown",
   "metadata": {},
   "source": [
    "# Homework 3\n",
    "### The Quadratic Formula\n",
    "------\n",
    "( 1 ) In class we used the forumla:  \n",
    "&nbsp;&nbsp;&nbsp;&nbsp;&nbsp;&nbsp;$x=\\frac{-b\\pm\\sqrt{b^2-4ac}}{2a}$.  \n",
    "\n",
    "&nbsp;&nbsp;&nbsp;&nbsp;and derived it into:  \n",
    "&nbsp;&nbsp;&nbsp;&nbsp;&nbsp;&nbsp;$x=\\frac{-2c}{-b\\pm\\sqrt{b^2-4ac}}$.\n",
    "\n",
    "#### ( a ) Write a julia function that will use the form of the quadratic with the least amount of roundoff. You should always return the 2 roots and no need to check if the result is real. *(Hint: make sure that you are always adding \\\\(b\\\\) and \\\\(\\sqrt{b^2-4ac}\\\\), because the roundoff will be worse when subtracting).*"
   ]
  },
  {
   "cell_type": "code",
   "execution_count": 19,
   "metadata": {
    "collapsed": false
   },
   "outputs": [
    {
     "data": {
      "text/plain": [
       "qsolve2 (generic function with 1 method)"
      ]
     },
     "execution_count": 19,
     "metadata": {},
     "output_type": "execute_result"
    }
   ],
   "source": [
    "function qsolve2(a::Number, b::Number, c::Number)\n",
    "    d=sqrt(b^2-4a*c)\n",
    "    (-2c/(b+d),-2c/(b-d))\n",
    "end"
   ]
  },
  {
   "cell_type": "markdown",
   "metadata": {},
   "source": [
    "#### ( b ) Find the solution to \\\\(12.242x^2+42.382x+0.0012=0\\\\) using the function in (a) in both 64-bit and 16-bit floating point numbers."
   ]
  },
  {
   "cell_type": "code",
   "execution_count": 20,
   "metadata": {
    "collapsed": false
   },
   "outputs": [
    {
     "data": {
      "text/plain": [
       "(-2.831413841475851e-5,-3.4619876963042424)"
      ]
     },
     "execution_count": 20,
     "metadata": {},
     "output_type": "execute_result"
    }
   ],
   "source": [
    "a1 = 12.242\n",
    "b1 = 42.382\n",
    "c1 = 0.0012\n",
    "\n",
    "# 64-bit Calculation\n",
    "x1a,x2a=qsolve2(a1,b1,c1)"
   ]
  },
  {
   "cell_type": "code",
   "execution_count": 21,
   "metadata": {
    "collapsed": false
   },
   "outputs": [
    {
     "data": {
      "text/plain": [
       "(-2.8310846f-5,0.6763441f0)"
      ]
     },
     "execution_count": 21,
     "metadata": {},
     "output_type": "execute_result"
    }
   ],
   "source": [
    "# 16-bit Calculation\n",
    "x1b,x2b=qsolve2(Float16(a1),Float16(b1),Float16(c1))"
   ]
  },
  {
   "cell_type": "markdown",
   "metadata": {},
   "source": [
    "#### ( c ) Assume the 64-bit numbers are exact. Find the absolute and relative errors in the 16-bit values. Discuss your results compared to what we found in class.\n",
    "\n",
    "**Absolute Error**"
   ]
  },
  {
   "cell_type": "code",
   "execution_count": 22,
   "metadata": {
    "collapsed": false
   },
   "outputs": [
    {
     "data": {
      "text/plain": [
       "(3.2927505218152773e-9,4.138331792964856)"
      ]
     },
     "execution_count": 22,
     "metadata": {},
     "output_type": "execute_result"
    }
   ],
   "source": [
    "abs(x1b-x1a),abs(x2b-x2a)"
   ]
  },
  {
   "cell_type": "markdown",
   "metadata": {},
   "source": [
    "**Relative Error**"
   ]
  },
  {
   "cell_type": "code",
   "execution_count": 23,
   "metadata": {
    "collapsed": false
   },
   "outputs": [
    {
     "data": {
      "text/plain": [
       "(0.00011629350939737437,1.1953629405969952)"
      ]
     },
     "execution_count": 23,
     "metadata": {},
     "output_type": "execute_result"
    }
   ],
   "source": [
    "abs(x1b-x1a)/abs(x1a),abs(x2b-x2a)/abs(x2a)"
   ]
  },
  {
   "cell_type": "markdown",
   "metadata": {},
   "source": [
    "**[DISCUSS RESULTS]**"
   ]
  },
  {
   "cell_type": "markdown",
   "metadata": {},
   "source": [
    "#### ( d ) Find the solution to \\\\(100.0x^2 − 400.0x + 399.9 = 0\\\\) using both 64-bit and 16-bit floating point numbers. If anything unusual occurs, discuss what happened."
   ]
  },
  {
   "cell_type": "code",
   "execution_count": 24,
   "metadata": {
    "collapsed": false
   },
   "outputs": [
    {
     "data": {
      "text/plain": [
       "(2.1,1.9)"
      ]
     },
     "execution_count": 24,
     "metadata": {},
     "output_type": "execute_result"
    }
   ],
   "source": [
    "a2 = 100\n",
    "b2 = -400\n",
    "c2 = 399\n",
    "\n",
    "# 64-bit Calculation\n",
    "x1c,x2c=qsolve2(a2,b2,c2)"
   ]
  },
  {
   "cell_type": "code",
   "execution_count": 25,
   "metadata": {
    "collapsed": false
   },
   "outputs": [
    {
     "data": {
      "text/plain": [
       "(-0.0f0,0.0f0)"
      ]
     },
     "execution_count": 25,
     "metadata": {},
     "output_type": "execute_result"
    }
   ],
   "source": [
    "# 16-bit Calculation\n",
    "x1d,x2d=qsolve2(Float16(a2),Float16(b2),Float16(c2))"
   ]
  },
  {
   "cell_type": "markdown",
   "metadata": {},
   "source": [
    "Well that's interesting. The 16-bit calculation computed the x values to be 0. This is because the \\\\(\\sqrt{(-400.0)^2-4(100)(399.9)}\\\\) computes to infinity in Float16."
   ]
  },
  {
   "cell_type": "code",
   "execution_count": 26,
   "metadata": {
    "collapsed": false
   },
   "outputs": [
    {
     "data": {
      "text/plain": [
       "Inf32"
      ]
     },
     "execution_count": 26,
     "metadata": {},
     "output_type": "execute_result"
    }
   ],
   "source": [
    "sqrt(Float16(b2)^2-4Float16(a2)*Float16(c2))"
   ]
  },
  {
   "cell_type": "markdown",
   "metadata": {},
   "source": [
    "#### ( e ) Write (or adapt) a function to use Newton’s method to find the solution to the quadratic \\\\(ax^2 +bx+c = 0\\\\). The input should be a, b and c and the output should be the two values of the roots. (Again, don’t worry about the case where the solution is not real.) \n",
    "*Hint: to get two values, you need to start Newton’s method with two values. Recall that for a quadratic function, one root is left of the vertex and the other is to the right. Pick two values relative to the vertex as your starting points.*"
   ]
  },
  {
   "cell_type": "code",
   "execution_count": 27,
   "metadata": {
    "collapsed": false
   },
   "outputs": [
    {
     "data": {
      "text/plain": [
       "f (generic function with 2 methods)"
      ]
     },
     "execution_count": 27,
     "metadata": {},
     "output_type": "execute_result"
    }
   ],
   "source": [
    "f(a,b,c,x)=a*x^2+b*x+c"
   ]
  },
  {
   "cell_type": "code",
   "execution_count": 28,
   "metadata": {
    "collapsed": false
   },
   "outputs": [
    {
     "data": {
      "text/plain": [
       "df (generic function with 1 method)"
      ]
     },
     "execution_count": 28,
     "metadata": {},
     "output_type": "execute_result"
    }
   ],
   "source": [
    "df(a,b,c,x)=2a*x+b"
   ]
  },
  {
   "cell_type": "code",
   "execution_count": 29,
   "metadata": {
    "collapsed": false
   },
   "outputs": [
    {
     "data": {
      "text/plain": [
       "newton (generic function with 2 methods)"
      ]
     },
     "execution_count": 29,
     "metadata": {},
     "output_type": "execute_result"
    }
   ],
   "source": [
    "function newton(f::Function, df::Function, a::Number, b::Number, c::Number, x0::Number)\n",
    "    x1=x0\n",
    "    x2=0\n",
    "    steps = 0\n",
    "    while abs(x2-x1)>1e-6 && steps<100\n",
    "        x1=x2\n",
    "        x2=x1-(f(a,b,c,x1)/df(a,b,c,x1))\n",
    "        println(x2)\n",
    "        steps += 1\n",
    "    end\n",
    "    x2\n",
    "end"
   ]
  },
  {
   "cell_type": "code",
   "execution_count": 30,
   "metadata": {
    "collapsed": false
   },
   "outputs": [
    {
     "name": "stdout",
     "output_type": "stream",
     "text": [
      "-2.831390684724647e-5\n",
      "-2.831413841475849e-5\n"
     ]
    },
    {
     "data": {
      "text/plain": [
       "-2.831413841475849e-5"
      ]
     },
     "execution_count": 30,
     "metadata": {},
     "output_type": "execute_result"
    }
   ],
   "source": [
    "newton(f,df,12.242,42.382,0.0012,-20)"
   ]
  },
  {
   "cell_type": "code",
   "execution_count": null,
   "metadata": {
    "collapsed": true
   },
   "outputs": [],
   "source": []
  },
  {
   "cell_type": "code",
   "execution_count": null,
   "metadata": {
    "collapsed": true
   },
   "outputs": [],
   "source": []
  },
  {
   "cell_type": "code",
   "execution_count": null,
   "metadata": {
    "collapsed": true
   },
   "outputs": [],
   "source": []
  },
  {
   "cell_type": "markdown",
   "metadata": {},
   "source": [
    "### ( 2 ) Newton's method is an example of an iterative formula that generally converges. However, not all iterative formulas converge. The following is another example:  \n",
    "&nbsp;&nbsp;&nbsp;&nbsp;&nbsp;&nbsp;&nbsp;&nbsp;&nbsp;&nbsp;&nbsp;&nbsp;&nbsp;&nbsp;&nbsp;&nbsp; $x_{n+1}=ax_{n}(1-x_{n})$\n",
    "\n",
    "#### ( a ) If $a=2$ and $x_1=0.6$, find the first 125 iterations, but print out (or show) only the last 25 terms. Does it appear that the sequence converges? If so, to what? If there's anything else interesting about the sequence, discuss it."
   ]
  },
  {
   "cell_type": "code",
   "execution_count": 66,
   "metadata": {
    "collapsed": false
   },
   "outputs": [
    {
     "data": {
      "text/plain": [
       "newton2 (generic function with 2 methods)"
      ]
     },
     "execution_count": 66,
     "metadata": {},
     "output_type": "execute_result"
    }
   ],
   "source": [
    "function newton2(f::Function, df::Function, a0::Number, x0::Number)\n",
    "    x1=x0\n",
    "    a1=a0\n",
    "    x2=0\n",
    "    steps = 0\n",
    "    while abs(x2-x1)>1e-6 && steps<125\n",
    "        x1=x2\n",
    "        x2=a1*x1-(f(x1)/df(x1))\n",
    "        if (steps > 100)\n",
    "            println(x2)\n",
    "        end\n",
    "        steps += 1\n",
    "    end\n",
    "    x2\n",
    "end"
   ]
  },
  {
   "cell_type": "code",
   "execution_count": 67,
   "metadata": {
    "collapsed": false
   },
   "outputs": [
    {
     "name": "stdout",
     "output_type": "stream",
     "text": [
      "-0.002812061129053488\n",
      "-0.0028381332626381955\n",
      "-0.002864163168571261\n",
      "-0.0028901505215859526\n",
      "-0.0029160949988512306\n",
      "-0.0029419962799843422\n",
      "-0.0029678540470631266\n",
      "-0.00299366798463804\n",
      "-0.0030194377797438943\n",
      "-0.0030451631219113114\n",
      "-0.0030708437031778937\n",
      "-0.003096479218099108\n",
      "-0.0031220693637588866\n",
      "-0.003147613839779942\n",
      "-0.0031731123483337946\n",
      "-0.0031985645941505205\n",
      "-0.0032239702845282066\n",
      "-0.0032493291293421286\n",
      "-0.003274640841053638\n",
      "-0.0032999051347187684\n",
      "-0.0033251217279965566\n",
      "-0.003350290341157078\n",
      "-0.0033754106970892025\n",
      "-0.0034004825213080625\n"
     ]
    },
    {
     "data": {
      "text/plain": [
       "-0.0034004825213080625"
      ]
     },
     "execution_count": 67,
     "metadata": {},
     "output_type": "execute_result"
    }
   ],
   "source": [
    "f1(x)=12.242x^2+42.382x+0.0012\n",
    "df1(x)=24.484x+42.382\n",
    "\n",
    "newton2(f1,df1,2,0.6)"
   ]
  },
  {
   "cell_type": "markdown",
   "metadata": {},
   "source": [
    "The sequence diverges and decreases very slowly."
   ]
  },
  {
   "cell_type": "code",
   "execution_count": 70,
   "metadata": {
    "collapsed": false
   },
   "outputs": [
    {
     "name": "stdout",
     "output_type": "stream",
     "text": [
      "-1.3212449087124456\n",
      "-0.5124906783566385\n",
      "-0.9172485135218885\n",
      "-1.3176079333168031\n",
      "-0.5355637853999711\n",
      "-0.9512012119295998\n",
      "-1.3223319947782868\n",
      "-0.505483028956665\n",
      "-0.9067596670564491\n",
      "-1.3148134025818068\n",
      "-0.5529104693203091\n",
      "-0.9761152247373376\n",
      "-1.3212117582202125\n",
      "-0.5127035646276883\n",
      "-0.9175658897316749\n",
      "-1.317683074286147\n",
      "-0.5350928150650764\n",
      "-0.9505173209181619\n",
      "-1.3223056625368712\n",
      "-0.5056533850895484\n",
      "-0.9070156048081951\n",
      "-1.3148886909792261\n",
      "-0.5524474104000197\n",
      "-0.975457217253053\n"
     ]
    },
    {
     "data": {
      "text/plain": [
       "-0.975457217253053"
      ]
     },
     "execution_count": 70,
     "metadata": {},
     "output_type": "execute_result"
    }
   ],
   "source": [
    "# ( b ) Definitely does not converge\n",
    "newton2(f1,df1,3,0.6)"
   ]
  },
  {
   "cell_type": "code",
   "execution_count": 72,
   "metadata": {
    "collapsed": false
   },
   "outputs": [
    {
     "name": "stdout",
     "output_type": "stream",
     "text": [
      "-2.330794282580839e43\n",
      "-6.992382847742516e43\n",
      "-2.0977148543227548e44\n",
      "-6.293144562968265e44\n",
      "-1.8879433688904795e45\n",
      "-5.663830106671439e45\n",
      "-1.6991490320014315e46\n",
      "-5.097447096004295e46\n",
      "-1.5292341288012886e47\n",
      "-4.587702386403866e47\n",
      "-1.3763107159211599e48\n",
      "-4.1289321477634804e48\n",
      "-1.238679644329044e49\n",
      "-3.716038932987133e49\n",
      "-1.1148116798961399e50\n",
      "-3.344435039688419e50\n",
      "-1.0033305119065256e51\n",
      "-3.009991535719577e51\n",
      "-9.029974607158732e51\n",
      "-2.708992382147619e52\n",
      "-8.126977146442857e52\n",
      "-2.4380931439328572e53\n",
      "-7.314279431798572e53\n",
      "-2.1942838295395715e54\n"
     ]
    },
    {
     "data": {
      "text/plain": [
       "-2.1942838295395715e54"
      ]
     },
     "execution_count": 72,
     "metadata": {},
     "output_type": "execute_result"
    }
   ],
   "source": [
    "# ( c ) Also diverges and oscillates massive numbers\n",
    "newton2(f1,df1,3.5,0.6)"
   ]
  },
  {
   "cell_type": "code",
   "execution_count": 74,
   "metadata": {
    "collapsed": false
   },
   "outputs": [
    {
     "name": "stdout",
     "output_type": "stream",
     "text": [
      "-1.2103399762148558e50\n",
      "-4.236189916751995e50\n",
      "-1.4826664708631982e51\n",
      "-5.1893326480211935e51\n",
      "-1.8162664268074177e52\n",
      "-6.356932493825963e52\n",
      "-2.2249263728390867e53\n",
      "-7.787242304936804e53\n",
      "-2.7255348067278812e54\n",
      "-9.539371823547584e54\n",
      "-3.338780138241654e55\n",
      "-1.168573048384579e56\n",
      "-4.090005669346026e56\n",
      "-1.4315019842711091e57\n",
      "-5.010256944948882e57\n",
      "-1.7535899307321088e58\n",
      "-6.137564757562381e58\n",
      "-2.148147665146833e59\n",
      "-7.518516828013916e59\n",
      "-2.6314808898048704e60\n",
      "-9.210183114317046e60\n",
      "-3.2235640900109664e61\n",
      "-1.1282474315038383e62\n",
      "-3.948866010263434e62\n"
     ]
    },
    {
     "data": {
      "text/plain": [
       "-3.948866010263434e62"
      ]
     },
     "execution_count": 74,
     "metadata": {},
     "output_type": "execute_result"
    }
   ],
   "source": [
    "# ( d ) And same\n",
    "newton2(f1,df1,4,0.6)"
   ]
  },
  {
   "cell_type": "markdown",
   "metadata": {},
   "source": [
    "### ( 3 ) Matrices\n",
    "#### A matrix is an array of numbers and are often studied in linear algebra. Consider a 2x2 matrix that looks like:  \n",
    "$$\n",
    "A=\n",
    "\\begin{bmatrix}\n",
    "a & b  \\\\\n",
    "c & d\n",
    "\\end{bmatrix}\n",
    "$$\n",
    "\n",
    "#### The determinant of a 2x2 matrix is given by $det(A)=ad-bc$. In this case we will examine the matrix  \n",
    "$$\n",
    "A=\n",
    "\\begin{bmatrix}\n",
    "5.99 & 3.99  \\\\\n",
    "3.01 & 2.01\n",
    "\\end{bmatrix}\n",
    "$$\n",
    "\n",
    "#### ( a ) Find the exact value of $det(A)$."
   ]
  },
  {
   "cell_type": "code",
   "execution_count": 80,
   "metadata": {
    "collapsed": false
   },
   "outputs": [
    {
     "data": {
      "text/plain": [
       "0.02999999999999722"
      ]
     },
     "execution_count": 80,
     "metadata": {},
     "output_type": "execute_result"
    }
   ],
   "source": [
    "A=[5.99 3.99;3.01 2.01]\n",
    "det(A)"
   ]
  },
  {
   "cell_type": "markdown",
   "metadata": {},
   "source": [
    "#### ( b ) Create a function to produce the determinant. The first line should be `function det(a,b,c,d)`."
   ]
  },
  {
   "cell_type": "code",
   "execution_count": 84,
   "metadata": {
    "collapsed": false
   },
   "outputs": [
    {
     "data": {
      "text/plain": [
       "det2 (generic function with 1 method)"
      ]
     },
     "execution_count": 84,
     "metadata": {},
     "output_type": "execute_result"
    }
   ],
   "source": [
    "# Determinant Function (not the built-in one)\n",
    "function det2(a,b,c,d)\n",
    "    a*d-b*c\n",
    "end"
   ]
  },
  {
   "cell_type": "markdown",
   "metadata": {},
   "source": [
    "#### ( c ) Use the function to find the detminant of A using both 16-bit and 64-bit floating point numbers. Find the absolute and relative errors of the answer in ( c ). "
   ]
  },
  {
   "cell_type": "code",
   "execution_count": 85,
   "metadata": {
    "collapsed": false
   },
   "outputs": [
    {
     "data": {
      "text/plain": [
       "0.02999999999999936"
      ]
     },
     "execution_count": 85,
     "metadata": {},
     "output_type": "execute_result"
    }
   ],
   "source": [
    "# Float64\n",
    "f64=det2(5.99,3.99,3.01,2.01)"
   ]
  },
  {
   "cell_type": "code",
   "execution_count": 86,
   "metadata": {
    "collapsed": false
   },
   "outputs": [
    {
     "data": {
      "text/plain": [
       "Float16(0.02344)"
      ]
     },
     "execution_count": 86,
     "metadata": {},
     "output_type": "execute_result"
    }
   ],
   "source": [
    "# Float16\n",
    "f16=det2(Float16(5.99),Float16(3.99),Float16(3.01),Float16(2.01))"
   ]
  },
  {
   "cell_type": "code",
   "execution_count": 87,
   "metadata": {
    "collapsed": false
   },
   "outputs": [
    {
     "data": {
      "text/plain": [
       "0.0065624999999993605"
      ]
     },
     "execution_count": 87,
     "metadata": {},
     "output_type": "execute_result"
    }
   ],
   "source": [
    "# Absolute Error\n",
    "abs(f64-f16)"
   ]
  },
  {
   "cell_type": "code",
   "execution_count": 90,
   "metadata": {
    "collapsed": false
   },
   "outputs": [
    {
     "data": {
      "text/plain": [
       "0.2799999999999727"
      ]
     },
     "execution_count": 90,
     "metadata": {},
     "output_type": "execute_result"
    }
   ],
   "source": [
    "# Relative Error\n",
    "abs(f64-f16)/f16"
   ]
  },
  {
   "cell_type": "markdown",
   "metadata": {},
   "source": [
    "#### ( d ) Try to find a way to get the exact value of $det(A)$ using Julia. (Hint: consider different number types)."
   ]
  },
  {
   "cell_type": "code",
   "execution_count": 91,
   "metadata": {
    "collapsed": false
   },
   "outputs": [
    {
     "data": {
      "text/plain": [
       "2.999999999999936051153781590983271598815917968750000000000000000000000000000000e-02"
      ]
     },
     "execution_count": 91,
     "metadata": {},
     "output_type": "execute_result"
    }
   ],
   "source": [
    "fbig=det2(BigFloat(5.99),BigFloat(3.99),BigFloat(3.01),BigFloat(2.01))"
   ]
  },
  {
   "cell_type": "code",
   "execution_count": null,
   "metadata": {
    "collapsed": true
   },
   "outputs": [],
   "source": []
  }
 ],
 "metadata": {
  "anaconda-cloud": {},
  "kernelspec": {
   "display_name": "Julia 0.4.6",
   "language": "julia",
   "name": "julia-0.4"
  },
  "language_info": {
   "file_extension": ".jl",
   "mimetype": "application/julia",
   "name": "julia",
   "version": "0.4.6"
  }
 },
 "nbformat": 4,
 "nbformat_minor": 0
}
