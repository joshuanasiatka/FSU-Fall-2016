{
 "cells": [
  {
   "cell_type": "markdown",
   "metadata": {},
   "source": [
    "# Homework 3\n",
    "### The Quadratic Formula\n",
    "\n",
    "1) In class we used the forumla:  \n",
    "&nbsp;&nbsp;&nbsp;&nbsp;&nbsp;&nbsp;$x=\\frac{-b\\pm\\sqrt{b^2-4ac}}{2a}$.  \n",
    "\n",
    "and derived it into:  \n",
    "&nbsp;&nbsp;&nbsp;&nbsp;&nbsp;&nbsp;$x=\\frac{-2c}{-b\\pm\\sqrt{b^2-4ac}}$."
   ]
  },
  {
   "cell_type": "code",
   "execution_count": null,
   "metadata": {
    "collapsed": true
   },
   "outputs": [],
   "source": []
  }
 ],
 "metadata": {
  "kernelspec": {
   "display_name": "Julia 0.4.6",
   "language": "julia",
   "name": "julia-0.4"
  },
  "language_info": {
   "file_extension": ".jl",
   "mimetype": "application/julia",
   "name": "julia",
   "version": "0.4.6"
  }
 },
 "nbformat": 4,
 "nbformat_minor": 0
}
