{
 "cells": [
  {
   "cell_type": "markdown",
   "metadata": {},
   "source": [
    "# Homework 2\n",
    "### Prime Numbers\n",
    "##### *(1) Using your notes from class or those posted, combine the following functions into a single file:*\n",
    "\n",
    "`all_factors`: a function that returns all factors of a given positive integer  \n",
    "`is_prime`: a function that returns true if positive integer is prime, otherwise false  \n",
    "`next_prime`: a function that returns the next larger prime number, bigger than the input positive integer  \n",
    "`list_primes`: a function that returns an array of primes between two given inputs  \n",
    "`is_perfect`: a function that returns true if a positive integer is perfect, otherwise false  \n",
    "`next_perfect`: a function that returns the next perfect number larger than a given positive integer"
   ]
  },
  {
   "cell_type": "code",
   "execution_count": 1,
   "metadata": {
    "collapsed": false
   },
   "outputs": [],
   "source": [
    "include(\"PRIME_LIB.jl\")\n",
    "using PRIME_LIB"
   ]
  },
  {
   "cell_type": "code",
   "execution_count": 2,
   "metadata": {
    "collapsed": false
   },
   "outputs": [
    {
     "data": {
      "text/plain": [
       "6-element Array{Int64,1}:\n",
       "  1\n",
       "  2\n",
       "  3\n",
       "  6\n",
       "  9\n",
       " 18"
      ]
     },
     "execution_count": 2,
     "metadata": {},
     "output_type": "execute_result"
    }
   ],
   "source": [
    "all_factors(18)"
   ]
  },
  {
   "cell_type": "code",
   "execution_count": 3,
   "metadata": {
    "collapsed": false
   },
   "outputs": [
    {
     "data": {
      "text/plain": [
       "5"
      ]
     },
     "execution_count": 3,
     "metadata": {},
     "output_type": "execute_result"
    }
   ],
   "source": [
    "next_prime(3)"
   ]
  },
  {
   "cell_type": "code",
   "execution_count": 4,
   "metadata": {
    "collapsed": false
   },
   "outputs": [
    {
     "data": {
      "text/plain": [
       "11"
      ]
     },
     "execution_count": 4,
     "metadata": {},
     "output_type": "execute_result"
    }
   ],
   "source": [
    "next_prime(9)"
   ]
  },
  {
   "cell_type": "code",
   "execution_count": 5,
   "metadata": {
    "collapsed": false
   },
   "outputs": [
    {
     "data": {
      "text/plain": [
       "28"
      ]
     },
     "execution_count": 5,
     "metadata": {},
     "output_type": "execute_result"
    }
   ],
   "source": [
    "next_perfect(6)"
   ]
  },
  {
   "cell_type": "markdown",
   "metadata": {},
   "source": [
    "##### *(2) Test thou functions*\n",
    "\n",
    "(a) Print out all prime numbers less than 1000"
   ]
  },
  {
   "cell_type": "code",
   "execution_count": 6,
   "metadata": {
    "collapsed": false
   },
   "outputs": [
    {
     "data": {
      "text/plain": [
       "168-element Array{Any,1}:\n",
       "   2\n",
       "   3\n",
       "   5\n",
       "   7\n",
       "  11\n",
       "  13\n",
       "  17\n",
       "  19\n",
       "  23\n",
       "  29\n",
       "  31\n",
       "  37\n",
       "  41\n",
       "   ⋮\n",
       " 919\n",
       " 929\n",
       " 937\n",
       " 941\n",
       " 947\n",
       " 953\n",
       " 967\n",
       " 971\n",
       " 977\n",
       " 983\n",
       " 991\n",
       " 997"
      ]
     },
     "execution_count": 6,
     "metadata": {},
     "output_type": "execute_result"
    }
   ],
   "source": [
    "list_primes(1,1000)"
   ]
  },
  {
   "cell_type": "markdown",
   "metadata": {},
   "source": [
    "(b) Determine the amount of time to find the smallest prime number bigger than 1000"
   ]
  },
  {
   "cell_type": "code",
   "execution_count": 7,
   "metadata": {
    "collapsed": false
   },
   "outputs": [
    {
     "name": "stdout",
     "output_type": "stream",
     "text": [
      "  0.000313 seconds (182 allocations: 12.386 KB)\n"
     ]
    },
    {
     "data": {
      "text/plain": [
       "1009"
      ]
     },
     "execution_count": 7,
     "metadata": {},
     "output_type": "execute_result"
    }
   ],
   "source": [
    "@time next_prime(1000)"
   ]
  },
  {
   "cell_type": "markdown",
   "metadata": {},
   "source": [
    "(c) Find all perfect numbers less than 10,000"
   ]
  },
  {
   "cell_type": "code",
   "execution_count": 8,
   "metadata": {
    "collapsed": false
   },
   "outputs": [
    {
     "data": {
      "text/plain": [
       "4-element Array{Any,1}:\n",
       "    6\n",
       "   28\n",
       "  496\n",
       " 8128"
      ]
     },
     "execution_count": 8,
     "metadata": {},
     "output_type": "execute_result"
    }
   ],
   "source": [
    "x=[]\n",
    "for i=1:10000\n",
    "    if is_perfect(i)\n",
    "        push!(x,i)\n",
    "    end\n",
    "end\n",
    "x       "
   ]
  },
  {
   "cell_type": "markdown",
   "metadata": {},
   "source": [
    "(d) Determine the amount of time to find the smallest perfect number bigger than 1000"
   ]
  },
  {
   "cell_type": "code",
   "execution_count": 9,
   "metadata": {
    "collapsed": false
   },
   "outputs": [
    {
     "name": "stdout",
     "output_type": "stream",
     "text": [
      "  0.383688 seconds (28.29 k allocations: 2.052 MB)\n"
     ]
    },
    {
     "data": {
      "text/plain": [
       "8128"
      ]
     },
     "execution_count": 9,
     "metadata": {},
     "output_type": "execute_result"
    }
   ],
   "source": [
    "@time next_perfect(1000)"
   ]
  },
  {
   "cell_type": "markdown",
   "metadata": {},
   "source": [
    "##### (3) A Mersenne Prime is a prime of the form 2^k - 1 where k is also prime\n",
    "(a) Find the first 6 Merseene Prime numbers"
   ]
  },
  {
   "cell_type": "code",
   "execution_count": 10,
   "metadata": {
    "collapsed": false
   },
   "outputs": [
    {
     "data": {
      "text/plain": [
       "6-element Array{Any,1}:\n",
       "      3\n",
       "      7\n",
       "     31\n",
       "    127\n",
       "   8191\n",
       " 131071"
      ]
     },
     "execution_count": 10,
     "metadata": {},
     "output_type": "execute_result"
    }
   ],
   "source": [
    "i=6\n",
    "k=1\n",
    "merseene=[]\n",
    "while i != 0\n",
    "    j = next_prime(k)\n",
    "    if is_prime(2^j-1)\n",
    "        if !in(2^j-1,merseene)\n",
    "            push!(merseene,2^j-1)\n",
    "            i-=1\n",
    "        end\n",
    "    end\n",
    "    k+=1\n",
    "end\n",
    "merseene"
   ]
  },
  {
   "cell_type": "markdown",
   "metadata": {},
   "source": [
    "(b) What is the largest value of `k` such that `2^k-1` is a valid 64-bit integer? Find the largest Int64 Merseene Prime."
   ]
  },
  {
   "cell_type": "code",
   "execution_count": 11,
   "metadata": {
    "collapsed": false
   },
   "outputs": [
    {
     "data": {
      "text/plain": [
       "9223372036854775807"
      ]
     },
     "execution_count": 11,
     "metadata": {},
     "output_type": "execute_result"
    }
   ],
   "source": [
    "2^(63)-1 # k = 63"
   ]
  },
  {
   "cell_type": "code",
   "execution_count": 19,
   "metadata": {
    "collapsed": false
   },
   "outputs": [
    {
     "data": {
      "text/plain": [
       "2305843009213693951"
      ]
     },
     "execution_count": 19,
     "metadata": {},
     "output_type": "execute_result"
    }
   ],
   "source": [
    "# Obtain the largest Int64 Merseene Prime\n",
    "using Primes\n",
    "i=1\n",
    "k=1\n",
    "merseene=[]\n",
    "while i != 0\n",
    "    j = next_prime(k)\n",
    "    if 2^j-1 != -1\n",
    "        if isprime(2^j-1)\n",
    "            if !in(2^j-1,merseene)\n",
    "                push!(merseene,2^j-1)\n",
    "            end\n",
    "        end\n",
    "        k=j\n",
    "    else\n",
    "        i = 0\n",
    "    end\n",
    "end\n",
    "merseene[length(merseene)]"
   ]
  },
  {
   "cell_type": "markdown",
   "metadata": {},
   "source": [
    "(c) Find the smallest Mersenne Prime with `k > 1000`. Hint: use your `list_primes` function to find primes in the correct range and make sure that you `isprime` function in the `Primes` package as well as `BigInts`."
   ]
  },
  {
   "cell_type": "code",
   "execution_count": 6,
   "metadata": {
    "collapsed": false
   },
   "outputs": [
    {
     "data": {
      "text/plain": [
       "10407932194664399081925240327364085538615262247266704805319112350403608059673360298012239441732324184842421613954281007791383566248323464908139906605677320762924129509389220345773183349661583550472959420547689811211693677147548478866962501384438260291732348885311160828538416585028255604666224831890918801847068222203140521026698435488732958028878050869736186900714720710555703168729087"
      ]
     },
     "execution_count": 6,
     "metadata": {},
     "output_type": "execute_result"
    }
   ],
   "source": [
    "# Obtain the smallest Merseene Prime for k > 1000\n",
    "using Primes\n",
    "i=1\n",
    "k=1000\n",
    "merseene=0\n",
    "while i != 0\n",
    "    j = next_prime(k)\n",
    "    if isprime(BigInt(2)^j-1)\n",
    "        merseene = BigInt(2)^j-1\n",
    "        i=0\n",
    "    end\n",
    "    k=j\n",
    "end\n",
    "merseene"
   ]
  },
  {
   "cell_type": "code",
   "execution_count": 16,
   "metadata": {
    "collapsed": false
   },
   "outputs": [
    {
     "data": {
      "text/plain": [
       "true"
      ]
     },
     "execution_count": 16,
     "metadata": {},
     "output_type": "execute_result"
    }
   ],
   "source": [
    "is_perfect(6)"
   ]
  },
  {
   "cell_type": "code",
   "execution_count": 3,
   "metadata": {
    "collapsed": false
   },
   "outputs": [
    {
     "ename": "LoadError",
     "evalue": "LoadError: InterruptException:\nwhile loading In[3], in expression starting on line 1",
     "output_type": "error",
     "traceback": [
      "LoadError: InterruptException:\nwhile loading In[3], in expression starting on line 1",
      "",
      " in finalizer at /Applications/Julia-0.4.6.app/Contents/Resources/julia/lib/julia/sys.dylib",
      " in rem at gmp.jl:256",
      " in all_factors at /Users/joshuanasiatka/GitHub/FSU-Fall-2016/tpcs-sci-comp/hw/PRIME_LIB.jl:16",
      " in is_perfect at /Users/joshuanasiatka/GitHub/FSU-Fall-2016/tpcs-sci-comp/hw/PRIME_LIB.jl:46",
      " in next_perfect at /Users/joshuanasiatka/GitHub/FSU-Fall-2016/tpcs-sci-comp/hw/PRIME_LIB.jl:51"
     ]
    }
   ],
   "source": [
    "next_perfect(BigInt(8128))"
   ]
  },
  {
   "cell_type": "code",
   "execution_count": null,
   "metadata": {
    "collapsed": true
   },
   "outputs": [],
   "source": []
  }
 ],
 "metadata": {
  "anaconda-cloud": {},
  "kernelspec": {
   "display_name": "Julia 0.4.6",
   "language": "julia",
   "name": "julia-0.4"
  },
  "language_info": {
   "file_extension": ".jl",
   "mimetype": "application/julia",
   "name": "julia",
   "version": "0.4.6"
  }
 },
 "nbformat": 4,
 "nbformat_minor": 0
}
