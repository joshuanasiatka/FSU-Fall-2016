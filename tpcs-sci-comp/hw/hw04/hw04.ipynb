{
 "cells": [
  {
   "cell_type": "markdown",
   "metadata": {},
   "source": [
    "# Homework 4\n",
    "### Joshua Nasiatka (10.12.16)\n",
    "----"
   ]
  },
  {
   "cell_type": "markdown",
   "metadata": {},
   "source": [
    "#### ( 1 ) The mean and standard deviation of a set of numbers is an important way to condense a large set to two numbers. Recall that the mean of ${x_1,x_2,...,x_n}$ is  \n",
    "<h3><center> $\\bar{x}=\\frac{x_1+x_2+...+x_n}{n}$ </center></h3>\n",
    "\n",
    "#### and the standard deviation is\n",
    "<h3><center> $s=\\sqrt{\\frac{(x_1-\\bar{x})^2+(x_2-\\bar{x})^2+...+(x_n-\\bar{x})^2}{n-1}}$ </center></h3>\n",
    "\n",
    "**( a ) Write a function that takes a 1-D array of numbers and returns the mean. Call this function `the_mean` to distinguish from the built-in one. You may use the built-in `sum` function, but not the built-in `mean` function. You may also use a `for` loop.**"
   ]
  },
  {
   "cell_type": "code",
   "execution_count": 1,
   "metadata": {
    "collapsed": false
   },
   "outputs": [],
   "source": [
    "include(\"stats.jl\")\n",
    "using StatsPackage"
   ]
  },
  {
   "cell_type": "code",
   "execution_count": 2,
   "metadata": {
    "collapsed": false
   },
   "outputs": [
    {
     "data": {
      "text/plain": [
       "2.5"
      ]
     },
     "execution_count": 2,
     "metadata": {},
     "output_type": "execute_result"
    }
   ],
   "source": [
    "the_mean(3,2)"
   ]
  },
  {
   "cell_type": "code",
   "execution_count": 3,
   "metadata": {
    "collapsed": false
   },
   "outputs": [
    {
     "data": {
      "text/plain": [
       "5-element Array{Int64,1}:\n",
       " 1\n",
       " 2\n",
       " 3\n",
       " 4\n",
       " 5"
      ]
     },
     "execution_count": 3,
     "metadata": {},
     "output_type": "execute_result"
    }
   ],
   "source": [
    "x=[1,2,3,4,5]"
   ]
  },
  {
   "cell_type": "code",
   "execution_count": 4,
   "metadata": {
    "collapsed": false
   },
   "outputs": [
    {
     "data": {
      "text/plain": [
       "3.0"
      ]
     },
     "execution_count": 4,
     "metadata": {},
     "output_type": "execute_result"
    }
   ],
   "source": [
    "the_mean(x)"
   ]
  },
  {
   "cell_type": "code",
   "execution_count": 5,
   "metadata": {
    "collapsed": false
   },
   "outputs": [
    {
     "data": {
      "text/plain": [
       "5.25"
      ]
     },
     "execution_count": 5,
     "metadata": {},
     "output_type": "execute_result"
    }
   ],
   "source": [
    "the_mean([2,3,7,6,8,9,2,5])"
   ]
  },
  {
   "cell_type": "code",
   "execution_count": 6,
   "metadata": {
    "collapsed": false
   },
   "outputs": [
    {
     "data": {
      "text/plain": [
       "10-element Array{Int64,1}:\n",
       " 21\n",
       "  3\n",
       " 11\n",
       " 10\n",
       "  7\n",
       " 13\n",
       " 18\n",
       "  7\n",
       "  6\n",
       " 21"
      ]
     },
     "execution_count": 6,
     "metadata": {},
     "output_type": "execute_result"
    }
   ],
   "source": [
    "r=rand(1:25,10)"
   ]
  },
  {
   "cell_type": "code",
   "execution_count": 7,
   "metadata": {
    "collapsed": false
   },
   "outputs": [
    {
     "data": {
      "text/plain": [
       "11.7"
      ]
     },
     "execution_count": 7,
     "metadata": {},
     "output_type": "execute_result"
    }
   ],
   "source": [
    "the_mean(r)"
   ]
  },
  {
   "cell_type": "markdown",
   "metadata": {},
   "source": [
    "**( b ) Write a function that takes a 1-D array of numbers and returns the standard deviation. Call this function `the_std` to distinguish from the built-in one. You should not use the built-in `std` function, but other functions are fine. Hint: you can use the `reduce` or `sum` function with a function to write this compactly, but may use a `for` loop as well.**"
   ]
  },
  {
   "cell_type": "code",
   "execution_count": 8,
   "metadata": {
    "collapsed": false
   },
   "outputs": [
    {
     "data": {
      "text/plain": [
       "150-element Array{Int64,1}:\n",
       "  1\n",
       "  6\n",
       " 88\n",
       " 62\n",
       "  8\n",
       " 69\n",
       " 64\n",
       "  4\n",
       " 40\n",
       " 30\n",
       " 82\n",
       " 35\n",
       " 82\n",
       "  ⋮\n",
       " 66\n",
       " 56\n",
       " 36\n",
       " 11\n",
       " 71\n",
       "  5\n",
       " 42\n",
       " 60\n",
       " 48\n",
       " 86\n",
       " 16\n",
       " 21"
      ]
     },
     "execution_count": 8,
     "metadata": {},
     "output_type": "execute_result"
    }
   ],
   "source": [
    "arr1=rand(1:100,150)"
   ]
  },
  {
   "cell_type": "markdown",
   "metadata": {},
   "source": [
    "**( c ) You should test your functions on some small arrays/vectors and use the built-in functions `mean` and `std` to help debug**"
   ]
  },
  {
   "cell_type": "code",
   "execution_count": 9,
   "metadata": {
    "collapsed": false
   },
   "outputs": [
    {
     "data": {
      "text/plain": [
       "30.075134102363826"
      ]
     },
     "execution_count": 9,
     "metadata": {},
     "output_type": "execute_result"
    }
   ],
   "source": [
    "the_std(arr1)"
   ]
  },
  {
   "cell_type": "code",
   "execution_count": 10,
   "metadata": {
    "collapsed": false,
    "scrolled": true
   },
   "outputs": [
    {
     "data": {
      "text/plain": [
       "39.15673632978111"
      ]
     },
     "execution_count": 10,
     "metadata": {},
     "output_type": "execute_result"
    }
   ],
   "source": [
    "the_std([32,54,6,5,88,76,13,113,24])"
   ]
  },
  {
   "cell_type": "code",
   "execution_count": 11,
   "metadata": {
    "collapsed": false
   },
   "outputs": [
    {
     "data": {
      "text/plain": [
       "30.075134102363826"
      ]
     },
     "execution_count": 11,
     "metadata": {},
     "output_type": "execute_result"
    }
   ],
   "source": [
    "std(arr1)"
   ]
  },
  {
   "cell_type": "code",
   "execution_count": 12,
   "metadata": {
    "collapsed": false
   },
   "outputs": [
    {
     "data": {
      "text/plain": [
       "39.15673632978111"
      ]
     },
     "execution_count": 12,
     "metadata": {},
     "output_type": "execute_result"
    }
   ],
   "source": [
    "std([32,54,6,5,88,76,13,113,24])"
   ]
  },
  {
   "cell_type": "code",
   "execution_count": 13,
   "metadata": {
    "collapsed": false
   },
   "outputs": [
    {
     "data": {
      "text/plain": [
       "51.42"
      ]
     },
     "execution_count": 13,
     "metadata": {},
     "output_type": "execute_result"
    }
   ],
   "source": [
    "the_mean(arr1)"
   ]
  },
  {
   "cell_type": "code",
   "execution_count": 14,
   "metadata": {
    "collapsed": false
   },
   "outputs": [
    {
     "data": {
      "text/plain": [
       "51.42"
      ]
     },
     "execution_count": 14,
     "metadata": {},
     "output_type": "execute_result"
    }
   ],
   "source": [
    "mean(arr1)"
   ]
  },
  {
   "cell_type": "code",
   "execution_count": 15,
   "metadata": {
    "collapsed": false
   },
   "outputs": [
    {
     "data": {
      "text/plain": [
       "45.666666666666664"
      ]
     },
     "execution_count": 15,
     "metadata": {},
     "output_type": "execute_result"
    }
   ],
   "source": [
    "the_mean([32,54,6,5,88,76,13,113,24])"
   ]
  },
  {
   "cell_type": "code",
   "execution_count": 16,
   "metadata": {
    "collapsed": false
   },
   "outputs": [
    {
     "data": {
      "text/plain": [
       "45.666666666666664"
      ]
     },
     "execution_count": 16,
     "metadata": {},
     "output_type": "execute_result"
    }
   ],
   "source": [
    "mean([32,54,6,5,88,76,13,113,24])"
   ]
  },
  {
   "cell_type": "markdown",
   "metadata": {},
   "source": [
    "**( d ) Load the `RDatasets` package. You may have to add the package first and then load it with the `using` keyword. Note: the first time you add the package, it may take some time to load, since it is pulling in a lot of data. There are a lot of interesting datasets here, but today we will only look at the waiting time between eruptions from Old Faithful in Yellowstone National Park. Load this data by typing:**\n",
    "\n",
    "```\n",
    "data = dataset(\"datasets\", \"faithful\")\n",
    "```"
   ]
  },
  {
   "cell_type": "code",
   "execution_count": 17,
   "metadata": {
    "collapsed": true
   },
   "outputs": [],
   "source": [
    "using RDatasets"
   ]
  },
  {
   "cell_type": "code",
   "execution_count": 18,
   "metadata": {
    "collapsed": false
   },
   "outputs": [
    {
     "data": {
      "text/html": [
       "<table class=\"data-frame\"><tr><th></th><th>Eruptions</th><th>Waiting</th></tr><tr><th>1</th><td>3.6</td><td>79</td></tr><tr><th>2</th><td>1.8</td><td>54</td></tr><tr><th>3</th><td>3.333</td><td>74</td></tr><tr><th>4</th><td>2.283</td><td>62</td></tr><tr><th>5</th><td>4.533</td><td>85</td></tr><tr><th>6</th><td>2.883</td><td>55</td></tr><tr><th>7</th><td>4.7</td><td>88</td></tr><tr><th>8</th><td>3.6</td><td>85</td></tr><tr><th>9</th><td>1.95</td><td>51</td></tr><tr><th>10</th><td>4.35</td><td>85</td></tr><tr><th>11</th><td>1.833</td><td>54</td></tr><tr><th>12</th><td>3.917</td><td>84</td></tr><tr><th>13</th><td>4.2</td><td>78</td></tr><tr><th>14</th><td>1.75</td><td>47</td></tr><tr><th>15</th><td>4.7</td><td>83</td></tr><tr><th>16</th><td>2.167</td><td>52</td></tr><tr><th>17</th><td>1.75</td><td>62</td></tr><tr><th>18</th><td>4.8</td><td>84</td></tr><tr><th>19</th><td>1.6</td><td>52</td></tr><tr><th>20</th><td>4.25</td><td>79</td></tr><tr><th>21</th><td>1.8</td><td>51</td></tr><tr><th>22</th><td>1.75</td><td>47</td></tr><tr><th>23</th><td>3.45</td><td>78</td></tr><tr><th>24</th><td>3.067</td><td>69</td></tr><tr><th>25</th><td>4.533</td><td>74</td></tr><tr><th>26</th><td>3.6</td><td>83</td></tr><tr><th>27</th><td>1.967</td><td>55</td></tr><tr><th>28</th><td>4.083</td><td>76</td></tr><tr><th>29</th><td>3.85</td><td>78</td></tr><tr><th>30</th><td>4.433</td><td>79</td></tr><tr><th>&vellip;</th><td>&vellip;</td><td>&vellip;</td></tr></table>"
      ],
      "text/plain": [
       "272×2 DataFrames.DataFrame\n",
       "│ Row │ Eruptions │ Waiting │\n",
       "├─────┼───────────┼─────────┤\n",
       "│ 1   │ 3.6       │ 79      │\n",
       "│ 2   │ 1.8       │ 54      │\n",
       "│ 3   │ 3.333     │ 74      │\n",
       "│ 4   │ 2.283     │ 62      │\n",
       "│ 5   │ 4.533     │ 85      │\n",
       "│ 6   │ 2.883     │ 55      │\n",
       "│ 7   │ 4.7       │ 88      │\n",
       "│ 8   │ 3.6       │ 85      │\n",
       "│ 9   │ 1.95      │ 51      │\n",
       "│ 10  │ 4.35      │ 85      │\n",
       "│ 11  │ 1.833     │ 54      │\n",
       "⋮\n",
       "│ 261 │ 4.767     │ 78      │\n",
       "│ 262 │ 4.533     │ 84      │\n",
       "│ 263 │ 1.85      │ 58      │\n",
       "│ 264 │ 4.25      │ 83      │\n",
       "│ 265 │ 1.983     │ 43      │\n",
       "│ 266 │ 2.25      │ 60      │\n",
       "│ 267 │ 4.75      │ 75      │\n",
       "│ 268 │ 4.117     │ 81      │\n",
       "│ 269 │ 2.15      │ 46      │\n",
       "│ 270 │ 4.417     │ 90      │\n",
       "│ 271 │ 1.817     │ 46      │\n",
       "│ 272 │ 4.467     │ 74      │"
      ]
     },
     "execution_count": 18,
     "metadata": {},
     "output_type": "execute_result"
    }
   ],
   "source": [
    "data = dataset(\"datasets\", \"faithful\")"
   ]
  },
  {
   "cell_type": "markdown",
   "metadata": {},
   "source": [
    "**( e ) Extract only the 2nd column of this and store it in a variable called `eruptions`. In order to use it correctly, you will need to convert the column to a `Vector` by wrapping `Vector( )` around the result.**"
   ]
  },
  {
   "cell_type": "code",
   "execution_count": 19,
   "metadata": {
    "collapsed": false
   },
   "outputs": [
    {
     "data": {
      "text/plain": [
       "272-element Array{Float64,1}:\n",
       " 3.6  \n",
       " 1.8  \n",
       " 3.333\n",
       " 2.283\n",
       " 4.533\n",
       " 2.883\n",
       " 4.7  \n",
       " 3.6  \n",
       " 1.95 \n",
       " 4.35 \n",
       " 1.833\n",
       " 3.917\n",
       " 4.2  \n",
       " ⋮    \n",
       " 4.767\n",
       " 4.533\n",
       " 1.85 \n",
       " 4.25 \n",
       " 1.983\n",
       " 2.25 \n",
       " 4.75 \n",
       " 4.117\n",
       " 2.15 \n",
       " 4.417\n",
       " 1.817\n",
       " 4.467"
      ]
     },
     "execution_count": 19,
     "metadata": {},
     "output_type": "execute_result"
    }
   ],
   "source": [
    "eruptions = Vector(data[1])"
   ]
  },
  {
   "cell_type": "markdown",
   "metadata": {},
   "source": [
    "**( f ) Find both the mean and standard deviation of waiting time using your functions above.**"
   ]
  },
  {
   "cell_type": "code",
   "execution_count": 20,
   "metadata": {
    "collapsed": false
   },
   "outputs": [
    {
     "data": {
      "text/plain": [
       "3.487783088235293"
      ]
     },
     "execution_count": 20,
     "metadata": {},
     "output_type": "execute_result"
    }
   ],
   "source": [
    "the_mean(eruptions)"
   ]
  },
  {
   "cell_type": "code",
   "execution_count": 21,
   "metadata": {
    "collapsed": false
   },
   "outputs": [
    {
     "data": {
      "text/plain": [
       "1.141371251105208"
      ]
     },
     "execution_count": 21,
     "metadata": {},
     "output_type": "execute_result"
    }
   ],
   "source": [
    "the_std(eruptions)"
   ]
  },
  {
   "cell_type": "markdown",
   "metadata": {},
   "source": [
    "**( 2 ) Adapt your quadratic solver from hw03 to make it more robust. In particular, check to see if the solution is real. If not, you should throw a `ErrorException` with an appropriate message. Give some samples which shows that the code is working.**"
   ]
  },
  {
   "cell_type": "code",
   "execution_count": 22,
   "metadata": {
    "collapsed": false
   },
   "outputs": [
    {
     "data": {
      "text/plain": [
       "qsolve2 (generic function with 1 method)"
      ]
     },
     "execution_count": 22,
     "metadata": {},
     "output_type": "execute_result"
    }
   ],
   "source": [
    "function qsolve2(a::Number, b::Number, c::Number)\n",
    "    ((b^2-4a*c) >= 0) || throw(ErrorException(\"There are no real solutions!\"))\n",
    "    d=sqrt(b^2-4a*c)\n",
    "    (-2c/(b+d),-2c/(b-d))\n",
    "end"
   ]
  },
  {
   "cell_type": "code",
   "execution_count": 23,
   "metadata": {
    "collapsed": false
   },
   "outputs": [
    {
     "data": {
      "text/plain": [
       "(2.1,1.9)"
      ]
     },
     "execution_count": 23,
     "metadata": {},
     "output_type": "execute_result"
    }
   ],
   "source": [
    "a2 = 100\n",
    "b2 = -400\n",
    "c2 = 399\n",
    "\n",
    "# 64-bit Calculation\n",
    "x1c,x2c=qsolve2(a2,b2,c2)"
   ]
  },
  {
   "cell_type": "code",
   "execution_count": 24,
   "metadata": {
    "collapsed": false
   },
   "outputs": [
    {
     "ename": "LoadError",
     "evalue": "LoadError: There are no real solutions!\nwhile loading In[24], in expression starting on line 1",
     "output_type": "error",
     "traceback": [
      "LoadError: There are no real solutions!\nwhile loading In[24], in expression starting on line 1",
      "",
      " in qsolve2(::Int64, ::Int64, ::Int64) at ./In[22]:2"
     ]
    }
   ],
   "source": [
    "qsolve2(2,-4,12)"
   ]
  },
  {
   "cell_type": "markdown",
   "metadata": {},
   "source": [
    "**( 3 ) Add to the stats module creating multiple definitions of `the_mean` with the following:**  \n",
    "- 2 numbers\n",
    "- 3 numbers\n",
    "- any number of numbers\n",
    "- A `FloatRange`\n",
    "\n",
    "Some examples..."
   ]
  },
  {
   "cell_type": "code",
   "execution_count": 25,
   "metadata": {
    "collapsed": false
   },
   "outputs": [
    {
     "data": {
      "text/plain": [
       "2.625"
      ]
     },
     "execution_count": 25,
     "metadata": {},
     "output_type": "execute_result"
    }
   ],
   "source": [
    "the_mean(3.5,1.75)"
   ]
  },
  {
   "cell_type": "code",
   "execution_count": 26,
   "metadata": {
    "collapsed": false
   },
   "outputs": [
    {
     "data": {
      "text/plain": [
       "5.19"
      ]
     },
     "execution_count": 26,
     "metadata": {},
     "output_type": "execute_result"
    }
   ],
   "source": [
    "the_mean(3.45,8.25,3.87)"
   ]
  },
  {
   "cell_type": "code",
   "execution_count": 27,
   "metadata": {
    "collapsed": false
   },
   "outputs": [
    {
     "data": {
      "text/plain": [
       "5.433999999999999"
      ]
     },
     "execution_count": 27,
     "metadata": {},
     "output_type": "execute_result"
    }
   ],
   "source": [
    "the_mean(3.57,8.76,9.14,3.14,2.56)"
   ]
  },
  {
   "cell_type": "code",
   "execution_count": 28,
   "metadata": {
    "collapsed": false
   },
   "outputs": [
    {
     "data": {
      "text/plain": [
       "7.5"
      ]
     },
     "execution_count": 28,
     "metadata": {},
     "output_type": "execute_result"
    }
   ],
   "source": [
    "the_mean(3:12)"
   ]
  },
  {
   "cell_type": "code",
   "execution_count": 29,
   "metadata": {
    "collapsed": false
   },
   "outputs": [
    {
     "data": {
      "text/plain": [
       "2.625"
      ]
     },
     "execution_count": 29,
     "metadata": {},
     "output_type": "execute_result"
    }
   ],
   "source": [
    "the_mean(2.0:0.25:3.25)"
   ]
  },
  {
   "cell_type": "code",
   "execution_count": 30,
   "metadata": {
    "collapsed": false
   },
   "outputs": [
    {
     "data": {
      "text/plain": [
       "2.625"
      ]
     },
     "execution_count": 30,
     "metadata": {},
     "output_type": "execute_result"
    }
   ],
   "source": [
    "the_mean(2,2.25,2.5,2.75,3,3.25)"
   ]
  },
  {
   "cell_type": "code",
   "execution_count": 31,
   "metadata": {
    "collapsed": false
   },
   "outputs": [
    {
     "data": {
      "text/plain": [
       "2.75"
      ]
     },
     "execution_count": 31,
     "metadata": {},
     "output_type": "execute_result"
    }
   ],
   "source": [
    "the_mean(2:0.15:3.5)"
   ]
  }
 ],
 "metadata": {
  "anaconda-cloud": {},
  "kernelspec": {
   "display_name": "Julia 0.5.0",
   "language": "julia",
   "name": "julia-0.5"
  },
  "language_info": {
   "file_extension": ".jl",
   "mimetype": "application/julia",
   "name": "julia",
   "version": "0.5.0"
  }
 },
 "nbformat": 4,
 "nbformat_minor": 0
}
