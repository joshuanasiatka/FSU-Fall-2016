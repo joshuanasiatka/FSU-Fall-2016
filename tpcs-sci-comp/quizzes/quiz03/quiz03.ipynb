{
 "cells": [
  {
   "cell_type": "markdown",
   "metadata": {},
   "source": [
    "# Quiz 3<br><small>Joshua Nasiatka (11.18.16)</small>\n",
    "### Problem 1:\n",
    "Create a simulation of rolling 4 dice. The simulation should have 1 million rolls."
   ]
  },
  {
   "cell_type": "code",
   "execution_count": 1,
   "metadata": {
    "collapsed": false,
    "scrolled": true
   },
   "outputs": [
    {
     "data": {
      "text/plain": [
       "1000000×4 Array{Int64,2}:\n",
       " 1  5  6  5\n",
       " 1  4  2  3\n",
       " 4  2  2  6\n",
       " 1  5  1  1\n",
       " 2  6  5  3\n",
       " 2  4  2  4\n",
       " 4  5  2  4\n",
       " 4  2  1  3\n",
       " 5  2  3  3\n",
       " 6  6  6  6\n",
       " 4  6  5  2\n",
       " 3  6  6  4\n",
       " 4  3  4  3\n",
       " ⋮         \n",
       " 4  6  3  5\n",
       " 2  5  1  4\n",
       " 2  6  3  3\n",
       " 5  5  1  1\n",
       " 3  5  5  6\n",
       " 3  1  2  6\n",
       " 5  1  1  4\n",
       " 3  3  2  5\n",
       " 1  1  6  1\n",
       " 2  4  6  1\n",
       " 1  6  4  5\n",
       " 4  6  4  3"
      ]
     },
     "execution_count": 1,
     "metadata": {},
     "output_type": "execute_result"
    }
   ],
   "source": [
    "S=rand(1:6,10^6,4)"
   ]
  },
  {
   "cell_type": "markdown",
   "metadata": {},
   "source": [
    "**( a ) Find the fraction of all rolls whose sum is less than 10.**"
   ]
  },
  {
   "cell_type": "code",
   "execution_count": 2,
   "metadata": {
    "collapsed": false
   },
   "outputs": [
    {
     "data": {
      "text/plain": [
       "4843//50000"
      ]
     },
     "execution_count": 2,
     "metadata": {},
     "output_type": "execute_result"
    }
   ],
   "source": [
    "the_sum = 0\n",
    "for i=1:10^6\n",
    "    if sum(S[i,:]) < 10\n",
    "        the_sum+=1\n",
    "    end\n",
    "end\n",
    "the_sum//(10^6)"
   ]
  },
  {
   "cell_type": "markdown",
   "metadata": {},
   "source": [
    "**( b ) Find the fraction of all rolls whose sum is exactly 14.**"
   ]
  },
  {
   "cell_type": "code",
   "execution_count": 3,
   "metadata": {
    "collapsed": false
   },
   "outputs": [
    {
     "data": {
      "text/plain": [
       "22507//200000"
      ]
     },
     "execution_count": 3,
     "metadata": {},
     "output_type": "execute_result"
    }
   ],
   "source": [
    "the_sum = 0\n",
    "for i=1:10^6\n",
    "    if sum(S[i,:]) == 14\n",
    "        the_sum+=1\n",
    "    end\n",
    "end\n",
    "the_sum//(10^6)"
   ]
  },
  {
   "cell_type": "markdown",
   "metadata": {},
   "source": [
    "**( c ) Find the fraction of all rolls with each individual die a odd number. For example 1,1,3,5 or 1,3,3,3.**"
   ]
  },
  {
   "cell_type": "code",
   "execution_count": 4,
   "metadata": {
    "collapsed": false
   },
   "outputs": [
    {
     "data": {
      "text/plain": [
       "62743//1000000"
      ]
     },
     "execution_count": 4,
     "metadata": {},
     "output_type": "execute_result"
    }
   ],
   "source": [
    "the_sum = 0\n",
    "for i=1:10^6\n",
    "    if (sum(S[i,1])%2!=0)&&(sum(S[i,2])%2!=0)&&(sum(S[i,3])%2!=0)&&(sum(S[i,4])%2!=0)\n",
    "        the_sum+=1\n",
    "    end\n",
    "end\n",
    "the_sum//(10^6)"
   ]
  },
  {
   "cell_type": "markdown",
   "metadata": {},
   "source": [
    "### Problem 2\n",
    "Create a type `Quadratic` that mimics a quadratic function. The fields should be just numbers with names `a, b, c` for the coefficients of the $x^2$, $x$ and constant terms.\n",
    "\n",
    "**( a ) Create a module called Quad that contains the following:**\n",
    "\n",
    "**( a - 1 ) A Quadratic type as described above.**"
   ]
  },
  {
   "cell_type": "code",
   "execution_count": 5,
   "metadata": {
    "collapsed": true
   },
   "outputs": [],
   "source": [
    "push!(LOAD_PATH,\".\");"
   ]
  },
  {
   "cell_type": "code",
   "execution_count": 6,
   "metadata": {
    "collapsed": false
   },
   "outputs": [],
   "source": [
    "using Quad"
   ]
  },
  {
   "cell_type": "code",
   "execution_count": 7,
   "metadata": {
    "collapsed": false
   },
   "outputs": [
    {
     "data": {
      "text/plain": [
       "Quad.Quadratic(-3,4,1)"
      ]
     },
     "execution_count": 7,
     "metadata": {},
     "output_type": "execute_result"
    }
   ],
   "source": [
    "q1=Quadratic(1,-4,3)\n",
    "q2=Quadratic(2,0,5)\n",
    "q3=Quadratic(-3,4,1)"
   ]
  },
  {
   "cell_type": "markdown",
   "metadata": {},
   "source": [
    "**( a - 2 ) An add function that takes two quadratics and returns the sum. Use + as the name of the function.**"
   ]
  },
  {
   "cell_type": "code",
   "execution_count": 8,
   "metadata": {
    "collapsed": false
   },
   "outputs": [
    {
     "data": {
      "text/plain": [
       "Quad.Quadratic(3,-4,8)"
      ]
     },
     "execution_count": 8,
     "metadata": {},
     "output_type": "execute_result"
    }
   ],
   "source": [
    "q1+q2"
   ]
  },
  {
   "cell_type": "markdown",
   "metadata": {},
   "source": [
    "**( a - 3 ) A subtract function that takes two quadratics and returns the difference. Use - as the name of the function.**"
   ]
  },
  {
   "cell_type": "code",
   "execution_count": 9,
   "metadata": {
    "collapsed": false
   },
   "outputs": [
    {
     "data": {
      "text/plain": [
       "Quad.Quadratic(4,-8,2)"
      ]
     },
     "execution_count": 9,
     "metadata": {},
     "output_type": "execute_result"
    }
   ],
   "source": [
    "q1-q3"
   ]
  },
  {
   "cell_type": "markdown",
   "metadata": {},
   "source": [
    "**( a - 4 ) A `roots` function that returns the roots of the quadratic function and make sure you return both\n",
    "roots. Use the quadratic formula for this and only deal with cases of real roots.**"
   ]
  },
  {
   "cell_type": "code",
   "execution_count": 10,
   "metadata": {
    "collapsed": false
   },
   "outputs": [
    {
     "data": {
      "text/plain": [
       "(3.0,1.0)"
      ]
     },
     "execution_count": 10,
     "metadata": {},
     "output_type": "execute_result"
    }
   ],
   "source": [
    "roots(q1)"
   ]
  },
  {
   "cell_type": "markdown",
   "metadata": {},
   "source": [
    "**( a - 5 ) An `isequal` function that tests if two quadratics are equal.**"
   ]
  },
  {
   "cell_type": "code",
   "execution_count": 11,
   "metadata": {
    "collapsed": false
   },
   "outputs": [
    {
     "data": {
      "text/plain": [
       "true"
      ]
     },
     "execution_count": 11,
     "metadata": {},
     "output_type": "execute_result"
    }
   ],
   "source": [
    "isequal(q1+q2,Quadratic(3,-4,8))"
   ]
  },
  {
   "cell_type": "markdown",
   "metadata": {},
   "source": [
    "**( b ) Download the file `test-quadratic.jl` from Blackboard and run it. You should not change the file and if\n",
    "all is well, you will get all tests pass.**"
   ]
  },
  {
   "cell_type": "code",
   "execution_count": 12,
   "metadata": {
    "collapsed": false
   },
   "outputs": [
    {
     "name": "stdout",
     "output_type": "stream",
     "text": [
      "Test Summary:      | Pass  Total\n",
      "  Playing Card Tests |    8      8\n"
     ]
    }
   ],
   "source": [
    "include(\"test-quadratic.jl\");"
   ]
  },
  {
   "cell_type": "markdown",
   "metadata": {},
   "source": [
    "### Problem 3\n",
    "In this problem, you will load in a JSON file and perform some calculations.\n",
    "\n",
    "**( a ) Load and parse the file menu.json from Blackboard.**"
   ]
  },
  {
   "cell_type": "code",
   "execution_count": 13,
   "metadata": {
    "collapsed": true
   },
   "outputs": [],
   "source": [
    "using JSON\n",
    "f=open(\"bigmenu.json\",\"r\")\n",
    "menu = JSON.parse(f)\n",
    "close(f)"
   ]
  },
  {
   "cell_type": "code",
   "execution_count": 14,
   "metadata": {
    "collapsed": false
   },
   "outputs": [
    {
     "data": {
      "text/plain": [
       "Dict{String,Any} with 10 entries:\n",
       "  \"hamburger\"      => Dict{String,Any}(Pair{String,Any}(\"options\",Any[\"Cheddar\"…\n",
       "  \"orange juice\"   => Dict{String,Any}(Pair{String,Any}(\"cost\",2.0),Pair{String…\n",
       "  \"onion soup\"     => Dict{String,Any}(Pair{String,Any}(\"cost\",5.0),Pair{String…\n",
       "  \"pumpkin pie\"    => Dict{String,Any}(Pair{String,Any}(\"cost\",5.0),Pair{String…\n",
       "  \"chicken club\"   => Dict{String,Any}(Pair{String,Any}(\"cost\",7.5),Pair{String…\n",
       "  \"caesar salad\"   => Dict{String,Any}(Pair{String,Any}(\"options\",Any[\"plain\",\"…\n",
       "  \"pancakes\"       => Dict{String,Any}(Pair{String,Any}(\"options\",Any[\"Chocolat…\n",
       "  \"chocolate cake\" => Dict{String,Any}(Pair{String,Any}(\"cost\",4.5),Pair{String…\n",
       "  \"french toast\"   => Dict{String,Any}(Pair{String,Any}(\"options\",Any[\"strawber…\n",
       "  \"soda\"           => Dict{String,Any}(Pair{String,Any}(\"cost\",2.0),Pair{String…"
      ]
     },
     "execution_count": 14,
     "metadata": {},
     "output_type": "execute_result"
    }
   ],
   "source": [
    "menu"
   ]
  },
  {
   "cell_type": "markdown",
   "metadata": {},
   "source": [
    "**( b ) Write a function that takes an integer array that corresponds to the number of menu items in alphabetic\n",
    "order from the menu. Your function should return the total cost of the items on the menu.**"
   ]
  },
  {
   "cell_type": "code",
   "execution_count": 15,
   "metadata": {
    "collapsed": false
   },
   "outputs": [
    {
     "data": {
      "text/plain": [
       "calc_cost (generic function with 1 method)"
      ]
     },
     "execution_count": 15,
     "metadata": {},
     "output_type": "execute_result"
    }
   ],
   "source": [
    "function calc_cost(food::Dict{String,Int64})\n",
    "    total = 0\n",
    "    local meal = food\n",
    "    for k in keys(meal)\n",
    "        total += (meal[k]*menu[k][\"cost\"])\n",
    "    end\n",
    "    return total\n",
    "end"
   ]
  },
  {
   "cell_type": "markdown",
   "metadata": {},
   "source": [
    "**( c ) Call your function on a meal of 2 hamburgers, a Caesar Salad, a soda, an orange juice, pumpkin pie and\n",
    "chocolate cake.**"
   ]
  },
  {
   "cell_type": "code",
   "execution_count": 16,
   "metadata": {
    "collapsed": false
   },
   "outputs": [
    {
     "data": {
      "text/plain": [
       "Dict{String,Int64} with 6 entries:\n",
       "  \"hamburger\"      => 2\n",
       "  \"orange juice\"   => 1\n",
       "  \"soda\"           => 1\n",
       "  \"pumpkin pie\"    => 1\n",
       "  \"caesar salad\"   => 1\n",
       "  \"chocolate cake\" => 1"
      ]
     },
     "execution_count": 16,
     "metadata": {},
     "output_type": "execute_result"
    }
   ],
   "source": [
    "meal = Dict(\"hamburger\"=>2, \"caesar salad\"=>1, \"soda\"=>1, \"orange juice\"=>1, \"pumpkin pie\"=>1, \"chocolate cake\"=>1)"
   ]
  },
  {
   "cell_type": "code",
   "execution_count": 17,
   "metadata": {
    "collapsed": false,
    "scrolled": true
   },
   "outputs": [
    {
     "data": {
      "text/plain": [
       "42.5"
      ]
     },
     "execution_count": 17,
     "metadata": {},
     "output_type": "execute_result"
    }
   ],
   "source": [
    "calc_cost(meal)"
   ]
  },
  {
   "cell_type": "code",
   "execution_count": 18,
   "metadata": {
    "collapsed": false
   },
   "outputs": [],
   "source": [
    "# I kept overthinking this map (or underthinking), so I did what's in the above function instead\n",
    "# map([keys(meal)],menu[a][\"cost\"])"
   ]
  }
 ],
 "metadata": {
  "anaconda-cloud": {},
  "kernelspec": {
   "display_name": "Julia 0.5.0",
   "language": "julia",
   "name": "julia-0.5"
  },
  "language_info": {
   "file_extension": ".jl",
   "mimetype": "application/julia",
   "name": "julia",
   "version": "0.5.0"
  }
 },
 "nbformat": 4,
 "nbformat_minor": 0
}
