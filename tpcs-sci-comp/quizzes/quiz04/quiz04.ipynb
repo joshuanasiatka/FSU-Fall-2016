{
 "cells": [
  {
   "cell_type": "markdown",
   "metadata": {},
   "source": [
    "# Quiz 4<br><small>Joshua Nasiatka (12.08.16)</small>\n",
    "### Problem 1:\n",
    "IMDB.com is the Internet Movie Data Base and has a number of facts about nearly every movie ever made. It also makes all of its data freely available. (See http://www.imdb.com/interfaces). The data on the site is in tons of different files and is quite a mess, but there is a nice set of scripts from https://github.com/hadley/datamovies. However, I couldn’t quite get that to work, so used an established dataset created using this method and is attached to this quiz called `movies.csv`.\n",
    "\n",
    "**( a ) Load the file in and double check that all of the columns have the correct type. If they don’t reread in\n",
    "the file and force the type.**"
   ]
  },
  {
   "cell_type": "code",
   "execution_count": 1,
   "metadata": {
    "collapsed": true
   },
   "outputs": [],
   "source": [
    "using DataFrames"
   ]
  },
  {
   "cell_type": "code",
   "execution_count": 2,
   "metadata": {
    "collapsed": true
   },
   "outputs": [],
   "source": [
    "movies = readtable(\"movies.csv\",separator=',');"
   ]
  },
  {
   "cell_type": "code",
   "execution_count": 3,
   "metadata": {
    "collapsed": false,
    "scrolled": true
   },
   "outputs": [
    {
     "data": {
      "text/html": [
       "<table class=\"data-frame\"><thead><tr><th></th><th>title</th><th>year</th><th>length</th><th>budget</th><th>rating</th><th>votes</th><th>r1</th><th>r2</th><th>r3</th><th>r4</th><th>r5</th><th>r6</th><th>r7</th><th>r8</th><th>r9</th><th>r10</th><th>mpaa</th><th>Action</th><th>Animation</th><th>Comedy</th><th>Drama</th><th>Documentary</th><th>Romance</th><th>Short</th></tr></thead><tbody><tr><th>1</th><td>$</td><td>1971</td><td>121</td><td>NA</td><td>6.4</td><td>348</td><td>4.5</td><td>4.5</td><td>4.5</td><td>4.5</td><td>14.5</td><td>24.5</td><td>24.5</td><td>14.5</td><td>4.5</td><td>4.5</td><td>NA</td><td>0</td><td>0</td><td>1</td><td>1</td><td>0</td><td>0</td><td>0</td></tr><tr><th>2</th><td>$1000 a Touchdown</td><td>1939</td><td>71</td><td>NA</td><td>6.0</td><td>20</td><td>0.0</td><td>14.5</td><td>4.5</td><td>24.5</td><td>14.5</td><td>14.5</td><td>14.5</td><td>4.5</td><td>4.5</td><td>14.5</td><td>NA</td><td>0</td><td>0</td><td>1</td><td>0</td><td>0</td><td>0</td><td>0</td></tr><tr><th>3</th><td>$21 a Day Once a Month</td><td>1941</td><td>7</td><td>NA</td><td>8.2</td><td>5</td><td>0.0</td><td>0.0</td><td>0.0</td><td>0.0</td><td>0.0</td><td>24.5</td><td>0.0</td><td>44.5</td><td>24.5</td><td>24.5</td><td>NA</td><td>0</td><td>1</td><td>0</td><td>0</td><td>0</td><td>0</td><td>1</td></tr><tr><th>4</th><td>$40,000 </td><td>1996</td><td>70</td><td>NA</td><td>8.2</td><td>6</td><td>14.5</td><td>0.0</td><td>0.0</td><td>0.0</td><td>0.0</td><td>0.0</td><td>0.0</td><td>0.0</td><td>34.5</td><td>45.5</td><td>NA</td><td>0</td><td>0</td><td>1</td><td>0</td><td>0</td><td>0</td><td>0</td></tr><tr><th>5</th><td>$50,000 Climax Show, The</td><td>1975</td><td>71</td><td>NA</td><td>3.4</td><td>17</td><td>24.5</td><td>4.5</td><td>0.0</td><td>14.5</td><td>14.5</td><td>4.5</td><td>0.0</td><td>0.0</td><td>0.0</td><td>24.5</td><td>NA</td><td>0</td><td>0</td><td>0</td><td>0</td><td>0</td><td>0</td><td>0</td></tr><tr><th>6</th><td>$pent</td><td>2000</td><td>91</td><td>NA</td><td>4.3</td><td>45</td><td>4.5</td><td>4.5</td><td>4.5</td><td>14.5</td><td>14.5</td><td>14.5</td><td>4.5</td><td>4.5</td><td>14.5</td><td>14.5</td><td>NA</td><td>0</td><td>0</td><td>0</td><td>1</td><td>0</td><td>0</td><td>0</td></tr><tr><th>7</th><td>$windle</td><td>2002</td><td>93</td><td>NA</td><td>5.3</td><td>200</td><td>4.5</td><td>0.0</td><td>4.5</td><td>4.5</td><td>24.5</td><td>24.5</td><td>14.5</td><td>4.5</td><td>4.5</td><td>14.5</td><td>R</td><td>1</td><td>0</td><td>0</td><td>1</td><td>0</td><td>0</td><td>0</td></tr><tr><th>8</th><td>'15'</td><td>2002</td><td>25</td><td>NA</td><td>6.7</td><td>24</td><td>4.5</td><td>4.5</td><td>4.5</td><td>4.5</td><td>4.5</td><td>14.5</td><td>14.5</td><td>14.5</td><td>4.5</td><td>14.5</td><td>NA</td><td>0</td><td>0</td><td>0</td><td>0</td><td>1</td><td>0</td><td>1</td></tr><tr><th>9</th><td>'38</td><td>1987</td><td>97</td><td>NA</td><td>6.6</td><td>18</td><td>4.5</td><td>4.5</td><td>4.5</td><td>0.0</td><td>0.0</td><td>0.0</td><td>34.5</td><td>14.5</td><td>4.5</td><td>24.5</td><td>NA</td><td>0</td><td>0</td><td>0</td><td>1</td><td>0</td><td>0</td><td>0</td></tr><tr><th>10</th><td>'49-'17</td><td>1917</td><td>61</td><td>NA</td><td>6.0</td><td>51</td><td>4.5</td><td>0.0</td><td>4.5</td><td>4.5</td><td>4.5</td><td>44.5</td><td>14.5</td><td>4.5</td><td>4.5</td><td>4.5</td><td>NA</td><td>0</td><td>0</td><td>0</td><td>0</td><td>0</td><td>0</td><td>0</td></tr><tr><th>11</th><td>'68</td><td>1988</td><td>99</td><td>NA</td><td>5.4</td><td>23</td><td>4.5</td><td>0.0</td><td>4.5</td><td>14.5</td><td>24.5</td><td>4.5</td><td>24.5</td><td>4.5</td><td>14.5</td><td>4.5</td><td>NA</td><td>0</td><td>0</td><td>0</td><td>1</td><td>0</td><td>0</td><td>0</td></tr><tr><th>12</th><td>'94 du bi dao zhi qing</td><td>1994</td><td>96</td><td>NA</td><td>5.9</td><td>53</td><td>4.5</td><td>0.0</td><td>4.5</td><td>4.5</td><td>4.5</td><td>14.5</td><td>24.5</td><td>14.5</td><td>4.5</td><td>24.5</td><td>NA</td><td>0</td><td>0</td><td>0</td><td>0</td><td>0</td><td>0</td><td>0</td></tr><tr><th>13</th><td>'?' Motorist, The</td><td>1906</td><td>10</td><td>NA</td><td>7.0</td><td>44</td><td>4.5</td><td>0.0</td><td>0.0</td><td>0.0</td><td>4.5</td><td>14.5</td><td>34.5</td><td>14.5</td><td>4.5</td><td>14.5</td><td>NA</td><td>0</td><td>0</td><td>1</td><td>0</td><td>0</td><td>0</td><td>1</td></tr><tr><th>14</th><td>'A'</td><td>1965</td><td>10</td><td>NA</td><td>6.7</td><td>11</td><td>14.5</td><td>0.0</td><td>0.0</td><td>0.0</td><td>0.0</td><td>14.5</td><td>4.5</td><td>4.5</td><td>14.5</td><td>24.5</td><td>NA</td><td>0</td><td>0</td><td>0</td><td>0</td><td>0</td><td>0</td><td>1</td></tr><tr><th>15</th><td>'A' gai waak</td><td>1983</td><td>106</td><td>NA</td><td>7.1</td><td>1259</td><td>4.5</td><td>4.5</td><td>4.5</td><td>4.5</td><td>4.5</td><td>14.5</td><td>14.5</td><td>14.5</td><td>14.5</td><td>24.5</td><td>PG-13</td><td>1</td><td>0</td><td>1</td><td>0</td><td>0</td><td>0</td><td>0</td></tr><tr><th>16</th><td>'A' gai waak juk jaap</td><td>1987</td><td>101</td><td>NA</td><td>7.2</td><td>614</td><td>4.5</td><td>4.5</td><td>4.5</td><td>4.5</td><td>4.5</td><td>14.5</td><td>24.5</td><td>24.5</td><td>14.5</td><td>14.5</td><td>PG-13</td><td>1</td><td>0</td><td>1</td><td>0</td><td>0</td><td>0</td><td>0</td></tr><tr><th>17</th><td>'Breaker' Morant</td><td>1980</td><td>107</td><td>NA</td><td>7.9</td><td>2718</td><td>4.5</td><td>4.5</td><td>4.5</td><td>4.5</td><td>4.5</td><td>4.5</td><td>14.5</td><td>24.5</td><td>24.5</td><td>24.5</td><td>NA</td><td>0</td><td>0</td><td>0</td><td>1</td><td>0</td><td>0</td><td>0</td></tr><tr><th>18</th><td>'Bullitt': Steve McQueen's Commitment to Reality</td><td>1968</td><td>10</td><td>NA</td><td>6.6</td><td>37</td><td>0.0</td><td>0.0</td><td>4.5</td><td>4.5</td><td>4.5</td><td>14.5</td><td>44.5</td><td>14.5</td><td>4.5</td><td>4.5</td><td>NA</td><td>0</td><td>0</td><td>0</td><td>0</td><td>1</td><td>0</td><td>1</td></tr><tr><th>19</th><td>'Crocodile' Dundee II</td><td>1988</td><td>110</td><td>NA</td><td>5.0</td><td>7252</td><td>4.5</td><td>4.5</td><td>4.5</td><td>14.5</td><td>24.5</td><td>24.5</td><td>14.5</td><td>4.5</td><td>4.5</td><td>4.5</td><td>NA</td><td>1</td><td>0</td><td>1</td><td>0</td><td>0</td><td>0</td><td>0</td></tr><tr><th>20</th><td>'E'</td><td>1981</td><td>7</td><td>NA</td><td>8.6</td><td>15</td><td>0.0</td><td>0.0</td><td>0.0</td><td>0.0</td><td>4.5</td><td>4.5</td><td>0.0</td><td>14.5</td><td>24.5</td><td>45.5</td><td>NA</td><td>0</td><td>1</td><td>1</td><td>0</td><td>0</td><td>0</td><td>1</td></tr><tr><th>21</th><td>'El Chicko' - der Verdacht</td><td>1995</td><td>90</td><td>NA</td><td>3.9</td><td>10</td><td>24.5</td><td>14.5</td><td>24.5</td><td>14.5</td><td>0.0</td><td>14.5</td><td>14.5</td><td>0.0</td><td>0.0</td><td>24.5</td><td>NA</td><td>0</td><td>0</td><td>1</td><td>0</td><td>0</td><td>0</td><td>0</td></tr><tr><th>22</th><td>'G' Men</td><td>1935</td><td>85</td><td>450000</td><td>7.2</td><td>281</td><td>0.0</td><td>4.5</td><td>4.5</td><td>4.5</td><td>4.5</td><td>14.5</td><td>34.5</td><td>34.5</td><td>4.5</td><td>4.5</td><td>NA</td><td>0</td><td>0</td><td>0</td><td>1</td><td>0</td><td>0</td><td>0</td></tr><tr><th>23</th><td>'Gator Bait</td><td>1974</td><td>88</td><td>NA</td><td>3.5</td><td>100</td><td>14.5</td><td>14.5</td><td>24.5</td><td>14.5</td><td>14.5</td><td>4.5</td><td>4.5</td><td>4.5</td><td>4.5</td><td>4.5</td><td>NA</td><td>1</td><td>0</td><td>0</td><td>1</td><td>0</td><td>0</td><td>0</td></tr><tr><th>24</th><td>'Gator Bait II: Cajun Justice</td><td>1988</td><td>95</td><td>NA</td><td>3.1</td><td>54</td><td>24.5</td><td>14.5</td><td>4.5</td><td>14.5</td><td>4.5</td><td>14.5</td><td>0.0</td><td>4.5</td><td>0.0</td><td>4.5</td><td>NA</td><td>0</td><td>0</td><td>0</td><td>0</td><td>0</td><td>0</td><td>0</td></tr><tr><th>25</th><td>'High Sign', The</td><td>1921</td><td>18</td><td>NA</td><td>7.8</td><td>145</td><td>0.0</td><td>0.0</td><td>4.5</td><td>0.0</td><td>4.5</td><td>14.5</td><td>24.5</td><td>24.5</td><td>24.5</td><td>14.5</td><td>NA</td><td>0</td><td>0</td><td>1</td><td>0</td><td>0</td><td>0</td><td>1</td></tr><tr><th>26</th><td>'Hukkunud Alpinisti' hotell</td><td>1979</td><td>80</td><td>NA</td><td>7.7</td><td>45</td><td>4.5</td><td>0.0</td><td>4.5</td><td>4.5</td><td>4.5</td><td>4.5</td><td>24.5</td><td>14.5</td><td>14.5</td><td>34.5</td><td>NA</td><td>0</td><td>0</td><td>0</td><td>0</td><td>0</td><td>0</td><td>0</td></tr><tr><th>27</th><td>'Hyp-Nut-Tist', The</td><td>1935</td><td>6</td><td>NA</td><td>6.2</td><td>18</td><td>4.5</td><td>0.0</td><td>0.0</td><td>24.5</td><td>0.0</td><td>24.5</td><td>14.5</td><td>14.5</td><td>14.5</td><td>0.0</td><td>NA</td><td>0</td><td>1</td><td>1</td><td>0</td><td>0</td><td>0</td><td>1</td></tr><tr><th>28</th><td>'I Do...'</td><td>1989</td><td>86</td><td>NA</td><td>6.2</td><td>10</td><td>0.0</td><td>0.0</td><td>0.0</td><td>24.5</td><td>24.5</td><td>14.5</td><td>24.5</td><td>14.5</td><td>14.5</td><td>14.5</td><td>NA</td><td>0</td><td>0</td><td>0</td><td>0</td><td>0</td><td>0</td><td>0</td></tr><tr><th>29</th><td>'I Know Where I'm Going!'</td><td>1945</td><td>92</td><td>NA</td><td>7.7</td><td>825</td><td>4.5</td><td>4.5</td><td>4.5</td><td>4.5</td><td>4.5</td><td>4.5</td><td>14.5</td><td>14.5</td><td>14.5</td><td>34.5</td><td>NA</td><td>0</td><td>0</td><td>0</td><td>1</td><td>0</td><td>1</td><td>0</td></tr><tr><th>30</th><td>'Java Madness' formerly titled 'Coffee Madness'</td><td>1995</td><td>7</td><td>NA</td><td>6.8</td><td>10</td><td>0.0</td><td>14.5</td><td>0.0</td><td>0.0</td><td>14.5</td><td>14.5</td><td>34.5</td><td>0.0</td><td>14.5</td><td>34.5</td><td>NA</td><td>0</td><td>0</td><td>1</td><td>0</td><td>0</td><td>0</td><td>1</td></tr><tr><th>&vellip;</th><td>&vellip;</td><td>&vellip;</td><td>&vellip;</td><td>&vellip;</td><td>&vellip;</td><td>&vellip;</td><td>&vellip;</td><td>&vellip;</td><td>&vellip;</td><td>&vellip;</td><td>&vellip;</td><td>&vellip;</td><td>&vellip;</td><td>&vellip;</td><td>&vellip;</td><td>&vellip;</td><td>&vellip;</td><td>&vellip;</td><td>&vellip;</td><td>&vellip;</td><td>&vellip;</td><td>&vellip;</td><td>&vellip;</td><td>&vellip;</td></tr></tbody></table>"
      ],
      "text/plain": [
       "58788×24 DataFrames.DataFrame\n",
       "│ Row   │ title                      │ year │ length │ budget   │ rating │\n",
       "├───────┼────────────────────────────┼──────┼────────┼──────────┼────────┤\n",
       "│ 1     │ \"\\$\"                        │ 1971 │ 121    │ NA       │ 6.4    │\n",
       "│ 2     │ \"\\$1000 a Touchdown\"        │ 1939 │ 71     │ NA       │ 6.0    │\n",
       "│ 3     │ \"\\$21 a Day Once a Month\"   │ 1941 │ 7      │ NA       │ 8.2    │\n",
       "│ 4     │ \"\\$40,000 \"                 │ 1996 │ 70     │ NA       │ 8.2    │\n",
       "│ 5     │ \"\\$50,000 Climax Show, The\" │ 1975 │ 71     │ NA       │ 3.4    │\n",
       "│ 6     │ \"\\$pent\"                    │ 2000 │ 91     │ NA       │ 4.3    │\n",
       "│ 7     │ \"\\$windle\"                  │ 2002 │ 93     │ NA       │ 5.3    │\n",
       "│ 8     │ \"'15'\"                     │ 2002 │ 25     │ NA       │ 6.7    │\n",
       "│ 9     │ \"'38\"                      │ 1987 │ 97     │ NA       │ 6.6    │\n",
       "│ 10    │ \"'49-'17\"                  │ 1917 │ 61     │ NA       │ 6.0    │\n",
       "│ 11    │ \"'68\"                      │ 1988 │ 99     │ NA       │ 5.4    │\n",
       "⋮\n",
       "│ 58777 │ \"eRATicate\"                │ 2003 │ 9      │ NA       │ 6.0    │\n",
       "│ 58778 │ \"eXXXorcismos\"             │ 2002 │ 78     │ NA       │ 4.2    │\n",
       "│ 58779 │ \"eXistenZ\"                 │ 1999 │ 97     │ NA       │ 6.7    │\n",
       "│ 58780 │ \"f2point8\"                 │ 2002 │ 20     │ NA       │ 5.0    │\n",
       "│ 58781 │ \"f8\"                       │ 2001 │ 13     │ NA       │ 7.6    │\n",
       "│ 58782 │ \"pURe kILLjoy\"             │ 1998 │ 87     │ NA       │ 5.2    │\n",
       "│ 58783 │ \"sIDney\"                   │ 2002 │ 15     │ NA       │ 7.0    │\n",
       "│ 58784 │ \"tom thumb\"                │ 1958 │ 98     │ NA       │ 6.5    │\n",
       "│ 58785 │ \"www.XXX.com\"              │ 2003 │ 105    │ NA       │ 1.1    │\n",
       "│ 58786 │ \"www.hellssoapopera.com\"   │ 1999 │ 100    │ NA       │ 6.6    │\n",
       "│ 58787 │ \"xXx\"                      │ 2002 │ 132    │ 85000000 │ 5.5    │\n",
       "│ 58788 │ \"xXx: State of the Union\"  │ 2005 │ 101    │ 87000000 │ 3.9    │\n",
       "\n",
       "│ Row   │ votes │ r1   │ r2   │ r3   │ r4   │ r5   │ r6   │ r7   │ r8   │ r9   │\n",
       "├───────┼───────┼──────┼──────┼──────┼──────┼──────┼──────┼──────┼──────┼──────┤\n",
       "│ 1     │ 348   │ 4.5  │ 4.5  │ 4.5  │ 4.5  │ 14.5 │ 24.5 │ 24.5 │ 14.5 │ 4.5  │\n",
       "│ 2     │ 20    │ 0.0  │ 14.5 │ 4.5  │ 24.5 │ 14.5 │ 14.5 │ 14.5 │ 4.5  │ 4.5  │\n",
       "│ 3     │ 5     │ 0.0  │ 0.0  │ 0.0  │ 0.0  │ 0.0  │ 24.5 │ 0.0  │ 44.5 │ 24.5 │\n",
       "│ 4     │ 6     │ 14.5 │ 0.0  │ 0.0  │ 0.0  │ 0.0  │ 0.0  │ 0.0  │ 0.0  │ 34.5 │\n",
       "│ 5     │ 17    │ 24.5 │ 4.5  │ 0.0  │ 14.5 │ 14.5 │ 4.5  │ 0.0  │ 0.0  │ 0.0  │\n",
       "│ 6     │ 45    │ 4.5  │ 4.5  │ 4.5  │ 14.5 │ 14.5 │ 14.5 │ 4.5  │ 4.5  │ 14.5 │\n",
       "│ 7     │ 200   │ 4.5  │ 0.0  │ 4.5  │ 4.5  │ 24.5 │ 24.5 │ 14.5 │ 4.5  │ 4.5  │\n",
       "│ 8     │ 24    │ 4.5  │ 4.5  │ 4.5  │ 4.5  │ 4.5  │ 14.5 │ 14.5 │ 14.5 │ 4.5  │\n",
       "│ 9     │ 18    │ 4.5  │ 4.5  │ 4.5  │ 0.0  │ 0.0  │ 0.0  │ 34.5 │ 14.5 │ 4.5  │\n",
       "│ 10    │ 51    │ 4.5  │ 0.0  │ 4.5  │ 4.5  │ 4.5  │ 44.5 │ 14.5 │ 4.5  │ 4.5  │\n",
       "│ 11    │ 23    │ 4.5  │ 0.0  │ 4.5  │ 14.5 │ 24.5 │ 4.5  │ 24.5 │ 4.5  │ 14.5 │\n",
       "⋮\n",
       "│ 58777 │ 5     │ 0.0  │ 0.0  │ 0.0  │ 0.0  │ 0.0  │ 44.5 │ 0.0  │ 0.0  │ 24.5 │\n",
       "│ 58778 │ 11    │ 34.5 │ 0.0  │ 0.0  │ 0.0  │ 0.0  │ 4.5  │ 0.0  │ 14.5 │ 4.5  │\n",
       "│ 58779 │ 14742 │ 4.5  │ 4.5  │ 4.5  │ 4.5  │ 4.5  │ 14.5 │ 24.5 │ 24.5 │ 14.5 │\n",
       "│ 58780 │ 13    │ 4.5  │ 0.0  │ 4.5  │ 4.5  │ 14.5 │ 0.0  │ 14.5 │ 4.5  │ 14.5 │\n",
       "│ 58781 │ 7     │ 0.0  │ 0.0  │ 0.0  │ 0.0  │ 0.0  │ 24.5 │ 14.5 │ 24.5 │ 24.5 │\n",
       "│ 58782 │ 6     │ 0.0  │ 14.5 │ 14.5 │ 14.5 │ 0.0  │ 34.5 │ 0.0  │ 0.0  │ 0.0  │\n",
       "│ 58783 │ 8     │ 14.5 │ 0.0  │ 0.0  │ 14.5 │ 0.0  │ 0.0  │ 24.5 │ 14.5 │ 14.5 │\n",
       "│ 58784 │ 274   │ 4.5  │ 4.5  │ 4.5  │ 4.5  │ 14.5 │ 14.5 │ 24.5 │ 14.5 │ 4.5  │\n",
       "│ 58785 │ 12    │ 45.5 │ 0.0  │ 0.0  │ 0.0  │ 0.0  │ 0.0  │ 24.5 │ 0.0  │ 0.0  │\n",
       "│ 58786 │ 5     │ 24.5 │ 0.0  │ 24.5 │ 0.0  │ 0.0  │ 0.0  │ 0.0  │ 0.0  │ 24.5 │\n",
       "│ 58787 │ 18514 │ 4.5  │ 4.5  │ 4.5  │ 4.5  │ 14.5 │ 14.5 │ 14.5 │ 14.5 │ 4.5  │\n",
       "│ 58788 │ 1584  │ 24.5 │ 4.5  │ 4.5  │ 4.5  │ 4.5  │ 14.5 │ 4.5  │ 4.5  │ 4.5  │\n",
       "\n",
       "│ Row   │ r10  │ mpaa    │ Action │ Animation │ Comedy │ Drama │ Documentary │\n",
       "├───────┼──────┼─────────┼────────┼───────────┼────────┼───────┼─────────────┤\n",
       "│ 1     │ 4.5  │ NA      │ 0      │ 0         │ 1      │ 1     │ 0           │\n",
       "│ 2     │ 14.5 │ NA      │ 0      │ 0         │ 1      │ 0     │ 0           │\n",
       "│ 3     │ 24.5 │ NA      │ 0      │ 1         │ 0      │ 0     │ 0           │\n",
       "│ 4     │ 45.5 │ NA      │ 0      │ 0         │ 1      │ 0     │ 0           │\n",
       "│ 5     │ 24.5 │ NA      │ 0      │ 0         │ 0      │ 0     │ 0           │\n",
       "│ 6     │ 14.5 │ NA      │ 0      │ 0         │ 0      │ 1     │ 0           │\n",
       "│ 7     │ 14.5 │ \"R\"     │ 1      │ 0         │ 0      │ 1     │ 0           │\n",
       "│ 8     │ 14.5 │ NA      │ 0      │ 0         │ 0      │ 0     │ 1           │\n",
       "│ 9     │ 24.5 │ NA      │ 0      │ 0         │ 0      │ 1     │ 0           │\n",
       "│ 10    │ 4.5  │ NA      │ 0      │ 0         │ 0      │ 0     │ 0           │\n",
       "│ 11    │ 4.5  │ NA      │ 0      │ 0         │ 0      │ 1     │ 0           │\n",
       "⋮\n",
       "│ 58777 │ 44.5 │ NA      │ 0      │ 0         │ 1      │ 0     │ 0           │\n",
       "│ 58778 │ 24.5 │ NA      │ 0      │ 0         │ 0      │ 1     │ 0           │\n",
       "│ 58779 │ 4.5  │ \"R\"     │ 0      │ 0         │ 0      │ 1     │ 0           │\n",
       "│ 58780 │ 24.5 │ NA      │ 0      │ 0         │ 0      │ 0     │ 0           │\n",
       "│ 58781 │ 0.0  │ NA      │ 0      │ 1         │ 0      │ 0     │ 0           │\n",
       "│ 58782 │ 14.5 │ NA      │ 0      │ 0         │ 0      │ 0     │ 0           │\n",
       "│ 58783 │ 24.5 │ NA      │ 1      │ 0         │ 0      │ 0     │ 0           │\n",
       "│ 58784 │ 4.5  │ NA      │ 0      │ 1         │ 0      │ 0     │ 0           │\n",
       "│ 58785 │ 24.5 │ NA      │ 0      │ 0         │ 0      │ 1     │ 0           │\n",
       "│ 58786 │ 44.5 │ NA      │ 0      │ 0         │ 0      │ 0     │ 0           │\n",
       "│ 58787 │ 4.5  │ \"PG-13\" │ 1      │ 0         │ 0      │ 0     │ 0           │\n",
       "│ 58788 │ 14.5 │ \"PG-13\" │ 1      │ 0         │ 0      │ 0     │ 0           │\n",
       "\n",
       "│ Row   │ Romance │ Short │\n",
       "├───────┼─────────┼───────┤\n",
       "│ 1     │ 0       │ 0     │\n",
       "│ 2     │ 0       │ 0     │\n",
       "│ 3     │ 0       │ 1     │\n",
       "│ 4     │ 0       │ 0     │\n",
       "│ 5     │ 0       │ 0     │\n",
       "│ 6     │ 0       │ 0     │\n",
       "│ 7     │ 0       │ 0     │\n",
       "│ 8     │ 0       │ 1     │\n",
       "│ 9     │ 0       │ 0     │\n",
       "│ 10    │ 0       │ 0     │\n",
       "│ 11    │ 0       │ 0     │\n",
       "⋮\n",
       "│ 58777 │ 0       │ 1     │\n",
       "│ 58778 │ 0       │ 0     │\n",
       "│ 58779 │ 0       │ 0     │\n",
       "│ 58780 │ 0       │ 1     │\n",
       "│ 58781 │ 0       │ 1     │\n",
       "│ 58782 │ 0       │ 0     │\n",
       "│ 58783 │ 0       │ 1     │\n",
       "│ 58784 │ 0       │ 0     │\n",
       "│ 58785 │ 1       │ 0     │\n",
       "│ 58786 │ 0       │ 0     │\n",
       "│ 58787 │ 0       │ 0     │\n",
       "│ 58788 │ 0       │ 0     │"
      ]
     },
     "execution_count": 3,
     "metadata": {},
     "output_type": "execute_result"
    }
   ],
   "source": [
    "movies"
   ]
  },
  {
   "cell_type": "markdown",
   "metadata": {},
   "source": [
    "**( b ) Find the top rated movie(s) and year(s) that it came out. If there is a tie for first, list all movies.**"
   ]
  },
  {
   "cell_type": "code",
   "execution_count": 4,
   "metadata": {
    "collapsed": false,
    "scrolled": true
   },
   "outputs": [
    {
     "data": {
      "text/html": [
       "<table class=\"data-frame\"><thead><tr><th></th><th>title</th><th>year</th><th>length</th><th>budget</th><th>rating</th><th>votes</th><th>r1</th><th>r2</th><th>r3</th><th>r4</th><th>r5</th><th>r6</th><th>r7</th><th>r8</th><th>r9</th><th>r10</th><th>mpaa</th><th>Action</th><th>Animation</th><th>Comedy</th><th>Drama</th><th>Documentary</th><th>Romance</th><th>Short</th></tr></thead><tbody><tr><th>1</th><td>Dimensia Minds Trilogy: The Hope Factor</td><td>2004</td><td>10</td><td>NA</td><td>10.0</td><td>5</td><td>0.0</td><td>0.0</td><td>0.0</td><td>0.0</td><td>0.0</td><td>0.0</td><td>0.0</td><td>0.0</td><td>0.0</td><td>100.0</td><td>NA</td><td>0</td><td>0</td><td>0</td><td>0</td><td>0</td><td>0</td><td>1</td></tr><tr><th>2</th><td>Fishing for Love</td><td>2001</td><td>7</td><td>NA</td><td>10.0</td><td>5</td><td>0.0</td><td>0.0</td><td>0.0</td><td>0.0</td><td>0.0</td><td>0.0</td><td>0.0</td><td>0.0</td><td>0.0</td><td>100.0</td><td>NA</td><td>0</td><td>0</td><td>1</td><td>0</td><td>0</td><td>0</td><td>1</td></tr><tr><th>3</th><td>Summer Sonata, A</td><td>2004</td><td>30</td><td>2000</td><td>10.0</td><td>5</td><td>0.0</td><td>0.0</td><td>0.0</td><td>0.0</td><td>0.0</td><td>0.0</td><td>0.0</td><td>0.0</td><td>0.0</td><td>100.0</td><td>NA</td><td>0</td><td>0</td><td>0</td><td>1</td><td>0</td><td>0</td><td>1</td></tr><tr><th>4</th><td>Black Canyon</td><td>2004</td><td>25</td><td>3000</td><td>9.9</td><td>9</td><td>0.0</td><td>0.0</td><td>0.0</td><td>0.0</td><td>0.0</td><td>0.0</td><td>0.0</td><td>0.0</td><td>14.5</td><td>84.5</td><td>NA</td><td>0</td><td>0</td><td>0</td><td>0</td><td>0</td><td>0</td><td>1</td></tr><tr><th>5</th><td>Buck Privates</td><td>1928</td><td>70</td><td>NA</td><td>9.9</td><td>7</td><td>0.0</td><td>0.0</td><td>0.0</td><td>0.0</td><td>0.0</td><td>0.0</td><td>0.0</td><td>0.0</td><td>14.5</td><td>84.5</td><td>NA</td><td>0</td><td>0</td><td>1</td><td>0</td><td>0</td><td>0</td><td>0</td></tr><tr><th>6</th><td>Defilada</td><td>1989</td><td>60</td><td>NA</td><td>9.9</td><td>8</td><td>0.0</td><td>0.0</td><td>0.0</td><td>0.0</td><td>0.0</td><td>0.0</td><td>0.0</td><td>0.0</td><td>14.5</td><td>84.5</td><td>NA</td><td>0</td><td>0</td><td>0</td><td>0</td><td>1</td><td>0</td><td>0</td></tr><tr><th>7</th><td>Dimensia Minds Trilogy: The Reds</td><td>2004</td><td>8</td><td>1200</td><td>9.9</td><td>15</td><td>0.0</td><td>0.0</td><td>0.0</td><td>0.0</td><td>0.0</td><td>0.0</td><td>0.0</td><td>0.0</td><td>14.5</td><td>84.5</td><td>NA</td><td>0</td><td>0</td><td>0</td><td>0</td><td>0</td><td>0</td><td>1</td></tr><tr><th>8</th><td>Drifting</td><td>2004</td><td>21</td><td>3000</td><td>9.9</td><td>41</td><td>0.0</td><td>4.5</td><td>4.5</td><td>0.0</td><td>0.0</td><td>4.5</td><td>4.5</td><td>0.0</td><td>0.0</td><td>94.5</td><td>NA</td><td>0</td><td>0</td><td>0</td><td>1</td><td>0</td><td>0</td><td>1</td></tr><tr><th>9</th><td>Ekdromi, I</td><td>1966</td><td>85</td><td>NA</td><td>9.9</td><td>7</td><td>0.0</td><td>0.0</td><td>0.0</td><td>0.0</td><td>0.0</td><td>0.0</td><td>0.0</td><td>0.0</td><td>14.5</td><td>84.5</td><td>NA</td><td>0</td><td>0</td><td>0</td><td>1</td><td>0</td><td>1</td><td>0</td></tr><tr><th>10</th><td>Genet parle d'Angela Davis</td><td>1970</td><td>10</td><td>NA</td><td>9.9</td><td>7</td><td>0.0</td><td>0.0</td><td>0.0</td><td>0.0</td><td>0.0</td><td>0.0</td><td>0.0</td><td>0.0</td><td>24.5</td><td>74.5</td><td>NA</td><td>0</td><td>0</td><td>0</td><td>0</td><td>0</td><td>0</td><td>1</td></tr><tr><th>11</th><td>Himala</td><td>1982</td><td>124</td><td>NA</td><td>9.9</td><td>26</td><td>4.5</td><td>0.0</td><td>0.0</td><td>0.0</td><td>0.0</td><td>0.0</td><td>0.0</td><td>0.0</td><td>4.5</td><td>84.5</td><td>NA</td><td>0</td><td>0</td><td>0</td><td>1</td><td>0</td><td>0</td><td>0</td></tr><tr><th>12</th><td>Ivan Groznyy III</td><td>1988</td><td>4</td><td>NA</td><td>9.9</td><td>26</td><td>4.5</td><td>0.0</td><td>0.0</td><td>0.0</td><td>0.0</td><td>0.0</td><td>0.0</td><td>4.5</td><td>14.5</td><td>84.5</td><td>NA</td><td>0</td><td>0</td><td>0</td><td>1</td><td>0</td><td>0</td><td>0</td></tr><tr><th>13</th><td>Keeper of the Past</td><td>2005</td><td>18</td><td>30000</td><td>9.9</td><td>7</td><td>0.0</td><td>0.0</td><td>0.0</td><td>0.0</td><td>0.0</td><td>0.0</td><td>0.0</td><td>0.0</td><td>14.5</td><td>84.5</td><td>NA</td><td>0</td><td>0</td><td>0</td><td>0</td><td>0</td><td>0</td><td>1</td></tr><tr><th>14</th><td>New World, The</td><td>1982</td><td>30</td><td>NA</td><td>9.9</td><td>24</td><td>4.5</td><td>0.0</td><td>4.5</td><td>0.0</td><td>0.0</td><td>0.0</td><td>4.5</td><td>4.5</td><td>4.5</td><td>74.5</td><td>NA</td><td>0</td><td>0</td><td>0</td><td>0</td><td>0</td><td>0</td><td>1</td></tr><tr><th>15</th><td>Of Age</td><td>2004</td><td>5</td><td>1000</td><td>9.9</td><td>7</td><td>0.0</td><td>0.0</td><td>0.0</td><td>0.0</td><td>0.0</td><td>0.0</td><td>0.0</td><td>0.0</td><td>14.5</td><td>84.5</td><td>NA</td><td>0</td><td>0</td><td>0</td><td>1</td><td>0</td><td>0</td><td>1</td></tr><tr><th>16</th><td>Penis Envy</td><td>2004</td><td>8</td><td>NA</td><td>9.9</td><td>7</td><td>0.0</td><td>0.0</td><td>0.0</td><td>0.0</td><td>0.0</td><td>0.0</td><td>0.0</td><td>0.0</td><td>14.5</td><td>84.5</td><td>NA</td><td>0</td><td>0</td><td>1</td><td>0</td><td>0</td><td>0</td><td>1</td></tr><tr><th>17</th><td>Phantom Submarine, The</td><td>1941</td><td>70</td><td>NA</td><td>9.9</td><td>7</td><td>14.5</td><td>0.0</td><td>0.0</td><td>0.0</td><td>0.0</td><td>0.0</td><td>0.0</td><td>14.5</td><td>14.5</td><td>45.5</td><td>NA</td><td>0</td><td>0</td><td>0</td><td>0</td><td>0</td><td>0</td><td>0</td></tr><tr><th>18</th><td>Plight of Clownana, The</td><td>2004</td><td>15</td><td>6000</td><td>9.9</td><td>11</td><td>0.0</td><td>0.0</td><td>0.0</td><td>0.0</td><td>0.0</td><td>0.0</td><td>0.0</td><td>0.0</td><td>4.5</td><td>94.5</td><td>NA</td><td>0</td><td>0</td><td>1</td><td>0</td><td>0</td><td>0</td><td>1</td></tr><tr><th>19</th><td>Shades</td><td>2004</td><td>4</td><td>NA</td><td>9.9</td><td>11</td><td>0.0</td><td>0.0</td><td>0.0</td><td>0.0</td><td>0.0</td><td>0.0</td><td>0.0</td><td>0.0</td><td>4.5</td><td>94.5</td><td>NA</td><td>0</td><td>0</td><td>0</td><td>1</td><td>0</td><td>0</td><td>1</td></tr><tr><th>20</th><td>Shopping Part, The</td><td>2004</td><td>12</td><td>NA</td><td>9.9</td><td>7</td><td>0.0</td><td>0.0</td><td>0.0</td><td>0.0</td><td>0.0</td><td>0.0</td><td>0.0</td><td>0.0</td><td>14.5</td><td>84.5</td><td>NA</td><td>0</td><td>0</td><td>0</td><td>0</td><td>0</td><td>0</td><td>1</td></tr><tr><th>21</th><td>Sky of an Archangel</td><td>2004</td><td>24</td><td>NA</td><td>9.9</td><td>7</td><td>0.0</td><td>0.0</td><td>0.0</td><td>0.0</td><td>0.0</td><td>0.0</td><td>0.0</td><td>0.0</td><td>14.5</td><td>84.5</td><td>NA</td><td>0</td><td>0</td><td>0</td><td>0</td><td>0</td><td>0</td><td>1</td></tr><tr><th>22</th><td>Titanic vals</td><td>1964</td><td>92</td><td>NA</td><td>9.9</td><td>13</td><td>0.0</td><td>0.0</td><td>0.0</td><td>0.0</td><td>0.0</td><td>0.0</td><td>4.5</td><td>4.5</td><td>4.5</td><td>74.5</td><td>NA</td><td>0</td><td>0</td><td>1</td><td>0</td><td>0</td><td>0</td><td>0</td></tr><tr><th>23</th><td>Tosca</td><td>1956</td><td>112</td><td>NA</td><td>9.9</td><td>10</td><td>0.0</td><td>0.0</td><td>0.0</td><td>0.0</td><td>0.0</td><td>0.0</td><td>14.5</td><td>0.0</td><td>24.5</td><td>74.5</td><td>NA</td><td>0</td><td>0</td><td>0</td><td>1</td><td>0</td><td>1</td><td>0</td></tr><tr><th>24</th><td>Cashback</td><td>2004</td><td>18</td><td>NA</td><td>9.8</td><td>51</td><td>4.5</td><td>0.0</td><td>0.0</td><td>4.5</td><td>4.5</td><td>0.0</td><td>0.0</td><td>4.5</td><td>4.5</td><td>84.5</td><td>NA</td><td>0</td><td>0</td><td>1</td><td>1</td><td>0</td><td>0</td><td>1</td></tr><tr><th>25</th><td>Ceniciento, El</td><td>1952</td><td>95</td><td>NA</td><td>9.8</td><td>8</td><td>0.0</td><td>0.0</td><td>0.0</td><td>0.0</td><td>0.0</td><td>0.0</td><td>0.0</td><td>0.0</td><td>24.5</td><td>74.5</td><td>NA</td><td>0</td><td>0</td><td>1</td><td>0</td><td>0</td><td>0</td><td>0</td></tr><tr><th>26</th><td>Challenge</td><td>1984</td><td>152</td><td>NA</td><td>9.8</td><td>8</td><td>0.0</td><td>0.0</td><td>0.0</td><td>0.0</td><td>0.0</td><td>0.0</td><td>0.0</td><td>0.0</td><td>24.5</td><td>74.5</td><td>NA</td><td>0</td><td>0</td><td>0</td><td>1</td><td>0</td><td>0</td><td>0</td></tr><tr><th>27</th><td>Chibideka monogatari</td><td>1958</td><td>51</td><td>NA</td><td>9.8</td><td>8</td><td>0.0</td><td>0.0</td><td>0.0</td><td>0.0</td><td>0.0</td><td>0.0</td><td>14.5</td><td>0.0</td><td>14.5</td><td>74.5</td><td>NA</td><td>0</td><td>0</td><td>0</td><td>0</td><td>0</td><td>0</td><td>0</td></tr><tr><th>28</th><td>Clase z tropical</td><td>2000</td><td>6</td><td>NA</td><td>9.8</td><td>5</td><td>0.0</td><td>0.0</td><td>0.0</td><td>0.0</td><td>0.0</td><td>0.0</td><td>0.0</td><td>0.0</td><td>24.5</td><td>84.5</td><td>NA</td><td>1</td><td>0</td><td>1</td><td>0</td><td>0</td><td>0</td><td>1</td></tr><tr><th>29</th><td>Click Three Times</td><td>1999</td><td>32</td><td>NA</td><td>9.8</td><td>5</td><td>0.0</td><td>0.0</td><td>0.0</td><td>0.0</td><td>0.0</td><td>0.0</td><td>0.0</td><td>0.0</td><td>24.5</td><td>84.5</td><td>NA</td><td>0</td><td>0</td><td>0</td><td>0</td><td>0</td><td>0</td><td>1</td></tr><tr><th>30</th><td>Clown</td><td>1969</td><td>11</td><td>NA</td><td>9.8</td><td>6</td><td>0.0</td><td>0.0</td><td>0.0</td><td>0.0</td><td>0.0</td><td>0.0</td><td>0.0</td><td>0.0</td><td>14.5</td><td>84.5</td><td>NA</td><td>0</td><td>0</td><td>0</td><td>0</td><td>1</td><td>0</td><td>1</td></tr></tbody></table>"
      ],
      "text/plain": [
       "30×24 DataFrames.DataFrame\n",
       "│ Row │ title                                     │ year │ length │ budget │\n",
       "├─────┼───────────────────────────────────────────┼──────┼────────┼────────┤\n",
       "│ 1   │ \"Dimensia Minds Trilogy: The Hope Factor\" │ 2004 │ 10     │ NA     │\n",
       "│ 2   │ \"Fishing for Love\"                        │ 2001 │ 7      │ NA     │\n",
       "│ 3   │ \"Summer Sonata, A\"                        │ 2004 │ 30     │ 2000   │\n",
       "│ 4   │ \"Black Canyon\"                            │ 2004 │ 25     │ 3000   │\n",
       "│ 5   │ \"Buck Privates\"                           │ 1928 │ 70     │ NA     │\n",
       "│ 6   │ \"Defilada\"                                │ 1989 │ 60     │ NA     │\n",
       "│ 7   │ \"Dimensia Minds Trilogy: The Reds\"        │ 2004 │ 8      │ 1200   │\n",
       "│ 8   │ \"Drifting\"                                │ 2004 │ 21     │ 3000   │\n",
       "│ 9   │ \"Ekdromi, I\"                              │ 1966 │ 85     │ NA     │\n",
       "│ 10  │ \"Genet parle d'Angela Davis\"              │ 1970 │ 10     │ NA     │\n",
       "│ 11  │ \"Himala\"                                  │ 1982 │ 124    │ NA     │\n",
       "⋮\n",
       "│ 19  │ \"Shades\"                                  │ 2004 │ 4      │ NA     │\n",
       "│ 20  │ \"Shopping Part, The\"                      │ 2004 │ 12     │ NA     │\n",
       "│ 21  │ \"Sky of an Archangel\"                     │ 2004 │ 24     │ NA     │\n",
       "│ 22  │ \"Titanic vals\"                            │ 1964 │ 92     │ NA     │\n",
       "│ 23  │ \"Tosca\"                                   │ 1956 │ 112    │ NA     │\n",
       "│ 24  │ \"Cashback\"                                │ 2004 │ 18     │ NA     │\n",
       "│ 25  │ \"Ceniciento, El\"                          │ 1952 │ 95     │ NA     │\n",
       "│ 26  │ \"Challenge\"                               │ 1984 │ 152    │ NA     │\n",
       "│ 27  │ \"Chibideka monogatari\"                    │ 1958 │ 51     │ NA     │\n",
       "│ 28  │ \"Clase z tropical\"                        │ 2000 │ 6      │ NA     │\n",
       "│ 29  │ \"Click Three Times\"                       │ 1999 │ 32     │ NA     │\n",
       "│ 30  │ \"Clown\"                                   │ 1969 │ 11     │ NA     │\n",
       "\n",
       "│ Row │ rating │ votes │ r1  │ r2  │ r3  │ r4  │ r5  │ r6  │ r7   │ r8  │ r9   │\n",
       "├─────┼────────┼───────┼─────┼─────┼─────┼─────┼─────┼─────┼──────┼─────┼──────┤\n",
       "│ 1   │ 10.0   │ 5     │ 0.0 │ 0.0 │ 0.0 │ 0.0 │ 0.0 │ 0.0 │ 0.0  │ 0.0 │ 0.0  │\n",
       "│ 2   │ 10.0   │ 5     │ 0.0 │ 0.0 │ 0.0 │ 0.0 │ 0.0 │ 0.0 │ 0.0  │ 0.0 │ 0.0  │\n",
       "│ 3   │ 10.0   │ 5     │ 0.0 │ 0.0 │ 0.0 │ 0.0 │ 0.0 │ 0.0 │ 0.0  │ 0.0 │ 0.0  │\n",
       "│ 4   │ 9.9    │ 9     │ 0.0 │ 0.0 │ 0.0 │ 0.0 │ 0.0 │ 0.0 │ 0.0  │ 0.0 │ 14.5 │\n",
       "│ 5   │ 9.9    │ 7     │ 0.0 │ 0.0 │ 0.0 │ 0.0 │ 0.0 │ 0.0 │ 0.0  │ 0.0 │ 14.5 │\n",
       "│ 6   │ 9.9    │ 8     │ 0.0 │ 0.0 │ 0.0 │ 0.0 │ 0.0 │ 0.0 │ 0.0  │ 0.0 │ 14.5 │\n",
       "│ 7   │ 9.9    │ 15    │ 0.0 │ 0.0 │ 0.0 │ 0.0 │ 0.0 │ 0.0 │ 0.0  │ 0.0 │ 14.5 │\n",
       "│ 8   │ 9.9    │ 41    │ 0.0 │ 4.5 │ 4.5 │ 0.0 │ 0.0 │ 4.5 │ 4.5  │ 0.0 │ 0.0  │\n",
       "│ 9   │ 9.9    │ 7     │ 0.0 │ 0.0 │ 0.0 │ 0.0 │ 0.0 │ 0.0 │ 0.0  │ 0.0 │ 14.5 │\n",
       "│ 10  │ 9.9    │ 7     │ 0.0 │ 0.0 │ 0.0 │ 0.0 │ 0.0 │ 0.0 │ 0.0  │ 0.0 │ 24.5 │\n",
       "│ 11  │ 9.9    │ 26    │ 4.5 │ 0.0 │ 0.0 │ 0.0 │ 0.0 │ 0.0 │ 0.0  │ 0.0 │ 4.5  │\n",
       "⋮\n",
       "│ 19  │ 9.9    │ 11    │ 0.0 │ 0.0 │ 0.0 │ 0.0 │ 0.0 │ 0.0 │ 0.0  │ 0.0 │ 4.5  │\n",
       "│ 20  │ 9.9    │ 7     │ 0.0 │ 0.0 │ 0.0 │ 0.0 │ 0.0 │ 0.0 │ 0.0  │ 0.0 │ 14.5 │\n",
       "│ 21  │ 9.9    │ 7     │ 0.0 │ 0.0 │ 0.0 │ 0.0 │ 0.0 │ 0.0 │ 0.0  │ 0.0 │ 14.5 │\n",
       "│ 22  │ 9.9    │ 13    │ 0.0 │ 0.0 │ 0.0 │ 0.0 │ 0.0 │ 0.0 │ 4.5  │ 4.5 │ 4.5  │\n",
       "│ 23  │ 9.9    │ 10    │ 0.0 │ 0.0 │ 0.0 │ 0.0 │ 0.0 │ 0.0 │ 14.5 │ 0.0 │ 24.5 │\n",
       "│ 24  │ 9.8    │ 51    │ 4.5 │ 0.0 │ 0.0 │ 4.5 │ 4.5 │ 0.0 │ 0.0  │ 4.5 │ 4.5  │\n",
       "│ 25  │ 9.8    │ 8     │ 0.0 │ 0.0 │ 0.0 │ 0.0 │ 0.0 │ 0.0 │ 0.0  │ 0.0 │ 24.5 │\n",
       "│ 26  │ 9.8    │ 8     │ 0.0 │ 0.0 │ 0.0 │ 0.0 │ 0.0 │ 0.0 │ 0.0  │ 0.0 │ 24.5 │\n",
       "│ 27  │ 9.8    │ 8     │ 0.0 │ 0.0 │ 0.0 │ 0.0 │ 0.0 │ 0.0 │ 14.5 │ 0.0 │ 14.5 │\n",
       "│ 28  │ 9.8    │ 5     │ 0.0 │ 0.0 │ 0.0 │ 0.0 │ 0.0 │ 0.0 │ 0.0  │ 0.0 │ 24.5 │\n",
       "│ 29  │ 9.8    │ 5     │ 0.0 │ 0.0 │ 0.0 │ 0.0 │ 0.0 │ 0.0 │ 0.0  │ 0.0 │ 24.5 │\n",
       "│ 30  │ 9.8    │ 6     │ 0.0 │ 0.0 │ 0.0 │ 0.0 │ 0.0 │ 0.0 │ 0.0  │ 0.0 │ 14.5 │\n",
       "\n",
       "│ Row │ r10   │ mpaa │ Action │ Animation │ Comedy │ Drama │ Documentary │\n",
       "├─────┼───────┼──────┼────────┼───────────┼────────┼───────┼─────────────┤\n",
       "│ 1   │ 100.0 │ NA   │ 0      │ 0         │ 0      │ 0     │ 0           │\n",
       "│ 2   │ 100.0 │ NA   │ 0      │ 0         │ 1      │ 0     │ 0           │\n",
       "│ 3   │ 100.0 │ NA   │ 0      │ 0         │ 0      │ 1     │ 0           │\n",
       "│ 4   │ 84.5  │ NA   │ 0      │ 0         │ 0      │ 0     │ 0           │\n",
       "│ 5   │ 84.5  │ NA   │ 0      │ 0         │ 1      │ 0     │ 0           │\n",
       "│ 6   │ 84.5  │ NA   │ 0      │ 0         │ 0      │ 0     │ 1           │\n",
       "│ 7   │ 84.5  │ NA   │ 0      │ 0         │ 0      │ 0     │ 0           │\n",
       "│ 8   │ 94.5  │ NA   │ 0      │ 0         │ 0      │ 1     │ 0           │\n",
       "│ 9   │ 84.5  │ NA   │ 0      │ 0         │ 0      │ 1     │ 0           │\n",
       "│ 10  │ 74.5  │ NA   │ 0      │ 0         │ 0      │ 0     │ 0           │\n",
       "│ 11  │ 84.5  │ NA   │ 0      │ 0         │ 0      │ 1     │ 0           │\n",
       "⋮\n",
       "│ 19  │ 94.5  │ NA   │ 0      │ 0         │ 0      │ 1     │ 0           │\n",
       "│ 20  │ 84.5  │ NA   │ 0      │ 0         │ 0      │ 0     │ 0           │\n",
       "│ 21  │ 84.5  │ NA   │ 0      │ 0         │ 0      │ 0     │ 0           │\n",
       "│ 22  │ 74.5  │ NA   │ 0      │ 0         │ 1      │ 0     │ 0           │\n",
       "│ 23  │ 74.5  │ NA   │ 0      │ 0         │ 0      │ 1     │ 0           │\n",
       "│ 24  │ 84.5  │ NA   │ 0      │ 0         │ 1      │ 1     │ 0           │\n",
       "│ 25  │ 74.5  │ NA   │ 0      │ 0         │ 1      │ 0     │ 0           │\n",
       "│ 26  │ 74.5  │ NA   │ 0      │ 0         │ 0      │ 1     │ 0           │\n",
       "│ 27  │ 74.5  │ NA   │ 0      │ 0         │ 0      │ 0     │ 0           │\n",
       "│ 28  │ 84.5  │ NA   │ 1      │ 0         │ 1      │ 0     │ 0           │\n",
       "│ 29  │ 84.5  │ NA   │ 0      │ 0         │ 0      │ 0     │ 0           │\n",
       "│ 30  │ 84.5  │ NA   │ 0      │ 0         │ 0      │ 0     │ 1           │\n",
       "\n",
       "│ Row │ Romance │ Short │\n",
       "├─────┼─────────┼───────┤\n",
       "│ 1   │ 0       │ 1     │\n",
       "│ 2   │ 0       │ 1     │\n",
       "│ 3   │ 0       │ 1     │\n",
       "│ 4   │ 0       │ 1     │\n",
       "│ 5   │ 0       │ 0     │\n",
       "│ 6   │ 0       │ 0     │\n",
       "│ 7   │ 0       │ 1     │\n",
       "│ 8   │ 0       │ 1     │\n",
       "│ 9   │ 1       │ 0     │\n",
       "│ 10  │ 0       │ 1     │\n",
       "│ 11  │ 0       │ 0     │\n",
       "⋮\n",
       "│ 19  │ 0       │ 1     │\n",
       "│ 20  │ 0       │ 1     │\n",
       "│ 21  │ 0       │ 1     │\n",
       "│ 22  │ 0       │ 0     │\n",
       "│ 23  │ 1       │ 0     │\n",
       "│ 24  │ 0       │ 1     │\n",
       "│ 25  │ 0       │ 0     │\n",
       "│ 26  │ 0       │ 0     │\n",
       "│ 27  │ 0       │ 0     │\n",
       "│ 28  │ 0       │ 1     │\n",
       "│ 29  │ 0       │ 1     │\n",
       "│ 30  │ 0       │ 1     │"
      ]
     },
     "execution_count": 4,
     "metadata": {},
     "output_type": "execute_result"
    }
   ],
   "source": [
    "top_rated = sort!(movies,cols=[:rating],rev=true)[1:30,:]"
   ]
  },
  {
   "cell_type": "markdown",
   "metadata": {},
   "source": [
    "**( c ) Create a `Dataframe` with only movies with more than 10000 votes. Find the top 5 rated movies(s) and year(s) of these movie.**"
   ]
  },
  {
   "cell_type": "code",
   "execution_count": 5,
   "metadata": {
    "collapsed": false
   },
   "outputs": [
    {
     "data": {
      "text/html": [
       "<table class=\"data-frame\"><thead><tr><th></th><th>title</th><th>Year</th><th>Votes</th></tr></thead><tbody><tr><th>1</th><td>Lord of the Rings: The Fellowship of the Ring, The</td><td>2001</td><td>157608</td></tr><tr><th>2</th><td>Shawshank Redemption, The</td><td>1994</td><td>149494</td></tr><tr><th>3</th><td>Matrix, The</td><td>1999</td><td>143853</td></tr><tr><th>4</th><td>Star Wars</td><td>1977</td><td>134640</td></tr><tr><th>5</th><td>Pulp Fiction</td><td>1994</td><td>132745</td></tr></tbody></table>"
      ],
      "text/plain": [
       "5×3 DataFrames.DataFrame\n",
       "│ Row │ title                                                │ Year │ Votes  │\n",
       "├─────┼──────────────────────────────────────────────────────┼──────┼────────┤\n",
       "│ 1   │ \"Lord of the Rings: The Fellowship of the Ring, The\" │ 2001 │ 157608 │\n",
       "│ 2   │ \"Shawshank Redemption, The\"                          │ 1994 │ 149494 │\n",
       "│ 3   │ \"Matrix, The\"                                        │ 1999 │ 143853 │\n",
       "│ 4   │ \"Star Wars\"                                          │ 1977 │ 134640 │\n",
       "│ 5   │ \"Pulp Fiction\"                                       │ 1994 │ 132745 │"
      ]
     },
     "execution_count": 5,
     "metadata": {},
     "output_type": "execute_result"
    }
   ],
   "source": [
    "high_votes = by(movies[10000 .< movies[:votes],:],:title) do df # df is dataframe\n",
    "    DataFrame(Year=df[:year],Votes=sum(df[:votes]))\n",
    "end\n",
    "high_votes = sort!(high_votes,cols=[:Votes],rev=true)[1:5,:]"
   ]
  },
  {
   "cell_type": "markdown",
   "metadata": {},
   "source": [
    "**( d ) Create another dataframe that consists of only movies from the 1980s. Find the number of movies with a rating of 9.0 or better.**"
   ]
  },
  {
   "cell_type": "code",
   "execution_count": 6,
   "metadata": {
    "collapsed": false
   },
   "outputs": [
    {
     "data": {
      "text/plain": [
       "125"
      ]
     },
     "execution_count": 6,
     "metadata": {},
     "output_type": "execute_result"
    }
   ],
   "source": [
    "movies_80s = by(movies[1980 .<= movies[:year] .< 1990,:],:title) do df # df is dataframe\n",
    "    DataFrame(Year=df[:year],Rating=df[:rating])\n",
    "end\n",
    "k=0\n",
    "for i=1:size(movies_80s)[1]\n",
    "    movies_80s[i,:Rating] >= 9.0 ? k+=1 : k=k\n",
    "end\n",
    "k"
   ]
  },
  {
   "cell_type": "markdown",
   "metadata": {},
   "source": [
    "There are 125 movies with rating 9.0 or better"
   ]
  },
  {
   "cell_type": "markdown",
   "metadata": {},
   "source": [
    "**( e ) What was the longest movie (in running time) in the 1980s.**"
   ]
  },
  {
   "cell_type": "code",
   "execution_count": 7,
   "metadata": {
    "collapsed": false
   },
   "outputs": [
    {
     "data": {
      "text/html": [
       "<table class=\"data-frame\"><thead><tr><th></th><th>title</th><th>Year</th><th>Runtime</th></tr></thead><tbody><tr><th>1</th><td>Cure for Insomnia, The</td><td>1987</td><td>5220</td></tr></tbody></table>"
      ],
      "text/plain": [
       "1×3 DataFrames.DataFrame\n",
       "│ Row │ title                    │ Year │ Runtime │\n",
       "├─────┼──────────────────────────┼──────┼─────────┤\n",
       "│ 1   │ \"Cure for Insomnia, The\" │ 1987 │ 5220    │"
      ]
     },
     "execution_count": 7,
     "metadata": {},
     "output_type": "execute_result"
    }
   ],
   "source": [
    "movies_80s_by_length = by(movies[1980 .<= movies[:year] .< 1990,:],:title) do df # df is dataframe\n",
    "    DataFrame(Year=df[:year],Runtime=df[:length])\n",
    "end\n",
    "longest_movie = sort!(movies_80s_by_length,cols=[:Runtime],rev=true)[1,:]"
   ]
  },
  {
   "cell_type": "code",
   "execution_count": 8,
   "metadata": {
    "collapsed": false
   },
   "outputs": [
    {
     "data": {
      "text/plain": [
       "3.625"
      ]
     },
     "execution_count": 8,
     "metadata": {},
     "output_type": "execute_result"
    }
   ],
   "source": [
    "5220/60/24"
   ]
  },
  {
   "cell_type": "code",
   "execution_count": 9,
   "metadata": {
    "collapsed": false
   },
   "outputs": [
    {
     "data": {
      "text/plain": [
       "15.0"
      ]
     },
     "execution_count": 9,
     "metadata": {},
     "output_type": "execute_result"
    }
   ],
   "source": [
    ".625*24"
   ]
  },
  {
   "cell_type": "markdown",
   "metadata": {},
   "source": [
    "*The Cure for Insomnia* which ran 5220 minutes or 3 days 15 hours"
   ]
  },
  {
   "cell_type": "markdown",
   "metadata": {},
   "source": [
    "**( f ) Split the movies of the 1980s into individual years. Combine the result by average rating. In the end, you should have a table of size 10 with only the year and average rating.**"
   ]
  },
  {
   "cell_type": "code",
   "execution_count": 10,
   "metadata": {
    "collapsed": false
   },
   "outputs": [
    {
     "data": {
      "text/html": [
       "<table class=\"data-frame\"><thead><tr><th></th><th>Year</th><th>Average_Rating</th></tr></thead><tbody><tr><th>1</th><td>1980</td><td>5.624816446402349</td></tr><tr><th>2</th><td>1981</td><td>5.680635400907715</td></tr><tr><th>3</th><td>1982</td><td>5.773294629898404</td></tr><tr><th>4</th><td>1983</td><td>5.667191977077364</td></tr><tr><th>5</th><td>1984</td><td>5.734579439252338</td></tr><tr><th>6</th><td>1985</td><td>5.664520202020202</td></tr><tr><th>7</th><td>1986</td><td>5.571969696969697</td></tr><tr><th>8</th><td>1987</td><td>5.552351097178685</td></tr><tr><th>9</th><td>1988</td><td>5.500423728813558</td></tr><tr><th>10</th><td>1989</td><td>5.540466101694915</td></tr></tbody></table>"
      ],
      "text/plain": [
       "10×2 DataFrames.DataFrame\n",
       "│ Row │ Year │ Average_Rating │\n",
       "├─────┼──────┼────────────────┤\n",
       "│ 1   │ 1980 │ 5.62482        │\n",
       "│ 2   │ 1981 │ 5.68064        │\n",
       "│ 3   │ 1982 │ 5.77329        │\n",
       "│ 4   │ 1983 │ 5.66719        │\n",
       "│ 5   │ 1984 │ 5.73458        │\n",
       "│ 6   │ 1985 │ 5.66452        │\n",
       "│ 7   │ 1986 │ 5.57197        │\n",
       "│ 8   │ 1987 │ 5.55235        │\n",
       "│ 9   │ 1988 │ 5.50042        │\n",
       "│ 10  │ 1989 │ 5.54047        │"
      ]
     },
     "execution_count": 10,
     "metadata": {},
     "output_type": "execute_result"
    }
   ],
   "source": [
    "movies_80s_by_rating_and_year = by(movies_80s,:Year) do df\n",
    "    DataFrame(Average_Rating=sum(df[:Rating])/(length(df[:Year])))\n",
    "end"
   ]
  },
  {
   "cell_type": "markdown",
   "metadata": {},
   "source": [
    "## Problem 2:\n",
    "Adapt your Geometry module from Homeworks #5 and #6. (you can make a copy of that module).\n",
    "\n",
    "**( a ) Add another type called `Triangle` that has three points.**\n",
    "> Added to module\n",
    "\n",
    "**( b ) Write a function called `is_equilateral` that takes a `Triangle` as an input and determines if the input is an equilateral triangle.**"
   ]
  },
  {
   "cell_type": "code",
   "execution_count": 11,
   "metadata": {
    "collapsed": false
   },
   "outputs": [
    {
     "data": {
      "text/plain": [
       "3-element Array{String,1}:\n",
       " \"/Applications/Julia-0.5.app/Contents/Resources/julia/local/share/julia/site/v0.5\"\n",
       " \"/Applications/Julia-0.5.app/Contents/Resources/julia/share/julia/site/v0.5\"      \n",
       " \".\"                                                                               "
      ]
     },
     "execution_count": 11,
     "metadata": {},
     "output_type": "execute_result"
    }
   ],
   "source": [
    "if !(\".\" in LOAD_PATH)\n",
    "    push!(LOAD_PATH,\".\");\n",
    "end"
   ]
  },
  {
   "cell_type": "code",
   "execution_count": 12,
   "metadata": {
    "collapsed": true
   },
   "outputs": [],
   "source": [
    "using Geometry"
   ]
  },
  {
   "cell_type": "code",
   "execution_count": 13,
   "metadata": {
    "collapsed": false
   },
   "outputs": [
    {
     "data": {
      "text/plain": [
       "Geometry.Triangle(Geometry.Point(0,0),Geometry.Point(4,0),Geometry.Point(4,3))"
      ]
     },
     "execution_count": 13,
     "metadata": {},
     "output_type": "execute_result"
    }
   ],
   "source": [
    "t1 = Triangle(Point(0,0),Point(4,0),Point(4,3))"
   ]
  },
  {
   "cell_type": "code",
   "execution_count": 14,
   "metadata": {
    "collapsed": false
   },
   "outputs": [
    {
     "data": {
      "text/plain": [
       "Geometry.Triangle(Geometry.Point(-2,0),Geometry.Point(2,0),Geometry.Point(0,3.4641016151377544))"
      ]
     },
     "execution_count": 14,
     "metadata": {},
     "output_type": "execute_result"
    }
   ],
   "source": [
    "t2 = Triangle(Point(-2,0),Point(2,0),Point(0,2*sqrt(3)))"
   ]
  },
  {
   "cell_type": "code",
   "execution_count": 15,
   "metadata": {
    "collapsed": false
   },
   "outputs": [
    {
     "data": {
      "text/plain": [
       "false"
      ]
     },
     "execution_count": 15,
     "metadata": {},
     "output_type": "execute_result"
    }
   ],
   "source": [
    "is_equilateral(t1)"
   ]
  },
  {
   "cell_type": "code",
   "execution_count": 16,
   "metadata": {
    "collapsed": false
   },
   "outputs": [
    {
     "data": {
      "text/plain": [
       "true"
      ]
     },
     "execution_count": 16,
     "metadata": {},
     "output_type": "execute_result"
    }
   ],
   "source": [
    "is_equilateral(t2)"
   ]
  },
  {
   "cell_type": "markdown",
   "metadata": {},
   "source": [
    "**( c ) Write a function called `is_right` that takes a `Triangle` as an input and determines if the input is a right triangle. (Hint: recall Pythagoras’ Theorem.)**"
   ]
  },
  {
   "cell_type": "code",
   "execution_count": 17,
   "metadata": {
    "collapsed": false
   },
   "outputs": [
    {
     "data": {
      "text/plain": [
       "true"
      ]
     },
     "execution_count": 17,
     "metadata": {},
     "output_type": "execute_result"
    }
   ],
   "source": [
    "is_right(t1)"
   ]
  },
  {
   "cell_type": "code",
   "execution_count": 18,
   "metadata": {
    "collapsed": false
   },
   "outputs": [
    {
     "data": {
      "text/plain": [
       "false"
      ]
     },
     "execution_count": 18,
     "metadata": {},
     "output_type": "execute_result"
    }
   ],
   "source": [
    "is_right(t2)"
   ]
  },
  {
   "cell_type": "markdown",
   "metadata": {},
   "source": [
    "**( d ) There is a file called `test-triangle.jl`, run it as is to test these functions.**"
   ]
  },
  {
   "cell_type": "code",
   "execution_count": 19,
   "metadata": {
    "collapsed": false
   },
   "outputs": [
    {
     "name": "stdout",
     "output_type": "stream",
     "text": [
      "Test Summary:  | Pass  Total\n",
      "  Triangle Tests |   12     12\n"
     ]
    },
    {
     "data": {
      "text/plain": [
       "Base.Test.DefaultTestSet(\"Triangle Tests\",Any[Base.Test.DefaultTestSet(\"Triangle Constructor\",Any[Test Passed\n",
       "  Expression: isa(t1,Triangle),Test Passed\n",
       "  Expression: isa(t2,Triangle),Test Passed\n",
       "  Expression: isa(t3,Triangle),Test Passed\n",
       "  Expression: isa(t4,Triangle)],false),Base.Test.DefaultTestSet(\"Equilateral Triangles\",Any[Test Passed\n",
       "  Expression: !(is_equilateral(t1)),Test Passed\n",
       "  Expression: is_equilateral(t2),Test Passed\n",
       "  Expression: !(is_equilateral(t3)),Test Passed\n",
       "  Expression: !(is_equilateral(t4))],false),Base.Test.DefaultTestSet(\"Right Triangle Tests\",Any[Test Passed\n",
       "  Expression: is_right(t1),Test Passed\n",
       "  Expression: !(is_right(t2)),Test Passed\n",
       "  Expression: is_right(t3),Test Passed\n",
       "  Expression: !(is_right(t4))],false)],false)"
      ]
     },
     "execution_count": 19,
     "metadata": {},
     "output_type": "execute_result"
    }
   ],
   "source": [
    "include(\"test-triangle.jl\")"
   ]
  },
  {
   "cell_type": "code",
   "execution_count": null,
   "metadata": {
    "collapsed": true
   },
   "outputs": [],
   "source": []
  }
 ],
 "metadata": {
  "kernelspec": {
   "display_name": "Julia 0.5.0",
   "language": "julia",
   "name": "julia-0.5"
  },
  "language_info": {
   "file_extension": ".jl",
   "mimetype": "application/julia",
   "name": "julia",
   "version": "0.5.0"
  }
 },
 "nbformat": 4,
 "nbformat_minor": 0
}
